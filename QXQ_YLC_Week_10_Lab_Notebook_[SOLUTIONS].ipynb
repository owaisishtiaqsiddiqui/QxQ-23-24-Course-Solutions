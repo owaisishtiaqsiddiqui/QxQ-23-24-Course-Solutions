{
  "nbformat": 4,
  "nbformat_minor": 0,
  "metadata": {
    "colab": {
      "provenance": [],
      "collapsed_sections": [
        "RGNVXnRsVJPw",
        "Xu1OQeRKkHUy",
        "aiSc_I7Boja9",
        "oe_LzgWLdCZL"
      ],
      "include_colab_link": true
    },
    "kernelspec": {
      "name": "python3",
      "display_name": "Python 3"
    },
    "language_info": {
      "name": "python"
    }
  },
  "cells": [
    {
      "cell_type": "markdown",
      "metadata": {
        "id": "view-in-github",
        "colab_type": "text"
      },
      "source": [
        "<a href=\"https://colab.research.google.com/github/owaisishtiaqsiddiqui/QxQ-23-24-Course-Solutions/blob/main/QXQ_YLC_Week_10_Lab_Notebook_%5BSOLUTIONS%5D.ipynb\" target=\"_parent\"><img src=\"https://colab.research.google.com/assets/colab-badge.svg\" alt=\"Open In Colab\"/></a>"
      ]
    },
    {
      "cell_type": "markdown",
      "metadata": {
        "id": "EN-xuGnTAFTS"
      },
      "source": [
        "# **Lab 10: Ιmplementing BB84 - Part II**\n",
        "---\n",
        "\n",
        "### **Description**\n",
        "In today's lab, we will explore the role of Eve in BB84.\n",
        "\n",
        "<br>\n",
        "\n",
        "### **Structure**\n",
        "**Part 1**: [Alice and Bob](#p1)\n",
        "\n",
        "**Part 2**: [Alice, Bob, and Eve's Measurement Attack](#p2)\n",
        "\n",
        "**Part 3**: [Alice, Bob, and Eve's Intercept and Resent Attack](#p3)\n",
        "\n",
        "**Part 4**: [Alice, Bob, and Eve's Entanglement Attack](#p4)\n",
        "\n",
        "\n",
        "\n",
        "<br>\n",
        "\n",
        "### **Learning Objectives**\n",
        "By the end of this lab, you will:\n",
        "\n",
        "* Recognize how to implement BB84 in cirq, particularly including a measurement attack by Eve.\n",
        "\n",
        "* Recognize how to adjust Eve’s attack in BB84 in cirq.\n",
        "\n",
        "<br>\n",
        "\n",
        "### **Resources**\n",
        "* [BB84 Cheat Sheet](https://docs.google.com/document/d/1FTBVWQsRVPvuP5e4lo3D62F0NOyfA1qIIPrDnocV6nc/edit)\n",
        "\n",
        "<br>\n",
        "\n",
        "**Before starting, run the code below to import all necessary functions and libraries.**"
      ]
    },
    {
      "cell_type": "code",
      "execution_count": 2,
      "metadata": {
        "id": "K96jXNozAFTW",
        "outputId": "9db22de8-e2aa-40a7-9fb2-f098a25a7b01",
        "colab": {
          "base_uri": "https://localhost:8080/"
        }
      },
      "outputs": [
        {
          "output_type": "stream",
          "name": "stdout",
          "text": [
            "\u001b[2K     \u001b[90m━━━━━━━━━━━━━━━━━━━━━━━━━━━━━━━━━━━━━━━━\u001b[0m \u001b[32m1.8/1.8 MB\u001b[0m \u001b[31m24.9 MB/s\u001b[0m eta \u001b[36m0:00:00\u001b[0m\n",
            "\u001b[2K     \u001b[90m━━━━━━━━━━━━━━━━━━━━━━━━━━━━━━━━━━━━━━━━\u001b[0m \u001b[32m143.1/143.1 kB\u001b[0m \u001b[31m13.7 MB/s\u001b[0m eta \u001b[36m0:00:00\u001b[0m\n",
            "\u001b[2K     \u001b[90m━━━━━━━━━━━━━━━━━━━━━━━━━━━━━━━━━━━━━━━━\u001b[0m \u001b[32m598.8/598.8 kB\u001b[0m \u001b[31m31.7 MB/s\u001b[0m eta \u001b[36m0:00:00\u001b[0m\n",
            "\u001b[2K     \u001b[90m━━━━━━━━━━━━━━━━━━━━━━━━━━━━━━━━━━━━━━━━\u001b[0m \u001b[32m60.9/60.9 kB\u001b[0m \u001b[31m6.0 MB/s\u001b[0m eta \u001b[36m0:00:00\u001b[0m\n",
            "\u001b[2K     \u001b[90m━━━━━━━━━━━━━━━━━━━━━━━━━━━━━━━━━━━━━━━━\u001b[0m \u001b[32m66.2/66.2 kB\u001b[0m \u001b[31m5.7 MB/s\u001b[0m eta \u001b[36m0:00:00\u001b[0m\n",
            "\u001b[2K     \u001b[90m━━━━━━━━━━━━━━━━━━━━━━━━━━━━━━━━━━━━━━━━\u001b[0m \u001b[32m596.5/596.5 kB\u001b[0m \u001b[31m40.1 MB/s\u001b[0m eta \u001b[36m0:00:00\u001b[0m\n",
            "\u001b[2K     \u001b[90m━━━━━━━━━━━━━━━━━━━━━━━━━━━━━━━━━━━━━━━━\u001b[0m \u001b[32m223.8/223.8 kB\u001b[0m \u001b[31m21.0 MB/s\u001b[0m eta \u001b[36m0:00:00\u001b[0m\n",
            "\u001b[2K     \u001b[90m━━━━━━━━━━━━━━━━━━━━━━━━━━━━━━━━━━━━━━━━\u001b[0m \u001b[32m229.9/229.9 kB\u001b[0m \u001b[31m19.5 MB/s\u001b[0m eta \u001b[36m0:00:00\u001b[0m\n",
            "\u001b[?25h  Preparing metadata (setup.py) ... \u001b[?25l\u001b[?25hdone\n",
            "\u001b[2K     \u001b[90m━━━━━━━━━━━━━━━━━━━━━━━━━━━━━━━━━━━━━━━━\u001b[0m \u001b[32m151.7/151.7 kB\u001b[0m \u001b[31m14.8 MB/s\u001b[0m eta \u001b[36m0:00:00\u001b[0m\n",
            "\u001b[2K     \u001b[90m━━━━━━━━━━━━━━━━━━━━━━━━━━━━━━━━━━━━━━━━\u001b[0m \u001b[32m45.6/45.6 kB\u001b[0m \u001b[31m4.3 MB/s\u001b[0m eta \u001b[36m0:00:00\u001b[0m\n",
            "\u001b[?25h  Preparing metadata (setup.py) ... \u001b[?25l\u001b[?25hdone\n",
            "\u001b[2K     \u001b[90m━━━━━━━━━━━━━━━━━━━━━━━━━━━━━━━━━━━━━━━━\u001b[0m \u001b[32m1.6/1.6 MB\u001b[0m \u001b[31m62.3 MB/s\u001b[0m eta \u001b[36m0:00:00\u001b[0m\n",
            "\u001b[2K     \u001b[90m━━━━━━━━━━━━━━━━━━━━━━━━━━━━━━━━━━━━━━━━\u001b[0m \u001b[32m151.7/151.7 kB\u001b[0m \u001b[31m15.4 MB/s\u001b[0m eta \u001b[36m0:00:00\u001b[0m\n",
            "\u001b[2K     \u001b[90m━━━━━━━━━━━━━━━━━━━━━━━━━━━━━━━━━━━━━━━━\u001b[0m \u001b[32m151.7/151.7 kB\u001b[0m \u001b[31m14.9 MB/s\u001b[0m eta \u001b[36m0:00:00\u001b[0m\n",
            "\u001b[2K     \u001b[90m━━━━━━━━━━━━━━━━━━━━━━━━━━━━━━━━━━━━━━━━\u001b[0m \u001b[32m147.4/147.4 kB\u001b[0m \u001b[31m14.6 MB/s\u001b[0m eta \u001b[36m0:00:00\u001b[0m\n",
            "\u001b[2K     \u001b[90m━━━━━━━━━━━━━━━━━━━━━━━━━━━━━━━━━━━━━━━━\u001b[0m \u001b[32m147.4/147.4 kB\u001b[0m \u001b[31m15.5 MB/s\u001b[0m eta \u001b[36m0:00:00\u001b[0m\n",
            "\u001b[2K     \u001b[90m━━━━━━━━━━━━━━━━━━━━━━━━━━━━━━━━━━━━━━━━\u001b[0m \u001b[32m147.4/147.4 kB\u001b[0m \u001b[31m12.0 MB/s\u001b[0m eta \u001b[36m0:00:00\u001b[0m\n",
            "\u001b[2K     \u001b[90m━━━━━━━━━━━━━━━━━━━━━━━━━━━━━━━━━━━━━━━━\u001b[0m \u001b[32m142.7/142.7 kB\u001b[0m \u001b[31m14.4 MB/s\u001b[0m eta \u001b[36m0:00:00\u001b[0m\n",
            "\u001b[2K     \u001b[90m━━━━━━━━━━━━━━━━━━━━━━━━━━━━━━━━━━━━━━━━\u001b[0m \u001b[32m85.5/85.5 kB\u001b[0m \u001b[31m8.7 MB/s\u001b[0m eta \u001b[36m0:00:00\u001b[0m\n",
            "\u001b[2K     \u001b[90m━━━━━━━━━━━━━━━━━━━━━━━━━━━━━━━━━━━━━━━━\u001b[0m \u001b[32m85.1/85.1 kB\u001b[0m \u001b[31m9.5 MB/s\u001b[0m eta \u001b[36m0:00:00\u001b[0m\n",
            "\u001b[2K     \u001b[90m━━━━━━━━━━━━━━━━━━━━━━━━━━━━━━━━━━━━━━━━\u001b[0m \u001b[32m84.7/84.7 kB\u001b[0m \u001b[31m8.8 MB/s\u001b[0m eta \u001b[36m0:00:00\u001b[0m\n",
            "\u001b[2K     \u001b[90m━━━━━━━━━━━━━━━━━━━━━━━━━━━━━━━━━━━━━━━━\u001b[0m \u001b[32m83.6/83.6 kB\u001b[0m \u001b[31m8.6 MB/s\u001b[0m eta \u001b[36m0:00:00\u001b[0m\n",
            "\u001b[2K     \u001b[90m━━━━━━━━━━━━━━━━━━━━━━━━━━━━━━━━━━━━━━━━\u001b[0m \u001b[32m83.3/83.3 kB\u001b[0m \u001b[31m9.1 MB/s\u001b[0m eta \u001b[36m0:00:00\u001b[0m\n",
            "\u001b[2K     \u001b[90m━━━━━━━━━━━━━━━━━━━━━━━━━━━━━━━━━━━━━━━━\u001b[0m \u001b[32m83.4/83.4 kB\u001b[0m \u001b[31m8.7 MB/s\u001b[0m eta \u001b[36m0:00:00\u001b[0m\n",
            "\u001b[2K     \u001b[90m━━━━━━━━━━━━━━━━━━━━━━━━━━━━━━━━━━━━━━━━\u001b[0m \u001b[32m83.2/83.2 kB\u001b[0m \u001b[31m9.8 MB/s\u001b[0m eta \u001b[36m0:00:00\u001b[0m\n",
            "\u001b[2K     \u001b[90m━━━━━━━━━━━━━━━━━━━━━━━━━━━━━━━━━━━━━━━━\u001b[0m \u001b[32m82.5/82.5 kB\u001b[0m \u001b[31m8.3 MB/s\u001b[0m eta \u001b[36m0:00:00\u001b[0m\n",
            "\u001b[2K     \u001b[90m━━━━━━━━━━━━━━━━━━━━━━━━━━━━━━━━━━━━━━━━\u001b[0m \u001b[32m81.0/81.0 kB\u001b[0m \u001b[31m8.4 MB/s\u001b[0m eta \u001b[36m0:00:00\u001b[0m\n",
            "\u001b[2K     \u001b[90m━━━━━━━━━━━━━━━━━━━━━━━━━━━━━━━━━━━━━━━━\u001b[0m \u001b[32m81.0/81.0 kB\u001b[0m \u001b[31m8.7 MB/s\u001b[0m eta \u001b[36m0:00:00\u001b[0m\n",
            "\u001b[2K     \u001b[90m━━━━━━━━━━━━━━━━━━━━━━━━━━━━━━━━━━━━━━━━\u001b[0m \u001b[32m80.8/80.8 kB\u001b[0m \u001b[31m8.9 MB/s\u001b[0m eta \u001b[36m0:00:00\u001b[0m\n",
            "\u001b[2K     \u001b[90m━━━━━━━━━━━━━━━━━━━━━━━━━━━━━━━━━━━━━━━━\u001b[0m \u001b[32m80.7/80.7 kB\u001b[0m \u001b[31m8.0 MB/s\u001b[0m eta \u001b[36m0:00:00\u001b[0m\n",
            "\u001b[2K     \u001b[90m━━━━━━━━━━━━━━━━━━━━━━━━━━━━━━━━━━━━━━━━\u001b[0m \u001b[32m81.5/81.5 kB\u001b[0m \u001b[31m8.4 MB/s\u001b[0m eta \u001b[36m0:00:00\u001b[0m\n",
            "\u001b[2K     \u001b[90m━━━━━━━━━━━━━━━━━━━━━━━━━━━━━━━━━━━━━━━━\u001b[0m \u001b[32m90.4/90.4 kB\u001b[0m \u001b[31m9.0 MB/s\u001b[0m eta \u001b[36m0:00:00\u001b[0m\n",
            "\u001b[2K     \u001b[90m━━━━━━━━━━━━━━━━━━━━━━━━━━━━━━━━━━━━━━━━\u001b[0m \u001b[32m117.7/117.7 kB\u001b[0m \u001b[31m11.8 MB/s\u001b[0m eta \u001b[36m0:00:00\u001b[0m\n",
            "\u001b[2K     \u001b[90m━━━━━━━━━━━━━━━━━━━━━━━━━━━━━━━━━━━━━━━━\u001b[0m \u001b[32m60.6/60.6 kB\u001b[0m \u001b[31m5.8 MB/s\u001b[0m eta \u001b[36m0:00:00\u001b[0m\n",
            "\u001b[2K     \u001b[90m━━━━━━━━━━━━━━━━━━━━━━━━━━━━━━━━━━━━━━━━\u001b[0m \u001b[32m71.5/71.5 kB\u001b[0m \u001b[31m7.3 MB/s\u001b[0m eta \u001b[36m0:00:00\u001b[0m\n",
            "\u001b[2K     \u001b[90m━━━━━━━━━━━━━━━━━━━━━━━━━━━━━━━━━━━━━━━━\u001b[0m \u001b[32m3.1/3.1 MB\u001b[0m \u001b[31m46.9 MB/s\u001b[0m eta \u001b[36m0:00:00\u001b[0m\n",
            "\u001b[2K     \u001b[90m━━━━━━━━━━━━━━━━━━━━━━━━━━━━━━━━━━━━━━━━\u001b[0m \u001b[32m1.7/1.7 MB\u001b[0m \u001b[31m64.6 MB/s\u001b[0m eta \u001b[36m0:00:00\u001b[0m\n",
            "\u001b[2K     \u001b[90m━━━━━━━━━━━━━━━━━━━━━━━━━━━━━━━━━━━━━━━━\u001b[0m \u001b[32m117.8/117.8 kB\u001b[0m \u001b[31m12.8 MB/s\u001b[0m eta \u001b[36m0:00:00\u001b[0m\n",
            "\u001b[2K     \u001b[90m━━━━━━━━━━━━━━━━━━━━━━━━━━━━━━━━━━━━━━━━\u001b[0m \u001b[32m69.6/69.6 kB\u001b[0m \u001b[31m7.4 MB/s\u001b[0m eta \u001b[36m0:00:00\u001b[0m\n",
            "\u001b[2K     \u001b[90m━━━━━━━━━━━━━━━━━━━━━━━━━━━━━━━━━━━━━━━━\u001b[0m \u001b[32m526.7/526.7 kB\u001b[0m \u001b[31m20.3 MB/s\u001b[0m eta \u001b[36m0:00:00\u001b[0m\n",
            "\u001b[2K     \u001b[90m━━━━━━━━━━━━━━━━━━━━━━━━━━━━━━━━━━━━━━━━\u001b[0m \u001b[32m58.3/58.3 kB\u001b[0m \u001b[31m5.9 MB/s\u001b[0m eta \u001b[36m0:00:00\u001b[0m\n",
            "\u001b[?25h  Building wheel for lark (setup.py) ... \u001b[?25l\u001b[?25hdone\n",
            "  Building wheel for rpcq (setup.py) ... \u001b[?25l\u001b[?25hdone\n",
            "\u001b[31mERROR: pip's dependency resolver does not currently take into account all the packages that are installed. This behaviour is the source of the following dependency conflicts.\n",
            "referencing 0.33.0 requires attrs>=22.2.0, but you have attrs 21.4.0 which is incompatible.\u001b[0m\u001b[31m\n",
            "\u001b[0m"
          ]
        }
      ],
      "source": [
        "!pip install cirq --quiet\n",
        "import cirq\n",
        "from random import choices\n",
        "import binascii"
      ]
    },
    {
      "cell_type": "markdown",
      "source": [
        "<a name=\"p1\"></a>\n",
        "\n",
        "---\n",
        "## **Part 1: Alice and Bob**\n",
        "---\n",
        "\n",
        "The entire BB84 protocol between Alice and Bob is implemented below."
      ],
      "metadata": {
        "id": "MiiuFV_ZRkY-"
      }
    },
    {
      "cell_type": "markdown",
      "source": [
        "---\n",
        "### **Part 1.1: Setup**\n",
        "---"
      ],
      "metadata": {
        "id": "w2DDlHS-4wAO"
      }
    },
    {
      "cell_type": "markdown",
      "source": [
        "#### **Problem #1.1.1**\n",
        "\n",
        "**Together**, let's define a dictionary called `encode_gates` that specify which gates to apply based on the bit value. Then, let's define a dictionary called `basis_gates` that specify which gates to apply based on the basis. Finally, let's create a list of `NamedQubit`s that is `num_bits` long and has the prefix `q`."
      ],
      "metadata": {
        "id": "BYgRaiSIhTVN"
      }
    },
    {
      "cell_type": "code",
      "source": [
        "encode_gates = {0: # COMPLETE THIS CODE\n",
        "basis_gates = {'Z': # COMPLETE THIS CODE\n",
        "\n",
        "num_bits = 10\n",
        "qubits = cirq.NamedQubit.range(num_bits, prefix = 'q')"
      ],
      "metadata": {
        "id": "iUwOKTr3gggO"
      },
      "execution_count": null,
      "outputs": []
    },
    {
      "cell_type": "markdown",
      "source": [
        "#####**Solution**"
      ],
      "metadata": {
        "id": "DoaC3_O2ahit"
      }
    },
    {
      "cell_type": "code",
      "source": [
        "encode_gates = {0: cirq.I, 1: cirq.X}\n",
        "basis_gates = {'Z': cirq.I, 'X': cirq.H}\n",
        "\n",
        "num_bits = 10\n",
        "qubits = cirq.NamedQubit.range(num_bits, prefix = 'q')"
      ],
      "metadata": {
        "id": "Z-as_utDINfN"
      },
      "execution_count": 3,
      "outputs": []
    },
    {
      "cell_type": "markdown",
      "source": [
        "---\n",
        "### **Part 1.2: Implementing the Steps**\n",
        "---"
      ],
      "metadata": {
        "id": "gxxdwrtwiWf6"
      }
    },
    {
      "cell_type": "markdown",
      "source": [
        "---\n",
        "#### **Phase #1: Alice Sends**\n",
        "---"
      ],
      "metadata": {
        "id": "SeWOI-h_tssM"
      }
    },
    {
      "cell_type": "markdown",
      "source": [
        "#### **Step #1: Alice Randomly Chooses Bits**\n",
        "\n",
        "**Together**, let's use python's `choices(...)` function to create Alice's key of random bits that is `num_bits` long."
      ],
      "metadata": {
        "id": "RGNVXnRsVJPw"
      }
    },
    {
      "cell_type": "code",
      "source": [
        "alice_key = choices(# COMPLETE THIS CODE\n",
        "\n",
        "print('Alice\\'s initial key: ', alice_key)"
      ],
      "metadata": {
        "id": "NVqLgkxLgtPH",
        "outputId": "035bf71d-5f09-4307-a756-3c7e6a375e23",
        "colab": {
          "base_uri": "https://localhost:8080/",
          "height": 106
        }
      },
      "execution_count": 3,
      "outputs": [
        {
          "output_type": "error",
          "ename": "SyntaxError",
          "evalue": "incomplete input (<ipython-input-3-5c6f092a4e29>, line 3)",
          "traceback": [
            "\u001b[0;36m  File \u001b[0;32m\"<ipython-input-3-5c6f092a4e29>\"\u001b[0;36m, line \u001b[0;32m3\u001b[0m\n\u001b[0;31m    print('Alice\\'s initial key: ', alice_key)\u001b[0m\n\u001b[0m                                              ^\u001b[0m\n\u001b[0;31mSyntaxError\u001b[0m\u001b[0;31m:\u001b[0m incomplete input\n"
          ]
        }
      ]
    },
    {
      "cell_type": "markdown",
      "source": [
        "#####**Solution**"
      ],
      "metadata": {
        "id": "a-XHGIzoaqc-"
      }
    },
    {
      "cell_type": "code",
      "source": [
        "alice_key = choices([0, 1], k = num_bits)\n",
        "\n",
        "print('Alice\\'s initial key: ', alice_key)"
      ],
      "metadata": {
        "colab": {
          "base_uri": "https://localhost:8080/"
        },
        "id": "RZ2xoiPJjPPV",
        "outputId": "2b8b47ec-f9d3-4524-824f-bb2746fbcda7"
      },
      "execution_count": 4,
      "outputs": [
        {
          "output_type": "stream",
          "name": "stdout",
          "text": [
            "Alice's initial key:  [1, 1, 1, 0, 1, 1, 1, 0, 0, 0]\n"
          ]
        }
      ]
    },
    {
      "cell_type": "markdown",
      "source": [
        "<a name=\"s2\"></a>\n",
        "\n",
        "#### **Step #2: Alice Randomly Chooses Bases**\n",
        "\n",
        "**Together**, let's use python's `choices(...)` function to create Alice's `num_bits` basis choices."
      ],
      "metadata": {
        "id": "Xu1OQeRKkHUy"
      }
    },
    {
      "cell_type": "code",
      "source": [
        "alice_bases = choices(# COMPLETE THIS CODE\n",
        "\n",
        "print('\\nAlice\\'s randomly chosen bases: ', alice_bases)"
      ],
      "metadata": {
        "id": "XBAcPgJYg0Ar",
        "outputId": "b37a55ac-589e-4e99-ea72-803bc399fc3f",
        "colab": {
          "base_uri": "https://localhost:8080/",
          "height": 106
        }
      },
      "execution_count": 4,
      "outputs": [
        {
          "output_type": "error",
          "ename": "SyntaxError",
          "evalue": "incomplete input (<ipython-input-4-b63b9edff673>, line 3)",
          "traceback": [
            "\u001b[0;36m  File \u001b[0;32m\"<ipython-input-4-b63b9edff673>\"\u001b[0;36m, line \u001b[0;32m3\u001b[0m\n\u001b[0;31m    print('\\nAlice\\'s randomly chosen bases: ', alice_bases)\u001b[0m\n\u001b[0m                                                            ^\u001b[0m\n\u001b[0;31mSyntaxError\u001b[0m\u001b[0;31m:\u001b[0m incomplete input\n"
          ]
        }
      ]
    },
    {
      "cell_type": "markdown",
      "source": [
        "#####**Solution**"
      ],
      "metadata": {
        "id": "mNLD0WjQar3q"
      }
    },
    {
      "cell_type": "code",
      "source": [
        "alice_bases = choices(['Z', 'X'], k = num_bits)\n",
        "\n",
        "print('\\nAlice\\'s randomly chosen bases: ', alice_bases)"
      ],
      "metadata": {
        "colab": {
          "base_uri": "https://localhost:8080/"
        },
        "id": "_Ndo0pnhofUL",
        "outputId": "b3678898-e2b7-4201-8e95-97f1292117ce"
      },
      "execution_count": 5,
      "outputs": [
        {
          "output_type": "stream",
          "name": "stdout",
          "text": [
            "\n",
            "Alice's randomly chosen bases:  ['X', 'Z', 'X', 'Z', 'X', 'Z', 'Z', 'Z', 'X', 'Z']\n"
          ]
        }
      ]
    },
    {
      "cell_type": "markdown",
      "source": [
        "<a name=\"s3\"></a>\n",
        "\n",
        "#### **Step #3: Alice Creates Qubits**\n",
        "\n",
        "**Together**, create Alice's qubits based on her choice of bit and basis. Complete the code below so that the appropriate gates are appended to `alice_circuit` within the loop."
      ],
      "metadata": {
        "id": "aiSc_I7Boja9"
      }
    },
    {
      "cell_type": "code",
      "source": [
        "alice_circuit = cirq.Circuit()\n",
        "\n",
        "for bit in range(# COMPLETE THIS CODE\n",
        "\n",
        "  encode_value = alice_key[bit]\n",
        "  encode_gate = encode_gates[# COMPLETE THIS CODE\n",
        "\n",
        "  basis_value = alice_bases[bit]\n",
        "  basis_gate = basis_gates[# COMPLETE THIS CODE\n",
        "\n",
        "  qubit = qubits[bit]\n",
        "  alice_circuit.append(encode_gate(# COMPLETE THIS CODE\n",
        "  alice_circuit.append(basis_gate(# COMPLETE THIS CODE"
      ],
      "metadata": {
        "id": "r7tJZTVUg6C6"
      },
      "execution_count": null,
      "outputs": []
    },
    {
      "cell_type": "markdown",
      "source": [
        "#####**Solution**"
      ],
      "metadata": {
        "id": "eguCsZjaatWX"
      }
    },
    {
      "cell_type": "code",
      "source": [
        "alice_circuit = cirq.Circuit()\n",
        "\n",
        "for bit in range(num_bits):\n",
        "\n",
        "  encode_value = alice_key[bit]\n",
        "  encode_gate = encode_gates[encode_value]\n",
        "\n",
        "  basis_value = alice_bases[bit]\n",
        "  basis_gate = basis_gates[basis_value]\n",
        "\n",
        "  qubit = qubits[bit]\n",
        "  alice_circuit.append(encode_gate(qubit))\n",
        "  alice_circuit.append(basis_gate(qubit))"
      ],
      "metadata": {
        "id": "l8TL7cz1ouCW"
      },
      "execution_count": 6,
      "outputs": []
    },
    {
      "cell_type": "markdown",
      "source": [
        "<a name=\"s4\"></a>\n",
        "\n",
        "#### **Step #4: Alice Sends the Qubits to Bob**\n",
        "\n",
        "This step doesn't require us to do anything in Python. However, in real life, this would be where Alice sends Bob the qubits through a public quantum channel."
      ],
      "metadata": {
        "id": "hYcLBs2ZpWDM"
      }
    },
    {
      "cell_type": "markdown",
      "source": [
        "---\n",
        "#### **Phase #2: Bob Receives**\n",
        "---"
      ],
      "metadata": {
        "id": "Jro_FaGztxFG"
      }
    },
    {
      "cell_type": "markdown",
      "source": [
        "<a name=\"s5\"></a>\n",
        "\n",
        "#### **Step #5: Bob Randomly Chooses Bases**\n",
        "\n",
        "**Independently**, randomly choose Bob's `num_bits` bases and apply the appropriate gates to the qubits he received, `qubits`. Complete the code below to accomplish this for each qubit."
      ],
      "metadata": {
        "id": "YB9I1uc3xwPw"
      }
    },
    {
      "cell_type": "code",
      "source": [
        "bob_bases = choices(# COMPLETE THIS CODE\n",
        "\n",
        "\n",
        "bob_circuit = cirq.Circuit()\n",
        "\n",
        "for # COMPLETE THIS CODE\n",
        "\n",
        "  basis_value = # COMPLETE THIS CODE\n",
        "  basis_gate = # COMPLETE THIS CODE\n",
        "\n",
        "  qubit = # COMPLETE THIS CODE\n",
        "  bob_circuit.append(# COMPLETE THIS CODE"
      ],
      "metadata": {
        "id": "J6Ysgw5lhwLy"
      },
      "execution_count": null,
      "outputs": []
    },
    {
      "cell_type": "markdown",
      "source": [
        "#####**Solution**"
      ],
      "metadata": {
        "id": "IPI3pbuIax7c"
      }
    },
    {
      "cell_type": "code",
      "source": [
        "bob_bases = choices(['Z', 'X'], k = num_bits)\n",
        "print('Bob\\'s randomly chosen bases: ', bob_bases)\n",
        "\n",
        "bob_circuit = cirq.Circuit()\n",
        "\n",
        "for bit in range(num_bits):\n",
        "\n",
        "  basis_value = bob_bases[bit]\n",
        "  basis_gate = basis_gates[basis_value]\n",
        "\n",
        "  qubit = qubits[bit]\n",
        "  bob_circuit.append(basis_gate(qubit))"
      ],
      "metadata": {
        "colab": {
          "base_uri": "https://localhost:8080/"
        },
        "id": "nDKLiyf_z0eH",
        "outputId": "7db261ec-98e6-4316-ee97-8135d31e5c01"
      },
      "execution_count": 7,
      "outputs": [
        {
          "output_type": "stream",
          "name": "stdout",
          "text": [
            "Bob's randomly chosen bases:  ['Z', 'Z', 'X', 'X', 'X', 'X', 'Z', 'Z', 'Z', 'X']\n"
          ]
        }
      ]
    },
    {
      "cell_type": "markdown",
      "source": [
        "<a name=\"s6\"></a>\n",
        "\n",
        "#### **Step #6: Bob Measures the Qubits**\n",
        "\n",
        "**Independently**, make a measurement of all of the qubits for Bob. Complete the code below to append this action to `bob_circuit`. Ensure the measure method is given the parameter `key = 'bob key'` so that we can easily retrieve this result later."
      ],
      "metadata": {
        "id": "d5VXtTWs0RW2"
      }
    },
    {
      "cell_type": "code",
      "source": [
        "bob_circuit.append(# COMPLETE THIS CODE\n",
        "\n",
        "print(bob_circuit)"
      ],
      "metadata": {
        "id": "UAd0Qvwkh8Lp"
      },
      "execution_count": null,
      "outputs": []
    },
    {
      "cell_type": "markdown",
      "source": [
        "#####**Solution**"
      ],
      "metadata": {
        "id": "k9mAhN_Tazqg"
      }
    },
    {
      "cell_type": "code",
      "source": [
        "bob_circuit.append(cirq.measure(qubits, key = 'bob key'))\n",
        "\n",
        "print(bob_circuit)"
      ],
      "metadata": {
        "colab": {
          "base_uri": "https://localhost:8080/"
        },
        "id": "qkvYOvbf0fqs",
        "outputId": "e8a74f49-a46d-4cdb-bea7-4e1b10e8cb51"
      },
      "execution_count": 8,
      "outputs": [
        {
          "output_type": "stream",
          "name": "stdout",
          "text": [
            "q0: ───I───M('bob key')───\n",
            "           │\n",
            "q1: ───I───M──────────────\n",
            "           │\n",
            "q2: ───H───M──────────────\n",
            "           │\n",
            "q3: ───H───M──────────────\n",
            "           │\n",
            "q4: ───H───M──────────────\n",
            "           │\n",
            "q5: ───H───M──────────────\n",
            "           │\n",
            "q6: ───I───M──────────────\n",
            "           │\n",
            "q7: ───I───M──────────────\n",
            "           │\n",
            "q8: ───I───M──────────────\n",
            "           │\n",
            "q9: ───H───M──────────────\n"
          ]
        }
      ]
    },
    {
      "cell_type": "markdown",
      "source": [
        "<a name=\"s7\"></a>\n",
        "\n",
        "#### **Step #7: Bob Creates a Key**\n",
        "\n",
        "**Independently**, create a key for Bob from the mesurement result of each qubit.\n",
        "\n",
        "<br>\n",
        "\n",
        "**Run the code below to accomplish this step.**"
      ],
      "metadata": {
        "id": "WabxRy4p02i1"
      }
    },
    {
      "cell_type": "code",
      "source": [
        "bb84_circuit = alice_circuit + bob_circuit\n",
        "\n",
        "sim = cirq.Simulator()\n",
        "results = sim.run(bb84_circuit)\n",
        "bob_key = results.measurements['bob key'][0]\n",
        "\n",
        "print('\\nBob\\'s initial key: ', bob_key)"
      ],
      "metadata": {
        "id": "iCSy7NntiGpd",
        "outputId": "7cc73254-6105-4b35-d390-5ad55b67cfb5",
        "colab": {
          "base_uri": "https://localhost:8080/"
        }
      },
      "execution_count": 10,
      "outputs": [
        {
          "output_type": "stream",
          "name": "stdout",
          "text": [
            "\n",
            "Bob's initial key:  [0 1 1 0 0 0 1 1 0 1]\n"
          ]
        }
      ]
    },
    {
      "cell_type": "markdown",
      "source": [
        "#####**Solution**"
      ],
      "metadata": {
        "id": "nCl6K-4ca2Sa"
      }
    },
    {
      "cell_type": "code",
      "source": [
        "bb84_circuit = alice_circuit + bob_circuit\n",
        "\n",
        "sim = cirq.Simulator()\n",
        "results = sim.run(bb84_circuit)\n",
        "bob_key = results.measurements['bob key'][0]\n",
        "\n",
        "print('\\nBob\\'s initial key: ', bob_key)"
      ],
      "metadata": {
        "colab": {
          "base_uri": "https://localhost:8080/"
        },
        "id": "8P1BUJLB0yBz",
        "outputId": "e6eb1711-c294-46b2-ca39-ea7b4fd84a30"
      },
      "execution_count": 9,
      "outputs": [
        {
          "output_type": "stream",
          "name": "stdout",
          "text": [
            "\n",
            "Bob's initial key:  [0 1 1 1 1 0 1 0 0 1]\n"
          ]
        }
      ]
    },
    {
      "cell_type": "markdown",
      "source": [
        "---\n",
        "#### **Phase #3: Alice and Bob Compare**\n",
        "---"
      ],
      "metadata": {
        "id": "zRSajhVHIE1E"
      }
    },
    {
      "cell_type": "markdown",
      "source": [
        "<a name=\"s8\"></a>\n",
        "\n",
        "#### **Step #8: Alice and Bob Compare Bases**\n",
        "\n",
        "**Independently**, compare Alice's and Bob's randomly selected bases.\n",
        "\n",
        "**Run the code below to accomplish this step.**"
      ],
      "metadata": {
        "id": "Hs20un7c1S1j"
      }
    },
    {
      "cell_type": "code",
      "source": [
        "final_alice_key = []\n",
        "final_bob_key = []\n",
        "\n",
        "for bit in range(num_bits):\n",
        "\n",
        "  if alice_bases[bit] == bob_bases[bit]:\n",
        "    final_alice_key.append(alice_key[bit])\n",
        "    final_bob_key.append(bob_key[bit])\n",
        "\n",
        "print('\\nAlice\\'s key: ', final_alice_key)\n",
        "print('Bob\\'s key: ', final_bob_key)"
      ],
      "metadata": {
        "id": "iHDoJMMgiOsG",
        "outputId": "e8ee298f-d094-4ea0-ee54-d9601a5eff7b",
        "colab": {
          "base_uri": "https://localhost:8080/"
        }
      },
      "execution_count": 12,
      "outputs": [
        {
          "output_type": "stream",
          "name": "stdout",
          "text": [
            "\n",
            "Alice's key:  [0, 1, 1, 0, 1, 1, 0]\n",
            "Bob's key:  [0, 1, 1, 0, 1, 1, 0]\n"
          ]
        }
      ]
    },
    {
      "cell_type": "markdown",
      "source": [
        "#####**Solution**"
      ],
      "metadata": {
        "id": "JBkwz5rEa54R"
      }
    },
    {
      "cell_type": "code",
      "source": [
        "final_alice_key = []\n",
        "final_bob_key = []\n",
        "\n",
        "for bit in range(num_bits):\n",
        "\n",
        "  if alice_bases[bit] == bob_bases[bit]:\n",
        "    final_alice_key.append(alice_key[bit])\n",
        "    final_bob_key.append(bob_key[bit])\n",
        "\n",
        "print('\\nAlice\\'s key: ', final_alice_key)\n",
        "print('Bob\\'s key: ', final_bob_key)"
      ],
      "metadata": {
        "colab": {
          "base_uri": "https://localhost:8080/"
        },
        "id": "oZK3F56Q1qOM",
        "outputId": "0aad9cb4-4838-4d2d-9f8e-3170448f26c4"
      },
      "execution_count": 10,
      "outputs": [
        {
          "output_type": "stream",
          "name": "stdout",
          "text": [
            "\n",
            "Alice's key:  [1, 1, 1, 1, 0]\n",
            "Bob's key:  [1, 1, 1, 1, 0]\n"
          ]
        }
      ]
    },
    {
      "cell_type": "markdown",
      "source": [
        "<a name=\"s9\"></a>\n",
        "\n",
        "#### **Step #9: Alice and Bob Compare the First Bits in Their Key**\n",
        "\n",
        "**Independently**, compare the first few bits in Alice's and Bob's key to ensure the protocol was successful.\n",
        "\n",
        "<br>\n",
        "\n",
        "**Run the code below to accomplish this.**"
      ],
      "metadata": {
        "id": "LacthwPG1xW4"
      }
    },
    {
      "cell_type": "code",
      "source": [
        "num_bits_to_compare = int(len(final_alice_key) * .5)\n",
        "if final_alice_key[0:num_bits_to_compare] == final_bob_key[0:num_bits_to_compare]:\n",
        "  final_alice_key = final_alice_key[num_bits_to_compare:]\n",
        "  final_bob_key = final_bob_key[num_bits_to_compare:]\n",
        "\n",
        "  print('\\n\\nWe can use our keys!')\n",
        "  print('Alice Key: ', final_alice_key)\n",
        "  print('Bob Key: ', final_bob_key)\n",
        "\n",
        "else:\n",
        "  print('\\n\\nEve was listening, we need to use a different channel!')"
      ],
      "metadata": {
        "id": "5mv42rjYidR9",
        "outputId": "40914966-d788-4595-df89-3704b3889323",
        "colab": {
          "base_uri": "https://localhost:8080/"
        }
      },
      "execution_count": 15,
      "outputs": [
        {
          "output_type": "stream",
          "name": "stdout",
          "text": [
            "\n",
            "\n",
            "We can use our keys!\n",
            "Alice Key:  [1, 0]\n",
            "Bob Key:  [1, 0]\n"
          ]
        }
      ]
    },
    {
      "cell_type": "markdown",
      "source": [
        "#####**Solution**"
      ],
      "metadata": {
        "id": "NN9E0h43a8TL"
      }
    },
    {
      "cell_type": "code",
      "source": [
        "num_bits_to_compare = int(len(final_alice_key) * .5)\n",
        "if final_alice_key[0:num_bits_to_compare] == final_bob_key[0:num_bits_to_compare]:\n",
        "  final_alice_key = final_alice_key[num_bits_to_compare:]\n",
        "  final_bob_key = final_bob_key[num_bits_to_compare:]\n",
        "\n",
        "  print('\\n\\nWe can use our keys!')\n",
        "  print('Alice Key: ', final_alice_key)\n",
        "  print('Bob Key: ', final_bob_key)\n",
        "\n",
        "else:\n",
        "  print('\\n\\nEve was listening, we need to use a different channel!')"
      ],
      "metadata": {
        "colab": {
          "base_uri": "https://localhost:8080/"
        },
        "id": "7xlF0yt02JZ1",
        "outputId": "ad8bd2ac-48e6-444f-8aa5-09e1eb0cd3b5"
      },
      "execution_count": 11,
      "outputs": [
        {
          "output_type": "stream",
          "name": "stdout",
          "text": [
            "\n",
            "\n",
            "We can use our keys!\n",
            "Alice Key:  [1, 1, 0]\n",
            "Bob Key:  [1, 1, 0]\n"
          ]
        }
      ]
    },
    {
      "cell_type": "markdown",
      "source": [
        "<a name=\"p2\"></a>\n",
        "\n",
        "---\n",
        "## **Part 2: Alice, Bob, and Eve's Measurement Attack**\n",
        "---\n",
        "\n",
        "Now, we will modify this code to introduce Eve, who will be performing a measurement attack."
      ],
      "metadata": {
        "id": "E7017BduYQfO"
      }
    },
    {
      "cell_type": "markdown",
      "source": [
        "### **Part 2.1: The Setup**"
      ],
      "metadata": {
        "id": "2KB68kh8YQfa"
      }
    },
    {
      "cell_type": "markdown",
      "source": [
        "#### **Problem #2.1.1**\n",
        "\n",
        "**Together**, let's define a dictionary called `encode_gates` that specify which gates to apply based on the bit value. Then, let's define a dictionary called `basis_gates` that specify which gates to apply based on the basis. Finally, let's create a list of `NamedQubit`s that is `num_bits` long and has the prefix `q`."
      ],
      "metadata": {
        "id": "6ai3eH036F4k"
      }
    },
    {
      "cell_type": "code",
      "source": [
        "encode_gates = {0: # COMPLETE THIS CODE\n",
        "basis_gates = {'Z': # COMPLETE THIS CODE\n",
        "\n",
        "num_bits = 10\n",
        "qubits = cirq.NamedQubit.range(num_bits, prefix = 'q')"
      ],
      "metadata": {
        "id": "ICEM9gnJij3x"
      },
      "execution_count": null,
      "outputs": []
    },
    {
      "cell_type": "markdown",
      "source": [
        "#####**Solution**"
      ],
      "metadata": {
        "id": "7hE4Pz04bN6A"
      }
    },
    {
      "cell_type": "code",
      "source": [
        "encode_gates = {0: cirq.I, 1: cirq.X}\n",
        "basis_gates = {'Z': cirq.I, 'X': cirq.H}\n",
        "\n",
        "num_bits = 100\n",
        "qubits = cirq.NamedQubit.range(num_bits, prefix = 'q')"
      ],
      "metadata": {
        "id": "cwo7AEsvYQfa"
      },
      "execution_count": 12,
      "outputs": []
    },
    {
      "cell_type": "markdown",
      "source": [
        "### **Part 2.2: Implementing the Steps**"
      ],
      "metadata": {
        "id": "K38JnXPlf8Ah"
      }
    },
    {
      "cell_type": "markdown",
      "source": [
        "---\n",
        "#### **Phase #1: Alice Sends**\n",
        "---"
      ],
      "metadata": {
        "id": "M2_j35ISYQfb"
      }
    },
    {
      "cell_type": "markdown",
      "source": [
        "<a name=\"s1\"></a>\n",
        "\n",
        "#### **Step #1: Alice Randomly Chooses Bits**\n",
        "\n",
        "**Together**, let's use python's `choices(...)` function to create Alice's key of random bits that is `num_bits` long."
      ],
      "metadata": {
        "id": "1bpPkqDB60ii"
      }
    },
    {
      "cell_type": "code",
      "source": [
        "alice_key = choices(# COMPLETE THIS CODE\n",
        "\n",
        "print('Alice\\'s initial key: ', alice_key)"
      ],
      "metadata": {
        "id": "MIncmYvmiu65"
      },
      "execution_count": null,
      "outputs": []
    },
    {
      "cell_type": "markdown",
      "source": [
        "#####**Solution**"
      ],
      "metadata": {
        "id": "pieR0Em_bPoq"
      }
    },
    {
      "cell_type": "code",
      "source": [
        "alice_key = choices([0, 1], k = num_bits)\n",
        "\n",
        "print('Alice\\'s initial key: ', alice_key)"
      ],
      "metadata": {
        "colab": {
          "base_uri": "https://localhost:8080/"
        },
        "outputId": "1f2f3a5b-4445-41c7-e70e-c21b631ae218",
        "id": "JD_zbwyn60ir"
      },
      "execution_count": 13,
      "outputs": [
        {
          "output_type": "stream",
          "name": "stdout",
          "text": [
            "Alice's initial key:  [1, 1, 0, 1, 1, 1, 1, 1, 1, 0, 1, 1, 0, 0, 0, 0, 1, 1, 1, 0, 0, 1, 0, 1, 0, 1, 0, 0, 1, 0, 1, 1, 1, 0, 1, 1, 0, 1, 1, 0, 0, 0, 0, 1, 1, 0, 1, 0, 0, 1, 1, 0, 0, 0, 1, 0, 1, 1, 0, 0, 0, 1, 1, 0, 1, 0, 1, 1, 1, 1, 1, 0, 0, 1, 0, 0, 1, 0, 1, 1, 0, 0, 0, 0, 1, 1, 1, 1, 0, 0, 0, 0, 1, 1, 0, 0, 0, 0, 0, 1]\n"
          ]
        }
      ]
    },
    {
      "cell_type": "markdown",
      "source": [
        "<a name=\"s2\"></a>\n",
        "\n",
        "#### **Step #2: Alice Randomly Chooses Bases**\n",
        "\n",
        "**Together**, let's use python's `choices(...)` function to create Alice's `num_bits` basis choices."
      ],
      "metadata": {
        "id": "WpH1xVfE60is"
      }
    },
    {
      "cell_type": "code",
      "source": [
        "alice_bases = choices(# COMPLETE THIS CODE\n",
        "\n",
        "print('\\nAlice\\'s randomly chosen bases: ', alice_bases)"
      ],
      "metadata": {
        "id": "6S4ooUlri2FQ"
      },
      "execution_count": null,
      "outputs": []
    },
    {
      "cell_type": "markdown",
      "source": [
        "#####**Solution**"
      ],
      "metadata": {
        "id": "3o-GC8mwbQ0z"
      }
    },
    {
      "cell_type": "code",
      "source": [
        "alice_bases = choices(['Z', 'X'], k = num_bits)\n",
        "\n",
        "print('\\nAlice\\'s randomly chosen bases: ', alice_bases)"
      ],
      "metadata": {
        "colab": {
          "base_uri": "https://localhost:8080/"
        },
        "outputId": "bb3e2553-20db-4f01-e985-82496514bb82",
        "id": "K9NeKw6960is"
      },
      "execution_count": 14,
      "outputs": [
        {
          "output_type": "stream",
          "name": "stdout",
          "text": [
            "\n",
            "Alice's randomly chosen bases:  ['X', 'X', 'X', 'X', 'X', 'X', 'X', 'Z', 'Z', 'Z', 'X', 'X', 'Z', 'Z', 'X', 'Z', 'X', 'Z', 'X', 'Z', 'Z', 'X', 'Z', 'Z', 'X', 'Z', 'X', 'X', 'Z', 'X', 'X', 'Z', 'Z', 'Z', 'X', 'X', 'X', 'Z', 'Z', 'Z', 'X', 'Z', 'Z', 'X', 'Z', 'Z', 'Z', 'Z', 'Z', 'X', 'X', 'X', 'Z', 'X', 'X', 'X', 'Z', 'Z', 'Z', 'Z', 'Z', 'X', 'Z', 'X', 'Z', 'X', 'Z', 'Z', 'X', 'Z', 'X', 'X', 'X', 'Z', 'X', 'Z', 'Z', 'X', 'X', 'X', 'X', 'Z', 'Z', 'X', 'X', 'X', 'Z', 'X', 'Z', 'X', 'X', 'Z', 'Z', 'Z', 'Z', 'Z', 'X', 'X', 'X', 'Z']\n"
          ]
        }
      ]
    },
    {
      "cell_type": "markdown",
      "source": [
        "<a name=\"s3\"></a>\n",
        "\n",
        "#### **Step #3: Alice Creates Qubits**\n",
        "\n",
        "**Independently**, create Alice's qubits based on her choice of bit and basis. Complete the code below so that the appropriate gates are appended to `alice_circuit` within the loop."
      ],
      "metadata": {
        "id": "PZdGJ45u60is"
      }
    },
    {
      "cell_type": "code",
      "source": [
        "alice_circuit = cirq.Circuit()\n",
        "\n",
        "for # COMPLETE THIS CODE\n",
        "\n",
        "  encode_value = alice_key[# COMPLETE THIS CODE\n",
        "  encode_gate = encode_gates[# COMPLETE THIS CODE\n",
        "\n",
        "  basis_value = alice_bases[# COMPLETE THIS CODE\n",
        "  basis_gate = basis_gates[# COMPLETE THIS CODE\n",
        "\n",
        "  qubit = qubits[bit]\n",
        "  alice_circuit.append(encode_gate(qubit))\n",
        "  alice_circuit.append(basis_gate(qubit))"
      ],
      "metadata": {
        "id": "O3KxJLVNkq_C"
      },
      "execution_count": null,
      "outputs": []
    },
    {
      "cell_type": "markdown",
      "source": [
        "#####**Solution**"
      ],
      "metadata": {
        "id": "epqeY0wzbSrc"
      }
    },
    {
      "cell_type": "code",
      "source": [
        "alice_circuit = cirq.Circuit()\n",
        "\n",
        "for bit in range(num_bits):\n",
        "\n",
        "  encode_value = alice_key[bit]\n",
        "  encode_gate = encode_gates[encode_value]\n",
        "\n",
        "  basis_value = alice_bases[bit]\n",
        "  basis_gate = basis_gates[basis_value]\n",
        "\n",
        "  qubit = qubits[bit]\n",
        "  alice_circuit.append(encode_gate(qubit))\n",
        "  alice_circuit.append(basis_gate(qubit))"
      ],
      "metadata": {
        "id": "xz28pAaq60is"
      },
      "execution_count": 15,
      "outputs": []
    },
    {
      "cell_type": "markdown",
      "source": [
        "<a name=\"s4\"></a>\n",
        "\n",
        "#### **Step #4: Alice Sends the Qubits to Bob**\n",
        "\n",
        "This step doesn't require us to do anything in Python. However, in real life, this would be where Alice sends Bob the qubits through a public quantum channel."
      ],
      "metadata": {
        "id": "OQva_98460it"
      }
    },
    {
      "cell_type": "markdown",
      "source": [
        "---\n",
        "#### **Phase #2: Eve Receives**\n",
        "---"
      ],
      "metadata": {
        "id": "9pUoOgTsYXik"
      }
    },
    {
      "cell_type": "markdown",
      "source": [
        "<a name=\"s4\"></a>\n",
        "\n",
        "#### **Step #5: Eve Randomly Chooses Bases**\n",
        "\n",
        "For this attack, Eve does not try to guess bases, so no code is required."
      ],
      "metadata": {
        "id": "HnDmRCcn7JHV"
      }
    },
    {
      "cell_type": "markdown",
      "source": [
        "#### **Step #6: Eve Measures the Qubits**\n",
        "**Independently**, make a measurement of all of the qubits for Eve. Complete the code below to append this action to `eve_circuit`. Ensure the measure method is given the parameter `key = 'eve key'` so that we can easily retrieve this result later."
      ],
      "metadata": {
        "id": "wVPf8vH27fCu"
      }
    },
    {
      "cell_type": "code",
      "source": [
        "eve_circuit = cirq.Circuit()\n",
        "eve_circuit.append(# COMPLETE THIS CODE"
      ],
      "metadata": {
        "id": "vOUWQiHmlEmo"
      },
      "execution_count": null,
      "outputs": []
    },
    {
      "cell_type": "markdown",
      "source": [
        "#####**Solution**"
      ],
      "metadata": {
        "id": "TUj9It9-bYmz"
      }
    },
    {
      "cell_type": "code",
      "source": [
        "eve_circuit = cirq.Circuit()\n",
        "eve_circuit.append(cirq.measure(qubits, key = 'eve key'))"
      ],
      "metadata": {
        "id": "ybQpjHlE7D3O"
      },
      "execution_count": 16,
      "outputs": []
    },
    {
      "cell_type": "markdown",
      "source": [
        "#### **Step #7: Eve Creates a Key**\n",
        "\n",
        "**Independently**, create a key for Eve from the mesurement result of each qubit.\n",
        "\n",
        "<br>\n",
        "\n",
        "**Run the code below to accomplish this step.**"
      ],
      "metadata": {
        "id": "4lz0icX38BPV"
      }
    },
    {
      "cell_type": "code",
      "source": [
        "eve_intercept_circuit = alice_circuit + eve_circuit\n",
        "\n",
        "sim = cirq.Simulator()\n",
        "results = sim.run(eve_intercept_circuit)\n",
        "eve_key = results.measurements['eve key'][0]\n",
        "\n",
        "print('\\nEve\\'s initial key: ', eve_key)"
      ],
      "metadata": {
        "id": "FAbNTbDKlNoV",
        "outputId": "b420bc63-cade-4edb-e82e-f706807560f5",
        "colab": {
          "base_uri": "https://localhost:8080/"
        }
      },
      "execution_count": 22,
      "outputs": [
        {
          "output_type": "stream",
          "name": "stdout",
          "text": [
            "\n",
            "Eve's initial key:  [1 1 0 0 1 1 1 1 1 0 0 0 1 1 1 1 0 1 0 0 0 1 1 1 1 1 1 0 0 1 0 1 0 1 0 1 0\n",
            " 0 0 0 1 1 1 1 0 0 0 1 1 1 1 0 0 0 1 0 0 0 1 1 1 0 0 1 1 0 0 0 1 0 0 1 1 0\n",
            " 1 1 0 1 0 1 1 1 1 0 1 1 1 1 0 0 1 0 1 1 1 0 0 0 1 1]\n"
          ]
        }
      ]
    },
    {
      "cell_type": "markdown",
      "source": [
        "#####**Solution**"
      ],
      "metadata": {
        "id": "8CyAvfCsbagf"
      }
    },
    {
      "cell_type": "code",
      "source": [
        "eve_intercept_circuit = alice_circuit + eve_circuit\n",
        "\n",
        "sim = cirq.Simulator()\n",
        "results = sim.run(eve_intercept_circuit)\n",
        "eve_key = results.measurements['eve key'][0]\n",
        "\n",
        "print('\\nEve\\'s initial key: ', eve_key)"
      ],
      "metadata": {
        "colab": {
          "base_uri": "https://localhost:8080/"
        },
        "id": "cFj8xFut8F1n",
        "outputId": "47f52234-f80a-4450-971c-a9a69ab4395a"
      },
      "execution_count": 17,
      "outputs": [
        {
          "output_type": "stream",
          "name": "stdout",
          "text": [
            "\n",
            "Eve's initial key:  [0 0 0 1 0 1 0 1 1 0 1 1 0 0 0 0 1 1 0 0 0 1 0 1 0 1 1 0 1 0 0 1 1 0 0 0 0\n",
            " 1 1 0 1 0 0 0 1 0 1 0 0 1 1 1 0 0 1 1 1 1 0 0 0 1 1 0 1 1 1 1 1 1 0 1 0 1\n",
            " 0 0 1 1 0 1 1 0 0 1 1 1 1 1 0 1 1 0 1 1 0 0 0 0 1 1]\n"
          ]
        }
      ]
    },
    {
      "cell_type": "markdown",
      "source": [
        "#### **Eve Repeats Step #3 to Fool Bob**\n",
        "\n",
        "**Run the code below to accomplish this step.**"
      ],
      "metadata": {
        "id": "eng5dYXx9uoM"
      }
    },
    {
      "cell_type": "code",
      "source": [
        "alice_circuit = cirq.Circuit()\n",
        "\n",
        "for bit in range(num_bits):\n",
        "\n",
        "  encode_value = eve_key[bit]\n",
        "  encode_gate = encode_gates[encode_value]\n",
        "\n",
        "  qubit = qubits[bit]\n",
        "  alice_circuit.append(encode_gate(qubit))\n",
        "\n",
        "print('\\nAlice\\'s Phase 1 circuit after Eve\\'s interception:\\n', alice_circuit)"
      ],
      "metadata": {
        "id": "XKjpZbs0lSX_",
        "outputId": "1ec319d3-76bf-4791-96e1-faf3fe059317",
        "colab": {
          "base_uri": "https://localhost:8080/"
        }
      },
      "execution_count": 24,
      "outputs": [
        {
          "output_type": "stream",
          "name": "stdout",
          "text": [
            "\n",
            "Alice's Phase 1 circuit after Eve's interception:\n",
            " q0: ────X───\n",
            "\n",
            "q1: ────I───\n",
            "\n",
            "q2: ────I───\n",
            "\n",
            "q3: ────I───\n",
            "\n",
            "q4: ────X───\n",
            "\n",
            "q5: ────X───\n",
            "\n",
            "q6: ────X───\n",
            "\n",
            "q7: ────X───\n",
            "\n",
            "q8: ────X───\n",
            "\n",
            "q9: ────I───\n",
            "\n",
            "q10: ───X───\n",
            "\n",
            "q11: ───I───\n",
            "\n",
            "q12: ───I───\n",
            "\n",
            "q13: ───I───\n",
            "\n",
            "q14: ───X───\n",
            "\n",
            "q15: ───I───\n",
            "\n",
            "q16: ───I───\n",
            "\n",
            "q17: ───X───\n",
            "\n",
            "q18: ───X───\n",
            "\n",
            "q19: ───X───\n",
            "\n",
            "q20: ───I───\n",
            "\n",
            "q21: ───I───\n",
            "\n",
            "q22: ───X───\n",
            "\n",
            "q23: ───I───\n",
            "\n",
            "q24: ───X───\n",
            "\n",
            "q25: ───X───\n",
            "\n",
            "q26: ───X───\n",
            "\n",
            "q27: ───I───\n",
            "\n",
            "q28: ───I───\n",
            "\n",
            "q29: ───X───\n",
            "\n",
            "q30: ───I───\n",
            "\n",
            "q31: ───I───\n",
            "\n",
            "q32: ───I───\n",
            "\n",
            "q33: ───X───\n",
            "\n",
            "q34: ───X───\n",
            "\n",
            "q35: ───X───\n",
            "\n",
            "q36: ───I───\n",
            "\n",
            "q37: ───I───\n",
            "\n",
            "q38: ───I───\n",
            "\n",
            "q39: ───I───\n",
            "\n",
            "q40: ───X───\n",
            "\n",
            "q41: ───X───\n",
            "\n",
            "q42: ───I───\n",
            "\n",
            "q43: ───X───\n",
            "\n",
            "q44: ───I───\n",
            "\n",
            "q45: ───X───\n",
            "\n",
            "q46: ───I───\n",
            "\n",
            "q47: ───I───\n",
            "\n",
            "q48: ───I───\n",
            "\n",
            "q49: ───I───\n",
            "\n",
            "q50: ───X───\n",
            "\n",
            "q51: ───I───\n",
            "\n",
            "q52: ───I───\n",
            "\n",
            "q53: ───I───\n",
            "\n",
            "q54: ───X───\n",
            "\n",
            "q55: ───I───\n",
            "\n",
            "q56: ───X───\n",
            "\n",
            "q57: ───I───\n",
            "\n",
            "q58: ───X───\n",
            "\n",
            "q59: ───I───\n",
            "\n",
            "q60: ───X───\n",
            "\n",
            "q61: ───I───\n",
            "\n",
            "q62: ───X───\n",
            "\n",
            "q63: ───X───\n",
            "\n",
            "q64: ───X───\n",
            "\n",
            "q65: ───I───\n",
            "\n",
            "q66: ───I───\n",
            "\n",
            "q67: ───I───\n",
            "\n",
            "q68: ───X───\n",
            "\n",
            "q69: ───X───\n",
            "\n",
            "q70: ───I───\n",
            "\n",
            "q71: ───X───\n",
            "\n",
            "q72: ───X───\n",
            "\n",
            "q73: ───I───\n",
            "\n",
            "q74: ───X───\n",
            "\n",
            "q75: ───X───\n",
            "\n",
            "q76: ───X───\n",
            "\n",
            "q77: ───X───\n",
            "\n",
            "q78: ───I───\n",
            "\n",
            "q79: ───I───\n",
            "\n",
            "q80: ───X───\n",
            "\n",
            "q81: ───I───\n",
            "\n",
            "q82: ───X───\n",
            "\n",
            "q83: ───I───\n",
            "\n",
            "q84: ───X───\n",
            "\n",
            "q85: ───X───\n",
            "\n",
            "q86: ───X───\n",
            "\n",
            "q87: ───X───\n",
            "\n",
            "q88: ───X───\n",
            "\n",
            "q89: ───X───\n",
            "\n",
            "q90: ───X───\n",
            "\n",
            "q91: ───I───\n",
            "\n",
            "q92: ───I───\n",
            "\n",
            "q93: ───X───\n",
            "\n",
            "q94: ───I───\n",
            "\n",
            "q95: ───I───\n",
            "\n",
            "q96: ───X───\n",
            "\n",
            "q97: ───I───\n",
            "\n",
            "q98: ───X───\n",
            "\n",
            "q99: ───I───\n"
          ]
        }
      ]
    },
    {
      "cell_type": "markdown",
      "source": [
        "#####**Solution**"
      ],
      "metadata": {
        "id": "BqE_g43lbcwk"
      }
    },
    {
      "cell_type": "code",
      "source": [
        "alice_circuit = cirq.Circuit()\n",
        "\n",
        "for bit in range(num_bits):\n",
        "\n",
        "  encode_value = eve_key[bit]\n",
        "  encode_gate = encode_gates[encode_value]\n",
        "\n",
        "  qubit = qubits[bit]\n",
        "  alice_circuit.append(encode_gate(qubit))\n",
        "\n",
        "print('\\nAlice\\'s Phase 1 circuit after Eve\\'s interception:\\n', alice_circuit)"
      ],
      "metadata": {
        "colab": {
          "base_uri": "https://localhost:8080/"
        },
        "id": "Z3BuWbDB-E2r",
        "outputId": "c999acfe-e799-4a5c-99a9-e3fc830d536f"
      },
      "execution_count": 18,
      "outputs": [
        {
          "output_type": "stream",
          "name": "stdout",
          "text": [
            "\n",
            "Alice's Phase 1 circuit after Eve's interception:\n",
            " q0: ────I───\n",
            "\n",
            "q1: ────I───\n",
            "\n",
            "q2: ────I───\n",
            "\n",
            "q3: ────X───\n",
            "\n",
            "q4: ────I───\n",
            "\n",
            "q5: ────X───\n",
            "\n",
            "q6: ────I───\n",
            "\n",
            "q7: ────X───\n",
            "\n",
            "q8: ────X───\n",
            "\n",
            "q9: ────I───\n",
            "\n",
            "q10: ───X───\n",
            "\n",
            "q11: ───X───\n",
            "\n",
            "q12: ───I───\n",
            "\n",
            "q13: ───I───\n",
            "\n",
            "q14: ───I───\n",
            "\n",
            "q15: ───I───\n",
            "\n",
            "q16: ───X───\n",
            "\n",
            "q17: ───X───\n",
            "\n",
            "q18: ───I───\n",
            "\n",
            "q19: ───I───\n",
            "\n",
            "q20: ───I───\n",
            "\n",
            "q21: ───X───\n",
            "\n",
            "q22: ───I───\n",
            "\n",
            "q23: ───X───\n",
            "\n",
            "q24: ───I───\n",
            "\n",
            "q25: ───X───\n",
            "\n",
            "q26: ───X───\n",
            "\n",
            "q27: ───I───\n",
            "\n",
            "q28: ───X───\n",
            "\n",
            "q29: ───I───\n",
            "\n",
            "q30: ───I───\n",
            "\n",
            "q31: ───X───\n",
            "\n",
            "q32: ───X───\n",
            "\n",
            "q33: ───I───\n",
            "\n",
            "q34: ───I───\n",
            "\n",
            "q35: ───I───\n",
            "\n",
            "q36: ───I───\n",
            "\n",
            "q37: ───X───\n",
            "\n",
            "q38: ───X───\n",
            "\n",
            "q39: ───I───\n",
            "\n",
            "q40: ───X───\n",
            "\n",
            "q41: ───I───\n",
            "\n",
            "q42: ───I───\n",
            "\n",
            "q43: ───I───\n",
            "\n",
            "q44: ───X───\n",
            "\n",
            "q45: ───I───\n",
            "\n",
            "q46: ───X───\n",
            "\n",
            "q47: ───I───\n",
            "\n",
            "q48: ───I───\n",
            "\n",
            "q49: ───X───\n",
            "\n",
            "q50: ───X───\n",
            "\n",
            "q51: ───X───\n",
            "\n",
            "q52: ───I───\n",
            "\n",
            "q53: ───I───\n",
            "\n",
            "q54: ───X───\n",
            "\n",
            "q55: ───X───\n",
            "\n",
            "q56: ───X───\n",
            "\n",
            "q57: ───X───\n",
            "\n",
            "q58: ───I───\n",
            "\n",
            "q59: ───I───\n",
            "\n",
            "q60: ───I───\n",
            "\n",
            "q61: ───X───\n",
            "\n",
            "q62: ───X───\n",
            "\n",
            "q63: ───I───\n",
            "\n",
            "q64: ───X───\n",
            "\n",
            "q65: ───X───\n",
            "\n",
            "q66: ───X───\n",
            "\n",
            "q67: ───X───\n",
            "\n",
            "q68: ───X───\n",
            "\n",
            "q69: ───X───\n",
            "\n",
            "q70: ───I───\n",
            "\n",
            "q71: ───X───\n",
            "\n",
            "q72: ───I───\n",
            "\n",
            "q73: ───X───\n",
            "\n",
            "q74: ───I───\n",
            "\n",
            "q75: ───I───\n",
            "\n",
            "q76: ───X───\n",
            "\n",
            "q77: ───X───\n",
            "\n",
            "q78: ───I───\n",
            "\n",
            "q79: ───X───\n",
            "\n",
            "q80: ───X───\n",
            "\n",
            "q81: ───I───\n",
            "\n",
            "q82: ───I───\n",
            "\n",
            "q83: ───X───\n",
            "\n",
            "q84: ───X───\n",
            "\n",
            "q85: ───X───\n",
            "\n",
            "q86: ───X───\n",
            "\n",
            "q87: ───X───\n",
            "\n",
            "q88: ───I───\n",
            "\n",
            "q89: ───X───\n",
            "\n",
            "q90: ───X───\n",
            "\n",
            "q91: ───I───\n",
            "\n",
            "q92: ───X───\n",
            "\n",
            "q93: ───X───\n",
            "\n",
            "q94: ───I───\n",
            "\n",
            "q95: ───I───\n",
            "\n",
            "q96: ───I───\n",
            "\n",
            "q97: ───I───\n",
            "\n",
            "q98: ───X───\n",
            "\n",
            "q99: ───X───\n"
          ]
        }
      ]
    },
    {
      "cell_type": "markdown",
      "source": [
        "---\n",
        "#### **Phase #2: Bob Receives**\n",
        "---"
      ],
      "metadata": {
        "id": "l9ZOX9ZbYQfc"
      }
    },
    {
      "cell_type": "markdown",
      "source": [
        "<a name=\"s5\"></a>\n",
        "\n",
        "#### **Step #5: Bob Randomly Chooses Bases**\n",
        "\n",
        "**Independently**, randomly choose Bob's `num_bits` bases and apply the appropriate gates to the qubits he received, `qubits`. Complete the code below to accomplish this for each qubit."
      ],
      "metadata": {
        "id": "c-1f7crm-YYC"
      }
    },
    {
      "cell_type": "code",
      "source": [
        "bob_bases = choices(# COMPLETE THIS CODE\n",
        "\n",
        "\n",
        "bob_circuit = cirq.Circuit()\n",
        "\n",
        "for # COMPLETE THIS CODE\n",
        "\n",
        "  basis_value = # COMPLETE THIS CODE\n",
        "  basis_gate = # COMPLETE THIS CODE\n",
        "\n",
        "  qubit = # COMPLETE THIS CODE\n",
        "  bob_circuit.append(# COMPLETE THIS CODE"
      ],
      "metadata": {
        "id": "CBYbE_WBlZH3"
      },
      "execution_count": null,
      "outputs": []
    },
    {
      "cell_type": "markdown",
      "source": [
        "#####**Solution**"
      ],
      "metadata": {
        "id": "wKXuds3_be-H"
      }
    },
    {
      "cell_type": "code",
      "source": [
        "bob_bases = choices(['Z', 'X'], k = num_bits)\n",
        "print('Bob\\'s randomly chosen bases: ', bob_bases)\n",
        "\n",
        "bob_circuit = cirq.Circuit()\n",
        "\n",
        "for bit in range(num_bits):\n",
        "\n",
        "  basis_value = bob_bases[bit]\n",
        "  basis_gate = basis_gates[basis_value]\n",
        "\n",
        "  qubit = qubits[bit]\n",
        "  bob_circuit.append(basis_gate(qubit))"
      ],
      "metadata": {
        "colab": {
          "base_uri": "https://localhost:8080/"
        },
        "outputId": "3c66c502-8ee5-424a-dd8d-f169fbbb75e0",
        "id": "T129AM2h-YYC"
      },
      "execution_count": 19,
      "outputs": [
        {
          "output_type": "stream",
          "name": "stdout",
          "text": [
            "Bob's randomly chosen bases:  ['X', 'Z', 'X', 'Z', 'Z', 'Z', 'Z', 'X', 'Z', 'Z', 'Z', 'X', 'Z', 'X', 'Z', 'X', 'X', 'Z', 'Z', 'X', 'Z', 'X', 'X', 'Z', 'X', 'X', 'Z', 'X', 'X', 'X', 'Z', 'Z', 'X', 'Z', 'X', 'Z', 'Z', 'X', 'X', 'Z', 'X', 'Z', 'Z', 'X', 'X', 'Z', 'Z', 'X', 'X', 'Z', 'Z', 'X', 'Z', 'X', 'Z', 'Z', 'Z', 'X', 'Z', 'Z', 'Z', 'X', 'X', 'Z', 'Z', 'X', 'X', 'Z', 'X', 'Z', 'Z', 'X', 'Z', 'Z', 'X', 'X', 'X', 'X', 'Z', 'X', 'Z', 'Z', 'X', 'X', 'Z', 'X', 'X', 'Z', 'Z', 'X', 'X', 'Z', 'X', 'Z', 'Z', 'Z', 'Z', 'X', 'X', 'X']\n"
          ]
        }
      ]
    },
    {
      "cell_type": "markdown",
      "source": [
        "<a name=\"s6\"></a>\n",
        "\n",
        "#### **Step #6: Bob Measures the Qubits**\n",
        "\n",
        "**Independently**, make a measurement of all of the qubits for Bob. Complete the code below to append this action to `bob_circuit`. Ensure the measure method is given the parameter `key = 'bob key'` so that we can easily retrieve this result later."
      ],
      "metadata": {
        "id": "_EdHG8n6-YYD"
      }
    },
    {
      "cell_type": "code",
      "source": [
        "bob_circuit.append(# COMPLETE THIS CODE\n",
        "\n",
        "print(bob_circuit)"
      ],
      "metadata": {
        "id": "3PNIw6oIliqF"
      },
      "execution_count": null,
      "outputs": []
    },
    {
      "cell_type": "markdown",
      "source": [
        "#####**Solution**"
      ],
      "metadata": {
        "id": "dbkpslqKbgrP"
      }
    },
    {
      "cell_type": "code",
      "source": [
        "bob_circuit.append(cirq.measure(qubits, key = 'bob key'))\n",
        "\n",
        "print(bob_circuit)"
      ],
      "metadata": {
        "colab": {
          "base_uri": "https://localhost:8080/"
        },
        "outputId": "5391384a-1991-4769-cc18-8b62b0909b6e",
        "id": "FNH1-zi_-YYD"
      },
      "execution_count": 20,
      "outputs": [
        {
          "output_type": "stream",
          "name": "stdout",
          "text": [
            "q0: ────H───M('bob key')───\n",
            "            │\n",
            "q1: ────I───M──────────────\n",
            "            │\n",
            "q2: ────H───M──────────────\n",
            "            │\n",
            "q3: ────I───M──────────────\n",
            "            │\n",
            "q4: ────I───M──────────────\n",
            "            │\n",
            "q5: ────I───M──────────────\n",
            "            │\n",
            "q6: ────I───M──────────────\n",
            "            │\n",
            "q7: ────H───M──────────────\n",
            "            │\n",
            "q8: ────I───M──────────────\n",
            "            │\n",
            "q9: ────I───M──────────────\n",
            "            │\n",
            "q10: ───I───M──────────────\n",
            "            │\n",
            "q11: ───H───M──────────────\n",
            "            │\n",
            "q12: ───I───M──────────────\n",
            "            │\n",
            "q13: ───H───M──────────────\n",
            "            │\n",
            "q14: ───I───M──────────────\n",
            "            │\n",
            "q15: ───H───M──────────────\n",
            "            │\n",
            "q16: ───H───M──────────────\n",
            "            │\n",
            "q17: ───I───M──────────────\n",
            "            │\n",
            "q18: ───I───M──────────────\n",
            "            │\n",
            "q19: ───H───M──────────────\n",
            "            │\n",
            "q20: ───I───M──────────────\n",
            "            │\n",
            "q21: ───H───M──────────────\n",
            "            │\n",
            "q22: ───H───M──────────────\n",
            "            │\n",
            "q23: ───I───M──────────────\n",
            "            │\n",
            "q24: ───H───M──────────────\n",
            "            │\n",
            "q25: ───H───M──────────────\n",
            "            │\n",
            "q26: ───I───M──────────────\n",
            "            │\n",
            "q27: ───H───M──────────────\n",
            "            │\n",
            "q28: ───H───M──────────────\n",
            "            │\n",
            "q29: ───H───M──────────────\n",
            "            │\n",
            "q30: ───I───M──────────────\n",
            "            │\n",
            "q31: ───I───M──────────────\n",
            "            │\n",
            "q32: ───H───M──────────────\n",
            "            │\n",
            "q33: ───I───M──────────────\n",
            "            │\n",
            "q34: ───H───M──────────────\n",
            "            │\n",
            "q35: ───I───M──────────────\n",
            "            │\n",
            "q36: ───I───M──────────────\n",
            "            │\n",
            "q37: ───H───M──────────────\n",
            "            │\n",
            "q38: ───H───M──────────────\n",
            "            │\n",
            "q39: ───I───M──────────────\n",
            "            │\n",
            "q40: ───H───M──────────────\n",
            "            │\n",
            "q41: ───I───M──────────────\n",
            "            │\n",
            "q42: ───I───M──────────────\n",
            "            │\n",
            "q43: ───H───M──────────────\n",
            "            │\n",
            "q44: ───H───M──────────────\n",
            "            │\n",
            "q45: ───I───M──────────────\n",
            "            │\n",
            "q46: ───I───M──────────────\n",
            "            │\n",
            "q47: ───H───M──────────────\n",
            "            │\n",
            "q48: ───H───M──────────────\n",
            "            │\n",
            "q49: ───I───M──────────────\n",
            "            │\n",
            "q50: ───I───M──────────────\n",
            "            │\n",
            "q51: ───H───M──────────────\n",
            "            │\n",
            "q52: ───I───M──────────────\n",
            "            │\n",
            "q53: ───H───M──────────────\n",
            "            │\n",
            "q54: ───I───M──────────────\n",
            "            │\n",
            "q55: ───I───M──────────────\n",
            "            │\n",
            "q56: ───I───M──────────────\n",
            "            │\n",
            "q57: ───H───M──────────────\n",
            "            │\n",
            "q58: ───I───M──────────────\n",
            "            │\n",
            "q59: ───I───M──────────────\n",
            "            │\n",
            "q60: ───I───M──────────────\n",
            "            │\n",
            "q61: ───H───M──────────────\n",
            "            │\n",
            "q62: ───H───M──────────────\n",
            "            │\n",
            "q63: ───I───M──────────────\n",
            "            │\n",
            "q64: ───I───M──────────────\n",
            "            │\n",
            "q65: ───H───M──────────────\n",
            "            │\n",
            "q66: ───H───M──────────────\n",
            "            │\n",
            "q67: ───I───M──────────────\n",
            "            │\n",
            "q68: ───H───M──────────────\n",
            "            │\n",
            "q69: ───I───M──────────────\n",
            "            │\n",
            "q70: ───I───M──────────────\n",
            "            │\n",
            "q71: ───H───M──────────────\n",
            "            │\n",
            "q72: ───I───M──────────────\n",
            "            │\n",
            "q73: ───I───M──────────────\n",
            "            │\n",
            "q74: ───H───M──────────────\n",
            "            │\n",
            "q75: ───H───M──────────────\n",
            "            │\n",
            "q76: ───H───M──────────────\n",
            "            │\n",
            "q77: ───H───M──────────────\n",
            "            │\n",
            "q78: ───I───M──────────────\n",
            "            │\n",
            "q79: ───H───M──────────────\n",
            "            │\n",
            "q80: ───I───M──────────────\n",
            "            │\n",
            "q81: ───I───M──────────────\n",
            "            │\n",
            "q82: ───H───M──────────────\n",
            "            │\n",
            "q83: ───H───M──────────────\n",
            "            │\n",
            "q84: ───I───M──────────────\n",
            "            │\n",
            "q85: ───H───M──────────────\n",
            "            │\n",
            "q86: ───H───M──────────────\n",
            "            │\n",
            "q87: ───I───M──────────────\n",
            "            │\n",
            "q88: ───I───M──────────────\n",
            "            │\n",
            "q89: ───H───M──────────────\n",
            "            │\n",
            "q90: ───H───M──────────────\n",
            "            │\n",
            "q91: ───I───M──────────────\n",
            "            │\n",
            "q92: ───H───M──────────────\n",
            "            │\n",
            "q93: ───I───M──────────────\n",
            "            │\n",
            "q94: ───I───M──────────────\n",
            "            │\n",
            "q95: ───I───M──────────────\n",
            "            │\n",
            "q96: ───I───M──────────────\n",
            "            │\n",
            "q97: ───H───M──────────────\n",
            "            │\n",
            "q98: ───H───M──────────────\n",
            "            │\n",
            "q99: ───H───M──────────────\n"
          ]
        }
      ]
    },
    {
      "cell_type": "markdown",
      "source": [
        "<a name=\"s7\"></a>\n",
        "\n",
        "#### **Step #7: Bob Creates a Key**\n",
        "\n",
        "**Independently**, create a key for Bob from the mesurement result of each qubit.\n",
        "\n",
        "<br>\n",
        "\n",
        "**Run the code below to accomplish this step.**"
      ],
      "metadata": {
        "id": "nGi3UyWp-YYD"
      }
    },
    {
      "cell_type": "code",
      "source": [
        "bb84_circuit = alice_circuit + bob_circuit\n",
        "\n",
        "sim = cirq.Simulator()\n",
        "results = sim.run(bb84_circuit)\n",
        "bob_key = results.measurements['bob key'][0]\n",
        "\n",
        "print('\\nBob\\'s initial key: ', bob_key)"
      ],
      "metadata": {
        "id": "UQspoDlVl1AC"
      },
      "execution_count": null,
      "outputs": []
    },
    {
      "cell_type": "markdown",
      "source": [
        "#####**Solution**"
      ],
      "metadata": {
        "id": "dSiitXowbigq"
      }
    },
    {
      "cell_type": "code",
      "source": [
        "bb84_circuit = alice_circuit + bob_circuit\n",
        "\n",
        "sim = cirq.Simulator()\n",
        "results = sim.run(bb84_circuit)\n",
        "bob_key = results.measurements['bob key'][0]\n",
        "\n",
        "print('\\nBob\\'s initial key: ', bob_key)"
      ],
      "metadata": {
        "colab": {
          "base_uri": "https://localhost:8080/"
        },
        "outputId": "f458eaab-0dfc-4a5d-f886-4f8b90ff03ca",
        "id": "PE9-L20m-YYE"
      },
      "execution_count": 21,
      "outputs": [
        {
          "output_type": "stream",
          "name": "stdout",
          "text": [
            "\n",
            "Bob's initial key:  [0 0 0 1 0 1 0 1 1 0 1 1 0 0 0 0 0 1 0 1 0 0 1 1 0 0 1 1 0 1 0 1 0 0 0 0 0\n",
            " 1 0 0 0 0 0 1 1 0 1 0 1 1 1 0 0 0 1 1 1 1 0 0 0 0 1 0 1 1 0 1 0 1 0 1 0 1\n",
            " 1 0 0 1 0 0 1 0 1 1 1 0 1 1 0 0 1 0 0 1 0 0 0 1 1 0]\n"
          ]
        }
      ]
    },
    {
      "cell_type": "markdown",
      "source": [
        "---\n",
        "#### **Phase #3: Alice and Bob Compare**\n",
        "---"
      ],
      "metadata": {
        "id": "Q8lSBlFtYQfc"
      }
    },
    {
      "cell_type": "markdown",
      "source": [
        "<a name=\"s8\"></a>\n",
        "\n",
        "#### **Step #8: Alice and Bob Compare Bases**\n",
        "\n",
        "**Independently**, compare Alice's and Bob's randomly selected bases. Complete the code below to accomplish this.\n",
        "\n",
        "**Run the code below to accomplish this step.**"
      ],
      "metadata": {
        "id": "HBTWn55i-t9H"
      }
    },
    {
      "cell_type": "code",
      "source": [
        "final_alice_key = []\n",
        "final_bob_key = []\n",
        "final_eve_key = []\n",
        "\n",
        "for bit in range(num_bits):\n",
        "\n",
        "  if alice_bases[bit] == bob_bases[bit]:\n",
        "    final_alice_key.append(alice_key[bit])\n",
        "    final_bob_key.append(bob_key[bit])\n",
        "    final_eve_key.append(eve_key[bit])\n",
        "\n",
        "print('\\nAlice\\'s key: ', final_alice_key)\n",
        "print('Bob\\'s key: ', final_bob_key)\n",
        "print('Eve\\'s key: ', final_eve_key)"
      ],
      "metadata": {
        "id": "k-BdGVPCl7Y9"
      },
      "execution_count": null,
      "outputs": []
    },
    {
      "cell_type": "markdown",
      "source": [
        "#####**Solution**"
      ],
      "metadata": {
        "id": "mT3QxC4lbkpr"
      }
    },
    {
      "cell_type": "code",
      "source": [
        "final_alice_key = []\n",
        "final_bob_key = []\n",
        "final_eve_key = []\n",
        "\n",
        "for bit in range(num_bits):\n",
        "\n",
        "  if alice_bases[bit] == bob_bases[bit]:\n",
        "    final_alice_key.append(alice_key[bit])\n",
        "    final_bob_key.append(bob_key[bit])\n",
        "    final_eve_key.append(eve_key[bit])\n",
        "\n",
        "print('\\nAlice\\'s key: ', final_alice_key)\n",
        "print('Bob\\'s key: ', final_bob_key)\n",
        "print('Eve\\'s key: ', final_eve_key)"
      ],
      "metadata": {
        "colab": {
          "base_uri": "https://localhost:8080/"
        },
        "outputId": "2ed6a646-6186-44be-d1d4-b5fb2a7699ed",
        "id": "u7x3Eau0-t9c"
      },
      "execution_count": 22,
      "outputs": [
        {
          "output_type": "stream",
          "name": "stdout",
          "text": [
            "\n",
            "Alice's key:  [1, 0, 1, 0, 1, 0, 1, 1, 0, 1, 1, 0, 0, 0, 1, 0, 1, 0, 0, 0, 0, 1, 0, 1, 0, 0, 0, 1, 0, 0, 0, 1, 1, 0, 1, 1, 1, 0, 1, 0, 0, 1, 0, 0, 1, 0, 0, 0, 0, 1, 0, 0, 0, 0]\n",
            "Bob's key:  [0, 0, 1, 0, 1, 0, 0, 1, 0, 0, 1, 0, 1, 1, 1, 0, 0, 0, 0, 0, 0, 1, 0, 1, 0, 0, 0, 1, 0, 0, 0, 0, 1, 1, 1, 0, 1, 1, 1, 1, 1, 0, 0, 1, 0, 0, 0, 1, 0, 1, 0, 0, 1, 1]\n",
            "Eve's key:  [0, 0, 1, 0, 1, 0, 1, 1, 0, 1, 1, 0, 0, 0, 1, 0, 0, 0, 1, 0, 0, 0, 0, 1, 1, 0, 0, 1, 0, 0, 0, 1, 1, 1, 1, 1, 1, 1, 1, 0, 1, 1, 0, 1, 1, 0, 1, 1, 0, 1, 0, 0, 0, 1]\n"
          ]
        }
      ]
    },
    {
      "cell_type": "markdown",
      "source": [
        "<a name=\"s9\"></a>\n",
        "\n",
        "#### **Step #9: Alice and Bob Compare the First Bits in Their Key**\n",
        "\n",
        "**Independently**, compare the first few bits in Alice's and Bob's key to ensure the protocol was successful.\n",
        "\n",
        "<br>\n",
        "\n",
        "**Run the code below to accomplish this.**"
      ],
      "metadata": {
        "id": "HmIFV2XD-t9d"
      }
    },
    {
      "cell_type": "code",
      "source": [
        "num_bits_to_compare = int(len(final_alice_key) * .5)\n",
        "if final_alice_key[0:num_bits_to_compare] == final_bob_key[0:num_bits_to_compare]:\n",
        "  final_alice_key = final_alice_key[num_bits_to_compare:]\n",
        "  final_bob_key = final_bob_key[num_bits_to_compare:]\n",
        "  final_eve_key = final_eve_key[num_bits_to_compare:]\n",
        "\n",
        "  print('\\n\\nWe can use our keys!')\n",
        "  print('Alice Key: ', final_alice_key)\n",
        "  print('Bob Key: ', final_bob_key)\n",
        "  print('Eve Key: ', final_eve_key)\n",
        "\n",
        "else:\n",
        "  print('\\n\\nEve was listening, we need to use a different channel!')"
      ],
      "metadata": {
        "id": "OFkLWgfFmKHj"
      },
      "execution_count": null,
      "outputs": []
    },
    {
      "cell_type": "markdown",
      "source": [
        "#####**Solution**"
      ],
      "metadata": {
        "id": "F3544MQebqO6"
      }
    },
    {
      "cell_type": "code",
      "source": [
        "num_bits_to_compare = int(len(final_alice_key) * .5)\n",
        "if final_alice_key[0:num_bits_to_compare] == final_bob_key[0:num_bits_to_compare]:\n",
        "  final_alice_key = final_alice_key[num_bits_to_compare:]\n",
        "  final_bob_key = final_bob_key[num_bits_to_compare:]\n",
        "  final_eve_key = final_eve_key[num_bits_to_compare:]\n",
        "\n",
        "  print('\\n\\nWe can use our keys!')\n",
        "  print('Alice Key: ', final_alice_key)\n",
        "  print('Bob Key: ', final_bob_key)\n",
        "  print('Eve Key: ', final_eve_key)\n",
        "\n",
        "else:\n",
        "  print('\\n\\nEve was listening, we need to use a different channel!')"
      ],
      "metadata": {
        "colab": {
          "base_uri": "https://localhost:8080/"
        },
        "outputId": "46b8e23a-ef33-443e-9c17-e2fa880ad4af",
        "id": "QC4oBqls-t9d"
      },
      "execution_count": 23,
      "outputs": [
        {
          "output_type": "stream",
          "name": "stdout",
          "text": [
            "\n",
            "\n",
            "Eve was listening, we need to use a different channel!\n"
          ]
        }
      ]
    },
    {
      "cell_type": "markdown",
      "source": [
        "<a name=\"p3\"></a>\n",
        "\n",
        "---\n",
        "## **Part 3: Alice, Bob, and Eve's Intercept and Resend Attack**\n",
        "---\n",
        "\n",
        "Now, we will modify this code so that Eve performs an Intercept and Resend attack."
      ],
      "metadata": {
        "id": "oe_LzgWLdCZL"
      }
    },
    {
      "cell_type": "markdown",
      "source": [
        "### **Part 3.1: The Setup**"
      ],
      "metadata": {
        "id": "4T1zpmHKDzU8"
      }
    },
    {
      "cell_type": "markdown",
      "source": [
        "#### **Problem #3.1.1**\n",
        "\n",
        "**Independently**, let's define a dictionary called `encode_gates` that specify which gates to apply based on the bit value. Then, let's define a dictionary called `basis_gates` that specify which gates to apply based on the basis. Finally, let's create a list of `NamedQubit`s that is `num_bits` long and has the prefix `q`."
      ],
      "metadata": {
        "id": "NOqNMIRzDzVR"
      }
    },
    {
      "cell_type": "code",
      "source": [
        "encode_gates = {# COMPLETE THIS CODE\n",
        "basis_gates = {# COMPLETE THIS CODE\n",
        "\n",
        "num_bits = 100\n",
        "qubits = cirq.NamedQubit.range(num_bits, prefix = 'q')"
      ],
      "metadata": {
        "id": "-z3IRD_Gm-U1"
      },
      "execution_count": null,
      "outputs": []
    },
    {
      "cell_type": "markdown",
      "source": [
        "#####**Solution**"
      ],
      "metadata": {
        "id": "hw20ycgNbv90"
      }
    },
    {
      "cell_type": "code",
      "source": [
        "encode_gates = {0: cirq.I, 1: cirq.X}\n",
        "basis_gates = {'Z': cirq.I, 'X': cirq.H}\n",
        "\n",
        "num_bits = 100\n",
        "qubits = cirq.NamedQubit.range(num_bits, prefix = 'q')"
      ],
      "metadata": {
        "id": "Hr1DDBwMDzVR"
      },
      "execution_count": 24,
      "outputs": []
    },
    {
      "cell_type": "markdown",
      "source": [
        "### **Part 3.2: Implementing the Steps**"
      ],
      "metadata": {
        "id": "hzE_EsaegGZp"
      }
    },
    {
      "cell_type": "markdown",
      "source": [
        "---\n",
        "#### **Phase #1: Alice Sends**\n",
        "---"
      ],
      "metadata": {
        "id": "PgLJpjN6DzVR"
      }
    },
    {
      "cell_type": "markdown",
      "source": [
        "<a name=\"s1\"></a>\n",
        "\n",
        "#### **Step #1: Alice Randomly Chooses Bits**\n",
        "\n",
        "**Independently**, let's use python's `choices(...)` function to create Alice's key of random bits that is `num_bits` long."
      ],
      "metadata": {
        "id": "86Z7T2FODzVR"
      }
    },
    {
      "cell_type": "code",
      "source": [
        "alice_key = choices(# COMPLETE THIS CODE\n",
        "\n",
        "print('Alice\\'s initial key: ', alice_key)"
      ],
      "metadata": {
        "id": "cPrSYDJLnJzl"
      },
      "execution_count": null,
      "outputs": []
    },
    {
      "cell_type": "markdown",
      "source": [
        "#####**Solution**"
      ],
      "metadata": {
        "id": "Fmh1pE-VbxmV"
      }
    },
    {
      "cell_type": "code",
      "source": [
        "alice_key = choices([0, 1], k = num_bits)\n",
        "\n",
        "print('Alice\\'s initial key: ', alice_key)"
      ],
      "metadata": {
        "colab": {
          "base_uri": "https://localhost:8080/"
        },
        "outputId": "7f7df367-ae23-4bb8-c2c4-f6293d546e64",
        "id": "OrwMCws4DzVR"
      },
      "execution_count": 25,
      "outputs": [
        {
          "output_type": "stream",
          "name": "stdout",
          "text": [
            "Alice's initial key:  [0, 1, 0, 1, 0, 0, 0, 0, 0, 1, 0, 1, 1, 1, 1, 0, 1, 0, 0, 0, 0, 0, 1, 0, 1, 0, 0, 1, 1, 0, 0, 0, 0, 1, 1, 0, 1, 1, 0, 0, 0, 1, 1, 0, 0, 1, 1, 1, 0, 0, 1, 0, 1, 1, 1, 1, 0, 0, 1, 0, 0, 1, 1, 0, 1, 0, 1, 0, 0, 1, 1, 0, 1, 0, 1, 1, 0, 0, 0, 1, 0, 1, 0, 0, 1, 0, 0, 1, 0, 0, 1, 1, 0, 0, 1, 0, 0, 0, 1, 0]\n"
          ]
        }
      ]
    },
    {
      "cell_type": "markdown",
      "source": [
        "<a name=\"s2\"></a>\n",
        "\n",
        "#### **Step #2: Alice Randomly Chooses Bases**\n",
        "\n",
        "**Independently**, let's use python's `choices(...)` function to create Alice's `num_bits` basis choices."
      ],
      "metadata": {
        "id": "vSVL0vT1DzVS"
      }
    },
    {
      "cell_type": "code",
      "source": [
        "alice_bases = choices(# COMPLETE THIS CODE\n",
        "\n",
        "print('\\nAlice\\'s randomly chosen bases: ', alice_bases)"
      ],
      "metadata": {
        "id": "hsOLfIAenOIC"
      },
      "execution_count": null,
      "outputs": []
    },
    {
      "cell_type": "markdown",
      "source": [
        "#####**Solution**"
      ],
      "metadata": {
        "id": "682lWXXwbyxm"
      }
    },
    {
      "cell_type": "code",
      "source": [
        "alice_bases = choices(['Z', 'X'], k = num_bits)\n",
        "\n",
        "print('\\nAlice\\'s randomly chosen bases: ', alice_bases)"
      ],
      "metadata": {
        "colab": {
          "base_uri": "https://localhost:8080/"
        },
        "outputId": "56a9c99a-8d6e-465e-9483-8ecac6b43156",
        "id": "d38LSmwhDzVS"
      },
      "execution_count": 26,
      "outputs": [
        {
          "output_type": "stream",
          "name": "stdout",
          "text": [
            "\n",
            "Alice's randomly chosen bases:  ['Z', 'Z', 'X', 'X', 'X', 'Z', 'X', 'X', 'Z', 'X', 'Z', 'X', 'X', 'X', 'Z', 'X', 'Z', 'Z', 'Z', 'X', 'Z', 'Z', 'Z', 'X', 'Z', 'Z', 'Z', 'X', 'X', 'Z', 'X', 'Z', 'X', 'Z', 'X', 'X', 'Z', 'Z', 'X', 'Z', 'Z', 'X', 'X', 'Z', 'Z', 'Z', 'X', 'Z', 'X', 'Z', 'Z', 'Z', 'X', 'Z', 'X', 'X', 'Z', 'Z', 'Z', 'Z', 'Z', 'Z', 'Z', 'X', 'X', 'X', 'Z', 'X', 'Z', 'Z', 'Z', 'Z', 'X', 'X', 'X', 'Z', 'Z', 'X', 'Z', 'X', 'X', 'Z', 'Z', 'X', 'Z', 'Z', 'Z', 'Z', 'X', 'X', 'Z', 'Z', 'X', 'Z', 'Z', 'X', 'Z', 'Z', 'X', 'Z']\n"
          ]
        }
      ]
    },
    {
      "cell_type": "markdown",
      "source": [
        "<a name=\"s3\"></a>\n",
        "\n",
        "#### **Step #3: Alice Creates Qubits**\n",
        "\n",
        "**Independently**, create Alice's qubits based on her choice of bit and basis. Complete the code below so that the appropriate gates are appended to `alice_circuit` within the loop."
      ],
      "metadata": {
        "id": "IyK2aWndDzVS"
      }
    },
    {
      "cell_type": "code",
      "source": [
        "alice_circuit = cirq.Circuit()\n",
        "\n",
        "for # COMPLETE THIS CODE\n",
        "\n",
        "  encode_value = # COMPLETE THIS CODE\n",
        "  encode_gate = # COMPLETE THIS CODE\n",
        "\n",
        "  basis_value = # COMPLETE THIS CODE\n",
        "  basis_gate = # COMPLETE THIS CODE\n",
        "\n",
        "  qubit = # COMPLETE THIS CODE\n",
        "  alice_circuit.append(# COMPLETE THIS CODE\n",
        "  alice_circuit.append(# COMPLETE THIS CODE"
      ],
      "metadata": {
        "id": "OUpH18GNnZNk"
      },
      "execution_count": null,
      "outputs": []
    },
    {
      "cell_type": "markdown",
      "source": [
        "#####**Solution**"
      ],
      "metadata": {
        "id": "1yPNBhjdb0b0"
      }
    },
    {
      "cell_type": "code",
      "source": [
        "alice_circuit = cirq.Circuit()\n",
        "\n",
        "for bit in range(num_bits):\n",
        "\n",
        "  encode_value = alice_key[bit]\n",
        "  encode_gate = encode_gates[encode_value]\n",
        "\n",
        "  basis_value = alice_bases[bit]\n",
        "  basis_gate = basis_gates[basis_value]\n",
        "\n",
        "  qubit = qubits[bit]\n",
        "  alice_circuit.append(encode_gate(qubit))\n",
        "  alice_circuit.append(basis_gate(qubit))"
      ],
      "metadata": {
        "id": "fdMXGUdyDzVS"
      },
      "execution_count": 27,
      "outputs": []
    },
    {
      "cell_type": "markdown",
      "source": [
        "<a name=\"s4\"></a>\n",
        "\n",
        "#### **Step #4: Alice Sends the Qubits to Bob**\n",
        "\n",
        "This step doesn't require us to do anything in Python. However, in real life, this would be where Alice sends Bob the qubits through a public quantum channel."
      ],
      "metadata": {
        "id": "TszgudotDzVS"
      }
    },
    {
      "cell_type": "markdown",
      "source": [
        "---\n",
        "#### **Phase #2: Eve Receives**\n",
        "---"
      ],
      "metadata": {
        "id": "dm6-Co2ydCZN"
      }
    },
    {
      "cell_type": "markdown",
      "source": [
        "#### **Step #5: Eve Randomly Chooses Bases**\n",
        "\n",
        "**Independently**, randomly choose Eve's `num_bits` bases and apply the appropriate gates to the qubits she received, `qubits`. Complete the code below to accomplish this for each qubit."
      ],
      "metadata": {
        "id": "c0wdN6DQKhdk"
      }
    },
    {
      "cell_type": "code",
      "source": [
        "eve_bases = choices(# COMPLETE THIS CODE\n",
        "print('Eve\\'s randomly chosen bases: ', eve_bases)\n",
        "\n",
        "eve_circuit = cirq.Circuit()\n",
        "\n",
        "for # COMPLETE THIS CODE\n",
        "  basis_value = # COMPLETE THIS CODE\n",
        "  basis_gate = # COMPLETE THIS CODE\n",
        "\n",
        "  qubit = # COMPLETE THIS CODE\n",
        "  eve_circuit.append(# COMPLETE THIS CODE"
      ],
      "metadata": {
        "id": "kmreEBr2oCWT",
        "outputId": "b22b94fa-961e-48f4-c9ae-a13c8ea58358",
        "colab": {
          "base_uri": "https://localhost:8080/",
          "height": 106
        }
      },
      "execution_count": 29,
      "outputs": [
        {
          "output_type": "error",
          "ename": "SyntaxError",
          "evalue": "invalid syntax. Perhaps you forgot a comma? (<ipython-input-29-b686523fd7db>, line 2)",
          "traceback": [
            "\u001b[0;36m  File \u001b[0;32m\"<ipython-input-29-b686523fd7db>\"\u001b[0;36m, line \u001b[0;32m2\u001b[0m\n\u001b[0;31m    print('Eve\\'s randomly chosen bases: ', eve_bases)\u001b[0m\n\u001b[0m    ^\u001b[0m\n\u001b[0;31mSyntaxError\u001b[0m\u001b[0;31m:\u001b[0m invalid syntax. Perhaps you forgot a comma?\n"
          ]
        }
      ]
    },
    {
      "cell_type": "markdown",
      "source": [
        "#####**Solution**"
      ],
      "metadata": {
        "id": "SYgEXwxXb2nV"
      }
    },
    {
      "cell_type": "code",
      "source": [
        "eve_bases = choices(['Z', 'X'], k = num_bits)\n",
        "print('Eve\\'s randomly chosen bases: ', eve_bases)\n",
        "\n",
        "eve_circuit = cirq.Circuit()\n",
        "\n",
        "for bit in range(num_bits):\n",
        "\n",
        "  basis_value = eve_bases[bit]\n",
        "  basis_gate = basis_gates[basis_value]\n",
        "\n",
        "  qubit = qubits[bit]\n",
        "  eve_circuit.append(basis_gate(qubit))"
      ],
      "metadata": {
        "colab": {
          "base_uri": "https://localhost:8080/"
        },
        "id": "vvV8iMIYKivn",
        "outputId": "f67701a5-c7a7-4668-dc7a-b52515e81ef3"
      },
      "execution_count": 28,
      "outputs": [
        {
          "output_type": "stream",
          "name": "stdout",
          "text": [
            "Eve's randomly chosen bases:  ['X', 'X', 'X', 'X', 'Z', 'Z', 'X', 'Z', 'Z', 'Z', 'Z', 'Z', 'X', 'X', 'X', 'X', 'Z', 'X', 'Z', 'X', 'Z', 'X', 'X', 'Z', 'X', 'Z', 'X', 'X', 'X', 'X', 'Z', 'X', 'Z', 'Z', 'Z', 'Z', 'X', 'Z', 'X', 'X', 'Z', 'Z', 'Z', 'Z', 'X', 'Z', 'X', 'Z', 'Z', 'X', 'Z', 'Z', 'X', 'X', 'X', 'X', 'Z', 'Z', 'Z', 'X', 'Z', 'X', 'X', 'X', 'X', 'Z', 'X', 'Z', 'X', 'X', 'X', 'X', 'X', 'Z', 'X', 'Z', 'Z', 'Z', 'X', 'Z', 'X', 'X', 'Z', 'X', 'X', 'Z', 'Z', 'Z', 'Z', 'X', 'Z', 'X', 'X', 'X', 'Z', 'Z', 'X', 'Z', 'X', 'X']\n"
          ]
        }
      ]
    },
    {
      "cell_type": "markdown",
      "source": [
        "#### **Step #6: Eve Measures the Qubits**\n",
        "**Independently**, make a measurement of all of the qubits for Eve. Complete the code below to append this action to `eve_circuit`. Ensure the measure method is given the parameter `key = 'eve key'` so that we can easily retrieve this result later."
      ],
      "metadata": {
        "id": "T4-KdV_ILJme"
      }
    },
    {
      "cell_type": "code",
      "source": [
        "eve_circuit.append(# COMPLETE THIS CODE"
      ],
      "metadata": {
        "id": "BYL21RfKoqcM"
      },
      "execution_count": null,
      "outputs": []
    },
    {
      "cell_type": "markdown",
      "source": [
        "#####**Solution**"
      ],
      "metadata": {
        "id": "C3DMcA-9b_QE"
      }
    },
    {
      "cell_type": "code",
      "source": [
        "eve_circuit.append(cirq.measure(qubits, key = 'eve key'))"
      ],
      "metadata": {
        "id": "9cyMs3fwLJmn"
      },
      "execution_count": 29,
      "outputs": []
    },
    {
      "cell_type": "markdown",
      "source": [
        "#### **Step #7: Eve Creates a Key**\n",
        "\n",
        "**Independently**, create a key for Eve from the mesurement result of each qubit.\n",
        "\n",
        "<br>\n",
        "\n",
        "**Run the code below to accomplish this step.**"
      ],
      "metadata": {
        "id": "WP5jyFq7LJmo"
      }
    },
    {
      "cell_type": "code",
      "source": [
        "eve_intercept_circuit = alice_circuit + eve_circuit\n",
        "\n",
        "sim = cirq.Simulator()\n",
        "results = sim.run(eve_intercept_circuit)\n",
        "eve_key = results.measurements['eve key'][0]\n",
        "\n",
        "print('\\nEve\\'s initial key: ', eve_key)"
      ],
      "metadata": {
        "id": "ywT_EOXMo5Ym"
      },
      "execution_count": null,
      "outputs": []
    },
    {
      "cell_type": "markdown",
      "source": [
        "#####**Solution**"
      ],
      "metadata": {
        "id": "9ENdQzjOcAnm"
      }
    },
    {
      "cell_type": "code",
      "source": [
        "eve_intercept_circuit = alice_circuit + eve_circuit\n",
        "\n",
        "sim = cirq.Simulator()\n",
        "results = sim.run(eve_intercept_circuit)\n",
        "eve_key = results.measurements['eve key'][0]\n",
        "\n",
        "print('\\nEve\\'s initial key: ', eve_key)"
      ],
      "metadata": {
        "colab": {
          "base_uri": "https://localhost:8080/"
        },
        "outputId": "7fd820d4-d1f0-4593-e6f1-a417e8d691f5",
        "id": "vSQsaq3tLJmo"
      },
      "execution_count": 30,
      "outputs": [
        {
          "output_type": "stream",
          "name": "stdout",
          "text": [
            "\n",
            "Eve's initial key:  [1 0 0 1 0 0 0 0 0 1 0 0 1 1 0 0 1 1 0 0 0 1 1 0 1 0 0 1 1 0 0 0 0 1 0 1 1\n",
            " 1 0 1 0 0 0 0 1 1 1 1 0 1 1 0 1 1 1 1 0 0 1 0 0 0 0 0 1 1 0 0 1 0 0 0 1 0\n",
            " 1 1 0 1 1 0 0 1 0 0 1 0 0 1 0 0 1 0 0 1 1 1 0 0 1 1]\n"
          ]
        }
      ]
    },
    {
      "cell_type": "markdown",
      "source": [
        "#### **Eve Repeats Step #3 to Fool Bob**\n",
        "\n",
        "**Run the code below to accomplish this step.**"
      ],
      "metadata": {
        "id": "qw3FsjoBLJmo"
      }
    },
    {
      "cell_type": "code",
      "source": [
        "alice_circuit = cirq.Circuit()\n",
        "\n",
        "for bit in range(num_bits):\n",
        "\n",
        "  encode_value = eve_key[bit]\n",
        "  encode_gate = encode_gates[encode_value]\n",
        "\n",
        "  basis_value = eve_bases[bit]\n",
        "  basis_gate = basis_gates[basis_value]\n",
        "\n",
        "  qubit = qubits[bit]\n",
        "  alice_circuit.append(encode_gate(qubit))\n",
        "  alice_circuit.append(basis_gate(qubit))\n",
        "\n",
        "print('\\nAlice\\'s Phase 1 circuit after Eve\\'s interception:\\n', alice_circuit)"
      ],
      "metadata": {
        "id": "mZaopKOTo9RP"
      },
      "execution_count": null,
      "outputs": []
    },
    {
      "cell_type": "markdown",
      "source": [
        "#####**Solution**"
      ],
      "metadata": {
        "id": "D8cyanmccCrD"
      }
    },
    {
      "cell_type": "code",
      "source": [
        "alice_circuit = cirq.Circuit()\n",
        "\n",
        "for bit in range(num_bits):\n",
        "\n",
        "  encode_value = eve_key[bit]\n",
        "  encode_gate = encode_gates[encode_value]\n",
        "\n",
        "  basis_value = eve_bases[bit]\n",
        "  basis_gate = basis_gates[basis_value]\n",
        "\n",
        "  qubit = qubits[bit]\n",
        "  alice_circuit.append(encode_gate(qubit))\n",
        "  alice_circuit.append(basis_gate(qubit))\n",
        "\n",
        "print('\\nAlice\\'s Phase 1 circuit after Eve\\'s interception:\\n', alice_circuit)"
      ],
      "metadata": {
        "colab": {
          "base_uri": "https://localhost:8080/"
        },
        "outputId": "f09e475d-d71d-443c-86dd-512203a043c9",
        "id": "qQCDhZqSLJmo"
      },
      "execution_count": 31,
      "outputs": [
        {
          "output_type": "stream",
          "name": "stdout",
          "text": [
            "\n",
            "Alice's Phase 1 circuit after Eve's interception:\n",
            " q0: ────X───H───\n",
            "\n",
            "q1: ────I───H───\n",
            "\n",
            "q2: ────I───H───\n",
            "\n",
            "q3: ────X───H───\n",
            "\n",
            "q4: ────I───I───\n",
            "\n",
            "q5: ────I───I───\n",
            "\n",
            "q6: ────I───H───\n",
            "\n",
            "q7: ────I───I───\n",
            "\n",
            "q8: ────I───I───\n",
            "\n",
            "q9: ────X───I───\n",
            "\n",
            "q10: ───I───I───\n",
            "\n",
            "q11: ───I───I───\n",
            "\n",
            "q12: ───X───H───\n",
            "\n",
            "q13: ───X───H───\n",
            "\n",
            "q14: ───I───H───\n",
            "\n",
            "q15: ───I───H───\n",
            "\n",
            "q16: ───X───I───\n",
            "\n",
            "q17: ───X───H───\n",
            "\n",
            "q18: ───I───I───\n",
            "\n",
            "q19: ───I───H───\n",
            "\n",
            "q20: ───I───I───\n",
            "\n",
            "q21: ───X───H───\n",
            "\n",
            "q22: ───X───H───\n",
            "\n",
            "q23: ───I───I───\n",
            "\n",
            "q24: ───X───H───\n",
            "\n",
            "q25: ───I───I───\n",
            "\n",
            "q26: ───I───H───\n",
            "\n",
            "q27: ───X───H───\n",
            "\n",
            "q28: ───X───H───\n",
            "\n",
            "q29: ───I───H───\n",
            "\n",
            "q30: ───I───I───\n",
            "\n",
            "q31: ───I───H───\n",
            "\n",
            "q32: ───I───I───\n",
            "\n",
            "q33: ───X───I───\n",
            "\n",
            "q34: ───I───I───\n",
            "\n",
            "q35: ───X───I───\n",
            "\n",
            "q36: ───X───H───\n",
            "\n",
            "q37: ───X───I───\n",
            "\n",
            "q38: ───I───H───\n",
            "\n",
            "q39: ───X───H───\n",
            "\n",
            "q40: ───I───I───\n",
            "\n",
            "q41: ───I───I───\n",
            "\n",
            "q42: ───I───I───\n",
            "\n",
            "q43: ───I───I───\n",
            "\n",
            "q44: ───X───H───\n",
            "\n",
            "q45: ───X───I───\n",
            "\n",
            "q46: ───X───H───\n",
            "\n",
            "q47: ───X───I───\n",
            "\n",
            "q48: ───I───I───\n",
            "\n",
            "q49: ───X───H───\n",
            "\n",
            "q50: ───X───I───\n",
            "\n",
            "q51: ───I───I───\n",
            "\n",
            "q52: ───X───H───\n",
            "\n",
            "q53: ───X───H───\n",
            "\n",
            "q54: ───X───H───\n",
            "\n",
            "q55: ───X───H───\n",
            "\n",
            "q56: ───I───I───\n",
            "\n",
            "q57: ───I───I───\n",
            "\n",
            "q58: ───X───I───\n",
            "\n",
            "q59: ───I───H───\n",
            "\n",
            "q60: ───I───I───\n",
            "\n",
            "q61: ───I───H───\n",
            "\n",
            "q62: ───I───H───\n",
            "\n",
            "q63: ───I───H───\n",
            "\n",
            "q64: ───X───H───\n",
            "\n",
            "q65: ───X───I───\n",
            "\n",
            "q66: ───I───H───\n",
            "\n",
            "q67: ───I───I───\n",
            "\n",
            "q68: ───X───H───\n",
            "\n",
            "q69: ───I───H───\n",
            "\n",
            "q70: ───I───H───\n",
            "\n",
            "q71: ───I───H───\n",
            "\n",
            "q72: ───X───H───\n",
            "\n",
            "q73: ───I───I───\n",
            "\n",
            "q74: ───X───H───\n",
            "\n",
            "q75: ───X───I───\n",
            "\n",
            "q76: ───I───I───\n",
            "\n",
            "q77: ───X───I───\n",
            "\n",
            "q78: ───X───H───\n",
            "\n",
            "q79: ───I───I───\n",
            "\n",
            "q80: ───I───H───\n",
            "\n",
            "q81: ───X───H───\n",
            "\n",
            "q82: ───I───I───\n",
            "\n",
            "q83: ───I───H───\n",
            "\n",
            "q84: ───X───H───\n",
            "\n",
            "q85: ───I───I───\n",
            "\n",
            "q86: ───I───I───\n",
            "\n",
            "q87: ───X───I───\n",
            "\n",
            "q88: ───I───I───\n",
            "\n",
            "q89: ───I───H───\n",
            "\n",
            "q90: ───X───I───\n",
            "\n",
            "q91: ───I───H───\n",
            "\n",
            "q92: ───I───H───\n",
            "\n",
            "q93: ───X───H───\n",
            "\n",
            "q94: ───X───I───\n",
            "\n",
            "q95: ───X───I───\n",
            "\n",
            "q96: ───I───H───\n",
            "\n",
            "q97: ───I───I───\n",
            "\n",
            "q98: ───X───H───\n",
            "\n",
            "q99: ───X───H───\n"
          ]
        }
      ]
    },
    {
      "cell_type": "markdown",
      "source": [
        "---\n",
        "#### **Phase #2: Bob Receives**\n",
        "---"
      ],
      "metadata": {
        "id": "yJzigkmrdCZO"
      }
    },
    {
      "cell_type": "markdown",
      "source": [
        "<a name=\"s5\"></a>\n",
        "\n",
        "#### **Step #5: Bob Randomly Chooses Bases**\n",
        "\n",
        "**Independently**, randomly choose Bob's `num_bits` bases and apply the appropriate gates to the qubits he received, `qubits`. Complete the code below to accomplish this for each qubit."
      ],
      "metadata": {
        "id": "LUj8m8oXOj7E"
      }
    },
    {
      "cell_type": "code",
      "source": [
        "bob_bases = choices(# COMPLETE THIS CODE\n",
        "\n",
        "\n",
        "bob_circuit = cirq.Circuit()\n",
        "\n",
        "for # COMPLETE THIS CODE\n",
        "\n",
        "  basis_value = # COMPLETE THIS CODE\n",
        "  basis_gate = # COMPLETE THIS CODE\n",
        "\n",
        "  qubit = # COMPLETE THIS CODE\n",
        "  bob_circuit.append(# COMPLETE THIS CODE"
      ],
      "metadata": {
        "id": "DqlLzKxypB20"
      },
      "execution_count": null,
      "outputs": []
    },
    {
      "cell_type": "markdown",
      "source": [
        "#####**Solution**"
      ],
      "metadata": {
        "id": "FRUXL6uCcFv0"
      }
    },
    {
      "cell_type": "code",
      "source": [
        "bob_bases = choices(['Z', 'X'], k = num_bits)\n",
        "print('Bob\\'s randomly chosen bases: ', bob_bases)\n",
        "\n",
        "bob_circuit = cirq.Circuit()\n",
        "\n",
        "for bit in range(num_bits):\n",
        "\n",
        "  basis_value = bob_bases[bit]\n",
        "  basis_gate = basis_gates[basis_value]\n",
        "\n",
        "  qubit = qubits[bit]\n",
        "  bob_circuit.append(basis_gate(qubit))"
      ],
      "metadata": {
        "colab": {
          "base_uri": "https://localhost:8080/"
        },
        "outputId": "14918236-be17-4cf7-c380-2ca616b57471",
        "id": "JFnHOLEqOj7O"
      },
      "execution_count": 32,
      "outputs": [
        {
          "output_type": "stream",
          "name": "stdout",
          "text": [
            "Bob's randomly chosen bases:  ['X', 'X', 'X', 'X', 'Z', 'Z', 'X', 'X', 'Z', 'X', 'Z', 'X', 'X', 'X', 'Z', 'X', 'Z', 'X', 'X', 'Z', 'Z', 'Z', 'X', 'Z', 'X', 'Z', 'Z', 'X', 'Z', 'Z', 'Z', 'X', 'X', 'X', 'Z', 'Z', 'X', 'X', 'Z', 'Z', 'Z', 'X', 'X', 'X', 'Z', 'Z', 'X', 'Z', 'Z', 'X', 'Z', 'X', 'Z', 'Z', 'Z', 'Z', 'Z', 'X', 'X', 'Z', 'Z', 'X', 'Z', 'Z', 'X', 'X', 'Z', 'X', 'X', 'Z', 'Z', 'Z', 'Z', 'Z', 'Z', 'Z', 'X', 'Z', 'X', 'X', 'Z', 'X', 'Z', 'X', 'Z', 'Z', 'Z', 'X', 'X', 'Z', 'X', 'Z', 'Z', 'X', 'X', 'X', 'Z', 'Z', 'Z', 'X']\n"
          ]
        }
      ]
    },
    {
      "cell_type": "markdown",
      "source": [
        "<a name=\"s6\"></a>\n",
        "\n",
        "#### **Step #6: Bob Measures the Qubits**\n",
        "\n",
        "**Independently**, make a measurement of all of the qubits for Bob. Complete the code below to append this action to `bob_circuit`. Ensure the measure method is given the parameter `key = 'bob key'` so that we can easily retrieve this result later."
      ],
      "metadata": {
        "id": "0Ow_vOq6Oj7P"
      }
    },
    {
      "cell_type": "code",
      "source": [
        "bob_circuit.append(# COMPLETE THIS CODE\n",
        "\n",
        "print(bob_circuit)"
      ],
      "metadata": {
        "id": "4Z8c27ZPpJp-"
      },
      "execution_count": null,
      "outputs": []
    },
    {
      "cell_type": "markdown",
      "source": [
        "#####**Solution**"
      ],
      "metadata": {
        "id": "wzvsA5mdcHPD"
      }
    },
    {
      "cell_type": "code",
      "source": [
        "bob_circuit.append(cirq.measure(qubits, key = 'bob key'))\n",
        "\n",
        "print(bob_circuit)"
      ],
      "metadata": {
        "colab": {
          "base_uri": "https://localhost:8080/"
        },
        "outputId": "bed3d108-a645-46b2-97b5-0433d82d7736",
        "id": "cBcIKht2Oj7P"
      },
      "execution_count": 33,
      "outputs": [
        {
          "output_type": "stream",
          "name": "stdout",
          "text": [
            "q0: ────H───M('bob key')───\n",
            "            │\n",
            "q1: ────H───M──────────────\n",
            "            │\n",
            "q2: ────H───M──────────────\n",
            "            │\n",
            "q3: ────H───M──────────────\n",
            "            │\n",
            "q4: ────I───M──────────────\n",
            "            │\n",
            "q5: ────I───M──────────────\n",
            "            │\n",
            "q6: ────H───M──────────────\n",
            "            │\n",
            "q7: ────H───M──────────────\n",
            "            │\n",
            "q8: ────I───M──────────────\n",
            "            │\n",
            "q9: ────H───M──────────────\n",
            "            │\n",
            "q10: ───I───M──────────────\n",
            "            │\n",
            "q11: ───H───M──────────────\n",
            "            │\n",
            "q12: ───H───M──────────────\n",
            "            │\n",
            "q13: ───H───M──────────────\n",
            "            │\n",
            "q14: ───I───M──────────────\n",
            "            │\n",
            "q15: ───H───M──────────────\n",
            "            │\n",
            "q16: ───I───M──────────────\n",
            "            │\n",
            "q17: ───H───M──────────────\n",
            "            │\n",
            "q18: ───H───M──────────────\n",
            "            │\n",
            "q19: ───I───M──────────────\n",
            "            │\n",
            "q20: ───I───M──────────────\n",
            "            │\n",
            "q21: ───I───M──────────────\n",
            "            │\n",
            "q22: ───H───M──────────────\n",
            "            │\n",
            "q23: ───I───M──────────────\n",
            "            │\n",
            "q24: ───H───M──────────────\n",
            "            │\n",
            "q25: ───I───M──────────────\n",
            "            │\n",
            "q26: ───I───M──────────────\n",
            "            │\n",
            "q27: ───H───M──────────────\n",
            "            │\n",
            "q28: ───I───M──────────────\n",
            "            │\n",
            "q29: ───I───M──────────────\n",
            "            │\n",
            "q30: ───I───M──────────────\n",
            "            │\n",
            "q31: ───H───M──────────────\n",
            "            │\n",
            "q32: ───H───M──────────────\n",
            "            │\n",
            "q33: ───H───M──────────────\n",
            "            │\n",
            "q34: ───I───M──────────────\n",
            "            │\n",
            "q35: ───I───M──────────────\n",
            "            │\n",
            "q36: ───H───M──────────────\n",
            "            │\n",
            "q37: ───H───M──────────────\n",
            "            │\n",
            "q38: ───I───M──────────────\n",
            "            │\n",
            "q39: ───I───M──────────────\n",
            "            │\n",
            "q40: ───I───M──────────────\n",
            "            │\n",
            "q41: ───H───M──────────────\n",
            "            │\n",
            "q42: ───H───M──────────────\n",
            "            │\n",
            "q43: ───H───M──────────────\n",
            "            │\n",
            "q44: ───I───M──────────────\n",
            "            │\n",
            "q45: ───I───M──────────────\n",
            "            │\n",
            "q46: ───H───M──────────────\n",
            "            │\n",
            "q47: ───I───M──────────────\n",
            "            │\n",
            "q48: ───I───M──────────────\n",
            "            │\n",
            "q49: ───H───M──────────────\n",
            "            │\n",
            "q50: ───I───M──────────────\n",
            "            │\n",
            "q51: ───H───M──────────────\n",
            "            │\n",
            "q52: ───I───M──────────────\n",
            "            │\n",
            "q53: ───I───M──────────────\n",
            "            │\n",
            "q54: ───I───M──────────────\n",
            "            │\n",
            "q55: ───I───M──────────────\n",
            "            │\n",
            "q56: ───I───M──────────────\n",
            "            │\n",
            "q57: ───H───M──────────────\n",
            "            │\n",
            "q58: ───H───M──────────────\n",
            "            │\n",
            "q59: ───I───M──────────────\n",
            "            │\n",
            "q60: ───I───M──────────────\n",
            "            │\n",
            "q61: ───H───M──────────────\n",
            "            │\n",
            "q62: ───I───M──────────────\n",
            "            │\n",
            "q63: ───I───M──────────────\n",
            "            │\n",
            "q64: ───H───M──────────────\n",
            "            │\n",
            "q65: ───H───M──────────────\n",
            "            │\n",
            "q66: ───I───M──────────────\n",
            "            │\n",
            "q67: ───H───M──────────────\n",
            "            │\n",
            "q68: ───H───M──────────────\n",
            "            │\n",
            "q69: ───I───M──────────────\n",
            "            │\n",
            "q70: ───I───M──────────────\n",
            "            │\n",
            "q71: ───I───M──────────────\n",
            "            │\n",
            "q72: ───I───M──────────────\n",
            "            │\n",
            "q73: ───I───M──────────────\n",
            "            │\n",
            "q74: ───I───M──────────────\n",
            "            │\n",
            "q75: ───I───M──────────────\n",
            "            │\n",
            "q76: ───H───M──────────────\n",
            "            │\n",
            "q77: ───I───M──────────────\n",
            "            │\n",
            "q78: ───H───M──────────────\n",
            "            │\n",
            "q79: ───H───M──────────────\n",
            "            │\n",
            "q80: ───I───M──────────────\n",
            "            │\n",
            "q81: ───H───M──────────────\n",
            "            │\n",
            "q82: ───I───M──────────────\n",
            "            │\n",
            "q83: ───H───M──────────────\n",
            "            │\n",
            "q84: ───I───M──────────────\n",
            "            │\n",
            "q85: ───I───M──────────────\n",
            "            │\n",
            "q86: ───I───M──────────────\n",
            "            │\n",
            "q87: ───H───M──────────────\n",
            "            │\n",
            "q88: ───H───M──────────────\n",
            "            │\n",
            "q89: ───I───M──────────────\n",
            "            │\n",
            "q90: ───H───M──────────────\n",
            "            │\n",
            "q91: ───I───M──────────────\n",
            "            │\n",
            "q92: ───I───M──────────────\n",
            "            │\n",
            "q93: ───H───M──────────────\n",
            "            │\n",
            "q94: ───H───M──────────────\n",
            "            │\n",
            "q95: ───H───M──────────────\n",
            "            │\n",
            "q96: ───I───M──────────────\n",
            "            │\n",
            "q97: ───I───M──────────────\n",
            "            │\n",
            "q98: ───I───M──────────────\n",
            "            │\n",
            "q99: ───H───M──────────────\n"
          ]
        }
      ]
    },
    {
      "cell_type": "markdown",
      "source": [
        "<a name=\"s7\"></a>\n",
        "\n",
        "#### **Step #7: Bob Creates a Key**\n",
        "\n",
        "**Independently**, create a key for Bob from the mesurement result of each qubit.\n",
        "\n",
        "<br>\n",
        "\n",
        "**Run the code below to accomplish this step.**"
      ],
      "metadata": {
        "id": "FpN71b4yOj7P"
      }
    },
    {
      "cell_type": "code",
      "source": [
        "bb84_circuit = alice_circuit + bob_circuit\n",
        "\n",
        "sim = cirq.Simulator()\n",
        "results = sim.run(bb84_circuit)\n",
        "bob_key = results.measurements['bob key'][0]\n",
        "\n",
        "print('\\nBob\\'s initial key: ', bob_key)"
      ],
      "metadata": {
        "id": "8XUPYUfkpOly",
        "outputId": "f3e02eab-b389-45a5-9881-3d4ba282c339",
        "colab": {
          "base_uri": "https://localhost:8080/"
        }
      },
      "execution_count": 39,
      "outputs": [
        {
          "output_type": "stream",
          "name": "stdout",
          "text": [
            "\n",
            "Bob's initial key:  [1 1 0 1 1 1 1 1 1 1 0 1 1 1 1 0 0 1 1 0 1 1 0 0 0 1 0 0 0 0 0 0 1 1 0 0 0\n",
            " 1 1 0 0 0 0 0 0 0 1 1 0 1 0 1 1 1 0 1 1 1 1 0 1 1 1 1 0 1 0 1 1 0 1 1 0 0\n",
            " 0 0 1 0 0 1 0 0 0 0 0 0 0 0 0 1 0 1 1 0 0 1 0 0 0 0]\n"
          ]
        }
      ]
    },
    {
      "cell_type": "markdown",
      "source": [
        "#####**Solution**"
      ],
      "metadata": {
        "id": "6QBsjdxscI1T"
      }
    },
    {
      "cell_type": "code",
      "source": [
        "bb84_circuit = alice_circuit + bob_circuit\n",
        "\n",
        "sim = cirq.Simulator()\n",
        "results = sim.run(bb84_circuit)\n",
        "bob_key = results.measurements['bob key'][0]\n",
        "\n",
        "print('\\nBob\\'s initial key: ', bob_key)"
      ],
      "metadata": {
        "colab": {
          "base_uri": "https://localhost:8080/"
        },
        "outputId": "cff0c43b-b244-4ad8-c8ef-7abe96729cbc",
        "id": "IP3lg72SOj7P"
      },
      "execution_count": 34,
      "outputs": [
        {
          "output_type": "stream",
          "name": "stdout",
          "text": [
            "\n",
            "Bob's initial key:  [1 0 0 1 0 0 0 1 0 1 0 1 1 1 1 0 1 1 0 1 0 1 1 0 1 0 0 1 1 0 0 0 0 1 0 1 1\n",
            " 0 1 1 0 0 1 0 1 1 1 1 0 1 1 0 1 1 0 1 0 1 0 1 0 0 1 0 1 0 0 1 1 0 1 1 1 0\n",
            " 0 1 0 1 1 1 1 1 0 0 1 0 0 1 0 0 0 1 1 1 1 0 1 0 1 1]\n"
          ]
        }
      ]
    },
    {
      "cell_type": "markdown",
      "source": [
        "---\n",
        "#### **Phase #3: Alice and Bob Compare**\n",
        "---"
      ],
      "metadata": {
        "id": "cYlfBZ-_dCZO"
      }
    },
    {
      "cell_type": "markdown",
      "source": [
        "<a name=\"s8\"></a>\n",
        "\n",
        "#### **Step #8: Alice and Bob Compare Bases**\n",
        "\n",
        "**Independently**, compare Alice's and Bob's randomly selected bases.\n",
        "\n",
        "**Run the code below to accomplish this step.**"
      ],
      "metadata": {
        "id": "slAYObAROy6j"
      }
    },
    {
      "cell_type": "code",
      "source": [
        "final_alice_key = []\n",
        "final_bob_key = []\n",
        "final_eve_key = []\n",
        "\n",
        "for bit in range(num_bits):\n",
        "\n",
        "  if alice_bases[bit] == bob_bases[bit]:\n",
        "    final_alice_key.append(alice_key[bit])\n",
        "    final_bob_key.append(bob_key[bit])\n",
        "    final_eve_key.append(eve_key[bit])\n",
        "\n",
        "print('\\nAlice\\'s key: ', final_alice_key)\n",
        "print('Bob\\'s key: ', final_bob_key)\n",
        "print('Eve\\'s key: ', final_eve_key)"
      ],
      "metadata": {
        "id": "GOqfsm7zpSLR",
        "outputId": "267c456f-549d-4331-a2ea-93a29a3bdf9e",
        "colab": {
          "base_uri": "https://localhost:8080/"
        }
      },
      "execution_count": 41,
      "outputs": [
        {
          "output_type": "stream",
          "name": "stdout",
          "text": [
            "\n",
            "Alice's key:  [1, 1, 1, 1, 0, 0, 0, 1, 1, 0, 1, 0, 1, 0, 0, 0, 0, 0, 1, 0, 1, 1, 0, 0, 0, 0, 0, 0, 0, 1, 1, 1, 1, 0, 1, 1, 1, 1, 1, 1, 0, 1, 0, 0, 1, 1, 1, 0, 1, 0, 0, 1, 0, 1, 0, 1, 0]\n",
            "Bob's key:  [0, 0, 1, 1, 1, 0, 0, 1, 0, 0, 1, 0, 0, 1, 1, 0, 1, 0, 1, 0, 1, 1, 0, 0, 0, 0, 0, 0, 0, 1, 1, 1, 1, 0, 1, 1, 1, 1, 1, 0, 0, 1, 0, 0, 0, 0, 1, 0, 0, 0, 0, 1, 0, 1, 0, 0, 0]\n",
            "Eve's key:  [0, 0, 1, 1, 0, 1, 0, 1, 0, 1, 1, 0, 0, 1, 0, 0, 0, 1, 1, 0, 1, 1, 0, 0, 0, 0, 1, 0, 0, 1, 0, 1, 1, 0, 1, 0, 1, 1, 1, 0, 0, 1, 1, 0, 1, 1, 0, 1, 1, 0, 1, 0, 1, 1, 0, 1, 0]\n"
          ]
        }
      ]
    },
    {
      "cell_type": "markdown",
      "source": [
        "#####**Solution**"
      ],
      "metadata": {
        "id": "G_zxRHETcLDb"
      }
    },
    {
      "cell_type": "code",
      "source": [
        "final_alice_key = []\n",
        "final_bob_key = []\n",
        "final_eve_key = []\n",
        "\n",
        "for bit in range(num_bits):\n",
        "\n",
        "  if alice_bases[bit] == bob_bases[bit]:\n",
        "    final_alice_key.append(alice_key[bit])\n",
        "    final_bob_key.append(bob_key[bit])\n",
        "    final_eve_key.append(eve_key[bit])\n",
        "\n",
        "print('\\nAlice\\'s key: ', final_alice_key)\n",
        "print('Bob\\'s key: ', final_bob_key)\n",
        "print('Eve\\'s key: ', final_eve_key)"
      ],
      "metadata": {
        "colab": {
          "base_uri": "https://localhost:8080/"
        },
        "outputId": "8726fe85-0d28-495a-cf8c-13bdd43ada8d",
        "id": "c9zOnqZNOy60"
      },
      "execution_count": 35,
      "outputs": [
        {
          "output_type": "stream",
          "name": "stdout",
          "text": [
            "\n",
            "Alice's key:  [0, 1, 0, 0, 0, 0, 1, 0, 1, 1, 1, 1, 0, 1, 0, 0, 0, 0, 1, 0, 0, 0, 0, 1, 1, 0, 1, 1, 1, 1, 1, 0, 0, 0, 1, 1, 0, 1, 0, 1, 1, 0, 1, 1, 0, 0, 1, 0, 0, 0, 1, 0, 0, 0]\n",
            "Bob's key:  [0, 1, 0, 0, 1, 0, 1, 0, 1, 1, 1, 1, 0, 1, 0, 1, 0, 0, 1, 0, 0, 1, 0, 0, 1, 1, 1, 1, 1, 1, 1, 0, 1, 0, 1, 1, 0, 0, 1, 0, 1, 1, 1, 1, 0, 0, 1, 0, 0, 0, 1, 0, 1, 0]\n",
            "Eve's key:  [0, 1, 0, 0, 0, 0, 1, 0, 0, 1, 1, 0, 0, 1, 0, 1, 0, 0, 1, 0, 0, 1, 0, 0, 0, 1, 1, 1, 1, 1, 1, 0, 0, 0, 0, 1, 1, 0, 0, 0, 0, 0, 1, 0, 0, 0, 1, 0, 0, 0, 0, 1, 0, 0]\n"
          ]
        }
      ]
    },
    {
      "cell_type": "markdown",
      "source": [
        "<a name=\"s9\"></a>\n",
        "\n",
        "#### **Step #9: Alice and Bob Compare the First Bits in Their Key**\n",
        "\n",
        "**Independently**, compare the first few bits in Alice's and Bob's key to ensure the protocol was successful.\n",
        "\n",
        "<br>\n",
        "\n",
        "**Run the code below to accomplish this.**"
      ],
      "metadata": {
        "id": "zJ30bCUzOy61"
      }
    },
    {
      "cell_type": "code",
      "source": [
        "num_bits_to_compare = int(len(final_alice_key) * .5)\n",
        "if final_alice_key[0:num_bits_to_compare] == final_bob_key[0:num_bits_to_compare]:\n",
        "  final_alice_key = final_alice_key[num_bits_to_compare:]\n",
        "  final_bob_key = final_bob_key[num_bits_to_compare:]\n",
        "  final_eve_key = final_eve_key[num_bits_to_compare:]\n",
        "\n",
        "  print('\\n\\nWe can use our keys!')\n",
        "  print('Alice Key: ', final_alice_key)\n",
        "  print('Bob Key: ', final_bob_key)\n",
        "  print('Eve Key: ', final_eve_key)\n",
        "\n",
        "else:\n",
        "  print('\\n\\nEve was listening, we need to use a different channel!')"
      ],
      "metadata": {
        "id": "BgI6DbHapfLx",
        "outputId": "2787afd7-c705-4312-fb82-517bd308f9c8",
        "colab": {
          "base_uri": "https://localhost:8080/"
        }
      },
      "execution_count": 43,
      "outputs": [
        {
          "output_type": "stream",
          "name": "stdout",
          "text": [
            "\n",
            "\n",
            "Eve was listening, we need to use a different channel!\n"
          ]
        }
      ]
    },
    {
      "cell_type": "markdown",
      "source": [
        "#####**Solution**"
      ],
      "metadata": {
        "id": "uEzLMKEBcMyA"
      }
    },
    {
      "cell_type": "code",
      "source": [
        "num_bits_to_compare = int(len(final_alice_key) * .5)\n",
        "if final_alice_key[0:num_bits_to_compare] == final_bob_key[0:num_bits_to_compare]:\n",
        "  final_alice_key = final_alice_key[num_bits_to_compare:]\n",
        "  final_bob_key = final_bob_key[num_bits_to_compare:]\n",
        "  final_eve_key = final_eve_key[num_bits_to_compare:]\n",
        "\n",
        "  print('\\n\\nWe can use our keys!')\n",
        "  print('Alice Key: ', final_alice_key)\n",
        "  print('Bob Key: ', final_bob_key)\n",
        "  print('Eve Key: ', final_eve_key)\n",
        "\n",
        "else:\n",
        "  print('\\n\\nEve was listening, we need to use a different channel!')"
      ],
      "metadata": {
        "colab": {
          "base_uri": "https://localhost:8080/"
        },
        "outputId": "6c4d293e-2285-4fb9-df5a-625f862b1179",
        "id": "Acp5zmdYOy61"
      },
      "execution_count": 36,
      "outputs": [
        {
          "output_type": "stream",
          "name": "stdout",
          "text": [
            "\n",
            "\n",
            "Eve was listening, we need to use a different channel!\n"
          ]
        }
      ]
    },
    {
      "cell_type": "markdown",
      "source": [
        "<a name=\"p4\"></a>\n",
        "\n",
        "---\n",
        "## **Part 4: Alice, Bob, and Eve's Entanglement Attack**\n",
        "---\n",
        "\n",
        "Now, we will modify this code so that Eve performs an Entanglement attack."
      ],
      "metadata": {
        "id": "3Uu5S80deiDu"
      }
    },
    {
      "cell_type": "markdown",
      "source": [
        "### **Part 4.1: The Setup**"
      ],
      "metadata": {
        "id": "0pMv5b_LDmfi"
      }
    },
    {
      "cell_type": "markdown",
      "source": [
        "#### **Problem #4.1.1**\n",
        "\n",
        "**Independently**, define a dictionary called `encode_gates` that specify which gates to apply based on the bit value. Then, let's define a dictionary called `basis_gates` that specify which gates to apply based on the basis. Finally, let's create a list of `NamedQubit`s that is `num_bits` long and has the prefix `q`."
      ],
      "metadata": {
        "id": "Feok1DJuDmft"
      }
    },
    {
      "cell_type": "code",
      "source": [
        "encode_gates = {# COMPLETE THIS CODE\n",
        "basis_gates = {# COMPLETE THIS CODE\n",
        "\n",
        "num_bits = 100\n",
        "qubits = cirq.NamedQubit.range(num_bits, prefix = 'q')"
      ],
      "metadata": {
        "id": "fs_EuHMYpmXl"
      },
      "execution_count": null,
      "outputs": []
    },
    {
      "cell_type": "markdown",
      "source": [
        "#####**Solution**"
      ],
      "metadata": {
        "id": "0E0lhHRIcWLJ"
      }
    },
    {
      "cell_type": "code",
      "source": [
        "encode_gates = {0: cirq.I, 1: cirq.X}\n",
        "basis_gates = {'Z': cirq.I, 'X': cirq.H}\n",
        "\n",
        "num_bits = 100\n",
        "qubits = cirq.NamedQubit.range(num_bits, prefix = 'q')"
      ],
      "metadata": {
        "id": "F_omiXqRDmft"
      },
      "execution_count": 37,
      "outputs": []
    },
    {
      "cell_type": "markdown",
      "source": [
        "---\n",
        "#### **Phase #1: Alice Sends**\n",
        "---"
      ],
      "metadata": {
        "id": "67P4_tJ8Dmft"
      }
    },
    {
      "cell_type": "markdown",
      "source": [
        "<a name=\"s1\"></a>\n",
        "\n",
        "#### **Step #1: Alice Randomly Chooses Bits**\n",
        "\n",
        "**Together**, let's use python's `choices(...)` function to create Alice's key of random bits that is `num_bits` long."
      ],
      "metadata": {
        "id": "wYs260JcDmfu"
      }
    },
    {
      "cell_type": "code",
      "source": [
        "alice_key = choices(# COMPLETE THIS CODE\n",
        "\n",
        "print('Alice\\'s initial key: ', alice_key)"
      ],
      "metadata": {
        "id": "Wcy5uUhUpt-n"
      },
      "execution_count": null,
      "outputs": []
    },
    {
      "cell_type": "markdown",
      "source": [
        "#####**Solution**"
      ],
      "metadata": {
        "id": "swkBpE92cXhG"
      }
    },
    {
      "cell_type": "code",
      "source": [
        "alice_key = choices([0, 1], k = num_bits)\n",
        "\n",
        "print('Alice\\'s initial key: ', alice_key)"
      ],
      "metadata": {
        "colab": {
          "base_uri": "https://localhost:8080/"
        },
        "outputId": "fc36ce2e-523e-4f63-a62a-d598628400c6",
        "id": "6g-aE03kDmfu"
      },
      "execution_count": 38,
      "outputs": [
        {
          "output_type": "stream",
          "name": "stdout",
          "text": [
            "Alice's initial key:  [1, 1, 1, 1, 1, 1, 1, 1, 1, 1, 0, 1, 1, 1, 0, 1, 0, 0, 0, 1, 1, 1, 1, 1, 0, 1, 1, 1, 1, 1, 1, 1, 0, 0, 0, 1, 1, 0, 1, 1, 0, 1, 0, 1, 0, 1, 1, 0, 1, 1, 0, 1, 0, 0, 1, 1, 0, 1, 0, 1, 1, 0, 1, 1, 1, 1, 0, 1, 1, 0, 0, 0, 0, 1, 1, 0, 0, 1, 1, 0, 0, 1, 1, 1, 0, 1, 0, 0, 1, 0, 0, 1, 1, 1, 0, 1, 1, 1, 1, 0]\n"
          ]
        }
      ]
    },
    {
      "cell_type": "markdown",
      "source": [
        "<a name=\"s2\"></a>\n",
        "\n",
        "#### **Step #2: Alice Randomly Chooses Bases**\n",
        "\n",
        "**Together**, let's use python's `choices(...)` function to create Alice's `num_bits` basis choices."
      ],
      "metadata": {
        "id": "RxYNXJLADmfu"
      }
    },
    {
      "cell_type": "code",
      "source": [
        "alice_bases = choices(# COMPLETE THIS CODE\n",
        "\n",
        "print('\\nAlice\\'s randomly chosen bases: ', alice_bases)"
      ],
      "metadata": {
        "id": "e2qNS_G4pzGz"
      },
      "execution_count": null,
      "outputs": []
    },
    {
      "cell_type": "markdown",
      "source": [
        "#####**Solution**"
      ],
      "metadata": {
        "id": "yzaw739fcYxV"
      }
    },
    {
      "cell_type": "code",
      "source": [
        "alice_bases = choices(['Z', 'X'], k = num_bits)\n",
        "\n",
        "print('\\nAlice\\'s randomly chosen bases: ', alice_bases)"
      ],
      "metadata": {
        "colab": {
          "base_uri": "https://localhost:8080/"
        },
        "outputId": "7e24c63c-a297-4fc7-faad-85f244790c41",
        "id": "qYW69lFdDmfu"
      },
      "execution_count": 39,
      "outputs": [
        {
          "output_type": "stream",
          "name": "stdout",
          "text": [
            "\n",
            "Alice's randomly chosen bases:  ['X', 'Z', 'X', 'X', 'Z', 'Z', 'Z', 'Z', 'Z', 'X', 'X', 'Z', 'X', 'Z', 'Z', 'X', 'X', 'Z', 'X', 'X', 'Z', 'X', 'Z', 'Z', 'X', 'X', 'Z', 'X', 'Z', 'Z', 'X', 'X', 'X', 'Z', 'X', 'Z', 'X', 'X', 'X', 'X', 'X', 'Z', 'Z', 'Z', 'X', 'Z', 'Z', 'X', 'Z', 'X', 'X', 'Z', 'X', 'X', 'X', 'X', 'X', 'X', 'Z', 'Z', 'Z', 'X', 'X', 'Z', 'Z', 'X', 'Z', 'X', 'Z', 'X', 'Z', 'Z', 'Z', 'Z', 'X', 'X', 'X', 'X', 'X', 'X', 'Z', 'X', 'Z', 'X', 'Z', 'X', 'Z', 'X', 'X', 'Z', 'X', 'Z', 'X', 'Z', 'X', 'Z', 'Z', 'Z', 'X', 'X']\n"
          ]
        }
      ]
    },
    {
      "cell_type": "markdown",
      "source": [
        "<a name=\"s3\"></a>\n",
        "\n",
        "#### **Step #3: Alice Creates Qubits**\n",
        "\n",
        "**Together**, create Alice's qubits based on her choice of bit and basis. Complete the code below so that the appropriate gates are appended to `alice_circuit` within the loop."
      ],
      "metadata": {
        "id": "MqMAOa96Dmfu"
      }
    },
    {
      "cell_type": "code",
      "source": [
        "alice_circuit = cirq.Circuit()\n",
        "\n",
        "for # COMPLETE THIS CODE\n",
        "\n",
        "  encode_value = # COMPLETE THIS CODE\n",
        "  encode_gate = # COMPLETE THIS CODE\n",
        "\n",
        "  basis_value = # COMPLETE THIS CODE\n",
        "  basis_gate = # COMPLETE THIS CODE\n",
        "\n",
        "  qubit = # COMPLETE THIS CODE\n",
        "  alice_circuit.append(# COMPLETE THIS CODE\n",
        "  alice_circuit.append(# COMPLETE THIS CODE"
      ],
      "metadata": {
        "id": "IVYIVn18p-oi"
      },
      "execution_count": null,
      "outputs": []
    },
    {
      "cell_type": "markdown",
      "source": [
        "#####**Solution**"
      ],
      "metadata": {
        "id": "1OAYRGoDcZ72"
      }
    },
    {
      "cell_type": "code",
      "source": [
        "alice_circuit = cirq.Circuit()\n",
        "\n",
        "for bit in range(num_bits):\n",
        "\n",
        "  encode_value = alice_key[bit]\n",
        "  encode_gate = encode_gates[encode_value]\n",
        "\n",
        "  basis_value = alice_bases[bit]\n",
        "  basis_gate = basis_gates[basis_value]\n",
        "\n",
        "  qubit = qubits[bit]\n",
        "  alice_circuit.append(encode_gate(qubit))\n",
        "  alice_circuit.append(basis_gate(qubit))"
      ],
      "metadata": {
        "id": "ameKhb30Dmfu"
      },
      "execution_count": 40,
      "outputs": []
    },
    {
      "cell_type": "markdown",
      "source": [
        "<a name=\"s4\"></a>\n",
        "\n",
        "#### **Step #4: Alice Sends the Qubits to Bob**\n",
        "\n",
        "This step doesn't require us to do anything in Python. However, in real life, this would be where Alice sends Bob the qubits through a public quantum channel."
      ],
      "metadata": {
        "id": "wf4xmIg-Dmfv"
      }
    },
    {
      "cell_type": "markdown",
      "source": [
        "---\n",
        "#### **Phase #2: Eve Receives**\n",
        "---"
      ],
      "metadata": {
        "id": "Q85roJjieiD6"
      }
    },
    {
      "cell_type": "markdown",
      "source": [
        "#### **Step #5: Eve Randomly Entangles Her Qubits**\n",
        "\n",
        "**Independently**, create `num_bits` qubits with the prefix \"eve\" for Eve and entangle them with Alice's sent qubits."
      ],
      "metadata": {
        "id": "j7Q2fKvnRoNl"
      }
    },
    {
      "cell_type": "code",
      "source": [
        "eve_qubits = # COMPLETE THIS CODE\n",
        "\n",
        "for # COMPLETE THIS CODE\n",
        "\n",
        "  qubit = # COMPLETE THIS CODE\n",
        "  eve_qubit = # COMPLETE THIS CODE\n",
        "\n",
        "  alice_circuit.append(# COMPLETE THIS CODE"
      ],
      "metadata": {
        "id": "sBP3zoOAqXxg"
      },
      "execution_count": null,
      "outputs": []
    },
    {
      "cell_type": "markdown",
      "source": [
        "#####**Solution**"
      ],
      "metadata": {
        "id": "aMBsnaMNfj_E"
      }
    },
    {
      "cell_type": "code",
      "source": [
        "eve_qubits = cirq.NamedQubit.range(num_bits, prefix=\"eve\")\n",
        "\n",
        "for bit in range(num_bits):\n",
        "\n",
        "  qubit = qubits[bit]\n",
        "  eve_qubit = eve_qubits[bit]\n",
        "\n",
        "  alice_circuit.append(cirq.CNOT(qubit, eve_qubit))"
      ],
      "metadata": {
        "id": "BSsxdCV4R3m3"
      },
      "execution_count": 41,
      "outputs": []
    },
    {
      "cell_type": "markdown",
      "source": [
        "---\n",
        "#### **Phase #2: Bob Receives**\n",
        "---"
      ],
      "metadata": {
        "id": "suiNb7NJeiD7"
      }
    },
    {
      "cell_type": "markdown",
      "source": [
        "<a name=\"s5\"></a>\n",
        "\n",
        "#### **Step #5: Bob Randomly Chooses Bases**\n",
        "\n",
        "**Independently**, randomly choose Bob's `num_bits` bases and apply the appropriate gates to the qubits he received, `qubits`. Complete the code below to accomplish this for each qubit."
      ],
      "metadata": {
        "id": "InmdyezfSXx6"
      }
    },
    {
      "cell_type": "code",
      "source": [
        "bob_bases = choices(# COMPLETE THIS CODE\n",
        "print('Bob\\'s randomly chosen bases: ', bob_bases)\n",
        "\n",
        "bob_circuit = cirq.Circuit()\n",
        "\n",
        "for # COMPLETE THIS CODE\n",
        "\n",
        "  basis_value = # COMPLETE THIS CODE\n",
        "  basis_gate = # COMPLETE THIS CODE\n",
        "\n",
        "  qubit = # COMPLETE THIS CODE\n",
        "  bob_circuit.append(# COMPLETE THIS CODE"
      ],
      "metadata": {
        "id": "jNHa3o-rqslQ"
      },
      "execution_count": null,
      "outputs": []
    },
    {
      "cell_type": "markdown",
      "source": [
        "#####**Solution**"
      ],
      "metadata": {
        "id": "FfrYmEOjfl2_"
      }
    },
    {
      "cell_type": "code",
      "source": [
        "bob_bases = choices(['Z', 'X'], k = num_bits)\n",
        "print('Bob\\'s randomly chosen bases: ', bob_bases)\n",
        "\n",
        "bob_circuit = cirq.Circuit()\n",
        "\n",
        "for bit in range(num_bits):\n",
        "\n",
        "  basis_value = bob_bases[bit]\n",
        "  basis_gate = basis_gates[basis_value]\n",
        "\n",
        "  qubit = qubits[bit]\n",
        "  bob_circuit.append(basis_gate(qubit))"
      ],
      "metadata": {
        "colab": {
          "base_uri": "https://localhost:8080/"
        },
        "outputId": "230eaf72-4b1a-4b3b-e9ed-550d3eaf8eeb",
        "id": "S61gtOaQSXyB"
      },
      "execution_count": 42,
      "outputs": [
        {
          "output_type": "stream",
          "name": "stdout",
          "text": [
            "Bob's randomly chosen bases:  ['Z', 'Z', 'Z', 'Z', 'X', 'Z', 'X', 'Z', 'Z', 'Z', 'Z', 'X', 'X', 'Z', 'X', 'X', 'Z', 'X', 'X', 'X', 'Z', 'Z', 'Z', 'Z', 'Z', 'Z', 'Z', 'X', 'Z', 'Z', 'Z', 'Z', 'X', 'Z', 'X', 'X', 'X', 'Z', 'X', 'X', 'Z', 'X', 'Z', 'X', 'X', 'X', 'Z', 'X', 'X', 'X', 'Z', 'Z', 'Z', 'Z', 'Z', 'X', 'X', 'X', 'Z', 'Z', 'X', 'Z', 'Z', 'Z', 'Z', 'Z', 'X', 'X', 'Z', 'Z', 'Z', 'Z', 'X', 'Z', 'Z', 'Z', 'Z', 'Z', 'Z', 'Z', 'X', 'Z', 'Z', 'Z', 'Z', 'Z', 'Z', 'Z', 'Z', 'Z', 'X', 'Z', 'Z', 'Z', 'Z', 'Z', 'Z', 'X', 'Z', 'Z']\n"
          ]
        }
      ]
    },
    {
      "cell_type": "markdown",
      "source": [
        "<a name=\"s6\"></a>\n",
        "\n",
        "#### **Step #6: Bob Measures the Qubits**\n",
        "\n",
        "**Independently**, make a measurement of all of the qubits for Bob. Complete the code below to append this action to `bob_circuit`. Ensure the measure method is given the parameter `key = 'bob key'` so that we can easily retrieve this result later."
      ],
      "metadata": {
        "id": "_yoRqBQ6SXyB"
      }
    },
    {
      "cell_type": "code",
      "source": [
        "bob_circuit.append(# COMPLETE THIS CODE\n",
        "\n",
        "print(bob_circuit)"
      ],
      "metadata": {
        "id": "qYwc-rACrcZf"
      },
      "execution_count": null,
      "outputs": []
    },
    {
      "cell_type": "markdown",
      "source": [
        "#####**Solution**"
      ],
      "metadata": {
        "id": "tlxIQ8oEfnmR"
      }
    },
    {
      "cell_type": "code",
      "source": [
        "bob_circuit.append(cirq.measure(qubits, key = 'bob key'))\n",
        "\n",
        "print(bob_circuit)"
      ],
      "metadata": {
        "colab": {
          "base_uri": "https://localhost:8080/"
        },
        "outputId": "601f9cca-a565-4f34-e56a-01f73c10520f",
        "id": "kGEYWv_gSXyC"
      },
      "execution_count": 43,
      "outputs": [
        {
          "output_type": "stream",
          "name": "stdout",
          "text": [
            "q0: ────I───M('bob key')───\n",
            "            │\n",
            "q1: ────I───M──────────────\n",
            "            │\n",
            "q2: ────I───M──────────────\n",
            "            │\n",
            "q3: ────I───M──────────────\n",
            "            │\n",
            "q4: ────H───M──────────────\n",
            "            │\n",
            "q5: ────I───M──────────────\n",
            "            │\n",
            "q6: ────H───M──────────────\n",
            "            │\n",
            "q7: ────I───M──────────────\n",
            "            │\n",
            "q8: ────I───M──────────────\n",
            "            │\n",
            "q9: ────I───M──────────────\n",
            "            │\n",
            "q10: ───I───M──────────────\n",
            "            │\n",
            "q11: ───H───M──────────────\n",
            "            │\n",
            "q12: ───H───M──────────────\n",
            "            │\n",
            "q13: ───I───M──────────────\n",
            "            │\n",
            "q14: ───H───M──────────────\n",
            "            │\n",
            "q15: ───H───M──────────────\n",
            "            │\n",
            "q16: ───I───M──────────────\n",
            "            │\n",
            "q17: ───H───M──────────────\n",
            "            │\n",
            "q18: ───H───M──────────────\n",
            "            │\n",
            "q19: ───H───M──────────────\n",
            "            │\n",
            "q20: ───I───M──────────────\n",
            "            │\n",
            "q21: ───I───M──────────────\n",
            "            │\n",
            "q22: ───I───M──────────────\n",
            "            │\n",
            "q23: ───I───M──────────────\n",
            "            │\n",
            "q24: ───I───M──────────────\n",
            "            │\n",
            "q25: ───I───M──────────────\n",
            "            │\n",
            "q26: ───I───M──────────────\n",
            "            │\n",
            "q27: ───H───M──────────────\n",
            "            │\n",
            "q28: ───I───M──────────────\n",
            "            │\n",
            "q29: ───I───M──────────────\n",
            "            │\n",
            "q30: ───I───M──────────────\n",
            "            │\n",
            "q31: ───I───M──────────────\n",
            "            │\n",
            "q32: ───H───M──────────────\n",
            "            │\n",
            "q33: ───I───M──────────────\n",
            "            │\n",
            "q34: ───H───M──────────────\n",
            "            │\n",
            "q35: ───H───M──────────────\n",
            "            │\n",
            "q36: ───H───M──────────────\n",
            "            │\n",
            "q37: ───I───M──────────────\n",
            "            │\n",
            "q38: ───H───M──────────────\n",
            "            │\n",
            "q39: ───H───M──────────────\n",
            "            │\n",
            "q40: ───I───M──────────────\n",
            "            │\n",
            "q41: ───H───M──────────────\n",
            "            │\n",
            "q42: ───I───M──────────────\n",
            "            │\n",
            "q43: ───H───M──────────────\n",
            "            │\n",
            "q44: ───H───M──────────────\n",
            "            │\n",
            "q45: ───H───M──────────────\n",
            "            │\n",
            "q46: ───I───M──────────────\n",
            "            │\n",
            "q47: ───H───M──────────────\n",
            "            │\n",
            "q48: ───H───M──────────────\n",
            "            │\n",
            "q49: ───H───M──────────────\n",
            "            │\n",
            "q50: ───I───M──────────────\n",
            "            │\n",
            "q51: ───I───M──────────────\n",
            "            │\n",
            "q52: ───I───M──────────────\n",
            "            │\n",
            "q53: ───I───M──────────────\n",
            "            │\n",
            "q54: ───I───M──────────────\n",
            "            │\n",
            "q55: ───H───M──────────────\n",
            "            │\n",
            "q56: ───H───M──────────────\n",
            "            │\n",
            "q57: ───H───M──────────────\n",
            "            │\n",
            "q58: ───I───M──────────────\n",
            "            │\n",
            "q59: ───I───M──────────────\n",
            "            │\n",
            "q60: ───H───M──────────────\n",
            "            │\n",
            "q61: ───I───M──────────────\n",
            "            │\n",
            "q62: ───I───M──────────────\n",
            "            │\n",
            "q63: ───I───M──────────────\n",
            "            │\n",
            "q64: ───I───M──────────────\n",
            "            │\n",
            "q65: ───I───M──────────────\n",
            "            │\n",
            "q66: ───H───M──────────────\n",
            "            │\n",
            "q67: ───H───M──────────────\n",
            "            │\n",
            "q68: ───I───M──────────────\n",
            "            │\n",
            "q69: ───I───M──────────────\n",
            "            │\n",
            "q70: ───I───M──────────────\n",
            "            │\n",
            "q71: ───I───M──────────────\n",
            "            │\n",
            "q72: ───H───M──────────────\n",
            "            │\n",
            "q73: ───I───M──────────────\n",
            "            │\n",
            "q74: ───I───M──────────────\n",
            "            │\n",
            "q75: ───I───M──────────────\n",
            "            │\n",
            "q76: ───I───M──────────────\n",
            "            │\n",
            "q77: ───I───M──────────────\n",
            "            │\n",
            "q78: ───I───M──────────────\n",
            "            │\n",
            "q79: ───I───M──────────────\n",
            "            │\n",
            "q80: ───H───M──────────────\n",
            "            │\n",
            "q81: ───I───M──────────────\n",
            "            │\n",
            "q82: ───I───M──────────────\n",
            "            │\n",
            "q83: ───I───M──────────────\n",
            "            │\n",
            "q84: ───I───M──────────────\n",
            "            │\n",
            "q85: ───I───M──────────────\n",
            "            │\n",
            "q86: ───I───M──────────────\n",
            "            │\n",
            "q87: ───I───M──────────────\n",
            "            │\n",
            "q88: ───I───M──────────────\n",
            "            │\n",
            "q89: ───I───M──────────────\n",
            "            │\n",
            "q90: ───H───M──────────────\n",
            "            │\n",
            "q91: ───I───M──────────────\n",
            "            │\n",
            "q92: ───I───M──────────────\n",
            "            │\n",
            "q93: ───I───M──────────────\n",
            "            │\n",
            "q94: ───I───M──────────────\n",
            "            │\n",
            "q95: ───I───M──────────────\n",
            "            │\n",
            "q96: ───I───M──────────────\n",
            "            │\n",
            "q97: ───H───M──────────────\n",
            "            │\n",
            "q98: ───I───M──────────────\n",
            "            │\n",
            "q99: ───I───M──────────────\n"
          ]
        }
      ]
    },
    {
      "cell_type": "markdown",
      "source": [
        "<a name=\"s7\"></a>\n",
        "\n",
        "#### **Step #7: Bob Creates a Key**\n",
        "\n",
        "**Independently**, create a key for Bob from the mesurement result of each qubit.\n",
        "\n",
        "<br>\n",
        "\n",
        "**Run the code below to accomplish this step.**"
      ],
      "metadata": {
        "id": "XW0DM1D3SXyC"
      }
    },
    {
      "cell_type": "code",
      "source": [
        "bb84_circuit = alice_circuit + bob_circuit\n",
        "\n",
        "sim = cirq.Simulator()\n",
        "results = sim.run(bb84_circuit)\n",
        "bob_key = results.measurements['bob key'][0]\n",
        "\n",
        "print('\\nBob\\'s initial key: ', bob_key)"
      ],
      "metadata": {
        "id": "NAunLfP9rhYC"
      },
      "execution_count": null,
      "outputs": []
    },
    {
      "cell_type": "markdown",
      "source": [
        "#####**Solution**"
      ],
      "metadata": {
        "id": "VUd2-aXYfpfe"
      }
    },
    {
      "cell_type": "code",
      "source": [
        "bb84_circuit = alice_circuit + bob_circuit\n",
        "\n",
        "sim = cirq.Simulator()\n",
        "results = sim.run(bb84_circuit)\n",
        "bob_key = results.measurements['bob key'][0]\n",
        "\n",
        "print('\\nBob\\'s initial key: ', bob_key)"
      ],
      "metadata": {
        "colab": {
          "base_uri": "https://localhost:8080/"
        },
        "outputId": "680bfe57-412d-449a-f869-4e6220df8f38",
        "id": "GY4cvLM3SXyC"
      },
      "execution_count": 44,
      "outputs": [
        {
          "output_type": "stream",
          "name": "stdout",
          "text": [
            "\n",
            "Bob's initial key:  [1 1 0 0 0 1 0 1 1 0 0 1 0 1 1 0 0 1 0 0 1 1 1 1 0 0 1 0 1 1 1 1 0 0 0 1 0\n",
            " 1 1 0 1 0 0 0 0 1 1 1 1 1 0 1 1 1 1 1 0 1 0 1 1 1 1 1 1 0 0 0 1 0 0 0 1 1\n",
            " 1 1 0 0 0 0 0 0 1 1 0 1 0 1 0 0 0 1 0 1 1 1 1 1 1 1]\n"
          ]
        }
      ]
    },
    {
      "cell_type": "markdown",
      "source": [
        "---\n",
        "#### **Phase #3: Alice and Bob Compare**\n",
        "---"
      ],
      "metadata": {
        "id": "Z6AcmgS9eiD7"
      }
    },
    {
      "cell_type": "markdown",
      "source": [
        "<a name=\"s8\"></a>\n",
        "\n",
        "#### **Step #8: Alice and Bob Compare Bases**\n",
        "\n",
        "**Independently**, compare Alice's and Bob's randomly selected bases. Complete the code below to accomplish this. If they agree on a basis (publicly), then Eve puts her qubit in this basis and measures it."
      ],
      "metadata": {
        "id": "vvUg5nEfSpr6"
      }
    },
    {
      "cell_type": "code",
      "source": [
        "final_alice_key = []\n",
        "final_bob_key = []\n",
        "final_eve_key = []\n",
        "\n",
        "for # COMPLETE THIS CODE\n",
        "\n",
        "  if alice_bases[bit] == bob_bases[bit]:\n",
        "    final_alice_key.append(# COMPLETE THIS CODE\n",
        "    final_bob_key.append(# COMPLETE THIS CODE"
      ],
      "metadata": {
        "id": "7jth__HGrlSJ"
      },
      "execution_count": null,
      "outputs": []
    },
    {
      "cell_type": "code",
      "source": [
        "basis_value = bob_bases[bit]\n",
        "basis_gate = basis_gates[basis_value]\n",
        "\n",
        "qubit = eve_qubits[bit]\n",
        "bb84_circuit.append(basis_gate(qubit))\n",
        "bb84_circuit.append(cirq.measure(qubit))\n",
        "\n",
        "sim = cirq.Simulator()\n",
        "results = sim.run(bb84_circuit)\n",
        "\n",
        "final_eve_key.append(results.measurements['eve' + str(bit)][0][0])\n",
        "\n",
        "print('\\nAlice\\'s key: ', final_alice_key)\n",
        "print('Bob\\'s key: ', final_bob_key)\n",
        "print('Eve\\'s key: ', final_eve_key)"
      ],
      "metadata": {
        "id": "EE2jzHoOr1yL",
        "outputId": "aa39650d-5427-4202-a2df-91db6ff3b01a",
        "colab": {
          "base_uri": "https://localhost:8080/"
        }
      },
      "execution_count": 44,
      "outputs": [
        {
          "output_type": "stream",
          "name": "stdout",
          "text": [
            "\n",
            "Alice's key:  [0, 0, 1, 1, 0, 0, 0, 0, 1, 0, 0, 0, 1, 0, 0, 0, 0, 1, 1, 1, 0, 0, 1, 0, 0, 1, 1, 1, 1, 0, 0, 0, 1, 0, 0, 0, 1, 1, 1, 1, 1, 0, 0, 0, 1, 0, 1, 0, 1, 1, 1, 1, 0]\n",
            "Bob's key:  [0, 0, 0, 1, 0, 0, 1, 0, 1, 0, 0, 0, 0, 0, 0, 0, 0, 1, 0, 1, 0, 0, 0, 0, 0, 1, 1, 1, 1, 1, 0, 0, 1, 0, 1, 0, 1, 0, 1, 1, 1, 0, 0, 1, 0, 0, 1, 0, 1, 0, 1, 1, 0]\n",
            "Eve's key:  [0, 0, 1, 0, 0, 0, 1, 0, 1, 1, 0, 0, 0, 0, 0, 0, 0, 0, 0, 1, 0, 0, 1, 0, 0, 1, 1, 1, 1, 0, 0, 0, 1, 0, 0, 0, 1, 0, 1, 0, 0, 0, 0, 0, 0, 0, 0, 0, 1, 1, 1, 1, 0, 1]\n"
          ]
        }
      ]
    },
    {
      "cell_type": "markdown",
      "source": [
        "#####**Solution**"
      ],
      "metadata": {
        "id": "LHZsLcP-fu_y"
      }
    },
    {
      "cell_type": "code",
      "source": [
        "final_alice_key = []\n",
        "final_bob_key = []\n",
        "final_eve_key = []\n",
        "\n",
        "for bit in range(num_bits):\n",
        "\n",
        "  if alice_bases[bit] == bob_bases[bit]:\n",
        "    final_alice_key.append(alice_key[bit])\n",
        "    final_bob_key.append(bob_key[bit])"
      ],
      "metadata": {
        "id": "9XzlALGQSo_T"
      },
      "execution_count": 45,
      "outputs": []
    },
    {
      "cell_type": "code",
      "source": [
        "basis_value = bob_bases[bit]\n",
        "basis_gate = basis_gates[basis_value]\n",
        "\n",
        "qubit = eve_qubits[bit]\n",
        "bb84_circuit.append(basis_gate(qubit))\n",
        "bb84_circuit.append(cirq.measure(qubit))\n",
        "\n",
        "sim = cirq.Simulator()\n",
        "results = sim.run(bb84_circuit)\n",
        "\n",
        "final_eve_key.append(results.measurements['eve' + str(bit)][0][0])\n",
        "\n",
        "print('\\nAlice\\'s key: ', final_alice_key)\n",
        "print('Bob\\'s key: ', final_bob_key)\n",
        "print('Eve\\'s key: ', final_eve_key)"
      ],
      "metadata": {
        "colab": {
          "base_uri": "https://localhost:8080/"
        },
        "id": "lDA2Q_v7S0is",
        "outputId": "9b134a1e-b4d1-4e82-c502-52eaf14fafd6"
      },
      "execution_count": 46,
      "outputs": [
        {
          "output_type": "stream",
          "name": "stdout",
          "text": [
            "\n",
            "Alice's key:  [1, 1, 1, 1, 1, 1, 1, 0, 1, 1, 1, 1, 1, 1, 1, 1, 0, 0, 0, 1, 1, 1, 0, 0, 1, 0, 1, 1, 1, 0, 1, 0, 1, 1, 1, 1, 1, 0, 0, 1, 1, 0, 0, 0, 0, 1, 1, 1, 1]\n",
            "Bob's key:  [1, 1, 1, 1, 0, 1, 0, 0, 0, 1, 1, 1, 1, 0, 1, 1, 0, 0, 0, 0, 1, 0, 0, 0, 1, 1, 1, 1, 1, 0, 1, 0, 1, 1, 1, 0, 1, 0, 0, 1, 1, 0, 0, 0, 0, 1, 1, 1, 1]\n",
            "Eve's key:  [0]\n"
          ]
        }
      ]
    },
    {
      "cell_type": "markdown",
      "source": [
        "<a name=\"s9\"></a>\n",
        "\n",
        "#### **Step #9: Alice and Bob Compare the First Bits in Their Key**\n",
        "\n",
        "**Independently**, compare the first few bits in Alice's and Bob's key to ensure the protocol was successful.\n",
        "\n",
        "<br>\n",
        "\n",
        "**Run the code below to accomplish this.**"
      ],
      "metadata": {
        "id": "YKyaPobcTGZK"
      }
    },
    {
      "cell_type": "code",
      "source": [
        "num_bits_to_compare = int(len(final_alice_key) * .5)\n",
        "if final_alice_key[0:num_bits_to_compare] == final_bob_key[0:num_bits_to_compare]:\n",
        "  final_alice_key = final_alice_key[num_bits_to_compare:]\n",
        "  final_bob_key = final_bob_key[num_bits_to_compare:]\n",
        "  final_eve_key = final_eve_key[num_bits_to_compare:]\n",
        "\n",
        "  print('\\n\\nWe can use our keys!')\n",
        "  print('Alice Key: ', final_alice_key)\n",
        "  print('Bob Key: ', final_bob_key)\n",
        "  print('Eve Key: ', final_eve_key)\n",
        "\n",
        "else:\n",
        "  print('\\n\\nEve was listening, we need to use a different channel!')"
      ],
      "metadata": {
        "id": "koqQPrGGr7kA"
      },
      "execution_count": null,
      "outputs": []
    },
    {
      "cell_type": "markdown",
      "source": [
        "#####**Solution**"
      ],
      "metadata": {
        "id": "7jqgSRUsfxzk"
      }
    },
    {
      "cell_type": "code",
      "source": [
        "num_bits_to_compare = int(len(final_alice_key) * .5)\n",
        "if final_alice_key[0:num_bits_to_compare] == final_bob_key[0:num_bits_to_compare]:\n",
        "  final_alice_key = final_alice_key[num_bits_to_compare:]\n",
        "  final_bob_key = final_bob_key[num_bits_to_compare:]\n",
        "  final_eve_key = final_eve_key[num_bits_to_compare:]\n",
        "\n",
        "  print('\\n\\nWe can use our keys!')\n",
        "  print('Alice Key: ', final_alice_key)\n",
        "  print('Bob Key: ', final_bob_key)\n",
        "  print('Eve Key: ', final_eve_key)\n",
        "\n",
        "else:\n",
        "  print('\\n\\nEve was listening, we need to use a different channel!')"
      ],
      "metadata": {
        "colab": {
          "base_uri": "https://localhost:8080/"
        },
        "outputId": "c8e4931d-a1c0-488d-e2c4-5f0e68e7270e",
        "id": "zgs8ULXPTGZb"
      },
      "execution_count": 47,
      "outputs": [
        {
          "output_type": "stream",
          "name": "stdout",
          "text": [
            "\n",
            "\n",
            "Eve was listening, we need to use a different channel!\n"
          ]
        }
      ]
    },
    {
      "cell_type": "markdown",
      "metadata": {
        "id": "7dzC09dLlEhm"
      },
      "source": [
        "# End of Notebook\n",
        "\n",
        "---\n",
        "© 2023 The Coding School, All rights reserved"
      ]
    }
  ]
}