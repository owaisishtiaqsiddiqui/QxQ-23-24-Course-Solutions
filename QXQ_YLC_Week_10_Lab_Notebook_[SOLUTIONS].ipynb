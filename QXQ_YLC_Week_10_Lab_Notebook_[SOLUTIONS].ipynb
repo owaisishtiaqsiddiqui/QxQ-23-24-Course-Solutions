{
  "nbformat": 4,
  "nbformat_minor": 0,
  "metadata": {
    "colab": {
      "provenance": [],
      "collapsed_sections": [
        "RGNVXnRsVJPw",
        "Xu1OQeRKkHUy",
        "aiSc_I7Boja9",
        "oe_LzgWLdCZL"
      ],
      "include_colab_link": true
    },
    "kernelspec": {
      "name": "python3",
      "display_name": "Python 3"
    },
    "language_info": {
      "name": "python"
    }
  },
  "cells": [
    {
      "cell_type": "markdown",
      "metadata": {
        "id": "view-in-github",
        "colab_type": "text"
      },
      "source": [
        "<a href=\"https://colab.research.google.com/github/owaisishtiaqsiddiqui/QxQ-23-24-Course-Solutions/blob/main/QXQ_YLC_Week_10_Lab_Notebook_%5BSOLUTIONS%5D.ipynb\" target=\"_parent\"><img src=\"https://colab.research.google.com/assets/colab-badge.svg\" alt=\"Open In Colab\"/></a>"
      ]
    },
    {
      "cell_type": "markdown",
      "metadata": {
        "id": "EN-xuGnTAFTS"
      },
      "source": [
        "# **Lab 10: Ιmplementing BB84 - Part II**\n",
        "---\n",
        "\n",
        "### **Description**\n",
        "In today's lab, we will explore the role of Eve in BB84.\n",
        "\n",
        "<br>\n",
        "\n",
        "### **Structure**\n",
        "**Part 1**: [Alice and Bob](#p1)\n",
        "\n",
        "**Part 2**: [Alice, Bob, and Eve's Measurement Attack](#p2)\n",
        "\n",
        "**Part 3**: [Alice, Bob, and Eve's Intercept and Resent Attack](#p3)\n",
        "\n",
        "**Part 4**: [Alice, Bob, and Eve's Entanglement Attack](#p4)\n",
        "\n",
        "\n",
        "\n",
        "<br>\n",
        "\n",
        "### **Learning Objectives**\n",
        "By the end of this lab, you will:\n",
        "\n",
        "* Recognize how to implement BB84 in cirq, particularly including a measurement attack by Eve.\n",
        "\n",
        "* Recognize how to adjust Eve’s attack in BB84 in cirq.\n",
        "\n",
        "<br>\n",
        "\n",
        "### **Resources**\n",
        "* [BB84 Cheat Sheet](https://docs.google.com/document/d/1FTBVWQsRVPvuP5e4lo3D62F0NOyfA1qIIPrDnocV6nc/edit)\n",
        "\n",
        "<br>\n",
        "\n",
        "**Before starting, run the code below to import all necessary functions and libraries.**"
      ]
    },
    {
      "cell_type": "code",
      "execution_count": 48,
      "metadata": {
        "id": "K96jXNozAFTW"
      },
      "outputs": [],
      "source": [
        "!pip install cirq --quiet\n",
        "import cirq\n",
        "from random import choices\n",
        "import binascii"
      ]
    },
    {
      "cell_type": "markdown",
      "source": [
        "<a name=\"p1\"></a>\n",
        "\n",
        "---\n",
        "## **Part 1: Alice and Bob**\n",
        "---\n",
        "\n",
        "The entire BB84 protocol between Alice and Bob is implemented below."
      ],
      "metadata": {
        "id": "MiiuFV_ZRkY-"
      }
    },
    {
      "cell_type": "markdown",
      "source": [
        "---\n",
        "### **Part 1.1: Setup**\n",
        "---"
      ],
      "metadata": {
        "id": "w2DDlHS-4wAO"
      }
    },
    {
      "cell_type": "markdown",
      "source": [
        "#### **Problem #1.1.1**\n",
        "\n",
        "**Together**, let's define a dictionary called `encode_gates` that specify which gates to apply based on the bit value. Then, let's define a dictionary called `basis_gates` that specify which gates to apply based on the basis. Finally, let's create a list of `NamedQubit`s that is `num_bits` long and has the prefix `q`."
      ],
      "metadata": {
        "id": "BYgRaiSIhTVN"
      }
    },
    {
      "cell_type": "code",
      "source": [
        "encode_gates = {0: # COMPLETE THIS CODE\n",
        "basis_gates = {'Z': # COMPLETE THIS CODE\n",
        "\n",
        "num_bits = 10\n",
        "qubits = cirq.NamedQubit.range(num_bits, prefix = 'q')"
      ],
      "metadata": {
        "id": "iUwOKTr3gggO"
      },
      "execution_count": null,
      "outputs": []
    },
    {
      "cell_type": "markdown",
      "source": [
        "#####**Solution**"
      ],
      "metadata": {
        "id": "DoaC3_O2ahit"
      }
    },
    {
      "cell_type": "code",
      "source": [
        "encode_gates = {0: cirq.I, 1: cirq.X}\n",
        "basis_gates = {'Z': cirq.I, 'X': cirq.H}\n",
        "\n",
        "num_bits = 10\n",
        "qubits = cirq.NamedQubit.range(num_bits, prefix = 'q')"
      ],
      "metadata": {
        "id": "Z-as_utDINfN"
      },
      "execution_count": 54,
      "outputs": []
    },
    {
      "cell_type": "markdown",
      "source": [
        "---\n",
        "### **Part 1.2: Implementing the Steps**\n",
        "---"
      ],
      "metadata": {
        "id": "gxxdwrtwiWf6"
      }
    },
    {
      "cell_type": "markdown",
      "source": [
        "---\n",
        "#### **Phase #1: Alice Sends**\n",
        "---"
      ],
      "metadata": {
        "id": "SeWOI-h_tssM"
      }
    },
    {
      "cell_type": "markdown",
      "source": [
        "#### **Step #1: Alice Randomly Chooses Bits**\n",
        "\n",
        "**Together**, let's use python's `choices(...)` function to create Alice's key of random bits that is `num_bits` long."
      ],
      "metadata": {
        "id": "RGNVXnRsVJPw"
      }
    },
    {
      "cell_type": "code",
      "source": [
        "alice_key = choices(# COMPLETE THIS CODE\n",
        "\n",
        "print('Alice\\'s initial key: ', alice_key)"
      ],
      "metadata": {
        "id": "NVqLgkxLgtPH"
      },
      "execution_count": null,
      "outputs": []
    },
    {
      "cell_type": "markdown",
      "source": [
        "#####**Solution**"
      ],
      "metadata": {
        "id": "a-XHGIzoaqc-"
      }
    },
    {
      "cell_type": "code",
      "source": [
        "alice_key = choices([0, 1], k = num_bits)\n",
        "\n",
        "print('Alice\\'s initial key: ', alice_key)"
      ],
      "metadata": {
        "colab": {
          "base_uri": "https://localhost:8080/"
        },
        "id": "RZ2xoiPJjPPV",
        "outputId": "544de31b-fb4c-4e3d-b81b-c989ce361df8"
      },
      "execution_count": 55,
      "outputs": [
        {
          "output_type": "stream",
          "name": "stdout",
          "text": [
            "Alice's initial key:  [0, 0, 0, 0, 0, 0, 1, 0, 1, 0]\n"
          ]
        }
      ]
    },
    {
      "cell_type": "markdown",
      "source": [
        "<a name=\"s2\"></a>\n",
        "\n",
        "#### **Step #2: Alice Randomly Chooses Bases**\n",
        "\n",
        "**Together**, let's use python's `choices(...)` function to create Alice's `num_bits` basis choices."
      ],
      "metadata": {
        "id": "Xu1OQeRKkHUy"
      }
    },
    {
      "cell_type": "code",
      "source": [
        "alice_bases = choices(# COMPLETE THIS CODE\n",
        "\n",
        "print('\\nAlice\\'s randomly chosen bases: ', alice_bases)"
      ],
      "metadata": {
        "id": "XBAcPgJYg0Ar"
      },
      "execution_count": null,
      "outputs": []
    },
    {
      "cell_type": "markdown",
      "source": [
        "#####**Solution**"
      ],
      "metadata": {
        "id": "mNLD0WjQar3q"
      }
    },
    {
      "cell_type": "code",
      "source": [
        "alice_bases = choices(['Z', 'X'], k = num_bits)\n",
        "\n",
        "print('\\nAlice\\'s randomly chosen bases: ', alice_bases)"
      ],
      "metadata": {
        "colab": {
          "base_uri": "https://localhost:8080/"
        },
        "id": "_Ndo0pnhofUL",
        "outputId": "22d7f93b-cc2d-415b-8085-f0e362517e68"
      },
      "execution_count": 56,
      "outputs": [
        {
          "output_type": "stream",
          "name": "stdout",
          "text": [
            "\n",
            "Alice's randomly chosen bases:  ['Z', 'X', 'X', 'X', 'Z', 'X', 'Z', 'Z', 'X', 'X']\n"
          ]
        }
      ]
    },
    {
      "cell_type": "markdown",
      "source": [
        "<a name=\"s3\"></a>\n",
        "\n",
        "#### **Step #3: Alice Creates Qubits**\n",
        "\n",
        "**Together**, create Alice's qubits based on her choice of bit and basis. Complete the code below so that the appropriate gates are appended to `alice_circuit` within the loop."
      ],
      "metadata": {
        "id": "aiSc_I7Boja9"
      }
    },
    {
      "cell_type": "code",
      "source": [
        "alice_circuit = cirq.Circuit()\n",
        "\n",
        "for bit in range(# COMPLETE THIS CODE\n",
        "\n",
        "  encode_value = alice_key[bit]\n",
        "  encode_gate = encode_gates[# COMPLETE THIS CODE\n",
        "\n",
        "  basis_value = alice_bases[bit]\n",
        "  basis_gate = basis_gates[# COMPLETE THIS CODE\n",
        "\n",
        "  qubit = qubits[bit]\n",
        "  alice_circuit.append(encode_gate(# COMPLETE THIS CODE\n",
        "  alice_circuit.append(basis_gate(# COMPLETE THIS CODE"
      ],
      "metadata": {
        "id": "r7tJZTVUg6C6"
      },
      "execution_count": null,
      "outputs": []
    },
    {
      "cell_type": "markdown",
      "source": [
        "#####**Solution**"
      ],
      "metadata": {
        "id": "eguCsZjaatWX"
      }
    },
    {
      "cell_type": "code",
      "source": [
        "alice_circuit = cirq.Circuit()\n",
        "\n",
        "for bit in range(num_bits):\n",
        "\n",
        "  encode_value = alice_key[bit]\n",
        "  encode_gate = encode_gates[encode_value]\n",
        "\n",
        "  basis_value = alice_bases[bit]\n",
        "  basis_gate = basis_gates[basis_value]\n",
        "\n",
        "  qubit = qubits[bit]\n",
        "  alice_circuit.append(encode_gate(qubit))\n",
        "  alice_circuit.append(basis_gate(qubit))"
      ],
      "metadata": {
        "id": "l8TL7cz1ouCW"
      },
      "execution_count": 57,
      "outputs": []
    },
    {
      "cell_type": "markdown",
      "source": [
        "<a name=\"s4\"></a>\n",
        "\n",
        "#### **Step #4: Alice Sends the Qubits to Bob**\n",
        "\n",
        "This step doesn't require us to do anything in Python. However, in real life, this would be where Alice sends Bob the qubits through a public quantum channel."
      ],
      "metadata": {
        "id": "hYcLBs2ZpWDM"
      }
    },
    {
      "cell_type": "markdown",
      "source": [
        "---\n",
        "#### **Phase #2: Bob Receives**\n",
        "---"
      ],
      "metadata": {
        "id": "Jro_FaGztxFG"
      }
    },
    {
      "cell_type": "markdown",
      "source": [
        "<a name=\"s5\"></a>\n",
        "\n",
        "#### **Step #5: Bob Randomly Chooses Bases**\n",
        "\n",
        "**Independently**, randomly choose Bob's `num_bits` bases and apply the appropriate gates to the qubits he received, `qubits`. Complete the code below to accomplish this for each qubit."
      ],
      "metadata": {
        "id": "YB9I1uc3xwPw"
      }
    },
    {
      "cell_type": "code",
      "source": [
        "bob_bases = choices(# COMPLETE THIS CODE\n",
        "\n",
        "\n",
        "bob_circuit = cirq.Circuit()\n",
        "\n",
        "for # COMPLETE THIS CODE\n",
        "\n",
        "  basis_value = # COMPLETE THIS CODE\n",
        "  basis_gate = # COMPLETE THIS CODE\n",
        "\n",
        "  qubit = # COMPLETE THIS CODE\n",
        "  bob_circuit.append(# COMPLETE THIS CODE"
      ],
      "metadata": {
        "id": "J6Ysgw5lhwLy"
      },
      "execution_count": null,
      "outputs": []
    },
    {
      "cell_type": "markdown",
      "source": [
        "#####**Solution**"
      ],
      "metadata": {
        "id": "IPI3pbuIax7c"
      }
    },
    {
      "cell_type": "code",
      "source": [
        "bob_bases = choices(['Z', 'X'], k = num_bits)\n",
        "print('Bob\\'s randomly chosen bases: ', bob_bases)\n",
        "\n",
        "bob_circuit = cirq.Circuit()\n",
        "\n",
        "for bit in range(num_bits):\n",
        "\n",
        "  basis_value = bob_bases[bit]\n",
        "  basis_gate = basis_gates[basis_value]\n",
        "\n",
        "  qubit = qubits[bit]\n",
        "  bob_circuit.append(basis_gate(qubit))"
      ],
      "metadata": {
        "colab": {
          "base_uri": "https://localhost:8080/"
        },
        "id": "nDKLiyf_z0eH",
        "outputId": "64e1df81-2302-4ca4-971b-ee91f2b01524"
      },
      "execution_count": 58,
      "outputs": [
        {
          "output_type": "stream",
          "name": "stdout",
          "text": [
            "Bob's randomly chosen bases:  ['Z', 'X', 'Z', 'X', 'X', 'X', 'X', 'Z', 'Z', 'Z']\n"
          ]
        }
      ]
    },
    {
      "cell_type": "markdown",
      "source": [
        "<a name=\"s6\"></a>\n",
        "\n",
        "#### **Step #6: Bob Measures the Qubits**\n",
        "\n",
        "**Independently**, make a measurement of all of the qubits for Bob. Complete the code below to append this action to `bob_circuit`. Ensure the measure method is given the parameter `key = 'bob key'` so that we can easily retrieve this result later."
      ],
      "metadata": {
        "id": "d5VXtTWs0RW2"
      }
    },
    {
      "cell_type": "code",
      "source": [
        "bob_circuit.append(# COMPLETE THIS CODE\n",
        "\n",
        "print(bob_circuit)"
      ],
      "metadata": {
        "id": "UAd0Qvwkh8Lp"
      },
      "execution_count": null,
      "outputs": []
    },
    {
      "cell_type": "markdown",
      "source": [
        "#####**Solution**"
      ],
      "metadata": {
        "id": "k9mAhN_Tazqg"
      }
    },
    {
      "cell_type": "code",
      "source": [
        "bob_circuit.append(cirq.measure(qubits, key = 'bob key'))\n",
        "\n",
        "print(bob_circuit)"
      ],
      "metadata": {
        "colab": {
          "base_uri": "https://localhost:8080/"
        },
        "id": "qkvYOvbf0fqs",
        "outputId": "351b5971-bfa4-431c-d273-b0027309ee9b"
      },
      "execution_count": 59,
      "outputs": [
        {
          "output_type": "stream",
          "name": "stdout",
          "text": [
            "q0: ───I───M('bob key')───\n",
            "           │\n",
            "q1: ───H───M──────────────\n",
            "           │\n",
            "q2: ───I───M──────────────\n",
            "           │\n",
            "q3: ───H───M──────────────\n",
            "           │\n",
            "q4: ───H───M──────────────\n",
            "           │\n",
            "q5: ───H───M──────────────\n",
            "           │\n",
            "q6: ───H───M──────────────\n",
            "           │\n",
            "q7: ───I───M──────────────\n",
            "           │\n",
            "q8: ───I───M──────────────\n",
            "           │\n",
            "q9: ───I───M──────────────\n"
          ]
        }
      ]
    },
    {
      "cell_type": "markdown",
      "source": [
        "<a name=\"s7\"></a>\n",
        "\n",
        "#### **Step #7: Bob Creates a Key**\n",
        "\n",
        "**Independently**, create a key for Bob from the mesurement result of each qubit.\n",
        "\n",
        "<br>\n",
        "\n",
        "**Run the code below to accomplish this step.**"
      ],
      "metadata": {
        "id": "WabxRy4p02i1"
      }
    },
    {
      "cell_type": "code",
      "source": [
        "bb84_circuit = alice_circuit + bob_circuit\n",
        "\n",
        "sim = cirq.Simulator()\n",
        "results = sim.run(bb84_circuit)\n",
        "bob_key = results.measurements['bob key'][0]\n",
        "\n",
        "print('\\nBob\\'s initial key: ', bob_key)"
      ],
      "metadata": {
        "id": "iCSy7NntiGpd"
      },
      "execution_count": null,
      "outputs": []
    },
    {
      "cell_type": "markdown",
      "source": [
        "#####**Solution**"
      ],
      "metadata": {
        "id": "nCl6K-4ca2Sa"
      }
    },
    {
      "cell_type": "code",
      "source": [
        "bb84_circuit = alice_circuit + bob_circuit\n",
        "\n",
        "sim = cirq.Simulator()\n",
        "results = sim.run(bb84_circuit)\n",
        "bob_key = results.measurements['bob key'][0]\n",
        "\n",
        "print('\\nBob\\'s initial key: ', bob_key)"
      ],
      "metadata": {
        "colab": {
          "base_uri": "https://localhost:8080/"
        },
        "id": "8P1BUJLB0yBz",
        "outputId": "a3db89c3-6200-4a56-f7a8-c3dbde1287f4"
      },
      "execution_count": 60,
      "outputs": [
        {
          "output_type": "stream",
          "name": "stdout",
          "text": [
            "\n",
            "Bob's initial key:  [0 0 1 0 0 0 1 0 1 1]\n"
          ]
        }
      ]
    },
    {
      "cell_type": "markdown",
      "source": [
        "---\n",
        "#### **Phase #3: Alice and Bob Compare**\n",
        "---"
      ],
      "metadata": {
        "id": "zRSajhVHIE1E"
      }
    },
    {
      "cell_type": "markdown",
      "source": [
        "<a name=\"s8\"></a>\n",
        "\n",
        "#### **Step #8: Alice and Bob Compare Bases**\n",
        "\n",
        "**Independently**, compare Alice's and Bob's randomly selected bases.\n",
        "\n",
        "**Run the code below to accomplish this step.**"
      ],
      "metadata": {
        "id": "Hs20un7c1S1j"
      }
    },
    {
      "cell_type": "code",
      "source": [
        "final_alice_key = []\n",
        "final_bob_key = []\n",
        "\n",
        "for bit in range(num_bits):\n",
        "\n",
        "  if alice_bases[bit] == bob_bases[bit]:\n",
        "    final_alice_key.append(alice_key[bit])\n",
        "    final_bob_key.append(bob_key[bit])\n",
        "\n",
        "print('\\nAlice\\'s key: ', final_alice_key)\n",
        "print('Bob\\'s key: ', final_bob_key)"
      ],
      "metadata": {
        "id": "iHDoJMMgiOsG"
      },
      "execution_count": null,
      "outputs": []
    },
    {
      "cell_type": "markdown",
      "source": [
        "#####**Solution**"
      ],
      "metadata": {
        "id": "JBkwz5rEa54R"
      }
    },
    {
      "cell_type": "code",
      "source": [
        "final_alice_key = []\n",
        "final_bob_key = []\n",
        "\n",
        "for bit in range(num_bits):\n",
        "\n",
        "  if alice_bases[bit] == bob_bases[bit]:\n",
        "    final_alice_key.append(alice_key[bit])\n",
        "    final_bob_key.append(bob_key[bit])\n",
        "\n",
        "print('\\nAlice\\'s key: ', final_alice_key)\n",
        "print('Bob\\'s key: ', final_bob_key)"
      ],
      "metadata": {
        "colab": {
          "base_uri": "https://localhost:8080/"
        },
        "id": "oZK3F56Q1qOM",
        "outputId": "0dd4e036-4bfc-4a59-9264-c62a2078043c"
      },
      "execution_count": 61,
      "outputs": [
        {
          "output_type": "stream",
          "name": "stdout",
          "text": [
            "\n",
            "Alice's key:  [0, 0, 0, 0, 0]\n",
            "Bob's key:  [0, 0, 0, 0, 0]\n"
          ]
        }
      ]
    },
    {
      "cell_type": "markdown",
      "source": [
        "<a name=\"s9\"></a>\n",
        "\n",
        "#### **Step #9: Alice and Bob Compare the First Bits in Their Key**\n",
        "\n",
        "**Independently**, compare the first few bits in Alice's and Bob's key to ensure the protocol was successful.\n",
        "\n",
        "<br>\n",
        "\n",
        "**Run the code below to accomplish this.**"
      ],
      "metadata": {
        "id": "LacthwPG1xW4"
      }
    },
    {
      "cell_type": "code",
      "source": [
        "num_bits_to_compare = int(len(final_alice_key) * .5)\n",
        "if final_alice_key[0:num_bits_to_compare] == final_bob_key[0:num_bits_to_compare]:\n",
        "  final_alice_key = final_alice_key[num_bits_to_compare:]\n",
        "  final_bob_key = final_bob_key[num_bits_to_compare:]\n",
        "\n",
        "  print('\\n\\nWe can use our keys!')\n",
        "  print('Alice Key: ', final_alice_key)\n",
        "  print('Bob Key: ', final_bob_key)\n",
        "\n",
        "else:\n",
        "  print('\\n\\nEve was listening, we need to use a different channel!')"
      ],
      "metadata": {
        "id": "5mv42rjYidR9"
      },
      "execution_count": null,
      "outputs": []
    },
    {
      "cell_type": "markdown",
      "source": [
        "#####**Solution**"
      ],
      "metadata": {
        "id": "NN9E0h43a8TL"
      }
    },
    {
      "cell_type": "code",
      "source": [
        "num_bits_to_compare = int(len(final_alice_key) * .5)\n",
        "if final_alice_key[0:num_bits_to_compare] == final_bob_key[0:num_bits_to_compare]:\n",
        "  final_alice_key = final_alice_key[num_bits_to_compare:]\n",
        "  final_bob_key = final_bob_key[num_bits_to_compare:]\n",
        "\n",
        "  print('\\n\\nWe can use our keys!')\n",
        "  print('Alice Key: ', final_alice_key)\n",
        "  print('Bob Key: ', final_bob_key)\n",
        "\n",
        "else:\n",
        "  print('\\n\\nEve was listening, we need to use a different channel!')"
      ],
      "metadata": {
        "colab": {
          "base_uri": "https://localhost:8080/"
        },
        "id": "7xlF0yt02JZ1",
        "outputId": "aad43b3b-2237-41a5-de39-290ce68ef707"
      },
      "execution_count": 62,
      "outputs": [
        {
          "output_type": "stream",
          "name": "stdout",
          "text": [
            "\n",
            "\n",
            "We can use our keys!\n",
            "Alice Key:  [0, 0, 0]\n",
            "Bob Key:  [0, 0, 0]\n"
          ]
        }
      ]
    },
    {
      "cell_type": "markdown",
      "source": [
        "<a name=\"p2\"></a>\n",
        "\n",
        "---\n",
        "## **Part 2: Alice, Bob, and Eve's Measurement Attack**\n",
        "---\n",
        "\n",
        "Now, we will modify this code to introduce Eve, who will be performing a measurement attack."
      ],
      "metadata": {
        "id": "E7017BduYQfO"
      }
    },
    {
      "cell_type": "markdown",
      "source": [
        "### **Part 2.1: The Setup**"
      ],
      "metadata": {
        "id": "2KB68kh8YQfa"
      }
    },
    {
      "cell_type": "markdown",
      "source": [
        "#### **Problem #2.1.1**\n",
        "\n",
        "**Together**, let's define a dictionary called `encode_gates` that specify which gates to apply based on the bit value. Then, let's define a dictionary called `basis_gates` that specify which gates to apply based on the basis. Finally, let's create a list of `NamedQubit`s that is `num_bits` long and has the prefix `q`."
      ],
      "metadata": {
        "id": "6ai3eH036F4k"
      }
    },
    {
      "cell_type": "code",
      "source": [
        "encode_gates = {0: # COMPLETE THIS CODE\n",
        "basis_gates = {'Z': # COMPLETE THIS CODE\n",
        "\n",
        "num_bits = 10\n",
        "qubits = cirq.NamedQubit.range(num_bits, prefix = 'q')"
      ],
      "metadata": {
        "id": "ICEM9gnJij3x"
      },
      "execution_count": null,
      "outputs": []
    },
    {
      "cell_type": "markdown",
      "source": [
        "#####**Solution**"
      ],
      "metadata": {
        "id": "7hE4Pz04bN6A"
      }
    },
    {
      "cell_type": "code",
      "source": [
        "encode_gates = {0: cirq.I, 1: cirq.X}\n",
        "basis_gates = {'Z': cirq.I, 'X': cirq.H}\n",
        "\n",
        "num_bits = 100\n",
        "qubits = cirq.NamedQubit.range(num_bits, prefix = 'q')"
      ],
      "metadata": {
        "id": "cwo7AEsvYQfa"
      },
      "execution_count": 63,
      "outputs": []
    },
    {
      "cell_type": "markdown",
      "source": [
        "### **Part 2.2: Implementing the Steps**"
      ],
      "metadata": {
        "id": "K38JnXPlf8Ah"
      }
    },
    {
      "cell_type": "markdown",
      "source": [
        "---\n",
        "#### **Phase #1: Alice Sends**\n",
        "---"
      ],
      "metadata": {
        "id": "M2_j35ISYQfb"
      }
    },
    {
      "cell_type": "markdown",
      "source": [
        "<a name=\"s1\"></a>\n",
        "\n",
        "#### **Step #1: Alice Randomly Chooses Bits**\n",
        "\n",
        "**Together**, let's use python's `choices(...)` function to create Alice's key of random bits that is `num_bits` long."
      ],
      "metadata": {
        "id": "1bpPkqDB60ii"
      }
    },
    {
      "cell_type": "code",
      "source": [
        "alice_key = choices(# COMPLETE THIS CODE\n",
        "\n",
        "print('Alice\\'s initial key: ', alice_key)"
      ],
      "metadata": {
        "id": "MIncmYvmiu65"
      },
      "execution_count": null,
      "outputs": []
    },
    {
      "cell_type": "markdown",
      "source": [
        "#####**Solution**"
      ],
      "metadata": {
        "id": "pieR0Em_bPoq"
      }
    },
    {
      "cell_type": "code",
      "source": [
        "alice_key = choices([0, 1], k = num_bits)\n",
        "\n",
        "print('Alice\\'s initial key: ', alice_key)"
      ],
      "metadata": {
        "colab": {
          "base_uri": "https://localhost:8080/"
        },
        "outputId": "e6ab0e4d-3dd7-4904-9f86-723aaa6a8f9f",
        "id": "JD_zbwyn60ir"
      },
      "execution_count": 64,
      "outputs": [
        {
          "output_type": "stream",
          "name": "stdout",
          "text": [
            "Alice's initial key:  [1, 0, 1, 1, 1, 1, 0, 1, 0, 0, 0, 1, 1, 1, 0, 1, 0, 1, 1, 1, 1, 0, 0, 0, 1, 1, 0, 1, 1, 1, 1, 0, 1, 0, 0, 0, 1, 1, 1, 1, 0, 0, 1, 1, 0, 1, 0, 0, 0, 0, 1, 0, 1, 1, 1, 0, 1, 1, 0, 0, 1, 0, 1, 1, 1, 1, 0, 0, 0, 1, 0, 1, 1, 1, 0, 1, 1, 0, 0, 0, 1, 0, 1, 0, 1, 1, 1, 0, 1, 0, 1, 1, 1, 1, 1, 0, 0, 0, 1, 1]\n"
          ]
        }
      ]
    },
    {
      "cell_type": "markdown",
      "source": [
        "<a name=\"s2\"></a>\n",
        "\n",
        "#### **Step #2: Alice Randomly Chooses Bases**\n",
        "\n",
        "**Together**, let's use python's `choices(...)` function to create Alice's `num_bits` basis choices."
      ],
      "metadata": {
        "id": "WpH1xVfE60is"
      }
    },
    {
      "cell_type": "code",
      "source": [
        "alice_bases = choices(# COMPLETE THIS CODE\n",
        "\n",
        "print('\\nAlice\\'s randomly chosen bases: ', alice_bases)"
      ],
      "metadata": {
        "id": "6S4ooUlri2FQ"
      },
      "execution_count": null,
      "outputs": []
    },
    {
      "cell_type": "markdown",
      "source": [
        "#####**Solution**"
      ],
      "metadata": {
        "id": "3o-GC8mwbQ0z"
      }
    },
    {
      "cell_type": "code",
      "source": [
        "alice_bases = choices(['Z', 'X'], k = num_bits)\n",
        "\n",
        "print('\\nAlice\\'s randomly chosen bases: ', alice_bases)"
      ],
      "metadata": {
        "colab": {
          "base_uri": "https://localhost:8080/"
        },
        "outputId": "1d7f5c40-e201-49a4-93c3-d63c67053856",
        "id": "K9NeKw6960is"
      },
      "execution_count": 65,
      "outputs": [
        {
          "output_type": "stream",
          "name": "stdout",
          "text": [
            "\n",
            "Alice's randomly chosen bases:  ['Z', 'Z', 'Z', 'Z', 'Z', 'Z', 'X', 'Z', 'Z', 'Z', 'X', 'Z', 'X', 'Z', 'Z', 'X', 'X', 'X', 'Z', 'X', 'Z', 'Z', 'X', 'Z', 'X', 'Z', 'X', 'X', 'Z', 'X', 'X', 'X', 'X', 'X', 'X', 'Z', 'X', 'Z', 'Z', 'X', 'Z', 'X', 'Z', 'X', 'X', 'Z', 'X', 'X', 'X', 'X', 'X', 'Z', 'X', 'X', 'X', 'X', 'Z', 'X', 'X', 'Z', 'X', 'X', 'Z', 'X', 'X', 'Z', 'X', 'X', 'Z', 'X', 'X', 'X', 'Z', 'X', 'X', 'X', 'Z', 'Z', 'X', 'X', 'Z', 'X', 'X', 'X', 'X', 'Z', 'X', 'Z', 'X', 'X', 'X', 'Z', 'X', 'Z', 'Z', 'Z', 'Z', 'Z', 'Z', 'X']\n"
          ]
        }
      ]
    },
    {
      "cell_type": "markdown",
      "source": [
        "<a name=\"s3\"></a>\n",
        "\n",
        "#### **Step #3: Alice Creates Qubits**\n",
        "\n",
        "**Independently**, create Alice's qubits based on her choice of bit and basis. Complete the code below so that the appropriate gates are appended to `alice_circuit` within the loop."
      ],
      "metadata": {
        "id": "PZdGJ45u60is"
      }
    },
    {
      "cell_type": "code",
      "source": [
        "alice_circuit = cirq.Circuit()\n",
        "\n",
        "for # COMPLETE THIS CODE\n",
        "\n",
        "  encode_value = alice_key[# COMPLETE THIS CODE\n",
        "  encode_gate = encode_gates[# COMPLETE THIS CODE\n",
        "\n",
        "  basis_value = alice_bases[# COMPLETE THIS CODE\n",
        "  basis_gate = basis_gates[# COMPLETE THIS CODE\n",
        "\n",
        "  qubit = qubits[bit]\n",
        "  alice_circuit.append(encode_gate(qubit))\n",
        "  alice_circuit.append(basis_gate(qubit))"
      ],
      "metadata": {
        "id": "O3KxJLVNkq_C"
      },
      "execution_count": null,
      "outputs": []
    },
    {
      "cell_type": "markdown",
      "source": [
        "#####**Solution**"
      ],
      "metadata": {
        "id": "epqeY0wzbSrc"
      }
    },
    {
      "cell_type": "code",
      "source": [
        "alice_circuit = cirq.Circuit()\n",
        "\n",
        "for bit in range(num_bits):\n",
        "\n",
        "  encode_value = alice_key[bit]\n",
        "  encode_gate = encode_gates[encode_value]\n",
        "\n",
        "  basis_value = alice_bases[bit]\n",
        "  basis_gate = basis_gates[basis_value]\n",
        "\n",
        "  qubit = qubits[bit]\n",
        "  alice_circuit.append(encode_gate(qubit))\n",
        "  alice_circuit.append(basis_gate(qubit))"
      ],
      "metadata": {
        "id": "xz28pAaq60is"
      },
      "execution_count": 66,
      "outputs": []
    },
    {
      "cell_type": "markdown",
      "source": [
        "<a name=\"s4\"></a>\n",
        "\n",
        "#### **Step #4: Alice Sends the Qubits to Bob**\n",
        "\n",
        "This step doesn't require us to do anything in Python. However, in real life, this would be where Alice sends Bob the qubits through a public quantum channel."
      ],
      "metadata": {
        "id": "OQva_98460it"
      }
    },
    {
      "cell_type": "markdown",
      "source": [
        "---\n",
        "#### **Phase #2: Eve Receives**\n",
        "---"
      ],
      "metadata": {
        "id": "9pUoOgTsYXik"
      }
    },
    {
      "cell_type": "markdown",
      "source": [
        "<a name=\"s4\"></a>\n",
        "\n",
        "#### **Step #5: Eve Randomly Chooses Bases**\n",
        "\n",
        "For this attack, Eve does not try to guess bases, so no code is required."
      ],
      "metadata": {
        "id": "HnDmRCcn7JHV"
      }
    },
    {
      "cell_type": "markdown",
      "source": [
        "#### **Step #6: Eve Measures the Qubits**\n",
        "**Independently**, make a measurement of all of the qubits for Eve. Complete the code below to append this action to `eve_circuit`. Ensure the measure method is given the parameter `key = 'eve key'` so that we can easily retrieve this result later."
      ],
      "metadata": {
        "id": "wVPf8vH27fCu"
      }
    },
    {
      "cell_type": "code",
      "source": [
        "eve_circuit = cirq.Circuit()\n",
        "eve_circuit.append(# COMPLETE THIS CODE"
      ],
      "metadata": {
        "id": "vOUWQiHmlEmo"
      },
      "execution_count": null,
      "outputs": []
    },
    {
      "cell_type": "markdown",
      "source": [
        "#####**Solution**"
      ],
      "metadata": {
        "id": "TUj9It9-bYmz"
      }
    },
    {
      "cell_type": "code",
      "source": [
        "eve_circuit = cirq.Circuit()\n",
        "eve_circuit.append(cirq.measure(qubits, key = 'eve key'))"
      ],
      "metadata": {
        "id": "ybQpjHlE7D3O"
      },
      "execution_count": 67,
      "outputs": []
    },
    {
      "cell_type": "markdown",
      "source": [
        "#### **Step #7: Eve Creates a Key**\n",
        "\n",
        "**Independently**, create a key for Eve from the mesurement result of each qubit.\n",
        "\n",
        "<br>\n",
        "\n",
        "**Run the code below to accomplish this step.**"
      ],
      "metadata": {
        "id": "4lz0icX38BPV"
      }
    },
    {
      "cell_type": "code",
      "source": [
        "eve_intercept_circuit = alice_circuit + eve_circuit\n",
        "\n",
        "sim = cirq.Simulator()\n",
        "results = sim.run(eve_intercept_circuit)\n",
        "eve_key = results.measurements['eve key'][0]\n",
        "\n",
        "print('\\nEve\\'s initial key: ', eve_key)"
      ],
      "metadata": {
        "id": "FAbNTbDKlNoV"
      },
      "execution_count": null,
      "outputs": []
    },
    {
      "cell_type": "markdown",
      "source": [
        "#####**Solution**"
      ],
      "metadata": {
        "id": "8CyAvfCsbagf"
      }
    },
    {
      "cell_type": "code",
      "source": [
        "eve_intercept_circuit = alice_circuit + eve_circuit\n",
        "\n",
        "sim = cirq.Simulator()\n",
        "results = sim.run(eve_intercept_circuit)\n",
        "eve_key = results.measurements['eve key'][0]\n",
        "\n",
        "print('\\nEve\\'s initial key: ', eve_key)"
      ],
      "metadata": {
        "colab": {
          "base_uri": "https://localhost:8080/"
        },
        "id": "cFj8xFut8F1n",
        "outputId": "fbb8b7be-6474-4870-84de-d0cd4ec63445"
      },
      "execution_count": 68,
      "outputs": [
        {
          "output_type": "stream",
          "name": "stdout",
          "text": [
            "\n",
            "Eve's initial key:  [1 0 1 1 1 1 0 1 0 0 0 1 1 1 0 0 1 0 1 0 1 0 1 0 1 1 0 0 1 1 1 0 0 1 1 0 0\n",
            " 1 1 1 0 1 1 1 0 1 0 1 0 1 0 0 1 1 1 1 1 1 1 0 1 0 1 0 1 1 0 0 0 1 1 1 1 1\n",
            " 0 0 1 0 1 1 1 1 1 1 0 1 1 0 0 1 0 1 0 1 1 0 0 0 1 1]\n"
          ]
        }
      ]
    },
    {
      "cell_type": "markdown",
      "source": [
        "#### **Eve Repeats Step #3 to Fool Bob**\n",
        "\n",
        "**Run the code below to accomplish this step.**"
      ],
      "metadata": {
        "id": "eng5dYXx9uoM"
      }
    },
    {
      "cell_type": "code",
      "source": [
        "alice_circuit = cirq.Circuit()\n",
        "\n",
        "for bit in range(num_bits):\n",
        "\n",
        "  encode_value = eve_key[bit]\n",
        "  encode_gate = encode_gates[encode_value]\n",
        "\n",
        "  qubit = qubits[bit]\n",
        "  alice_circuit.append(encode_gate(qubit))\n",
        "\n",
        "print('\\nAlice\\'s Phase 1 circuit after Eve\\'s interception:\\n', alice_circuit)"
      ],
      "metadata": {
        "id": "XKjpZbs0lSX_"
      },
      "execution_count": null,
      "outputs": []
    },
    {
      "cell_type": "markdown",
      "source": [
        "#####**Solution**"
      ],
      "metadata": {
        "id": "BqE_g43lbcwk"
      }
    },
    {
      "cell_type": "code",
      "source": [
        "alice_circuit = cirq.Circuit()\n",
        "\n",
        "for bit in range(num_bits):\n",
        "\n",
        "  encode_value = eve_key[bit]\n",
        "  encode_gate = encode_gates[encode_value]\n",
        "\n",
        "  qubit = qubits[bit]\n",
        "  alice_circuit.append(encode_gate(qubit))\n",
        "\n",
        "print('\\nAlice\\'s Phase 1 circuit after Eve\\'s interception:\\n', alice_circuit)"
      ],
      "metadata": {
        "colab": {
          "base_uri": "https://localhost:8080/"
        },
        "id": "Z3BuWbDB-E2r",
        "outputId": "05fa46b1-02cd-4708-a2de-ab247bd240f7"
      },
      "execution_count": 69,
      "outputs": [
        {
          "output_type": "stream",
          "name": "stdout",
          "text": [
            "\n",
            "Alice's Phase 1 circuit after Eve's interception:\n",
            " q0: ────X───\n",
            "\n",
            "q1: ────I───\n",
            "\n",
            "q2: ────X───\n",
            "\n",
            "q3: ────X───\n",
            "\n",
            "q4: ────X───\n",
            "\n",
            "q5: ────X───\n",
            "\n",
            "q6: ────I───\n",
            "\n",
            "q7: ────X───\n",
            "\n",
            "q8: ────I───\n",
            "\n",
            "q9: ────I───\n",
            "\n",
            "q10: ───I───\n",
            "\n",
            "q11: ───X───\n",
            "\n",
            "q12: ───X───\n",
            "\n",
            "q13: ───X───\n",
            "\n",
            "q14: ───I───\n",
            "\n",
            "q15: ───I───\n",
            "\n",
            "q16: ───X───\n",
            "\n",
            "q17: ───I───\n",
            "\n",
            "q18: ───X───\n",
            "\n",
            "q19: ───I───\n",
            "\n",
            "q20: ───X───\n",
            "\n",
            "q21: ───I───\n",
            "\n",
            "q22: ───X───\n",
            "\n",
            "q23: ───I───\n",
            "\n",
            "q24: ───X───\n",
            "\n",
            "q25: ───X───\n",
            "\n",
            "q26: ───I───\n",
            "\n",
            "q27: ───I───\n",
            "\n",
            "q28: ───X───\n",
            "\n",
            "q29: ───X───\n",
            "\n",
            "q30: ───X───\n",
            "\n",
            "q31: ───I───\n",
            "\n",
            "q32: ───I───\n",
            "\n",
            "q33: ───X───\n",
            "\n",
            "q34: ───X───\n",
            "\n",
            "q35: ───I───\n",
            "\n",
            "q36: ───I───\n",
            "\n",
            "q37: ───X───\n",
            "\n",
            "q38: ───X───\n",
            "\n",
            "q39: ───X───\n",
            "\n",
            "q40: ───I───\n",
            "\n",
            "q41: ───X───\n",
            "\n",
            "q42: ───X───\n",
            "\n",
            "q43: ───X───\n",
            "\n",
            "q44: ───I───\n",
            "\n",
            "q45: ───X───\n",
            "\n",
            "q46: ───I───\n",
            "\n",
            "q47: ───X───\n",
            "\n",
            "q48: ───I───\n",
            "\n",
            "q49: ───X───\n",
            "\n",
            "q50: ───I───\n",
            "\n",
            "q51: ───I───\n",
            "\n",
            "q52: ───X───\n",
            "\n",
            "q53: ───X───\n",
            "\n",
            "q54: ───X───\n",
            "\n",
            "q55: ───X───\n",
            "\n",
            "q56: ───X───\n",
            "\n",
            "q57: ───X───\n",
            "\n",
            "q58: ───X───\n",
            "\n",
            "q59: ───I───\n",
            "\n",
            "q60: ───X───\n",
            "\n",
            "q61: ───I───\n",
            "\n",
            "q62: ───X───\n",
            "\n",
            "q63: ───I───\n",
            "\n",
            "q64: ───X───\n",
            "\n",
            "q65: ───X───\n",
            "\n",
            "q66: ───I───\n",
            "\n",
            "q67: ───I───\n",
            "\n",
            "q68: ───I───\n",
            "\n",
            "q69: ───X───\n",
            "\n",
            "q70: ───X───\n",
            "\n",
            "q71: ───X───\n",
            "\n",
            "q72: ───X───\n",
            "\n",
            "q73: ───X───\n",
            "\n",
            "q74: ───I───\n",
            "\n",
            "q75: ───I───\n",
            "\n",
            "q76: ───X───\n",
            "\n",
            "q77: ───I───\n",
            "\n",
            "q78: ───X───\n",
            "\n",
            "q79: ───X───\n",
            "\n",
            "q80: ───X───\n",
            "\n",
            "q81: ───X───\n",
            "\n",
            "q82: ───X───\n",
            "\n",
            "q83: ───X───\n",
            "\n",
            "q84: ───I───\n",
            "\n",
            "q85: ───X───\n",
            "\n",
            "q86: ───X───\n",
            "\n",
            "q87: ───I───\n",
            "\n",
            "q88: ───I───\n",
            "\n",
            "q89: ───X───\n",
            "\n",
            "q90: ───I───\n",
            "\n",
            "q91: ───X───\n",
            "\n",
            "q92: ───I───\n",
            "\n",
            "q93: ───X───\n",
            "\n",
            "q94: ───X───\n",
            "\n",
            "q95: ───I───\n",
            "\n",
            "q96: ───I───\n",
            "\n",
            "q97: ───I───\n",
            "\n",
            "q98: ───X───\n",
            "\n",
            "q99: ───X───\n"
          ]
        }
      ]
    },
    {
      "cell_type": "markdown",
      "source": [
        "---\n",
        "#### **Phase #2: Bob Receives**\n",
        "---"
      ],
      "metadata": {
        "id": "l9ZOX9ZbYQfc"
      }
    },
    {
      "cell_type": "markdown",
      "source": [
        "<a name=\"s5\"></a>\n",
        "\n",
        "#### **Step #5: Bob Randomly Chooses Bases**\n",
        "\n",
        "**Independently**, randomly choose Bob's `num_bits` bases and apply the appropriate gates to the qubits he received, `qubits`. Complete the code below to accomplish this for each qubit."
      ],
      "metadata": {
        "id": "c-1f7crm-YYC"
      }
    },
    {
      "cell_type": "code",
      "source": [
        "bob_bases = choices(# COMPLETE THIS CODE\n",
        "\n",
        "\n",
        "bob_circuit = cirq.Circuit()\n",
        "\n",
        "for # COMPLETE THIS CODE\n",
        "\n",
        "  basis_value = # COMPLETE THIS CODE\n",
        "  basis_gate = # COMPLETE THIS CODE\n",
        "\n",
        "  qubit = # COMPLETE THIS CODE\n",
        "  bob_circuit.append(# COMPLETE THIS CODE"
      ],
      "metadata": {
        "id": "CBYbE_WBlZH3"
      },
      "execution_count": null,
      "outputs": []
    },
    {
      "cell_type": "markdown",
      "source": [
        "#####**Solution**"
      ],
      "metadata": {
        "id": "wKXuds3_be-H"
      }
    },
    {
      "cell_type": "code",
      "source": [
        "bob_bases = choices(['Z', 'X'], k = num_bits)\n",
        "print('Bob\\'s randomly chosen bases: ', bob_bases)\n",
        "\n",
        "bob_circuit = cirq.Circuit()\n",
        "\n",
        "for bit in range(num_bits):\n",
        "\n",
        "  basis_value = bob_bases[bit]\n",
        "  basis_gate = basis_gates[basis_value]\n",
        "\n",
        "  qubit = qubits[bit]\n",
        "  bob_circuit.append(basis_gate(qubit))"
      ],
      "metadata": {
        "colab": {
          "base_uri": "https://localhost:8080/"
        },
        "outputId": "1edbcf76-88ff-472a-dacb-c4cd3b13f6c9",
        "id": "T129AM2h-YYC"
      },
      "execution_count": 70,
      "outputs": [
        {
          "output_type": "stream",
          "name": "stdout",
          "text": [
            "Bob's randomly chosen bases:  ['X', 'Z', 'Z', 'X', 'X', 'Z', 'X', 'X', 'X', 'X', 'X', 'X', 'Z', 'Z', 'Z', 'X', 'X', 'Z', 'Z', 'Z', 'X', 'X', 'Z', 'X', 'Z', 'Z', 'X', 'X', 'X', 'X', 'Z', 'X', 'Z', 'Z', 'Z', 'X', 'X', 'X', 'X', 'X', 'X', 'X', 'X', 'X', 'Z', 'X', 'Z', 'X', 'X', 'X', 'X', 'Z', 'Z', 'X', 'Z', 'X', 'X', 'X', 'X', 'X', 'X', 'Z', 'Z', 'X', 'X', 'X', 'X', 'X', 'Z', 'Z', 'Z', 'X', 'Z', 'X', 'Z', 'X', 'X', 'Z', 'Z', 'X', 'X', 'Z', 'X', 'X', 'X', 'Z', 'X', 'X', 'Z', 'X', 'X', 'X', 'Z', 'X', 'Z', 'Z', 'X', 'Z', 'Z', 'X']\n"
          ]
        }
      ]
    },
    {
      "cell_type": "markdown",
      "source": [
        "<a name=\"s6\"></a>\n",
        "\n",
        "#### **Step #6: Bob Measures the Qubits**\n",
        "\n",
        "**Independently**, make a measurement of all of the qubits for Bob. Complete the code below to append this action to `bob_circuit`. Ensure the measure method is given the parameter `key = 'bob key'` so that we can easily retrieve this result later."
      ],
      "metadata": {
        "id": "_EdHG8n6-YYD"
      }
    },
    {
      "cell_type": "code",
      "source": [
        "bob_circuit.append(# COMPLETE THIS CODE\n",
        "\n",
        "print(bob_circuit)"
      ],
      "metadata": {
        "id": "3PNIw6oIliqF"
      },
      "execution_count": null,
      "outputs": []
    },
    {
      "cell_type": "markdown",
      "source": [
        "#####**Solution**"
      ],
      "metadata": {
        "id": "dbkpslqKbgrP"
      }
    },
    {
      "cell_type": "code",
      "source": [
        "bob_circuit.append(cirq.measure(qubits, key = 'bob key'))\n",
        "\n",
        "print(bob_circuit)"
      ],
      "metadata": {
        "colab": {
          "base_uri": "https://localhost:8080/"
        },
        "outputId": "4f1177f5-92b8-4cf9-9950-f7e733e03e5e",
        "id": "FNH1-zi_-YYD"
      },
      "execution_count": 71,
      "outputs": [
        {
          "output_type": "stream",
          "name": "stdout",
          "text": [
            "q0: ────H───M('bob key')───\n",
            "            │\n",
            "q1: ────I───M──────────────\n",
            "            │\n",
            "q2: ────I───M──────────────\n",
            "            │\n",
            "q3: ────H───M──────────────\n",
            "            │\n",
            "q4: ────H───M──────────────\n",
            "            │\n",
            "q5: ────I───M──────────────\n",
            "            │\n",
            "q6: ────H───M──────────────\n",
            "            │\n",
            "q7: ────H───M──────────────\n",
            "            │\n",
            "q8: ────H───M──────────────\n",
            "            │\n",
            "q9: ────H───M──────────────\n",
            "            │\n",
            "q10: ───H───M──────────────\n",
            "            │\n",
            "q11: ───H───M──────────────\n",
            "            │\n",
            "q12: ───I───M──────────────\n",
            "            │\n",
            "q13: ───I───M──────────────\n",
            "            │\n",
            "q14: ───I───M──────────────\n",
            "            │\n",
            "q15: ───H───M──────────────\n",
            "            │\n",
            "q16: ───H───M──────────────\n",
            "            │\n",
            "q17: ───I───M──────────────\n",
            "            │\n",
            "q18: ───I───M──────────────\n",
            "            │\n",
            "q19: ───I───M──────────────\n",
            "            │\n",
            "q20: ───H───M──────────────\n",
            "            │\n",
            "q21: ───H───M──────────────\n",
            "            │\n",
            "q22: ───I───M──────────────\n",
            "            │\n",
            "q23: ───H───M──────────────\n",
            "            │\n",
            "q24: ───I───M──────────────\n",
            "            │\n",
            "q25: ───I───M──────────────\n",
            "            │\n",
            "q26: ───H───M──────────────\n",
            "            │\n",
            "q27: ───H───M──────────────\n",
            "            │\n",
            "q28: ───H───M──────────────\n",
            "            │\n",
            "q29: ───H───M──────────────\n",
            "            │\n",
            "q30: ───I───M──────────────\n",
            "            │\n",
            "q31: ───H───M──────────────\n",
            "            │\n",
            "q32: ───I───M──────────────\n",
            "            │\n",
            "q33: ───I───M──────────────\n",
            "            │\n",
            "q34: ───I───M──────────────\n",
            "            │\n",
            "q35: ───H───M──────────────\n",
            "            │\n",
            "q36: ───H───M──────────────\n",
            "            │\n",
            "q37: ───H───M──────────────\n",
            "            │\n",
            "q38: ───H───M──────────────\n",
            "            │\n",
            "q39: ───H───M──────────────\n",
            "            │\n",
            "q40: ───H───M──────────────\n",
            "            │\n",
            "q41: ───H───M──────────────\n",
            "            │\n",
            "q42: ───H───M──────────────\n",
            "            │\n",
            "q43: ───H───M──────────────\n",
            "            │\n",
            "q44: ───I───M──────────────\n",
            "            │\n",
            "q45: ───H───M──────────────\n",
            "            │\n",
            "q46: ───I───M──────────────\n",
            "            │\n",
            "q47: ───H───M──────────────\n",
            "            │\n",
            "q48: ───H───M──────────────\n",
            "            │\n",
            "q49: ───H───M──────────────\n",
            "            │\n",
            "q50: ───H───M──────────────\n",
            "            │\n",
            "q51: ───I───M──────────────\n",
            "            │\n",
            "q52: ───I───M──────────────\n",
            "            │\n",
            "q53: ───H───M──────────────\n",
            "            │\n",
            "q54: ───I───M──────────────\n",
            "            │\n",
            "q55: ───H───M──────────────\n",
            "            │\n",
            "q56: ───H───M──────────────\n",
            "            │\n",
            "q57: ───H───M──────────────\n",
            "            │\n",
            "q58: ───H───M──────────────\n",
            "            │\n",
            "q59: ───H───M──────────────\n",
            "            │\n",
            "q60: ───H───M──────────────\n",
            "            │\n",
            "q61: ───I───M──────────────\n",
            "            │\n",
            "q62: ───I───M──────────────\n",
            "            │\n",
            "q63: ───H───M──────────────\n",
            "            │\n",
            "q64: ───H───M──────────────\n",
            "            │\n",
            "q65: ───H───M──────────────\n",
            "            │\n",
            "q66: ───H───M──────────────\n",
            "            │\n",
            "q67: ───H───M──────────────\n",
            "            │\n",
            "q68: ───I───M──────────────\n",
            "            │\n",
            "q69: ───I───M──────────────\n",
            "            │\n",
            "q70: ───I───M──────────────\n",
            "            │\n",
            "q71: ───H───M──────────────\n",
            "            │\n",
            "q72: ───I───M──────────────\n",
            "            │\n",
            "q73: ───H───M──────────────\n",
            "            │\n",
            "q74: ───I───M──────────────\n",
            "            │\n",
            "q75: ───H───M──────────────\n",
            "            │\n",
            "q76: ───H───M──────────────\n",
            "            │\n",
            "q77: ───I───M──────────────\n",
            "            │\n",
            "q78: ───I───M──────────────\n",
            "            │\n",
            "q79: ───H───M──────────────\n",
            "            │\n",
            "q80: ───H───M──────────────\n",
            "            │\n",
            "q81: ───I───M──────────────\n",
            "            │\n",
            "q82: ───H───M──────────────\n",
            "            │\n",
            "q83: ───H───M──────────────\n",
            "            │\n",
            "q84: ───H───M──────────────\n",
            "            │\n",
            "q85: ───I───M──────────────\n",
            "            │\n",
            "q86: ───H───M──────────────\n",
            "            │\n",
            "q87: ───H───M──────────────\n",
            "            │\n",
            "q88: ───I───M──────────────\n",
            "            │\n",
            "q89: ───H───M──────────────\n",
            "            │\n",
            "q90: ───H───M──────────────\n",
            "            │\n",
            "q91: ───H───M──────────────\n",
            "            │\n",
            "q92: ───I───M──────────────\n",
            "            │\n",
            "q93: ───H───M──────────────\n",
            "            │\n",
            "q94: ───I───M──────────────\n",
            "            │\n",
            "q95: ───I───M──────────────\n",
            "            │\n",
            "q96: ───H───M──────────────\n",
            "            │\n",
            "q97: ───I───M──────────────\n",
            "            │\n",
            "q98: ───I───M──────────────\n",
            "            │\n",
            "q99: ───H───M──────────────\n"
          ]
        }
      ]
    },
    {
      "cell_type": "markdown",
      "source": [
        "<a name=\"s7\"></a>\n",
        "\n",
        "#### **Step #7: Bob Creates a Key**\n",
        "\n",
        "**Independently**, create a key for Bob from the mesurement result of each qubit.\n",
        "\n",
        "<br>\n",
        "\n",
        "**Run the code below to accomplish this step.**"
      ],
      "metadata": {
        "id": "nGi3UyWp-YYD"
      }
    },
    {
      "cell_type": "code",
      "source": [
        "bb84_circuit = alice_circuit + bob_circuit\n",
        "\n",
        "sim = cirq.Simulator()\n",
        "results = sim.run(bb84_circuit)\n",
        "bob_key = results.measurements['bob key'][0]\n",
        "\n",
        "print('\\nBob\\'s initial key: ', bob_key)"
      ],
      "metadata": {
        "id": "UQspoDlVl1AC"
      },
      "execution_count": null,
      "outputs": []
    },
    {
      "cell_type": "markdown",
      "source": [
        "#####**Solution**"
      ],
      "metadata": {
        "id": "dSiitXowbigq"
      }
    },
    {
      "cell_type": "code",
      "source": [
        "bb84_circuit = alice_circuit + bob_circuit\n",
        "\n",
        "sim = cirq.Simulator()\n",
        "results = sim.run(bb84_circuit)\n",
        "bob_key = results.measurements['bob key'][0]\n",
        "\n",
        "print('\\nBob\\'s initial key: ', bob_key)"
      ],
      "metadata": {
        "colab": {
          "base_uri": "https://localhost:8080/"
        },
        "outputId": "e7b2a432-089c-411d-cb0a-23a372e4a204",
        "id": "PE9-L20m-YYE"
      },
      "execution_count": 72,
      "outputs": [
        {
          "output_type": "stream",
          "name": "stdout",
          "text": [
            "\n",
            "Bob's initial key:  [0 0 1 1 0 1 0 1 0 1 0 0 1 1 0 1 1 0 1 0 0 0 1 0 1 1 1 0 0 1 1 0 0 1 1 1 0\n",
            " 0 1 0 0 1 1 0 0 0 0 1 0 1 0 0 1 0 1 1 0 1 1 1 0 0 1 1 0 0 0 1 0 1 1 1 1 1\n",
            " 0 0 0 0 1 0 1 1 1 1 0 1 0 0 0 1 1 0 0 1 1 0 0 0 1 0]\n"
          ]
        }
      ]
    },
    {
      "cell_type": "markdown",
      "source": [
        "---\n",
        "#### **Phase #3: Alice and Bob Compare**\n",
        "---"
      ],
      "metadata": {
        "id": "Q8lSBlFtYQfc"
      }
    },
    {
      "cell_type": "markdown",
      "source": [
        "<a name=\"s8\"></a>\n",
        "\n",
        "#### **Step #8: Alice and Bob Compare Bases**\n",
        "\n",
        "**Independently**, compare Alice's and Bob's randomly selected bases. Complete the code below to accomplish this.\n",
        "\n",
        "**Run the code below to accomplish this step.**"
      ],
      "metadata": {
        "id": "HBTWn55i-t9H"
      }
    },
    {
      "cell_type": "code",
      "source": [
        "final_alice_key = []\n",
        "final_bob_key = []\n",
        "final_eve_key = []\n",
        "\n",
        "for bit in range(num_bits):\n",
        "\n",
        "  if alice_bases[bit] == bob_bases[bit]:\n",
        "    final_alice_key.append(alice_key[bit])\n",
        "    final_bob_key.append(bob_key[bit])\n",
        "    final_eve_key.append(eve_key[bit])\n",
        "\n",
        "print('\\nAlice\\'s key: ', final_alice_key)\n",
        "print('Bob\\'s key: ', final_bob_key)\n",
        "print('Eve\\'s key: ', final_eve_key)"
      ],
      "metadata": {
        "id": "k-BdGVPCl7Y9"
      },
      "execution_count": null,
      "outputs": []
    },
    {
      "cell_type": "markdown",
      "source": [
        "#####**Solution**"
      ],
      "metadata": {
        "id": "mT3QxC4lbkpr"
      }
    },
    {
      "cell_type": "code",
      "source": [
        "final_alice_key = []\n",
        "final_bob_key = []\n",
        "final_eve_key = []\n",
        "\n",
        "for bit in range(num_bits):\n",
        "\n",
        "  if alice_bases[bit] == bob_bases[bit]:\n",
        "    final_alice_key.append(alice_key[bit])\n",
        "    final_bob_key.append(bob_key[bit])\n",
        "    final_eve_key.append(eve_key[bit])\n",
        "\n",
        "print('\\nAlice\\'s key: ', final_alice_key)\n",
        "print('Bob\\'s key: ', final_bob_key)\n",
        "print('Eve\\'s key: ', final_eve_key)"
      ],
      "metadata": {
        "colab": {
          "base_uri": "https://localhost:8080/"
        },
        "outputId": "c8700ea8-129c-40b2-b611-fa914e88bed2",
        "id": "u7x3Eau0-t9c"
      },
      "execution_count": 73,
      "outputs": [
        {
          "output_type": "stream",
          "name": "stdout",
          "text": [
            "\n",
            "Alice's key:  [0, 1, 1, 0, 0, 1, 0, 1, 0, 1, 1, 0, 1, 1, 0, 1, 1, 0, 1, 0, 0, 0, 1, 0, 1, 0, 1, 0, 1, 1, 1, 1, 0, 0, 0, 1, 1, 1, 1, 0, 0, 1, 0, 1, 1, 1, 0, 1, 1, 0, 0, 1, 1]\n",
            "Bob's key:  [0, 1, 1, 0, 0, 1, 0, 1, 1, 1, 1, 1, 0, 1, 0, 0, 0, 1, 0, 1, 0, 1, 0, 0, 0, 1, 1, 1, 0, 1, 1, 0, 0, 1, 0, 1, 1, 1, 0, 0, 0, 1, 1, 0, 1, 0, 1, 1, 1, 0, 0, 1, 0]\n",
            "Eve's key:  [0, 1, 1, 0, 0, 1, 0, 0, 1, 1, 1, 0, 0, 1, 0, 0, 1, 1, 1, 1, 0, 1, 0, 0, 1, 1, 1, 1, 1, 1, 0, 1, 0, 0, 0, 1, 1, 1, 0, 0, 1, 1, 1, 0, 1, 1, 1, 0, 1, 0, 0, 1, 1]\n"
          ]
        }
      ]
    },
    {
      "cell_type": "markdown",
      "source": [
        "<a name=\"s9\"></a>\n",
        "\n",
        "#### **Step #9: Alice and Bob Compare the First Bits in Their Key**\n",
        "\n",
        "**Independently**, compare the first few bits in Alice's and Bob's key to ensure the protocol was successful.\n",
        "\n",
        "<br>\n",
        "\n",
        "**Run the code below to accomplish this.**"
      ],
      "metadata": {
        "id": "HmIFV2XD-t9d"
      }
    },
    {
      "cell_type": "code",
      "source": [
        "num_bits_to_compare = int(len(final_alice_key) * .5)\n",
        "if final_alice_key[0:num_bits_to_compare] == final_bob_key[0:num_bits_to_compare]:\n",
        "  final_alice_key = final_alice_key[num_bits_to_compare:]\n",
        "  final_bob_key = final_bob_key[num_bits_to_compare:]\n",
        "  final_eve_key = final_eve_key[num_bits_to_compare:]\n",
        "\n",
        "  print('\\n\\nWe can use our keys!')\n",
        "  print('Alice Key: ', final_alice_key)\n",
        "  print('Bob Key: ', final_bob_key)\n",
        "  print('Eve Key: ', final_eve_key)\n",
        "\n",
        "else:\n",
        "  print('\\n\\nEve was listening, we need to use a different channel!')"
      ],
      "metadata": {
        "id": "OFkLWgfFmKHj"
      },
      "execution_count": null,
      "outputs": []
    },
    {
      "cell_type": "markdown",
      "source": [
        "#####**Solution**"
      ],
      "metadata": {
        "id": "F3544MQebqO6"
      }
    },
    {
      "cell_type": "code",
      "source": [
        "num_bits_to_compare = int(len(final_alice_key) * .5)\n",
        "if final_alice_key[0:num_bits_to_compare] == final_bob_key[0:num_bits_to_compare]:\n",
        "  final_alice_key = final_alice_key[num_bits_to_compare:]\n",
        "  final_bob_key = final_bob_key[num_bits_to_compare:]\n",
        "  final_eve_key = final_eve_key[num_bits_to_compare:]\n",
        "\n",
        "  print('\\n\\nWe can use our keys!')\n",
        "  print('Alice Key: ', final_alice_key)\n",
        "  print('Bob Key: ', final_bob_key)\n",
        "  print('Eve Key: ', final_eve_key)\n",
        "\n",
        "else:\n",
        "  print('\\n\\nEve was listening, we need to use a different channel!')"
      ],
      "metadata": {
        "colab": {
          "base_uri": "https://localhost:8080/"
        },
        "outputId": "0d2f01b6-416d-4ebf-e7f9-608125be2060",
        "id": "QC4oBqls-t9d"
      },
      "execution_count": 74,
      "outputs": [
        {
          "output_type": "stream",
          "name": "stdout",
          "text": [
            "\n",
            "\n",
            "Eve was listening, we need to use a different channel!\n"
          ]
        }
      ]
    },
    {
      "cell_type": "markdown",
      "source": [
        "<a name=\"p3\"></a>\n",
        "\n",
        "---\n",
        "## **Part 3: Alice, Bob, and Eve's Intercept and Resend Attack**\n",
        "---\n",
        "\n",
        "Now, we will modify this code so that Eve performs an Intercept and Resend attack."
      ],
      "metadata": {
        "id": "oe_LzgWLdCZL"
      }
    },
    {
      "cell_type": "markdown",
      "source": [
        "### **Part 3.1: The Setup**"
      ],
      "metadata": {
        "id": "4T1zpmHKDzU8"
      }
    },
    {
      "cell_type": "markdown",
      "source": [
        "#### **Problem #3.1.1**\n",
        "\n",
        "**Independently**, let's define a dictionary called `encode_gates` that specify which gates to apply based on the bit value. Then, let's define a dictionary called `basis_gates` that specify which gates to apply based on the basis. Finally, let's create a list of `NamedQubit`s that is `num_bits` long and has the prefix `q`."
      ],
      "metadata": {
        "id": "NOqNMIRzDzVR"
      }
    },
    {
      "cell_type": "code",
      "source": [
        "encode_gates = {# COMPLETE THIS CODE\n",
        "basis_gates = {# COMPLETE THIS CODE\n",
        "\n",
        "num_bits = 100\n",
        "qubits = cirq.NamedQubit.range(num_bits, prefix = 'q')"
      ],
      "metadata": {
        "id": "-z3IRD_Gm-U1"
      },
      "execution_count": null,
      "outputs": []
    },
    {
      "cell_type": "markdown",
      "source": [
        "#####**Solution**"
      ],
      "metadata": {
        "id": "hw20ycgNbv90"
      }
    },
    {
      "cell_type": "code",
      "source": [
        "encode_gates = {0: cirq.I, 1: cirq.X}\n",
        "basis_gates = {'Z': cirq.I, 'X': cirq.H}\n",
        "\n",
        "num_bits = 100\n",
        "qubits = cirq.NamedQubit.range(num_bits, prefix = 'q')"
      ],
      "metadata": {
        "id": "Hr1DDBwMDzVR"
      },
      "execution_count": 75,
      "outputs": []
    },
    {
      "cell_type": "markdown",
      "source": [
        "### **Part 3.2: Implementing the Steps**"
      ],
      "metadata": {
        "id": "hzE_EsaegGZp"
      }
    },
    {
      "cell_type": "markdown",
      "source": [
        "---\n",
        "#### **Phase #1: Alice Sends**\n",
        "---"
      ],
      "metadata": {
        "id": "PgLJpjN6DzVR"
      }
    },
    {
      "cell_type": "markdown",
      "source": [
        "<a name=\"s1\"></a>\n",
        "\n",
        "#### **Step #1: Alice Randomly Chooses Bits**\n",
        "\n",
        "**Independently**, let's use python's `choices(...)` function to create Alice's key of random bits that is `num_bits` long."
      ],
      "metadata": {
        "id": "86Z7T2FODzVR"
      }
    },
    {
      "cell_type": "code",
      "source": [
        "alice_key = choices(# COMPLETE THIS CODE\n",
        "\n",
        "print('Alice\\'s initial key: ', alice_key)"
      ],
      "metadata": {
        "id": "cPrSYDJLnJzl"
      },
      "execution_count": null,
      "outputs": []
    },
    {
      "cell_type": "markdown",
      "source": [
        "#####**Solution**"
      ],
      "metadata": {
        "id": "Fmh1pE-VbxmV"
      }
    },
    {
      "cell_type": "code",
      "source": [
        "alice_key = choices([0, 1], k = num_bits)\n",
        "\n",
        "print('Alice\\'s initial key: ', alice_key)"
      ],
      "metadata": {
        "colab": {
          "base_uri": "https://localhost:8080/"
        },
        "outputId": "f85dcab3-e647-4ab1-ec4b-49958274b8c1",
        "id": "OrwMCws4DzVR"
      },
      "execution_count": 76,
      "outputs": [
        {
          "output_type": "stream",
          "name": "stdout",
          "text": [
            "Alice's initial key:  [1, 0, 1, 0, 1, 1, 0, 0, 1, 0, 0, 0, 0, 0, 1, 1, 0, 0, 1, 0, 0, 0, 0, 1, 1, 1, 1, 1, 0, 0, 1, 0, 0, 0, 0, 1, 1, 1, 1, 1, 1, 1, 1, 0, 1, 0, 0, 0, 1, 0, 0, 1, 0, 0, 1, 0, 1, 1, 1, 0, 0, 0, 1, 0, 0, 1, 0, 0, 0, 0, 1, 1, 1, 0, 0, 0, 0, 0, 1, 0, 0, 1, 1, 1, 1, 0, 0, 1, 1, 1, 1, 1, 0, 1, 1, 1, 0, 0, 1, 0]\n"
          ]
        }
      ]
    },
    {
      "cell_type": "markdown",
      "source": [
        "<a name=\"s2\"></a>\n",
        "\n",
        "#### **Step #2: Alice Randomly Chooses Bases**\n",
        "\n",
        "**Independently**, let's use python's `choices(...)` function to create Alice's `num_bits` basis choices."
      ],
      "metadata": {
        "id": "vSVL0vT1DzVS"
      }
    },
    {
      "cell_type": "code",
      "source": [
        "alice_bases = choices(# COMPLETE THIS CODE\n",
        "\n",
        "print('\\nAlice\\'s randomly chosen bases: ', alice_bases)"
      ],
      "metadata": {
        "id": "hsOLfIAenOIC"
      },
      "execution_count": null,
      "outputs": []
    },
    {
      "cell_type": "markdown",
      "source": [
        "#####**Solution**"
      ],
      "metadata": {
        "id": "682lWXXwbyxm"
      }
    },
    {
      "cell_type": "code",
      "source": [
        "alice_bases = choices(['Z', 'X'], k = num_bits)\n",
        "\n",
        "print('\\nAlice\\'s randomly chosen bases: ', alice_bases)"
      ],
      "metadata": {
        "colab": {
          "base_uri": "https://localhost:8080/"
        },
        "outputId": "ed528a1b-73d4-43b7-91e1-7b68c818047a",
        "id": "d38LSmwhDzVS"
      },
      "execution_count": 77,
      "outputs": [
        {
          "output_type": "stream",
          "name": "stdout",
          "text": [
            "\n",
            "Alice's randomly chosen bases:  ['X', 'Z', 'Z', 'X', 'Z', 'X', 'Z', 'Z', 'X', 'X', 'X', 'X', 'Z', 'X', 'X', 'X', 'X', 'X', 'Z', 'X', 'Z', 'X', 'Z', 'X', 'Z', 'X', 'Z', 'X', 'Z', 'X', 'X', 'X', 'Z', 'Z', 'X', 'Z', 'Z', 'Z', 'Z', 'Z', 'X', 'X', 'Z', 'X', 'Z', 'X', 'Z', 'X', 'Z', 'Z', 'X', 'Z', 'X', 'Z', 'X', 'Z', 'Z', 'Z', 'X', 'Z', 'Z', 'X', 'X', 'X', 'X', 'X', 'X', 'X', 'X', 'X', 'X', 'X', 'Z', 'Z', 'X', 'X', 'Z', 'X', 'X', 'X', 'X', 'X', 'X', 'X', 'X', 'X', 'Z', 'Z', 'Z', 'X', 'X', 'Z', 'Z', 'Z', 'Z', 'Z', 'X', 'X', 'Z', 'Z']\n"
          ]
        }
      ]
    },
    {
      "cell_type": "markdown",
      "source": [
        "<a name=\"s3\"></a>\n",
        "\n",
        "#### **Step #3: Alice Creates Qubits**\n",
        "\n",
        "**Independently**, create Alice's qubits based on her choice of bit and basis. Complete the code below so that the appropriate gates are appended to `alice_circuit` within the loop."
      ],
      "metadata": {
        "id": "IyK2aWndDzVS"
      }
    },
    {
      "cell_type": "code",
      "source": [
        "alice_circuit = cirq.Circuit()\n",
        "\n",
        "for # COMPLETE THIS CODE\n",
        "\n",
        "  encode_value = # COMPLETE THIS CODE\n",
        "  encode_gate = # COMPLETE THIS CODE\n",
        "\n",
        "  basis_value = # COMPLETE THIS CODE\n",
        "  basis_gate = # COMPLETE THIS CODE\n",
        "\n",
        "  qubit = # COMPLETE THIS CODE\n",
        "  alice_circuit.append(# COMPLETE THIS CODE\n",
        "  alice_circuit.append(# COMPLETE THIS CODE"
      ],
      "metadata": {
        "id": "OUpH18GNnZNk"
      },
      "execution_count": null,
      "outputs": []
    },
    {
      "cell_type": "markdown",
      "source": [
        "#####**Solution**"
      ],
      "metadata": {
        "id": "1yPNBhjdb0b0"
      }
    },
    {
      "cell_type": "code",
      "source": [
        "alice_circuit = cirq.Circuit()\n",
        "\n",
        "for bit in range(num_bits):\n",
        "\n",
        "  encode_value = alice_key[bit]\n",
        "  encode_gate = encode_gates[encode_value]\n",
        "\n",
        "  basis_value = alice_bases[bit]\n",
        "  basis_gate = basis_gates[basis_value]\n",
        "\n",
        "  qubit = qubits[bit]\n",
        "  alice_circuit.append(encode_gate(qubit))\n",
        "  alice_circuit.append(basis_gate(qubit))"
      ],
      "metadata": {
        "id": "fdMXGUdyDzVS"
      },
      "execution_count": 78,
      "outputs": []
    },
    {
      "cell_type": "markdown",
      "source": [
        "<a name=\"s4\"></a>\n",
        "\n",
        "#### **Step #4: Alice Sends the Qubits to Bob**\n",
        "\n",
        "This step doesn't require us to do anything in Python. However, in real life, this would be where Alice sends Bob the qubits through a public quantum channel."
      ],
      "metadata": {
        "id": "TszgudotDzVS"
      }
    },
    {
      "cell_type": "markdown",
      "source": [
        "---\n",
        "#### **Phase #2: Eve Receives**\n",
        "---"
      ],
      "metadata": {
        "id": "dm6-Co2ydCZN"
      }
    },
    {
      "cell_type": "markdown",
      "source": [
        "#### **Step #5: Eve Randomly Chooses Bases**\n",
        "\n",
        "**Independently**, randomly choose Eve's `num_bits` bases and apply the appropriate gates to the qubits she received, `qubits`. Complete the code below to accomplish this for each qubit."
      ],
      "metadata": {
        "id": "c0wdN6DQKhdk"
      }
    },
    {
      "cell_type": "code",
      "source": [
        "eve_bases = choices(# COMPLETE THIS CODE\n",
        "print('Eve\\'s randomly chosen bases: ', eve_bases)\n",
        "\n",
        "eve_circuit = cirq.Circuit()\n",
        "\n",
        "for # COMPLETE THIS CODE\n",
        "  basis_value = # COMPLETE THIS CODE\n",
        "  basis_gate = # COMPLETE THIS CODE\n",
        "\n",
        "  qubit = # COMPLETE THIS CODE\n",
        "  eve_circuit.append(# COMPLETE THIS CODE"
      ],
      "metadata": {
        "id": "kmreEBr2oCWT"
      },
      "execution_count": null,
      "outputs": []
    },
    {
      "cell_type": "markdown",
      "source": [
        "#####**Solution**"
      ],
      "metadata": {
        "id": "SYgEXwxXb2nV"
      }
    },
    {
      "cell_type": "code",
      "source": [
        "eve_bases = choices(['Z', 'X'], k = num_bits)\n",
        "print('Eve\\'s randomly chosen bases: ', eve_bases)\n",
        "\n",
        "eve_circuit = cirq.Circuit()\n",
        "\n",
        "for bit in range(num_bits):\n",
        "\n",
        "  basis_value = eve_bases[bit]\n",
        "  basis_gate = basis_gates[basis_value]\n",
        "\n",
        "  qubit = qubits[bit]\n",
        "  eve_circuit.append(basis_gate(qubit))"
      ],
      "metadata": {
        "colab": {
          "base_uri": "https://localhost:8080/"
        },
        "id": "vvV8iMIYKivn",
        "outputId": "f9843d05-c9c4-4a6e-8abb-1023fd66918c"
      },
      "execution_count": 79,
      "outputs": [
        {
          "output_type": "stream",
          "name": "stdout",
          "text": [
            "Eve's randomly chosen bases:  ['Z', 'Z', 'X', 'X', 'Z', 'Z', 'Z', 'Z', 'X', 'X', 'Z', 'X', 'X', 'X', 'Z', 'Z', 'Z', 'Z', 'Z', 'X', 'X', 'X', 'Z', 'X', 'X', 'X', 'X', 'Z', 'X', 'X', 'X', 'Z', 'X', 'Z', 'Z', 'X', 'Z', 'Z', 'Z', 'Z', 'X', 'Z', 'Z', 'X', 'X', 'Z', 'Z', 'Z', 'X', 'X', 'Z', 'Z', 'Z', 'X', 'X', 'Z', 'Z', 'Z', 'X', 'X', 'Z', 'X', 'X', 'X', 'X', 'X', 'Z', 'Z', 'Z', 'Z', 'Z', 'X', 'Z', 'X', 'X', 'X', 'Z', 'X', 'Z', 'Z', 'Z', 'Z', 'X', 'Z', 'Z', 'X', 'X', 'Z', 'Z', 'X', 'X', 'Z', 'X', 'Z', 'Z', 'Z', 'X', 'Z', 'X', 'X']\n"
          ]
        }
      ]
    },
    {
      "cell_type": "markdown",
      "source": [
        "#### **Step #6: Eve Measures the Qubits**\n",
        "**Independently**, make a measurement of all of the qubits for Eve. Complete the code below to append this action to `eve_circuit`. Ensure the measure method is given the parameter `key = 'eve key'` so that we can easily retrieve this result later."
      ],
      "metadata": {
        "id": "T4-KdV_ILJme"
      }
    },
    {
      "cell_type": "code",
      "source": [
        "eve_circuit.append(# COMPLETE THIS CODE"
      ],
      "metadata": {
        "id": "BYL21RfKoqcM"
      },
      "execution_count": null,
      "outputs": []
    },
    {
      "cell_type": "markdown",
      "source": [
        "#####**Solution**"
      ],
      "metadata": {
        "id": "C3DMcA-9b_QE"
      }
    },
    {
      "cell_type": "code",
      "source": [
        "eve_circuit.append(cirq.measure(qubits, key = 'eve key'))"
      ],
      "metadata": {
        "id": "9cyMs3fwLJmn"
      },
      "execution_count": 80,
      "outputs": []
    },
    {
      "cell_type": "markdown",
      "source": [
        "#### **Step #7: Eve Creates a Key**\n",
        "\n",
        "**Independently**, create a key for Eve from the mesurement result of each qubit.\n",
        "\n",
        "<br>\n",
        "\n",
        "**Run the code below to accomplish this step.**"
      ],
      "metadata": {
        "id": "WP5jyFq7LJmo"
      }
    },
    {
      "cell_type": "code",
      "source": [
        "eve_intercept_circuit = alice_circuit + eve_circuit\n",
        "\n",
        "sim = cirq.Simulator()\n",
        "results = sim.run(eve_intercept_circuit)\n",
        "eve_key = results.measurements['eve key'][0]\n",
        "\n",
        "print('\\nEve\\'s initial key: ', eve_key)"
      ],
      "metadata": {
        "id": "ywT_EOXMo5Ym"
      },
      "execution_count": null,
      "outputs": []
    },
    {
      "cell_type": "markdown",
      "source": [
        "#####**Solution**"
      ],
      "metadata": {
        "id": "9ENdQzjOcAnm"
      }
    },
    {
      "cell_type": "code",
      "source": [
        "eve_intercept_circuit = alice_circuit + eve_circuit\n",
        "\n",
        "sim = cirq.Simulator()\n",
        "results = sim.run(eve_intercept_circuit)\n",
        "eve_key = results.measurements['eve key'][0]\n",
        "\n",
        "print('\\nEve\\'s initial key: ', eve_key)"
      ],
      "metadata": {
        "colab": {
          "base_uri": "https://localhost:8080/"
        },
        "outputId": "92f27f16-6dd8-4fc9-dff9-ca4657c08e63",
        "id": "vSQsaq3tLJmo"
      },
      "execution_count": 81,
      "outputs": [
        {
          "output_type": "stream",
          "name": "stdout",
          "text": [
            "\n",
            "Eve's initial key:  [1 0 0 0 1 1 0 0 1 0 0 0 0 0 1 1 0 0 1 0 1 0 0 1 0 1 0 0 1 0 1 0 1 0 1 0 1\n",
            " 1 1 1 1 1 1 0 0 1 0 0 0 0 1 1 0 0 1 0 1 1 1 0 0 0 1 0 0 1 1 0 0 1 1 1 1 0\n",
            " 0 0 0 0 1 1 1 1 1 1 1 0 0 1 1 1 1 1 0 1 1 1 0 1 0 1]\n"
          ]
        }
      ]
    },
    {
      "cell_type": "markdown",
      "source": [
        "#### **Eve Repeats Step #3 to Fool Bob**\n",
        "\n",
        "**Run the code below to accomplish this step.**"
      ],
      "metadata": {
        "id": "qw3FsjoBLJmo"
      }
    },
    {
      "cell_type": "code",
      "source": [
        "alice_circuit = cirq.Circuit()\n",
        "\n",
        "for bit in range(num_bits):\n",
        "\n",
        "  encode_value = eve_key[bit]\n",
        "  encode_gate = encode_gates[encode_value]\n",
        "\n",
        "  basis_value = eve_bases[bit]\n",
        "  basis_gate = basis_gates[basis_value]\n",
        "\n",
        "  qubit = qubits[bit]\n",
        "  alice_circuit.append(encode_gate(qubit))\n",
        "  alice_circuit.append(basis_gate(qubit))\n",
        "\n",
        "print('\\nAlice\\'s Phase 1 circuit after Eve\\'s interception:\\n', alice_circuit)"
      ],
      "metadata": {
        "id": "mZaopKOTo9RP"
      },
      "execution_count": null,
      "outputs": []
    },
    {
      "cell_type": "markdown",
      "source": [
        "#####**Solution**"
      ],
      "metadata": {
        "id": "D8cyanmccCrD"
      }
    },
    {
      "cell_type": "code",
      "source": [
        "alice_circuit = cirq.Circuit()\n",
        "\n",
        "for bit in range(num_bits):\n",
        "\n",
        "  encode_value = eve_key[bit]\n",
        "  encode_gate = encode_gates[encode_value]\n",
        "\n",
        "  basis_value = eve_bases[bit]\n",
        "  basis_gate = basis_gates[basis_value]\n",
        "\n",
        "  qubit = qubits[bit]\n",
        "  alice_circuit.append(encode_gate(qubit))\n",
        "  alice_circuit.append(basis_gate(qubit))\n",
        "\n",
        "print('\\nAlice\\'s Phase 1 circuit after Eve\\'s interception:\\n', alice_circuit)"
      ],
      "metadata": {
        "colab": {
          "base_uri": "https://localhost:8080/"
        },
        "outputId": "115bb859-d81d-455c-b125-d40b85885a7b",
        "id": "qQCDhZqSLJmo"
      },
      "execution_count": 82,
      "outputs": [
        {
          "output_type": "stream",
          "name": "stdout",
          "text": [
            "\n",
            "Alice's Phase 1 circuit after Eve's interception:\n",
            " q0: ────X───I───\n",
            "\n",
            "q1: ────I───I───\n",
            "\n",
            "q2: ────I───H───\n",
            "\n",
            "q3: ────I───H───\n",
            "\n",
            "q4: ────X───I───\n",
            "\n",
            "q5: ────X───I───\n",
            "\n",
            "q6: ────I───I───\n",
            "\n",
            "q7: ────I───I───\n",
            "\n",
            "q8: ────X───H───\n",
            "\n",
            "q9: ────I───H───\n",
            "\n",
            "q10: ───I───I───\n",
            "\n",
            "q11: ───I───H───\n",
            "\n",
            "q12: ───I───H───\n",
            "\n",
            "q13: ───I───H───\n",
            "\n",
            "q14: ───X───I───\n",
            "\n",
            "q15: ───X───I───\n",
            "\n",
            "q16: ───I───I───\n",
            "\n",
            "q17: ───I───I───\n",
            "\n",
            "q18: ───X───I───\n",
            "\n",
            "q19: ───I───H───\n",
            "\n",
            "q20: ───X───H───\n",
            "\n",
            "q21: ───I───H───\n",
            "\n",
            "q22: ───I───I───\n",
            "\n",
            "q23: ───X───H───\n",
            "\n",
            "q24: ───I───H───\n",
            "\n",
            "q25: ───X───H───\n",
            "\n",
            "q26: ───I───H───\n",
            "\n",
            "q27: ───I───I───\n",
            "\n",
            "q28: ───X───H───\n",
            "\n",
            "q29: ───I───H───\n",
            "\n",
            "q30: ───X───H───\n",
            "\n",
            "q31: ───I───I───\n",
            "\n",
            "q32: ───X───H───\n",
            "\n",
            "q33: ───I───I───\n",
            "\n",
            "q34: ───X───I───\n",
            "\n",
            "q35: ───I───H───\n",
            "\n",
            "q36: ───X───I───\n",
            "\n",
            "q37: ───X───I───\n",
            "\n",
            "q38: ───X───I───\n",
            "\n",
            "q39: ───X───I───\n",
            "\n",
            "q40: ───X───H───\n",
            "\n",
            "q41: ───X───I───\n",
            "\n",
            "q42: ───X───I───\n",
            "\n",
            "q43: ───I───H───\n",
            "\n",
            "q44: ───I───H───\n",
            "\n",
            "q45: ───X───I───\n",
            "\n",
            "q46: ───I───I───\n",
            "\n",
            "q47: ───I───I───\n",
            "\n",
            "q48: ───I───H───\n",
            "\n",
            "q49: ───I───H───\n",
            "\n",
            "q50: ───X───I───\n",
            "\n",
            "q51: ───X───I───\n",
            "\n",
            "q52: ───I───I───\n",
            "\n",
            "q53: ───I───H───\n",
            "\n",
            "q54: ───X───H───\n",
            "\n",
            "q55: ───I───I───\n",
            "\n",
            "q56: ───X───I───\n",
            "\n",
            "q57: ───X───I───\n",
            "\n",
            "q58: ───X───H───\n",
            "\n",
            "q59: ───I───H───\n",
            "\n",
            "q60: ───I───I───\n",
            "\n",
            "q61: ───I───H───\n",
            "\n",
            "q62: ───X───H───\n",
            "\n",
            "q63: ───I───H───\n",
            "\n",
            "q64: ───I───H───\n",
            "\n",
            "q65: ───X───H───\n",
            "\n",
            "q66: ───X───I───\n",
            "\n",
            "q67: ───I───I───\n",
            "\n",
            "q68: ───I───I───\n",
            "\n",
            "q69: ───X───I───\n",
            "\n",
            "q70: ───X───I───\n",
            "\n",
            "q71: ───X───H───\n",
            "\n",
            "q72: ───X───I───\n",
            "\n",
            "q73: ───I───H───\n",
            "\n",
            "q74: ───I───H───\n",
            "\n",
            "q75: ───I───H───\n",
            "\n",
            "q76: ───I───I───\n",
            "\n",
            "q77: ───I───H───\n",
            "\n",
            "q78: ───X───I───\n",
            "\n",
            "q79: ───X───I───\n",
            "\n",
            "q80: ───X───I───\n",
            "\n",
            "q81: ───X───I───\n",
            "\n",
            "q82: ───X───H───\n",
            "\n",
            "q83: ───X───I───\n",
            "\n",
            "q84: ───X───I───\n",
            "\n",
            "q85: ───I───H───\n",
            "\n",
            "q86: ───I───H───\n",
            "\n",
            "q87: ───X───I───\n",
            "\n",
            "q88: ───X───I───\n",
            "\n",
            "q89: ───X───H───\n",
            "\n",
            "q90: ───X───H───\n",
            "\n",
            "q91: ───X───I───\n",
            "\n",
            "q92: ───I───H───\n",
            "\n",
            "q93: ───X───I───\n",
            "\n",
            "q94: ───X───I───\n",
            "\n",
            "q95: ───X───I───\n",
            "\n",
            "q96: ───I───H───\n",
            "\n",
            "q97: ───X───I───\n",
            "\n",
            "q98: ───I───H───\n",
            "\n",
            "q99: ───X───H───\n"
          ]
        }
      ]
    },
    {
      "cell_type": "markdown",
      "source": [
        "---\n",
        "#### **Phase #2: Bob Receives**\n",
        "---"
      ],
      "metadata": {
        "id": "yJzigkmrdCZO"
      }
    },
    {
      "cell_type": "markdown",
      "source": [
        "<a name=\"s5\"></a>\n",
        "\n",
        "#### **Step #5: Bob Randomly Chooses Bases**\n",
        "\n",
        "**Independently**, randomly choose Bob's `num_bits` bases and apply the appropriate gates to the qubits he received, `qubits`. Complete the code below to accomplish this for each qubit."
      ],
      "metadata": {
        "id": "LUj8m8oXOj7E"
      }
    },
    {
      "cell_type": "code",
      "source": [
        "bob_bases = choices(# COMPLETE THIS CODE\n",
        "\n",
        "\n",
        "bob_circuit = cirq.Circuit()\n",
        "\n",
        "for # COMPLETE THIS CODE\n",
        "\n",
        "  basis_value = # COMPLETE THIS CODE\n",
        "  basis_gate = # COMPLETE THIS CODE\n",
        "\n",
        "  qubit = # COMPLETE THIS CODE\n",
        "  bob_circuit.append(# COMPLETE THIS CODE"
      ],
      "metadata": {
        "id": "DqlLzKxypB20"
      },
      "execution_count": null,
      "outputs": []
    },
    {
      "cell_type": "markdown",
      "source": [
        "#####**Solution**"
      ],
      "metadata": {
        "id": "FRUXL6uCcFv0"
      }
    },
    {
      "cell_type": "code",
      "source": [
        "bob_bases = choices(['Z', 'X'], k = num_bits)\n",
        "print('Bob\\'s randomly chosen bases: ', bob_bases)\n",
        "\n",
        "bob_circuit = cirq.Circuit()\n",
        "\n",
        "for bit in range(num_bits):\n",
        "\n",
        "  basis_value = bob_bases[bit]\n",
        "  basis_gate = basis_gates[basis_value]\n",
        "\n",
        "  qubit = qubits[bit]\n",
        "  bob_circuit.append(basis_gate(qubit))"
      ],
      "metadata": {
        "colab": {
          "base_uri": "https://localhost:8080/"
        },
        "outputId": "7ad2d0c4-45a1-4a0f-ea7d-a14198dbb22e",
        "id": "JFnHOLEqOj7O"
      },
      "execution_count": 83,
      "outputs": [
        {
          "output_type": "stream",
          "name": "stdout",
          "text": [
            "Bob's randomly chosen bases:  ['X', 'X', 'Z', 'Z', 'Z', 'Z', 'Z', 'X', 'X', 'X', 'Z', 'X', 'Z', 'X', 'X', 'Z', 'X', 'Z', 'X', 'Z', 'X', 'Z', 'X', 'Z', 'Z', 'Z', 'X', 'Z', 'X', 'X', 'X', 'Z', 'X', 'Z', 'Z', 'X', 'X', 'X', 'Z', 'X', 'X', 'X', 'Z', 'X', 'Z', 'Z', 'Z', 'X', 'Z', 'Z', 'X', 'Z', 'X', 'X', 'Z', 'Z', 'X', 'Z', 'Z', 'X', 'Z', 'X', 'Z', 'Z', 'Z', 'X', 'X', 'Z', 'Z', 'X', 'Z', 'Z', 'Z', 'Z', 'Z', 'X', 'Z', 'Z', 'X', 'Z', 'Z', 'Z', 'X', 'X', 'Z', 'Z', 'Z', 'X', 'Z', 'X', 'Z', 'X', 'Z', 'X', 'X', 'Z', 'X', 'Z', 'X', 'Z']\n"
          ]
        }
      ]
    },
    {
      "cell_type": "markdown",
      "source": [
        "<a name=\"s6\"></a>\n",
        "\n",
        "#### **Step #6: Bob Measures the Qubits**\n",
        "\n",
        "**Independently**, make a measurement of all of the qubits for Bob. Complete the code below to append this action to `bob_circuit`. Ensure the measure method is given the parameter `key = 'bob key'` so that we can easily retrieve this result later."
      ],
      "metadata": {
        "id": "0Ow_vOq6Oj7P"
      }
    },
    {
      "cell_type": "code",
      "source": [
        "bob_circuit.append(# COMPLETE THIS CODE\n",
        "\n",
        "print(bob_circuit)"
      ],
      "metadata": {
        "id": "4Z8c27ZPpJp-"
      },
      "execution_count": null,
      "outputs": []
    },
    {
      "cell_type": "markdown",
      "source": [
        "#####**Solution**"
      ],
      "metadata": {
        "id": "wzvsA5mdcHPD"
      }
    },
    {
      "cell_type": "code",
      "source": [
        "bob_circuit.append(cirq.measure(qubits, key = 'bob key'))\n",
        "\n",
        "print(bob_circuit)"
      ],
      "metadata": {
        "colab": {
          "base_uri": "https://localhost:8080/"
        },
        "outputId": "57dcd5df-1920-449a-d480-870aa7d652d5",
        "id": "cBcIKht2Oj7P"
      },
      "execution_count": 84,
      "outputs": [
        {
          "output_type": "stream",
          "name": "stdout",
          "text": [
            "q0: ────H───M('bob key')───\n",
            "            │\n",
            "q1: ────H───M──────────────\n",
            "            │\n",
            "q2: ────I───M──────────────\n",
            "            │\n",
            "q3: ────I───M──────────────\n",
            "            │\n",
            "q4: ────I───M──────────────\n",
            "            │\n",
            "q5: ────I───M──────────────\n",
            "            │\n",
            "q6: ────I───M──────────────\n",
            "            │\n",
            "q7: ────H───M──────────────\n",
            "            │\n",
            "q8: ────H───M──────────────\n",
            "            │\n",
            "q9: ────H───M──────────────\n",
            "            │\n",
            "q10: ───I───M──────────────\n",
            "            │\n",
            "q11: ───H───M──────────────\n",
            "            │\n",
            "q12: ───I───M──────────────\n",
            "            │\n",
            "q13: ───H───M──────────────\n",
            "            │\n",
            "q14: ───H───M──────────────\n",
            "            │\n",
            "q15: ───I───M──────────────\n",
            "            │\n",
            "q16: ───H───M──────────────\n",
            "            │\n",
            "q17: ───I───M──────────────\n",
            "            │\n",
            "q18: ───H───M──────────────\n",
            "            │\n",
            "q19: ───I───M──────────────\n",
            "            │\n",
            "q20: ───H───M──────────────\n",
            "            │\n",
            "q21: ───I───M──────────────\n",
            "            │\n",
            "q22: ───H───M──────────────\n",
            "            │\n",
            "q23: ───I───M──────────────\n",
            "            │\n",
            "q24: ───I───M──────────────\n",
            "            │\n",
            "q25: ───I───M──────────────\n",
            "            │\n",
            "q26: ───H───M──────────────\n",
            "            │\n",
            "q27: ───I───M──────────────\n",
            "            │\n",
            "q28: ───H───M──────────────\n",
            "            │\n",
            "q29: ───H───M──────────────\n",
            "            │\n",
            "q30: ───H───M──────────────\n",
            "            │\n",
            "q31: ───I───M──────────────\n",
            "            │\n",
            "q32: ───H───M──────────────\n",
            "            │\n",
            "q33: ───I───M──────────────\n",
            "            │\n",
            "q34: ───I───M──────────────\n",
            "            │\n",
            "q35: ───H───M──────────────\n",
            "            │\n",
            "q36: ───H───M──────────────\n",
            "            │\n",
            "q37: ───H───M──────────────\n",
            "            │\n",
            "q38: ───I───M──────────────\n",
            "            │\n",
            "q39: ───H───M──────────────\n",
            "            │\n",
            "q40: ───H───M──────────────\n",
            "            │\n",
            "q41: ───H───M──────────────\n",
            "            │\n",
            "q42: ───I───M──────────────\n",
            "            │\n",
            "q43: ───H───M──────────────\n",
            "            │\n",
            "q44: ───I───M──────────────\n",
            "            │\n",
            "q45: ───I───M──────────────\n",
            "            │\n",
            "q46: ───I───M──────────────\n",
            "            │\n",
            "q47: ───H───M──────────────\n",
            "            │\n",
            "q48: ───I───M──────────────\n",
            "            │\n",
            "q49: ───I───M──────────────\n",
            "            │\n",
            "q50: ───H───M──────────────\n",
            "            │\n",
            "q51: ───I───M──────────────\n",
            "            │\n",
            "q52: ───H───M──────────────\n",
            "            │\n",
            "q53: ───H───M──────────────\n",
            "            │\n",
            "q54: ───I───M──────────────\n",
            "            │\n",
            "q55: ───I───M──────────────\n",
            "            │\n",
            "q56: ───H───M──────────────\n",
            "            │\n",
            "q57: ───I───M──────────────\n",
            "            │\n",
            "q58: ───I───M──────────────\n",
            "            │\n",
            "q59: ───H───M──────────────\n",
            "            │\n",
            "q60: ───I───M──────────────\n",
            "            │\n",
            "q61: ───H───M──────────────\n",
            "            │\n",
            "q62: ───I───M──────────────\n",
            "            │\n",
            "q63: ───I───M──────────────\n",
            "            │\n",
            "q64: ───I───M──────────────\n",
            "            │\n",
            "q65: ───H───M──────────────\n",
            "            │\n",
            "q66: ───H───M──────────────\n",
            "            │\n",
            "q67: ───I───M──────────────\n",
            "            │\n",
            "q68: ───I───M──────────────\n",
            "            │\n",
            "q69: ───H───M──────────────\n",
            "            │\n",
            "q70: ───I───M──────────────\n",
            "            │\n",
            "q71: ───I───M──────────────\n",
            "            │\n",
            "q72: ───I───M──────────────\n",
            "            │\n",
            "q73: ───I───M──────────────\n",
            "            │\n",
            "q74: ───I───M──────────────\n",
            "            │\n",
            "q75: ───H───M──────────────\n",
            "            │\n",
            "q76: ───I───M──────────────\n",
            "            │\n",
            "q77: ───I───M──────────────\n",
            "            │\n",
            "q78: ───H───M──────────────\n",
            "            │\n",
            "q79: ───I───M──────────────\n",
            "            │\n",
            "q80: ───I───M──────────────\n",
            "            │\n",
            "q81: ───I───M──────────────\n",
            "            │\n",
            "q82: ───H───M──────────────\n",
            "            │\n",
            "q83: ───H───M──────────────\n",
            "            │\n",
            "q84: ───I───M──────────────\n",
            "            │\n",
            "q85: ───I───M──────────────\n",
            "            │\n",
            "q86: ───I───M──────────────\n",
            "            │\n",
            "q87: ───H───M──────────────\n",
            "            │\n",
            "q88: ───I───M──────────────\n",
            "            │\n",
            "q89: ───H───M──────────────\n",
            "            │\n",
            "q90: ───I───M──────────────\n",
            "            │\n",
            "q91: ───H───M──────────────\n",
            "            │\n",
            "q92: ───I───M──────────────\n",
            "            │\n",
            "q93: ───H───M──────────────\n",
            "            │\n",
            "q94: ───H───M──────────────\n",
            "            │\n",
            "q95: ───I───M──────────────\n",
            "            │\n",
            "q96: ───H───M──────────────\n",
            "            │\n",
            "q97: ───I───M──────────────\n",
            "            │\n",
            "q98: ───H───M──────────────\n",
            "            │\n",
            "q99: ───I───M──────────────\n"
          ]
        }
      ]
    },
    {
      "cell_type": "markdown",
      "source": [
        "<a name=\"s7\"></a>\n",
        "\n",
        "#### **Step #7: Bob Creates a Key**\n",
        "\n",
        "**Independently**, create a key for Bob from the mesurement result of each qubit.\n",
        "\n",
        "<br>\n",
        "\n",
        "**Run the code below to accomplish this step.**"
      ],
      "metadata": {
        "id": "FpN71b4yOj7P"
      }
    },
    {
      "cell_type": "code",
      "source": [
        "bb84_circuit = alice_circuit + bob_circuit\n",
        "\n",
        "sim = cirq.Simulator()\n",
        "results = sim.run(bb84_circuit)\n",
        "bob_key = results.measurements['bob key'][0]\n",
        "\n",
        "print('\\nBob\\'s initial key: ', bob_key)"
      ],
      "metadata": {
        "id": "8XUPYUfkpOly"
      },
      "execution_count": null,
      "outputs": []
    },
    {
      "cell_type": "markdown",
      "source": [
        "#####**Solution**"
      ],
      "metadata": {
        "id": "6QBsjdxscI1T"
      }
    },
    {
      "cell_type": "code",
      "source": [
        "bb84_circuit = alice_circuit + bob_circuit\n",
        "\n",
        "sim = cirq.Simulator()\n",
        "results = sim.run(bb84_circuit)\n",
        "bob_key = results.measurements['bob key'][0]\n",
        "\n",
        "print('\\nBob\\'s initial key: ', bob_key)"
      ],
      "metadata": {
        "colab": {
          "base_uri": "https://localhost:8080/"
        },
        "outputId": "c8fa81af-db56-4ed8-856c-14915c99f07d",
        "id": "IP3lg72SOj7P"
      },
      "execution_count": 85,
      "outputs": [
        {
          "output_type": "stream",
          "name": "stdout",
          "text": [
            "\n",
            "Bob's initial key:  [0 1 1 0 1 1 0 0 1 0 0 0 1 0 1 1 0 0 0 0 1 1 1 1 0 1 0 0 1 0 1 0 1 0 1 0 1\n",
            " 1 1 0 1 1 1 0 1 1 0 1 0 1 1 1 1 0 0 0 0 1 1 0 0 0 0 0 1 1 1 0 0 0 1 1 1 0\n",
            " 0 0 0 1 1 1 1 1 1 1 1 1 1 1 1 1 1 0 0 0 1 1 0 1 0 1]\n"
          ]
        }
      ]
    },
    {
      "cell_type": "markdown",
      "source": [
        "---\n",
        "#### **Phase #3: Alice and Bob Compare**\n",
        "---"
      ],
      "metadata": {
        "id": "cYlfBZ-_dCZO"
      }
    },
    {
      "cell_type": "markdown",
      "source": [
        "<a name=\"s8\"></a>\n",
        "\n",
        "#### **Step #8: Alice and Bob Compare Bases**\n",
        "\n",
        "**Independently**, compare Alice's and Bob's randomly selected bases.\n",
        "\n",
        "**Run the code below to accomplish this step.**"
      ],
      "metadata": {
        "id": "slAYObAROy6j"
      }
    },
    {
      "cell_type": "code",
      "source": [
        "final_alice_key = []\n",
        "final_bob_key = []\n",
        "final_eve_key = []\n",
        "\n",
        "for bit in range(num_bits):\n",
        "\n",
        "  if alice_bases[bit] == bob_bases[bit]:\n",
        "    final_alice_key.append(alice_key[bit])\n",
        "    final_bob_key.append(bob_key[bit])\n",
        "    final_eve_key.append(eve_key[bit])\n",
        "\n",
        "print('\\nAlice\\'s key: ', final_alice_key)\n",
        "print('Bob\\'s key: ', final_bob_key)\n",
        "print('Eve\\'s key: ', final_eve_key)"
      ],
      "metadata": {
        "id": "GOqfsm7zpSLR"
      },
      "execution_count": null,
      "outputs": []
    },
    {
      "cell_type": "markdown",
      "source": [
        "#####**Solution**"
      ],
      "metadata": {
        "id": "G_zxRHETcLDb"
      }
    },
    {
      "cell_type": "code",
      "source": [
        "final_alice_key = []\n",
        "final_bob_key = []\n",
        "final_eve_key = []\n",
        "\n",
        "for bit in range(num_bits):\n",
        "\n",
        "  if alice_bases[bit] == bob_bases[bit]:\n",
        "    final_alice_key.append(alice_key[bit])\n",
        "    final_bob_key.append(bob_key[bit])\n",
        "    final_eve_key.append(eve_key[bit])\n",
        "\n",
        "print('\\nAlice\\'s key: ', final_alice_key)\n",
        "print('Bob\\'s key: ', final_bob_key)\n",
        "print('Eve\\'s key: ', final_eve_key)"
      ],
      "metadata": {
        "colab": {
          "base_uri": "https://localhost:8080/"
        },
        "outputId": "de6a331c-6911-4d53-daa5-413350182788",
        "id": "c9zOnqZNOy60"
      },
      "execution_count": 86,
      "outputs": [
        {
          "output_type": "stream",
          "name": "stdout",
          "text": [
            "\n",
            "Alice's key:  [1, 1, 1, 0, 1, 0, 0, 0, 0, 1, 0, 1, 0, 1, 0, 1, 1, 1, 1, 0, 1, 0, 0, 1, 0, 0, 1, 0, 0, 1, 0, 0, 1, 0, 0, 1, 0, 0, 0, 1, 1, 1, 0, 1, 1, 0, 1, 0, 0]\n",
            "Bob's key:  [0, 1, 1, 0, 1, 0, 0, 1, 0, 1, 0, 0, 0, 1, 0, 1, 1, 1, 1, 0, 1, 0, 1, 0, 1, 1, 1, 1, 0, 1, 0, 0, 1, 1, 0, 1, 0, 0, 0, 1, 1, 1, 1, 1, 1, 0, 1, 0, 1]\n",
            "Eve's key:  [1, 0, 1, 0, 1, 0, 0, 0, 0, 1, 0, 0, 0, 1, 0, 1, 1, 1, 1, 0, 0, 0, 0, 0, 0, 1, 1, 0, 0, 1, 0, 0, 1, 1, 1, 1, 0, 0, 0, 1, 1, 1, 0, 1, 1, 0, 1, 0, 1]\n"
          ]
        }
      ]
    },
    {
      "cell_type": "markdown",
      "source": [
        "<a name=\"s9\"></a>\n",
        "\n",
        "#### **Step #9: Alice and Bob Compare the First Bits in Their Key**\n",
        "\n",
        "**Independently**, compare the first few bits in Alice's and Bob's key to ensure the protocol was successful.\n",
        "\n",
        "<br>\n",
        "\n",
        "**Run the code below to accomplish this.**"
      ],
      "metadata": {
        "id": "zJ30bCUzOy61"
      }
    },
    {
      "cell_type": "code",
      "source": [
        "num_bits_to_compare = int(len(final_alice_key) * .5)\n",
        "if final_alice_key[0:num_bits_to_compare] == final_bob_key[0:num_bits_to_compare]:\n",
        "  final_alice_key = final_alice_key[num_bits_to_compare:]\n",
        "  final_bob_key = final_bob_key[num_bits_to_compare:]\n",
        "  final_eve_key = final_eve_key[num_bits_to_compare:]\n",
        "\n",
        "  print('\\n\\nWe can use our keys!')\n",
        "  print('Alice Key: ', final_alice_key)\n",
        "  print('Bob Key: ', final_bob_key)\n",
        "  print('Eve Key: ', final_eve_key)\n",
        "\n",
        "else:\n",
        "  print('\\n\\nEve was listening, we need to use a different channel!')"
      ],
      "metadata": {
        "id": "BgI6DbHapfLx"
      },
      "execution_count": null,
      "outputs": []
    },
    {
      "cell_type": "markdown",
      "source": [
        "#####**Solution**"
      ],
      "metadata": {
        "id": "uEzLMKEBcMyA"
      }
    },
    {
      "cell_type": "code",
      "source": [
        "num_bits_to_compare = int(len(final_alice_key) * .5)\n",
        "if final_alice_key[0:num_bits_to_compare] == final_bob_key[0:num_bits_to_compare]:\n",
        "  final_alice_key = final_alice_key[num_bits_to_compare:]\n",
        "  final_bob_key = final_bob_key[num_bits_to_compare:]\n",
        "  final_eve_key = final_eve_key[num_bits_to_compare:]\n",
        "\n",
        "  print('\\n\\nWe can use our keys!')\n",
        "  print('Alice Key: ', final_alice_key)\n",
        "  print('Bob Key: ', final_bob_key)\n",
        "  print('Eve Key: ', final_eve_key)\n",
        "\n",
        "else:\n",
        "  print('\\n\\nEve was listening, we need to use a different channel!')"
      ],
      "metadata": {
        "colab": {
          "base_uri": "https://localhost:8080/"
        },
        "outputId": "21331514-a7ae-4ad0-8307-0cad6a51adf5",
        "id": "Acp5zmdYOy61"
      },
      "execution_count": 87,
      "outputs": [
        {
          "output_type": "stream",
          "name": "stdout",
          "text": [
            "\n",
            "\n",
            "Eve was listening, we need to use a different channel!\n"
          ]
        }
      ]
    },
    {
      "cell_type": "markdown",
      "source": [
        "<a name=\"p4\"></a>\n",
        "\n",
        "---\n",
        "## **Part 4: Alice, Bob, and Eve's Entanglement Attack**\n",
        "---\n",
        "\n",
        "Now, we will modify this code so that Eve performs an Entanglement attack."
      ],
      "metadata": {
        "id": "3Uu5S80deiDu"
      }
    },
    {
      "cell_type": "markdown",
      "source": [
        "### **Part 4.1: The Setup**"
      ],
      "metadata": {
        "id": "0pMv5b_LDmfi"
      }
    },
    {
      "cell_type": "markdown",
      "source": [
        "#### **Problem #4.1.1**\n",
        "\n",
        "**Independently**, define a dictionary called `encode_gates` that specify which gates to apply based on the bit value. Then, let's define a dictionary called `basis_gates` that specify which gates to apply based on the basis. Finally, let's create a list of `NamedQubit`s that is `num_bits` long and has the prefix `q`."
      ],
      "metadata": {
        "id": "Feok1DJuDmft"
      }
    },
    {
      "cell_type": "code",
      "source": [
        "encode_gates = {# COMPLETE THIS CODE\n",
        "basis_gates = {# COMPLETE THIS CODE\n",
        "\n",
        "num_bits = 100\n",
        "qubits = cirq.NamedQubit.range(num_bits, prefix = 'q')"
      ],
      "metadata": {
        "id": "fs_EuHMYpmXl"
      },
      "execution_count": null,
      "outputs": []
    },
    {
      "cell_type": "markdown",
      "source": [
        "#####**Solution**"
      ],
      "metadata": {
        "id": "0E0lhHRIcWLJ"
      }
    },
    {
      "cell_type": "code",
      "source": [
        "encode_gates = {0: cirq.I, 1: cirq.X}\n",
        "basis_gates = {'Z': cirq.I, 'X': cirq.H}\n",
        "\n",
        "num_bits = 100\n",
        "qubits = cirq.NamedQubit.range(num_bits, prefix = 'q')"
      ],
      "metadata": {
        "id": "F_omiXqRDmft"
      },
      "execution_count": 88,
      "outputs": []
    },
    {
      "cell_type": "markdown",
      "source": [
        "---\n",
        "#### **Phase #1: Alice Sends**\n",
        "---"
      ],
      "metadata": {
        "id": "67P4_tJ8Dmft"
      }
    },
    {
      "cell_type": "markdown",
      "source": [
        "<a name=\"s1\"></a>\n",
        "\n",
        "#### **Step #1: Alice Randomly Chooses Bits**\n",
        "\n",
        "**Together**, let's use python's `choices(...)` function to create Alice's key of random bits that is `num_bits` long."
      ],
      "metadata": {
        "id": "wYs260JcDmfu"
      }
    },
    {
      "cell_type": "code",
      "source": [
        "alice_key = choices(# COMPLETE THIS CODE\n",
        "\n",
        "print('Alice\\'s initial key: ', alice_key)"
      ],
      "metadata": {
        "id": "Wcy5uUhUpt-n"
      },
      "execution_count": null,
      "outputs": []
    },
    {
      "cell_type": "markdown",
      "source": [
        "#####**Solution**"
      ],
      "metadata": {
        "id": "swkBpE92cXhG"
      }
    },
    {
      "cell_type": "code",
      "source": [
        "alice_key = choices([0, 1], k = num_bits)\n",
        "\n",
        "print('Alice\\'s initial key: ', alice_key)"
      ],
      "metadata": {
        "colab": {
          "base_uri": "https://localhost:8080/"
        },
        "outputId": "369c47ef-0d86-41de-f5fb-2a63a6ed6843",
        "id": "6g-aE03kDmfu"
      },
      "execution_count": 89,
      "outputs": [
        {
          "output_type": "stream",
          "name": "stdout",
          "text": [
            "Alice's initial key:  [0, 1, 0, 0, 0, 1, 1, 1, 0, 1, 1, 0, 1, 1, 0, 0, 1, 0, 1, 1, 0, 1, 0, 1, 0, 1, 0, 1, 1, 1, 0, 1, 0, 0, 0, 1, 0, 0, 1, 0, 0, 1, 0, 0, 0, 1, 1, 0, 1, 0, 1, 1, 1, 1, 0, 0, 1, 0, 0, 0, 1, 1, 1, 1, 0, 0, 1, 0, 1, 1, 1, 0, 1, 1, 0, 1, 0, 1, 1, 1, 0, 0, 1, 1, 1, 1, 0, 0, 1, 0, 0, 0, 1, 0, 1, 0, 1, 0, 0, 1]\n"
          ]
        }
      ]
    },
    {
      "cell_type": "markdown",
      "source": [
        "<a name=\"s2\"></a>\n",
        "\n",
        "#### **Step #2: Alice Randomly Chooses Bases**\n",
        "\n",
        "**Together**, let's use python's `choices(...)` function to create Alice's `num_bits` basis choices."
      ],
      "metadata": {
        "id": "RxYNXJLADmfu"
      }
    },
    {
      "cell_type": "code",
      "source": [
        "alice_bases = choices(# COMPLETE THIS CODE\n",
        "\n",
        "print('\\nAlice\\'s randomly chosen bases: ', alice_bases)"
      ],
      "metadata": {
        "id": "e2qNS_G4pzGz"
      },
      "execution_count": null,
      "outputs": []
    },
    {
      "cell_type": "markdown",
      "source": [
        "#####**Solution**"
      ],
      "metadata": {
        "id": "yzaw739fcYxV"
      }
    },
    {
      "cell_type": "code",
      "source": [
        "alice_bases = choices(['Z', 'X'], k = num_bits)\n",
        "\n",
        "print('\\nAlice\\'s randomly chosen bases: ', alice_bases)"
      ],
      "metadata": {
        "colab": {
          "base_uri": "https://localhost:8080/"
        },
        "outputId": "4f8a293c-8724-4c2c-d96b-8cffdf566f27",
        "id": "qYW69lFdDmfu"
      },
      "execution_count": 90,
      "outputs": [
        {
          "output_type": "stream",
          "name": "stdout",
          "text": [
            "\n",
            "Alice's randomly chosen bases:  ['X', 'X', 'Z', 'X', 'X', 'X', 'X', 'Z', 'Z', 'X', 'X', 'Z', 'X', 'Z', 'Z', 'X', 'Z', 'Z', 'Z', 'X', 'X', 'Z', 'X', 'X', 'X', 'Z', 'X', 'X', 'Z', 'X', 'X', 'Z', 'Z', 'X', 'Z', 'Z', 'Z', 'X', 'X', 'X', 'Z', 'Z', 'Z', 'X', 'Z', 'Z', 'X', 'X', 'X', 'Z', 'Z', 'Z', 'Z', 'X', 'Z', 'Z', 'Z', 'X', 'X', 'Z', 'Z', 'X', 'X', 'X', 'Z', 'Z', 'X', 'X', 'Z', 'Z', 'Z', 'Z', 'Z', 'Z', 'X', 'X', 'X', 'Z', 'Z', 'X', 'X', 'X', 'Z', 'Z', 'Z', 'X', 'X', 'X', 'X', 'Z', 'Z', 'X', 'Z', 'Z', 'X', 'X', 'X', 'X', 'Z', 'Z']\n"
          ]
        }
      ]
    },
    {
      "cell_type": "markdown",
      "source": [
        "<a name=\"s3\"></a>\n",
        "\n",
        "#### **Step #3: Alice Creates Qubits**\n",
        "\n",
        "**Together**, create Alice's qubits based on her choice of bit and basis. Complete the code below so that the appropriate gates are appended to `alice_circuit` within the loop."
      ],
      "metadata": {
        "id": "MqMAOa96Dmfu"
      }
    },
    {
      "cell_type": "code",
      "source": [
        "alice_circuit = cirq.Circuit()\n",
        "\n",
        "for # COMPLETE THIS CODE\n",
        "\n",
        "  encode_value = # COMPLETE THIS CODE\n",
        "  encode_gate = # COMPLETE THIS CODE\n",
        "\n",
        "  basis_value = # COMPLETE THIS CODE\n",
        "  basis_gate = # COMPLETE THIS CODE\n",
        "\n",
        "  qubit = # COMPLETE THIS CODE\n",
        "  alice_circuit.append(# COMPLETE THIS CODE\n",
        "  alice_circuit.append(# COMPLETE THIS CODE"
      ],
      "metadata": {
        "id": "IVYIVn18p-oi"
      },
      "execution_count": null,
      "outputs": []
    },
    {
      "cell_type": "markdown",
      "source": [
        "#####**Solution**"
      ],
      "metadata": {
        "id": "1OAYRGoDcZ72"
      }
    },
    {
      "cell_type": "code",
      "source": [
        "alice_circuit = cirq.Circuit()\n",
        "\n",
        "for bit in range(num_bits):\n",
        "\n",
        "  encode_value = alice_key[bit]\n",
        "  encode_gate = encode_gates[encode_value]\n",
        "\n",
        "  basis_value = alice_bases[bit]\n",
        "  basis_gate = basis_gates[basis_value]\n",
        "\n",
        "  qubit = qubits[bit]\n",
        "  alice_circuit.append(encode_gate(qubit))\n",
        "  alice_circuit.append(basis_gate(qubit))"
      ],
      "metadata": {
        "id": "ameKhb30Dmfu"
      },
      "execution_count": 91,
      "outputs": []
    },
    {
      "cell_type": "markdown",
      "source": [
        "<a name=\"s4\"></a>\n",
        "\n",
        "#### **Step #4: Alice Sends the Qubits to Bob**\n",
        "\n",
        "This step doesn't require us to do anything in Python. However, in real life, this would be where Alice sends Bob the qubits through a public quantum channel."
      ],
      "metadata": {
        "id": "wf4xmIg-Dmfv"
      }
    },
    {
      "cell_type": "markdown",
      "source": [
        "---\n",
        "#### **Phase #2: Eve Receives**\n",
        "---"
      ],
      "metadata": {
        "id": "Q85roJjieiD6"
      }
    },
    {
      "cell_type": "markdown",
      "source": [
        "#### **Step #5: Eve Randomly Entangles Her Qubits**\n",
        "\n",
        "**Independently**, create `num_bits` qubits with the prefix \"eve\" for Eve and entangle them with Alice's sent qubits."
      ],
      "metadata": {
        "id": "j7Q2fKvnRoNl"
      }
    },
    {
      "cell_type": "code",
      "source": [
        "eve_qubits = # COMPLETE THIS CODE\n",
        "\n",
        "for # COMPLETE THIS CODE\n",
        "\n",
        "  qubit = # COMPLETE THIS CODE\n",
        "  eve_qubit = # COMPLETE THIS CODE\n",
        "\n",
        "  alice_circuit.append(# COMPLETE THIS CODE"
      ],
      "metadata": {
        "id": "sBP3zoOAqXxg"
      },
      "execution_count": null,
      "outputs": []
    },
    {
      "cell_type": "markdown",
      "source": [
        "#####**Solution**"
      ],
      "metadata": {
        "id": "aMBsnaMNfj_E"
      }
    },
    {
      "cell_type": "code",
      "source": [
        "eve_qubits = cirq.NamedQubit.range(num_bits, prefix=\"eve\")\n",
        "\n",
        "for bit in range(num_bits):\n",
        "\n",
        "  qubit = qubits[bit]\n",
        "  eve_qubit = eve_qubits[bit]\n",
        "\n",
        "  alice_circuit.append(cirq.CNOT(qubit, eve_qubit))"
      ],
      "metadata": {
        "id": "BSsxdCV4R3m3"
      },
      "execution_count": 92,
      "outputs": []
    },
    {
      "cell_type": "markdown",
      "source": [
        "---\n",
        "#### **Phase #2: Bob Receives**\n",
        "---"
      ],
      "metadata": {
        "id": "suiNb7NJeiD7"
      }
    },
    {
      "cell_type": "markdown",
      "source": [
        "<a name=\"s5\"></a>\n",
        "\n",
        "#### **Step #5: Bob Randomly Chooses Bases**\n",
        "\n",
        "**Independently**, randomly choose Bob's `num_bits` bases and apply the appropriate gates to the qubits he received, `qubits`. Complete the code below to accomplish this for each qubit."
      ],
      "metadata": {
        "id": "InmdyezfSXx6"
      }
    },
    {
      "cell_type": "code",
      "source": [
        "bob_bases = choices(# COMPLETE THIS CODE\n",
        "print('Bob\\'s randomly chosen bases: ', bob_bases)\n",
        "\n",
        "bob_circuit = cirq.Circuit()\n",
        "\n",
        "for # COMPLETE THIS CODE\n",
        "\n",
        "  basis_value = # COMPLETE THIS CODE\n",
        "  basis_gate = # COMPLETE THIS CODE\n",
        "\n",
        "  qubit = # COMPLETE THIS CODE\n",
        "  bob_circuit.append(# COMPLETE THIS CODE"
      ],
      "metadata": {
        "id": "jNHa3o-rqslQ"
      },
      "execution_count": null,
      "outputs": []
    },
    {
      "cell_type": "markdown",
      "source": [
        "#####**Solution**"
      ],
      "metadata": {
        "id": "FfrYmEOjfl2_"
      }
    },
    {
      "cell_type": "code",
      "source": [
        "bob_bases = choices(['Z', 'X'], k = num_bits)\n",
        "print('Bob\\'s randomly chosen bases: ', bob_bases)\n",
        "\n",
        "bob_circuit = cirq.Circuit()\n",
        "\n",
        "for bit in range(num_bits):\n",
        "\n",
        "  basis_value = bob_bases[bit]\n",
        "  basis_gate = basis_gates[basis_value]\n",
        "\n",
        "  qubit = qubits[bit]\n",
        "  bob_circuit.append(basis_gate(qubit))"
      ],
      "metadata": {
        "colab": {
          "base_uri": "https://localhost:8080/"
        },
        "outputId": "2f798af8-91e7-430e-b7d6-e1c94f255c53",
        "id": "S61gtOaQSXyB"
      },
      "execution_count": 93,
      "outputs": [
        {
          "output_type": "stream",
          "name": "stdout",
          "text": [
            "Bob's randomly chosen bases:  ['Z', 'X', 'Z', 'X', 'X', 'Z', 'X', 'X', 'Z', 'X', 'X', 'Z', 'X', 'X', 'Z', 'Z', 'X', 'Z', 'Z', 'X', 'X', 'X', 'Z', 'X', 'X', 'X', 'Z', 'X', 'Z', 'X', 'X', 'Z', 'Z', 'Z', 'Z', 'Z', 'X', 'Z', 'X', 'X', 'Z', 'Z', 'Z', 'Z', 'Z', 'X', 'Z', 'X', 'Z', 'Z', 'Z', 'Z', 'X', 'Z', 'X', 'Z', 'X', 'Z', 'Z', 'Z', 'Z', 'X', 'X', 'Z', 'Z', 'X', 'Z', 'X', 'X', 'Z', 'X', 'Z', 'Z', 'X', 'Z', 'X', 'X', 'Z', 'Z', 'Z', 'X', 'X', 'X', 'Z', 'X', 'Z', 'Z', 'X', 'Z', 'X', 'Z', 'X', 'X', 'Z', 'X', 'Z', 'X', 'X', 'Z', 'X']\n"
          ]
        }
      ]
    },
    {
      "cell_type": "markdown",
      "source": [
        "<a name=\"s6\"></a>\n",
        "\n",
        "#### **Step #6: Bob Measures the Qubits**\n",
        "\n",
        "**Independently**, make a measurement of all of the qubits for Bob. Complete the code below to append this action to `bob_circuit`. Ensure the measure method is given the parameter `key = 'bob key'` so that we can easily retrieve this result later."
      ],
      "metadata": {
        "id": "_yoRqBQ6SXyB"
      }
    },
    {
      "cell_type": "code",
      "source": [
        "bob_circuit.append(# COMPLETE THIS CODE\n",
        "\n",
        "print(bob_circuit)"
      ],
      "metadata": {
        "id": "qYwc-rACrcZf"
      },
      "execution_count": null,
      "outputs": []
    },
    {
      "cell_type": "markdown",
      "source": [
        "#####**Solution**"
      ],
      "metadata": {
        "id": "tlxIQ8oEfnmR"
      }
    },
    {
      "cell_type": "code",
      "source": [
        "bob_circuit.append(cirq.measure(qubits, key = 'bob key'))\n",
        "\n",
        "print(bob_circuit)"
      ],
      "metadata": {
        "colab": {
          "base_uri": "https://localhost:8080/"
        },
        "outputId": "8815d38f-af22-4938-da01-d71dfa449a72",
        "id": "kGEYWv_gSXyC"
      },
      "execution_count": 94,
      "outputs": [
        {
          "output_type": "stream",
          "name": "stdout",
          "text": [
            "q0: ────I───M('bob key')───\n",
            "            │\n",
            "q1: ────H───M──────────────\n",
            "            │\n",
            "q2: ────I───M──────────────\n",
            "            │\n",
            "q3: ────H───M──────────────\n",
            "            │\n",
            "q4: ────H───M──────────────\n",
            "            │\n",
            "q5: ────I───M──────────────\n",
            "            │\n",
            "q6: ────H───M──────────────\n",
            "            │\n",
            "q7: ────H───M──────────────\n",
            "            │\n",
            "q8: ────I───M──────────────\n",
            "            │\n",
            "q9: ────H───M──────────────\n",
            "            │\n",
            "q10: ───H───M──────────────\n",
            "            │\n",
            "q11: ───I───M──────────────\n",
            "            │\n",
            "q12: ───H───M──────────────\n",
            "            │\n",
            "q13: ───H───M──────────────\n",
            "            │\n",
            "q14: ───I───M──────────────\n",
            "            │\n",
            "q15: ───I───M──────────────\n",
            "            │\n",
            "q16: ───H───M──────────────\n",
            "            │\n",
            "q17: ───I───M──────────────\n",
            "            │\n",
            "q18: ───I───M──────────────\n",
            "            │\n",
            "q19: ───H───M──────────────\n",
            "            │\n",
            "q20: ───H───M──────────────\n",
            "            │\n",
            "q21: ───H───M──────────────\n",
            "            │\n",
            "q22: ───I───M──────────────\n",
            "            │\n",
            "q23: ───H───M──────────────\n",
            "            │\n",
            "q24: ───H───M──────────────\n",
            "            │\n",
            "q25: ───H───M──────────────\n",
            "            │\n",
            "q26: ───I───M──────────────\n",
            "            │\n",
            "q27: ───H───M──────────────\n",
            "            │\n",
            "q28: ───I───M──────────────\n",
            "            │\n",
            "q29: ───H───M──────────────\n",
            "            │\n",
            "q30: ───H───M──────────────\n",
            "            │\n",
            "q31: ───I───M──────────────\n",
            "            │\n",
            "q32: ───I───M──────────────\n",
            "            │\n",
            "q33: ───I───M──────────────\n",
            "            │\n",
            "q34: ───I───M──────────────\n",
            "            │\n",
            "q35: ───I───M──────────────\n",
            "            │\n",
            "q36: ───H───M──────────────\n",
            "            │\n",
            "q37: ───I───M──────────────\n",
            "            │\n",
            "q38: ───H───M──────────────\n",
            "            │\n",
            "q39: ───H───M──────────────\n",
            "            │\n",
            "q40: ───I───M──────────────\n",
            "            │\n",
            "q41: ───I───M──────────────\n",
            "            │\n",
            "q42: ───I───M──────────────\n",
            "            │\n",
            "q43: ───I───M──────────────\n",
            "            │\n",
            "q44: ───I───M──────────────\n",
            "            │\n",
            "q45: ───H───M──────────────\n",
            "            │\n",
            "q46: ───I───M──────────────\n",
            "            │\n",
            "q47: ───H───M──────────────\n",
            "            │\n",
            "q48: ───I───M──────────────\n",
            "            │\n",
            "q49: ───I───M──────────────\n",
            "            │\n",
            "q50: ───I───M──────────────\n",
            "            │\n",
            "q51: ───I───M──────────────\n",
            "            │\n",
            "q52: ───H───M──────────────\n",
            "            │\n",
            "q53: ───I───M──────────────\n",
            "            │\n",
            "q54: ───H───M──────────────\n",
            "            │\n",
            "q55: ───I───M──────────────\n",
            "            │\n",
            "q56: ───H───M──────────────\n",
            "            │\n",
            "q57: ───I───M──────────────\n",
            "            │\n",
            "q58: ───I───M──────────────\n",
            "            │\n",
            "q59: ───I───M──────────────\n",
            "            │\n",
            "q60: ───I───M──────────────\n",
            "            │\n",
            "q61: ───H───M──────────────\n",
            "            │\n",
            "q62: ───H───M──────────────\n",
            "            │\n",
            "q63: ───I───M──────────────\n",
            "            │\n",
            "q64: ───I───M──────────────\n",
            "            │\n",
            "q65: ───H───M──────────────\n",
            "            │\n",
            "q66: ───I───M──────────────\n",
            "            │\n",
            "q67: ───H───M──────────────\n",
            "            │\n",
            "q68: ───H───M──────────────\n",
            "            │\n",
            "q69: ───I───M──────────────\n",
            "            │\n",
            "q70: ───H───M──────────────\n",
            "            │\n",
            "q71: ───I───M──────────────\n",
            "            │\n",
            "q72: ───I───M──────────────\n",
            "            │\n",
            "q73: ───H───M──────────────\n",
            "            │\n",
            "q74: ───I───M──────────────\n",
            "            │\n",
            "q75: ───H───M──────────────\n",
            "            │\n",
            "q76: ───H───M──────────────\n",
            "            │\n",
            "q77: ───I───M──────────────\n",
            "            │\n",
            "q78: ───I───M──────────────\n",
            "            │\n",
            "q79: ───I───M──────────────\n",
            "            │\n",
            "q80: ───H───M──────────────\n",
            "            │\n",
            "q81: ───H───M──────────────\n",
            "            │\n",
            "q82: ───H───M──────────────\n",
            "            │\n",
            "q83: ───I───M──────────────\n",
            "            │\n",
            "q84: ───H───M──────────────\n",
            "            │\n",
            "q85: ───I───M──────────────\n",
            "            │\n",
            "q86: ───I───M──────────────\n",
            "            │\n",
            "q87: ───H───M──────────────\n",
            "            │\n",
            "q88: ───I───M──────────────\n",
            "            │\n",
            "q89: ───H───M──────────────\n",
            "            │\n",
            "q90: ───I───M──────────────\n",
            "            │\n",
            "q91: ───H───M──────────────\n",
            "            │\n",
            "q92: ───H───M──────────────\n",
            "            │\n",
            "q93: ───I───M──────────────\n",
            "            │\n",
            "q94: ───H───M──────────────\n",
            "            │\n",
            "q95: ───I───M──────────────\n",
            "            │\n",
            "q96: ───H───M──────────────\n",
            "            │\n",
            "q97: ───H───M──────────────\n",
            "            │\n",
            "q98: ───I───M──────────────\n",
            "            │\n",
            "q99: ───H───M──────────────\n"
          ]
        }
      ]
    },
    {
      "cell_type": "markdown",
      "source": [
        "<a name=\"s7\"></a>\n",
        "\n",
        "#### **Step #7: Bob Creates a Key**\n",
        "\n",
        "**Independently**, create a key for Bob from the mesurement result of each qubit.\n",
        "\n",
        "<br>\n",
        "\n",
        "**Run the code below to accomplish this step.**"
      ],
      "metadata": {
        "id": "XW0DM1D3SXyC"
      }
    },
    {
      "cell_type": "code",
      "source": [
        "bb84_circuit = alice_circuit + bob_circuit\n",
        "\n",
        "sim = cirq.Simulator()\n",
        "results = sim.run(bb84_circuit)\n",
        "bob_key = results.measurements['bob key'][0]\n",
        "\n",
        "print('\\nBob\\'s initial key: ', bob_key)"
      ],
      "metadata": {
        "id": "NAunLfP9rhYC"
      },
      "execution_count": null,
      "outputs": []
    },
    {
      "cell_type": "markdown",
      "source": [
        "#####**Solution**"
      ],
      "metadata": {
        "id": "VUd2-aXYfpfe"
      }
    },
    {
      "cell_type": "code",
      "source": [
        "bb84_circuit = alice_circuit + bob_circuit\n",
        "\n",
        "sim = cirq.Simulator()\n",
        "results = sim.run(bb84_circuit)\n",
        "bob_key = results.measurements['bob key'][0]\n",
        "\n",
        "print('\\nBob\\'s initial key: ', bob_key)"
      ],
      "metadata": {
        "colab": {
          "base_uri": "https://localhost:8080/"
        },
        "outputId": "b87f3502-4869-4182-8515-b342ad3aa9a7",
        "id": "GY4cvLM3SXyC"
      },
      "execution_count": 95,
      "outputs": [
        {
          "output_type": "stream",
          "name": "stdout",
          "text": [
            "\n",
            "Bob's initial key:  [1 0 0 1 1 0 1 1 0 0 0 0 1 1 0 0 0 0 1 1 0 1 0 0 0 1 0 0 1 0 0 1 0 0 0 1 1\n",
            " 1 0 1 0 1 0 1 0 1 0 1 0 0 1 1 1 1 0 0 0 1 0 0 1 1 1 0 0 1 0 1 1 1 0 0 1 0\n",
            " 1 0 0 1 1 0 1 1 0 1 0 0 1 0 0 1 0 0 1 0 1 1 1 1 0 0]\n"
          ]
        }
      ]
    },
    {
      "cell_type": "markdown",
      "source": [
        "---\n",
        "#### **Phase #3: Alice and Bob Compare**\n",
        "---"
      ],
      "metadata": {
        "id": "Z6AcmgS9eiD7"
      }
    },
    {
      "cell_type": "markdown",
      "source": [
        "<a name=\"s8\"></a>\n",
        "\n",
        "#### **Step #8: Alice and Bob Compare Bases**\n",
        "\n",
        "**Independently**, compare Alice's and Bob's randomly selected bases. Complete the code below to accomplish this. If they agree on a basis (publicly), then Eve puts her qubit in this basis and measures it."
      ],
      "metadata": {
        "id": "vvUg5nEfSpr6"
      }
    },
    {
      "cell_type": "code",
      "source": [
        "final_alice_key = []\n",
        "final_bob_key = []\n",
        "final_eve_key = []\n",
        "\n",
        "for # COMPLETE THIS CODE\n",
        "\n",
        "  if alice_bases[bit] == bob_bases[bit]:\n",
        "    final_alice_key.append(# COMPLETE THIS CODE\n",
        "    final_bob_key.append(# COMPLETE THIS CODE"
      ],
      "metadata": {
        "id": "7jth__HGrlSJ"
      },
      "execution_count": null,
      "outputs": []
    },
    {
      "cell_type": "code",
      "source": [
        "basis_value = bob_bases[bit]\n",
        "basis_gate = basis_gates[basis_value]\n",
        "\n",
        "qubit = eve_qubits[bit]\n",
        "bb84_circuit.append(basis_gate(qubit))\n",
        "bb84_circuit.append(cirq.measure(qubit))\n",
        "\n",
        "sim = cirq.Simulator()\n",
        "results = sim.run(bb84_circuit)\n",
        "\n",
        "final_eve_key.append(results.measurements['eve' + str(bit)][0][0])\n",
        "\n",
        "print('\\nAlice\\'s key: ', final_alice_key)\n",
        "print('Bob\\'s key: ', final_bob_key)\n",
        "print('Eve\\'s key: ', final_eve_key)"
      ],
      "metadata": {
        "id": "EE2jzHoOr1yL"
      },
      "execution_count": null,
      "outputs": []
    },
    {
      "cell_type": "markdown",
      "source": [
        "#####**Solution**"
      ],
      "metadata": {
        "id": "LHZsLcP-fu_y"
      }
    },
    {
      "cell_type": "code",
      "source": [
        "final_alice_key = []\n",
        "final_bob_key = []\n",
        "final_eve_key = []\n",
        "\n",
        "for bit in range(num_bits):\n",
        "\n",
        "  if alice_bases[bit] == bob_bases[bit]:\n",
        "    final_alice_key.append(alice_key[bit])\n",
        "    final_bob_key.append(bob_key[bit])"
      ],
      "metadata": {
        "id": "9XzlALGQSo_T"
      },
      "execution_count": 96,
      "outputs": []
    },
    {
      "cell_type": "code",
      "source": [
        "basis_value = bob_bases[bit]\n",
        "basis_gate = basis_gates[basis_value]\n",
        "\n",
        "qubit = eve_qubits[bit]\n",
        "bb84_circuit.append(basis_gate(qubit))\n",
        "bb84_circuit.append(cirq.measure(qubit))\n",
        "\n",
        "sim = cirq.Simulator()\n",
        "results = sim.run(bb84_circuit)\n",
        "\n",
        "final_eve_key.append(results.measurements['eve' + str(bit)][0][0])\n",
        "\n",
        "print('\\nAlice\\'s key: ', final_alice_key)\n",
        "print('Bob\\'s key: ', final_bob_key)\n",
        "print('Eve\\'s key: ', final_eve_key)"
      ],
      "metadata": {
        "colab": {
          "base_uri": "https://localhost:8080/"
        },
        "id": "lDA2Q_v7S0is",
        "outputId": "cb292344-1936-4fe3-e578-90aed2e5824e"
      },
      "execution_count": 97,
      "outputs": [
        {
          "output_type": "stream",
          "name": "stdout",
          "text": [
            "\n",
            "Alice's key:  [1, 0, 0, 0, 1, 0, 1, 1, 0, 1, 0, 0, 1, 1, 0, 1, 0, 1, 1, 1, 0, 1, 0, 0, 1, 1, 0, 0, 1, 0, 0, 0, 0, 1, 1, 0, 0, 1, 1, 1, 0, 0, 1, 0, 1, 1, 0, 1, 1, 0, 0, 1, 0, 0, 0, 0, 1, 1, 0, 0]\n",
            "Bob's key:  [0, 0, 1, 1, 1, 0, 0, 0, 0, 1, 0, 0, 1, 1, 0, 0, 0, 0, 1, 0, 0, 1, 0, 0, 1, 0, 1, 0, 1, 0, 0, 1, 0, 1, 1, 0, 0, 1, 1, 1, 0, 1, 1, 0, 1, 0, 0, 1, 1, 1, 1, 1, 0, 0, 0, 0, 1, 1, 1, 0]\n",
            "Eve's key:  [1]\n"
          ]
        }
      ]
    },
    {
      "cell_type": "markdown",
      "source": [
        "<a name=\"s9\"></a>\n",
        "\n",
        "#### **Step #9: Alice and Bob Compare the First Bits in Their Key**\n",
        "\n",
        "**Independently**, compare the first few bits in Alice's and Bob's key to ensure the protocol was successful.\n",
        "\n",
        "<br>\n",
        "\n",
        "**Run the code below to accomplish this.**"
      ],
      "metadata": {
        "id": "YKyaPobcTGZK"
      }
    },
    {
      "cell_type": "code",
      "source": [
        "num_bits_to_compare = int(len(final_alice_key) * .5)\n",
        "if final_alice_key[0:num_bits_to_compare] == final_bob_key[0:num_bits_to_compare]:\n",
        "  final_alice_key = final_alice_key[num_bits_to_compare:]\n",
        "  final_bob_key = final_bob_key[num_bits_to_compare:]\n",
        "  final_eve_key = final_eve_key[num_bits_to_compare:]\n",
        "\n",
        "  print('\\n\\nWe can use our keys!')\n",
        "  print('Alice Key: ', final_alice_key)\n",
        "  print('Bob Key: ', final_bob_key)\n",
        "  print('Eve Key: ', final_eve_key)\n",
        "\n",
        "else:\n",
        "  print('\\n\\nEve was listening, we need to use a different channel!')"
      ],
      "metadata": {
        "id": "koqQPrGGr7kA"
      },
      "execution_count": null,
      "outputs": []
    },
    {
      "cell_type": "markdown",
      "source": [
        "#####**Solution**"
      ],
      "metadata": {
        "id": "7jqgSRUsfxzk"
      }
    },
    {
      "cell_type": "code",
      "source": [
        "num_bits_to_compare = int(len(final_alice_key) * .5)\n",
        "if final_alice_key[0:num_bits_to_compare] == final_bob_key[0:num_bits_to_compare]:\n",
        "  final_alice_key = final_alice_key[num_bits_to_compare:]\n",
        "  final_bob_key = final_bob_key[num_bits_to_compare:]\n",
        "  final_eve_key = final_eve_key[num_bits_to_compare:]\n",
        "\n",
        "  print('\\n\\nWe can use our keys!')\n",
        "  print('Alice Key: ', final_alice_key)\n",
        "  print('Bob Key: ', final_bob_key)\n",
        "  print('Eve Key: ', final_eve_key)\n",
        "\n",
        "else:\n",
        "  print('\\n\\nEve was listening, we need to use a different channel!')"
      ],
      "metadata": {
        "colab": {
          "base_uri": "https://localhost:8080/"
        },
        "outputId": "5b654e2d-aeac-4820-f888-dd68f2d1d346",
        "id": "zgs8ULXPTGZb"
      },
      "execution_count": 98,
      "outputs": [
        {
          "output_type": "stream",
          "name": "stdout",
          "text": [
            "\n",
            "\n",
            "Eve was listening, we need to use a different channel!\n"
          ]
        }
      ]
    },
    {
      "cell_type": "markdown",
      "metadata": {
        "id": "7dzC09dLlEhm"
      },
      "source": [
        "# End of Notebook\n",
        "\n",
        "---\n",
        "© 2023 The Coding School, All rights reserved"
      ]
    }
  ]
}