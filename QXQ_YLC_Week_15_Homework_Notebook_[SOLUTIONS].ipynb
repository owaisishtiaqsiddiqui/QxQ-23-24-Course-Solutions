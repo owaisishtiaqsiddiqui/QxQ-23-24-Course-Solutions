{
  "nbformat": 4,
  "nbformat_minor": 5,
  "metadata": {
    "kernelspec": {
      "display_name": "Qiskit v0.31.0 (ipykernel)",
      "language": "python",
      "name": "python3"
    },
    "language_info": {
      "codemirror_mode": {
        "name": "ipython",
        "version": 3
      },
      "file_extension": ".py",
      "mimetype": "text/x-python",
      "name": "python",
      "nbconvert_exporter": "python",
      "pygments_lexer": "ipython3",
      "version": "3.8.10"
    },
    "colab": {
      "provenance": [],
      "include_colab_link": true
    }
  },
  "cells": [
    {
      "cell_type": "markdown",
      "metadata": {
        "id": "view-in-github",
        "colab_type": "text"
      },
      "source": [
        "<a href=\"https://colab.research.google.com/github/owaisishtiaqsiddiqui/QxQ-23-24-Course-Solutions/blob/main/QXQ_YLC_Week_15_Homework_Notebook_%5BSOLUTIONS%5D.ipynb\" target=\"_parent\"><img src=\"https://colab.research.google.com/assets/colab-badge.svg\" alt=\"Open In Colab\"/></a>"
      ]
    },
    {
      "cell_type": "markdown",
      "source": [
        "# **Homework 15: Complexity of Algorithms**\n",
        "---\n",
        "\n",
        "### **Description**\n",
        "Today, you will work with two of the most famous classical search algorithms: linear and binary search. You will implement and analyze their performance.\n",
        "\n",
        "\n",
        "\n",
        "<br>\n",
        "\n",
        "### **Structure**\n",
        "**Part 1**: [Linear Search](#p1)\n",
        "\n",
        "**Part 2**: [Binary Search](#p2)\n",
        "\n",
        "\n",
        "<br>\n",
        "\n",
        "### **Learning Objectives**\n",
        "By the end of this assignment, you will:\n",
        "* Recognize how to compare algorithms using big-O notation.\n",
        "* Recognize the limits of classical search algorithms for unordered lists.\n",
        "\n",
        "\n",
        "<br>\n",
        "\n",
        "### **Resources**\n",
        "\n",
        "\n",
        "<br>\n",
        "\n",
        "**Before starting, run the code below to import all necessary functions and libraries.**"
      ],
      "metadata": {
        "id": "1s-9JC7kWwrY"
      },
      "id": "1s-9JC7kWwrY"
    },
    {
      "cell_type": "code",
      "execution_count": null,
      "metadata": {
        "id": "LxC62c-hRcYv",
        "colab": {
          "base_uri": "https://localhost:8080/"
        },
        "outputId": "8e48b5b4-7e7e-4038-9fa2-26ff4a835a78"
      },
      "outputs": [
        {
          "output_type": "stream",
          "name": "stdout",
          "text": [
            "Libraries imported successfully!\n"
          ]
        }
      ],
      "source": [
        "# @title\n",
        "# Importing other python libraries\n",
        "import random\n",
        "import matplotlib.pyplot as plt\n",
        "import warnings\n",
        "warnings.filterwarnings(\"ignore\")\n",
        "\n",
        "print(\"Libraries imported successfully!\")"
      ],
      "id": "LxC62c-hRcYv"
    },
    {
      "cell_type": "markdown",
      "metadata": {
        "jp-MarkdownHeadingCollapsed": true,
        "tags": [],
        "id": "sVwVviQORgWa"
      },
      "source": [
        "<a name=\"p1\"></a>\n",
        "\n",
        "---\n",
        "## **Part 1: Linear Search**\n",
        "---\n",
        "\n",
        "In this section, we will implement and analyze the linear search algorithm."
      ],
      "id": "sVwVviQORgWa"
    },
    {
      "cell_type": "markdown",
      "source": [
        "#### **Problem #1.1**\n",
        "\n",
        "Create code to implement linear search for a list of numbers. We will use the following variables:\n",
        "* `list_items`: A list of numbers from 0 to 99 that we will search through.\n",
        "* `marked_item`: A randomly selected number from the list that we will search for.\n",
        "* `number_queries`: A count of how many times we need to query the list to find the marked item."
      ],
      "metadata": {
        "id": "ygbX_FcFUVuL"
      },
      "id": "ygbX_FcFUVuL"
    },
    {
      "cell_type": "code",
      "source": [
        "list_items = range(# COMPLETE THIS CODE\n",
        "marked_item = random.choice(# COMPLETE THIS CODE\n",
        "\n",
        "print(list_items)\n",
        "print(marked_item)\n",
        "\n",
        "number_queries = 0\n",
        "for item in list_items:\n",
        "\n",
        "    number_queries = number_queries + 1\n",
        "\n",
        "    if item == marked_item:\n",
        "        print(str(marked_item) + \" has been found in \" + str(number_queries) + \" queries.\")\n",
        "        break"
      ],
      "metadata": {
        "id": "R2D2dcD3TfMi"
      },
      "id": "R2D2dcD3TfMi",
      "execution_count": null,
      "outputs": []
    },
    {
      "cell_type": "markdown",
      "source": [
        "###### **Solution**"
      ],
      "metadata": {
        "id": "H1s6ZO0dTfqg"
      },
      "id": "H1s6ZO0dTfqg"
    },
    {
      "cell_type": "code",
      "source": [
        "list_items = range(100)\n",
        "\n",
        "marked_item = random.choice(list_items)\n",
        "number_queries = 0\n",
        "for item in list_items:\n",
        "\n",
        "    number_queries = number_queries + 1\n",
        "\n",
        "    if item == marked_item:\n",
        "        print(str(marked_item) + \" has been found in \" + str(number_queries) + \" queries.\")\n",
        "        break"
      ],
      "metadata": {
        "id": "KUg4v_rPUVuM",
        "colab": {
          "base_uri": "https://localhost:8080/"
        },
        "outputId": "c12df61b-0f35-4e03-e33b-342c0da29586"
      },
      "execution_count": null,
      "outputs": [
        {
          "output_type": "stream",
          "name": "stdout",
          "text": [
            "12 has been found in 13 queries.\n"
          ]
        }
      ],
      "id": "KUg4v_rPUVuM"
    },
    {
      "cell_type": "markdown",
      "source": [
        "#### **Problem #1.2**\n",
        "\n",
        "Code a function called `lin_search` such that it:\n",
        "* Takes `num` and `target` as input parameters.\n",
        "* `num` is the number of elemenst in `list_items`.\n",
        "* `target` is the `marked_item` to search for.\n",
        "* Returns the number of queries `marked_item` was found in."
      ],
      "metadata": {
        "id": "YcEAj6cjXqNu"
      },
      "id": "YcEAj6cjXqNu"
    },
    {
      "cell_type": "code",
      "source": [
        "def lin_search(# COMPLETE THIS CODE"
      ],
      "metadata": {
        "id": "5aey3xJ6Y9O7"
      },
      "id": "5aey3xJ6Y9O7",
      "execution_count": null,
      "outputs": []
    },
    {
      "cell_type": "markdown",
      "source": [
        "######**Solution**"
      ],
      "metadata": {
        "id": "aLBKgfAnYtXS"
      },
      "id": "aLBKgfAnYtXS"
    },
    {
      "cell_type": "code",
      "source": [
        "def lin_search(num, target):\n",
        "  list_items = range(num)\n",
        "  marked_item = target\n",
        "  number_queries = 0\n",
        "  for item in list_items:\n",
        "\n",
        "      number_queries = number_queries + 1\n",
        "\n",
        "      if item == marked_item:\n",
        "          print(str(marked_item) + \" has been found in \" + str(number_queries) + \" queries.\")\n",
        "          break"
      ],
      "metadata": {
        "id": "Bi9xKnmnWrQy"
      },
      "id": "Bi9xKnmnWrQy",
      "execution_count": null,
      "outputs": []
    },
    {
      "cell_type": "markdown",
      "metadata": {
        "jp-MarkdownHeadingCollapsed": true,
        "tags": [],
        "id": "WFmS9OGla44n"
      },
      "source": [
        "<a name=\"p2\"></a>\n",
        "\n",
        "---\n",
        "## **Part 2: Binary Search**\n",
        "---\n",
        "\n",
        "In this section, we will implement and analyze the binary search algorithm. We will also visually compare it to the linear search algorithm we implemented above.\n"
      ],
      "id": "WFmS9OGla44n"
    },
    {
      "cell_type": "markdown",
      "source": [
        "#### **Problem #2.1**\n",
        "\n",
        "Complete the code below to implement binary search for a list of numbers. We will use the following variables:\n",
        "* `list_items`: A list of numbers from 0 to 99 that we will search through.\n",
        "* `marked_item`: A randomly selected number from the list that we will search for.\n",
        "* `number_queries`: A count of how many times we need to query the list to find the marked item."
      ],
      "metadata": {
        "id": "xXt3_XDQa44o"
      },
      "id": "xXt3_XDQa44o"
    },
    {
      "cell_type": "code",
      "source": [
        "list_items = range(# COMPLETE THIS CODE\n",
        "marked_item = random.choice(list_items)\n",
        "\n",
        "left = 0\n",
        "right = len(list_items) - 1\n",
        "\n",
        "number_queries = 0\n",
        "for item in list_items:\n",
        "\n",
        "  number_queries = # COMPLETE THIS LINE\n",
        "\n",
        "  middle = int((left + right)/2)\n",
        "  if list_items[middle] > marked_item:\n",
        "    # COMPLETE THIS LINE\n",
        "  elif list_items[middle] < marked_item:\n",
        "    # COMPLETE THIS LINE\n",
        "  else:\n",
        "    print(str(marked_item) + \" has been found in \" + str(number_queries) + \" queries.\")\n",
        "    break"
      ],
      "metadata": {
        "id": "rWtwzpWGa44o"
      },
      "execution_count": null,
      "outputs": [],
      "id": "rWtwzpWGa44o"
    },
    {
      "cell_type": "markdown",
      "source": [
        "###### **Solution**"
      ],
      "metadata": {
        "id": "mbwk2sFha44o"
      },
      "id": "mbwk2sFha44o"
    },
    {
      "cell_type": "code",
      "source": [
        "list_items = range(100)\n",
        "marked_item = random.choice(list_items)\n",
        "\n",
        "left = 0\n",
        "right = len(list_items) - 1\n",
        "\n",
        "number_queries = 0\n",
        "for item in list_items:\n",
        "\n",
        "  number_queries = number_queries + 1\n",
        "\n",
        "  middle = int((left + right)/2)\n",
        "  if list_items[middle] > marked_item:\n",
        "    right = middle\n",
        "  elif list_items[middle] < marked_item:\n",
        "    left = middle\n",
        "  else:\n",
        "    print(str(marked_item) + \" has been found in \" + str(number_queries) + \" queries.\")\n",
        "    break"
      ],
      "metadata": {
        "colab": {
          "base_uri": "https://localhost:8080/"
        },
        "outputId": "81a830a4-07d4-4185-84f8-ea84c491cdf9",
        "id": "GOzQjXyYa44p"
      },
      "execution_count": null,
      "outputs": [
        {
          "output_type": "stream",
          "name": "stdout",
          "text": [
            "96 has been found in 7 queries.\n"
          ]
        }
      ],
      "id": "GOzQjXyYa44p"
    },
    {
      "cell_type": "markdown",
      "source": [
        "####**Problem #2.2**\n",
        "Code a function called `bin_search` such that it:\n",
        "* Takes `num` and `target` as input parameters.\n",
        "* `num` is the number of elemenst in `list_items`.\n",
        "* `target` is the `marked_item` to search for.\n",
        "* Returns the number of queries `marked_item` was found in."
      ],
      "metadata": {
        "id": "TmcfgEBJaZjG"
      },
      "id": "TmcfgEBJaZjG"
    },
    {
      "cell_type": "code",
      "source": [
        "def bin_search(# COMPLETE THIS CODE"
      ],
      "metadata": {
        "id": "wm3F3mQ3aiOo"
      },
      "id": "wm3F3mQ3aiOo",
      "execution_count": null,
      "outputs": []
    },
    {
      "cell_type": "markdown",
      "source": [
        "######**Solution**"
      ],
      "metadata": {
        "id": "b4xrtlGaanNR"
      },
      "id": "b4xrtlGaanNR"
    },
    {
      "cell_type": "code",
      "source": [
        "def bin_search(num, target):\n",
        "  list_items = range(num)\n",
        "  marked_item = target\n",
        "\n",
        "  left = 0\n",
        "  right = len(list_items) - 1\n",
        "\n",
        "  number_queries = 0\n",
        "  for item in list_items:\n",
        "\n",
        "    number_queries = number_queries + 1\n",
        "\n",
        "    middle = int((left + right)/2)\n",
        "    if list_items[middle] > marked_item:\n",
        "      right = middle\n",
        "    elif list_items[middle] < marked_item:\n",
        "      left = middle\n",
        "    else:\n",
        "      print(str(marked_item) + \" has been found in \" + str(number_queries) + \" queries.\")\n",
        "      break"
      ],
      "metadata": {
        "id": "om98yn0caBPN"
      },
      "id": "om98yn0caBPN",
      "execution_count": null,
      "outputs": []
    },
    {
      "cell_type": "code",
      "source": [
        "bin_search(100, )"
      ],
      "metadata": {
        "colab": {
          "base_uri": "https://localhost:8080/"
        },
        "id": "MX8jWWsfaOQI",
        "outputId": "d1a707aa-cb46-42fd-812f-fe5c99401738"
      },
      "id": "MX8jWWsfaOQI",
      "execution_count": null,
      "outputs": [
        {
          "output_type": "stream",
          "name": "stdout",
          "text": [
            "75 has been found in 6 queries.\n"
          ]
        }
      ]
    },
    {
      "cell_type": "markdown",
      "source": [
        "####**Problem #2.3**\n",
        "Using the `lin_search` and `bin_search` functions you defined, search for the number 98 in list of 100 elements. Which method finds the number faster?"
      ],
      "metadata": {
        "id": "WuCzZam2atau"
      },
      "id": "WuCzZam2atau"
    },
    {
      "cell_type": "code",
      "source": [
        "lin_search(# COMPLETE THIS CODE"
      ],
      "metadata": {
        "id": "Gc8DQkSIbk2W"
      },
      "id": "Gc8DQkSIbk2W",
      "execution_count": null,
      "outputs": []
    },
    {
      "cell_type": "code",
      "source": [
        "bin_search(# COMPLETE THIS CODE"
      ],
      "metadata": {
        "id": "U7uomupsbocY"
      },
      "id": "U7uomupsbocY",
      "execution_count": null,
      "outputs": []
    },
    {
      "cell_type": "markdown",
      "source": [
        "######**Solution**"
      ],
      "metadata": {
        "id": "hrv_hXHQbhm0"
      },
      "id": "hrv_hXHQbhm0"
    },
    {
      "cell_type": "code",
      "source": [
        "lin_search(100, 98)"
      ],
      "metadata": {
        "colab": {
          "base_uri": "https://localhost:8080/"
        },
        "id": "kcGP48jkbJKn",
        "outputId": "cb6a1e37-c47d-4910-ff15-6c399b4e420d"
      },
      "id": "kcGP48jkbJKn",
      "execution_count": null,
      "outputs": [
        {
          "output_type": "stream",
          "name": "stdout",
          "text": [
            "98 has been found in 99 queries.\n"
          ]
        }
      ]
    },
    {
      "cell_type": "code",
      "source": [
        "bin_search(100, 98)"
      ],
      "metadata": {
        "colab": {
          "base_uri": "https://localhost:8080/"
        },
        "id": "APvPKsVUbJBO",
        "outputId": "8fe4aa7b-a410-4c9b-9785-191316f2248f"
      },
      "id": "APvPKsVUbJBO",
      "execution_count": null,
      "outputs": [
        {
          "output_type": "stream",
          "name": "stdout",
          "text": [
            "98 has been found in 7 queries.\n"
          ]
        }
      ]
    },
    {
      "cell_type": "markdown",
      "source": [
        "####**Problem #2.4**\n",
        "Write code such that you select a random element, `var`, in a list of 10 elements. Use `lin_search` and `bin_search` to find this element. Repeat this for a list of 100 elements and 1,000 elements."
      ],
      "metadata": {
        "id": "CsEUKhplcIrX"
      },
      "id": "CsEUKhplcIrX"
    },
    {
      "cell_type": "code",
      "source": [
        "var = # COMPLETE THIS CODE"
      ],
      "metadata": {
        "id": "4vLP6tF7ekDq"
      },
      "id": "4vLP6tF7ekDq",
      "execution_count": null,
      "outputs": []
    },
    {
      "cell_type": "code",
      "source": [
        "lin_search(# COMPLETE THIS CODE"
      ],
      "metadata": {
        "id": "p5m_p4S2ej9d"
      },
      "id": "p5m_p4S2ej9d",
      "execution_count": null,
      "outputs": []
    },
    {
      "cell_type": "code",
      "source": [
        "bin_search(# COMPLETE THIS CODE"
      ],
      "metadata": {
        "id": "gDZb-j0mej4p"
      },
      "id": "gDZb-j0mej4p",
      "execution_count": null,
      "outputs": []
    },
    {
      "cell_type": "code",
      "source": [
        "var = # COMPLETE THIS CODE"
      ],
      "metadata": {
        "id": "qgfBnE9Tevo1"
      },
      "execution_count": null,
      "outputs": [],
      "id": "qgfBnE9Tevo1"
    },
    {
      "cell_type": "code",
      "source": [
        "lin_search(# COMPLETE THIS CODE"
      ],
      "metadata": {
        "id": "o-RL6VppevpA"
      },
      "execution_count": null,
      "outputs": [],
      "id": "o-RL6VppevpA"
    },
    {
      "cell_type": "code",
      "source": [
        "bin_search(# COMPLETE THIS CODE"
      ],
      "metadata": {
        "id": "kgnh-l2fevpB"
      },
      "execution_count": null,
      "outputs": [],
      "id": "kgnh-l2fevpB"
    },
    {
      "cell_type": "code",
      "source": [
        "var = # COMPLETE THIS CODE"
      ],
      "metadata": {
        "id": "7bXvNbgSewCL"
      },
      "execution_count": null,
      "outputs": [],
      "id": "7bXvNbgSewCL"
    },
    {
      "cell_type": "code",
      "source": [
        "lin_search(# COMPLETE THIS CODE"
      ],
      "metadata": {
        "id": "8LJ4vECNewCM"
      },
      "execution_count": null,
      "outputs": [],
      "id": "8LJ4vECNewCM"
    },
    {
      "cell_type": "code",
      "source": [
        "bin_search(# COMPLETE THIS CODE"
      ],
      "metadata": {
        "id": "UuX1ALSxewCM"
      },
      "execution_count": null,
      "outputs": [],
      "id": "UuX1ALSxewCM"
    },
    {
      "cell_type": "markdown",
      "source": [
        "######**Solution**"
      ],
      "metadata": {
        "id": "y66IU13Befqs"
      },
      "id": "y66IU13Befqs"
    },
    {
      "cell_type": "code",
      "source": [
        "var = random.choice(range(10))\n",
        "var"
      ],
      "metadata": {
        "colab": {
          "base_uri": "https://localhost:8080/"
        },
        "id": "PQn-bNxpczJ3",
        "outputId": "988e330c-0ddb-48d2-885c-827ad8109595"
      },
      "id": "PQn-bNxpczJ3",
      "execution_count": null,
      "outputs": [
        {
          "output_type": "execute_result",
          "data": {
            "text/plain": [
              "5"
            ]
          },
          "metadata": {},
          "execution_count": 39
        }
      ]
    },
    {
      "cell_type": "code",
      "source": [
        "lin_search(10, var)"
      ],
      "metadata": {
        "colab": {
          "base_uri": "https://localhost:8080/"
        },
        "id": "DG0f5NDMbutR",
        "outputId": "ca820e64-da09-4b86-ea58-68c0b684c5a9"
      },
      "id": "DG0f5NDMbutR",
      "execution_count": null,
      "outputs": [
        {
          "output_type": "stream",
          "name": "stdout",
          "text": [
            "5 has been found in 6 queries.\n"
          ]
        }
      ]
    },
    {
      "cell_type": "code",
      "source": [
        "bin_search(10, var)"
      ],
      "metadata": {
        "colab": {
          "base_uri": "https://localhost:8080/"
        },
        "id": "Egnc7wBhdF_s",
        "outputId": "a6a827d6-79fc-4fd7-a31e-937cb7998407"
      },
      "id": "Egnc7wBhdF_s",
      "execution_count": null,
      "outputs": [
        {
          "output_type": "stream",
          "name": "stdout",
          "text": [
            "5 has been found in 3 queries.\n"
          ]
        }
      ]
    },
    {
      "cell_type": "code",
      "source": [
        "var = random.choice(range(100))\n",
        "var"
      ],
      "metadata": {
        "colab": {
          "base_uri": "https://localhost:8080/"
        },
        "id": "_goAzoPmeBsW",
        "outputId": "71775cd0-4251-4572-c1f0-cf4db402833a"
      },
      "id": "_goAzoPmeBsW",
      "execution_count": null,
      "outputs": [
        {
          "output_type": "execute_result",
          "data": {
            "text/plain": [
              "62"
            ]
          },
          "metadata": {},
          "execution_count": 42
        }
      ]
    },
    {
      "cell_type": "code",
      "source": [
        "lin_search(100, var)"
      ],
      "metadata": {
        "colab": {
          "base_uri": "https://localhost:8080/"
        },
        "id": "4Afyc5YOeBNX",
        "outputId": "524e9080-1b9b-429f-ea46-e85fd34be585"
      },
      "id": "4Afyc5YOeBNX",
      "execution_count": null,
      "outputs": [
        {
          "output_type": "stream",
          "name": "stdout",
          "text": [
            "62 has been found in 63 queries.\n"
          ]
        }
      ]
    },
    {
      "cell_type": "code",
      "source": [
        "bin_search(100, var)"
      ],
      "metadata": {
        "colab": {
          "base_uri": "https://localhost:8080/"
        },
        "id": "Qor96y1ZeBB7",
        "outputId": "1081ea9d-1062-4b26-9ac8-810517a9e738"
      },
      "id": "Qor96y1ZeBB7",
      "execution_count": null,
      "outputs": [
        {
          "output_type": "stream",
          "name": "stdout",
          "text": [
            "62 has been found in 6 queries.\n"
          ]
        }
      ]
    },
    {
      "cell_type": "code",
      "source": [
        "var = random.choice(range(1000))\n",
        "var"
      ],
      "metadata": {
        "colab": {
          "base_uri": "https://localhost:8080/"
        },
        "id": "Ew_KDQdueJa9",
        "outputId": "873efa45-a10b-444a-b195-bd86891eaa19"
      },
      "id": "Ew_KDQdueJa9",
      "execution_count": null,
      "outputs": [
        {
          "output_type": "execute_result",
          "data": {
            "text/plain": [
              "428"
            ]
          },
          "metadata": {},
          "execution_count": 45
        }
      ]
    },
    {
      "cell_type": "code",
      "source": [
        "lin_search(1000, var)"
      ],
      "metadata": {
        "colab": {
          "base_uri": "https://localhost:8080/"
        },
        "id": "VAgGO_O5eJVL",
        "outputId": "70fe4e34-81fd-4c08-ce47-28849a60fd66"
      },
      "id": "VAgGO_O5eJVL",
      "execution_count": null,
      "outputs": [
        {
          "output_type": "stream",
          "name": "stdout",
          "text": [
            "428 has been found in 429 queries.\n"
          ]
        }
      ]
    },
    {
      "cell_type": "code",
      "source": [
        "bin_search(1000, var)"
      ],
      "metadata": {
        "colab": {
          "base_uri": "https://localhost:8080/"
        },
        "id": "UbEKS6ajeJQj",
        "outputId": "7cdc7346-c8b4-4cee-8248-9aec2f03f2e5"
      },
      "id": "UbEKS6ajeJQj",
      "execution_count": null,
      "outputs": [
        {
          "output_type": "stream",
          "name": "stdout",
          "text": [
            "428 has been found in 7 queries.\n"
          ]
        }
      ]
    },
    {
      "cell_type": "markdown",
      "source": [
        "#End of Notebook\n",
        "---\n",
        "© 2024 The Coding School, All rights reserved"
      ],
      "metadata": {
        "id": "hQJELyD6aeJ2"
      },
      "id": "hQJELyD6aeJ2"
    }
  ]
}