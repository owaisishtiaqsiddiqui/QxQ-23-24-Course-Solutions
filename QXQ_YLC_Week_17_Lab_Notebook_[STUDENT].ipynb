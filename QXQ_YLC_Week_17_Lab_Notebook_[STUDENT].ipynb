{
  "nbformat": 4,
  "nbformat_minor": 0,
  "metadata": {
    "colab": {
      "provenance": [],
      "include_colab_link": true
    },
    "kernelspec": {
      "name": "python3",
      "display_name": "Python 3"
    },
    "language_info": {
      "name": "python"
    }
  },
  "cells": [
    {
      "cell_type": "markdown",
      "metadata": {
        "id": "view-in-github",
        "colab_type": "text"
      },
      "source": [
        "<a href=\"https://colab.research.google.com/github/owaisishtiaqsiddiqui/QxQ-23-24-Course-Solutions/blob/main/QXQ_YLC_Week_17_Lab_Notebook_%5BSTUDENT%5D.ipynb\" target=\"_parent\"><img src=\"https://colab.research.google.com/assets/colab-badge.svg\" alt=\"Open In Colab\"/></a>"
      ]
    },
    {
      "cell_type": "markdown",
      "source": [
        "# **Lab 17: Noisy Simulations and Benchmarking**\n",
        "---\n",
        "\n",
        "### **Description**\n",
        "In this week's lab, we will see how to run noisy simulations and characterize the effects of noise using the swap test.\n",
        "\n",
        "<br>\n",
        "\n",
        "### **Structure**\n",
        "**Part 1**: [Noisy Simulations](#p1)\n",
        "> **Part 1.1**: [Adding General Noise](#p1.1)\n",
        "\n",
        "> **Part 1.2**: [Appending Noise to a Specific Moment](#p1.2)\n",
        "\n",
        "\n",
        "**Part 2**: [Noise Characterization with the Swap Test](#p2)\n",
        "\n",
        "> **Part 2.1**: [Calculating Fidelity with the Swap Test](#p2.1)\n",
        "\n",
        "> **Part 2.2**: [Characterizing Noise with the Swap Test](#p2.1)\n",
        "\n",
        "\n",
        "<br>\n",
        "\n",
        "### **Learning Objectives**\n",
        "By the end of this lab, we will:\n",
        "* Recognize how to run simulations in cirq with noise throughout a circuit and at specific moments of a circuit.\n",
        "* Recognize how to use the swap test to measure fidelity.\n",
        "* Recognize how to use the swap test to characterize noise in a circuit.\n",
        "\n",
        "<br>\n",
        "\n",
        "### **Resources**\n",
        "* [Noisy Simulations Cheat Sheet\n",
        "](https://docs.google.com/document/d/1Ex2m3dp5-_z8XN8EiBv6PUptHWrTLDpsKYU662oTy4A/edit#heading=h.exb19quwqzr9)\n",
        "\n",
        "* [Cirq Cheat Sheet](https://docs.google.com/document/d/1j0vEwtS6fK-tD1DWAPry4tJdxEiq8fwMtXuYNGRhK_M)\n",
        "\n",
        "\n",
        "<br>\n",
        "\n",
        "**Before starting, run the code below to import all necessary functions and libraries.**\n"
      ],
      "metadata": {
        "id": "mbZXQ3rA3NwL"
      }
    },
    {
      "cell_type": "code",
      "source": [
        "import random\n",
        "import matplotlib.pyplot as plt\n",
        "import numpy as np\n",
        "\n",
        "def binary_labels(num_qubits):\n",
        "    return [bin(x)[2:].zfill(num_qubits) for x in range(2 ** num_qubits)]\n",
        "plt.rcParams.update({'font.size': 8})\n",
        "\n",
        "try:\n",
        "    import cirq\n",
        "except ImportError:\n",
        "    print(\"installing cirq...\")\n",
        "    !pip install cirq --quiet\n",
        "    import cirq\n",
        "    print(\"installed cirq.\")"
      ],
      "metadata": {
        "id": "YAvvLhRIoqYp",
        "colab": {
          "base_uri": "https://localhost:8080/"
        },
        "outputId": "caa8d37c-3a81-4e81-b187-5e2a32468f05"
      },
      "execution_count": 2,
      "outputs": [
        {
          "output_type": "stream",
          "name": "stdout",
          "text": [
            "installing cirq...\n",
            "\u001b[2K     \u001b[90m━━━━━━━━━━━━━━━━━━━━━━━━━━━━━━━━━━━━━━━━\u001b[0m \u001b[32m1.8/1.8 MB\u001b[0m \u001b[31m24.6 MB/s\u001b[0m eta \u001b[36m0:00:00\u001b[0m\n",
            "\u001b[2K     \u001b[90m━━━━━━━━━━━━━━━━━━━━━━━━━━━━━━━━━━━━━━━━\u001b[0m \u001b[32m143.1/143.1 kB\u001b[0m \u001b[31m12.7 MB/s\u001b[0m eta \u001b[36m0:00:00\u001b[0m\n",
            "\u001b[2K     \u001b[90m━━━━━━━━━━━━━━━━━━━━━━━━━━━━━━━━━━━━━━━━\u001b[0m \u001b[32m598.8/598.8 kB\u001b[0m \u001b[31m34.3 MB/s\u001b[0m eta \u001b[36m0:00:00\u001b[0m\n",
            "\u001b[2K     \u001b[90m━━━━━━━━━━━━━━━━━━━━━━━━━━━━━━━━━━━━━━━━\u001b[0m \u001b[32m60.9/60.9 kB\u001b[0m \u001b[31m6.9 MB/s\u001b[0m eta \u001b[36m0:00:00\u001b[0m\n",
            "\u001b[2K     \u001b[90m━━━━━━━━━━━━━━━━━━━━━━━━━━━━━━━━━━━━━━━━\u001b[0m \u001b[32m66.2/66.2 kB\u001b[0m \u001b[31m7.3 MB/s\u001b[0m eta \u001b[36m0:00:00\u001b[0m\n",
            "\u001b[2K     \u001b[90m━━━━━━━━━━━━━━━━━━━━━━━━━━━━━━━━━━━━━━━━\u001b[0m \u001b[32m596.5/596.5 kB\u001b[0m \u001b[31m47.4 MB/s\u001b[0m eta \u001b[36m0:00:00\u001b[0m\n",
            "\u001b[2K     \u001b[90m━━━━━━━━━━━━━━━━━━━━━━━━━━━━━━━━━━━━━━━━\u001b[0m \u001b[32m223.8/223.8 kB\u001b[0m \u001b[31m24.7 MB/s\u001b[0m eta \u001b[36m0:00:00\u001b[0m\n",
            "\u001b[2K     \u001b[90m━━━━━━━━━━━━━━━━━━━━━━━━━━━━━━━━━━━━━━━━\u001b[0m \u001b[32m229.9/229.9 kB\u001b[0m \u001b[31m23.5 MB/s\u001b[0m eta \u001b[36m0:00:00\u001b[0m\n",
            "\u001b[?25h  Preparing metadata (setup.py) ... \u001b[?25l\u001b[?25hdone\n",
            "\u001b[2K     \u001b[90m━━━━━━━━━━━━━━━━━━━━━━━━━━━━━━━━━━━━━━━━\u001b[0m \u001b[32m151.7/151.7 kB\u001b[0m \u001b[31m16.6 MB/s\u001b[0m eta \u001b[36m0:00:00\u001b[0m\n",
            "\u001b[2K     \u001b[90m━━━━━━━━━━━━━━━━━━━━━━━━━━━━━━━━━━━━━━━━\u001b[0m \u001b[32m45.6/45.6 kB\u001b[0m \u001b[31m5.0 MB/s\u001b[0m eta \u001b[36m0:00:00\u001b[0m\n",
            "\u001b[?25h  Preparing metadata (setup.py) ... \u001b[?25l\u001b[?25hdone\n",
            "\u001b[2K     \u001b[90m━━━━━━━━━━━━━━━━━━━━━━━━━━━━━━━━━━━━━━━━\u001b[0m \u001b[32m1.6/1.6 MB\u001b[0m \u001b[31m70.4 MB/s\u001b[0m eta \u001b[36m0:00:00\u001b[0m\n",
            "\u001b[2K     \u001b[90m━━━━━━━━━━━━━━━━━━━━━━━━━━━━━━━━━━━━━━━━\u001b[0m \u001b[32m151.7/151.7 kB\u001b[0m \u001b[31m15.5 MB/s\u001b[0m eta \u001b[36m0:00:00\u001b[0m\n",
            "\u001b[2K     \u001b[90m━━━━━━━━━━━━━━━━━━━━━━━━━━━━━━━━━━━━━━━━\u001b[0m \u001b[32m151.7/151.7 kB\u001b[0m \u001b[31m14.9 MB/s\u001b[0m eta \u001b[36m0:00:00\u001b[0m\n",
            "\u001b[2K     \u001b[90m━━━━━━━━━━━━━━━━━━━━━━━━━━━━━━━━━━━━━━━━\u001b[0m \u001b[32m147.4/147.4 kB\u001b[0m \u001b[31m16.1 MB/s\u001b[0m eta \u001b[36m0:00:00\u001b[0m\n",
            "\u001b[2K     \u001b[90m━━━━━━━━━━━━━━━━━━━━━━━━━━━━━━━━━━━━━━━━\u001b[0m \u001b[32m147.4/147.4 kB\u001b[0m \u001b[31m18.0 MB/s\u001b[0m eta \u001b[36m0:00:00\u001b[0m\n",
            "\u001b[2K     \u001b[90m━━━━━━━━━━━━━━━━━━━━━━━━━━━━━━━━━━━━━━━━\u001b[0m \u001b[32m147.4/147.4 kB\u001b[0m \u001b[31m15.4 MB/s\u001b[0m eta \u001b[36m0:00:00\u001b[0m\n",
            "\u001b[2K     \u001b[90m━━━━━━━━━━━━━━━━━━━━━━━━━━━━━━━━━━━━━━━━\u001b[0m \u001b[32m142.7/142.7 kB\u001b[0m \u001b[31m17.2 MB/s\u001b[0m eta \u001b[36m0:00:00\u001b[0m\n",
            "\u001b[2K     \u001b[90m━━━━━━━━━━━━━━━━━━━━━━━━━━━━━━━━━━━━━━━━\u001b[0m \u001b[32m85.5/85.5 kB\u001b[0m \u001b[31m6.9 MB/s\u001b[0m eta \u001b[36m0:00:00\u001b[0m\n",
            "\u001b[2K     \u001b[90m━━━━━━━━━━━━━━━━━━━━━━━━━━━━━━━━━━━━━━━━\u001b[0m \u001b[32m85.1/85.1 kB\u001b[0m \u001b[31m8.3 MB/s\u001b[0m eta \u001b[36m0:00:00\u001b[0m\n",
            "\u001b[2K     \u001b[90m━━━━━━━━━━━━━━━━━━━━━━━━━━━━━━━━━━━━━━━━\u001b[0m \u001b[32m84.7/84.7 kB\u001b[0m \u001b[31m8.4 MB/s\u001b[0m eta \u001b[36m0:00:00\u001b[0m\n",
            "\u001b[2K     \u001b[90m━━━━━━━━━━━━━━━━━━━━━━━━━━━━━━━━━━━━━━━━\u001b[0m \u001b[32m83.6/83.6 kB\u001b[0m \u001b[31m9.7 MB/s\u001b[0m eta \u001b[36m0:00:00\u001b[0m\n",
            "\u001b[2K     \u001b[90m━━━━━━━━━━━━━━━━━━━━━━━━━━━━━━━━━━━━━━━━\u001b[0m \u001b[32m83.3/83.3 kB\u001b[0m \u001b[31m7.8 MB/s\u001b[0m eta \u001b[36m0:00:00\u001b[0m\n",
            "\u001b[2K     \u001b[90m━━━━━━━━━━━━━━━━━━━━━━━━━━━━━━━━━━━━━━━━\u001b[0m \u001b[32m83.4/83.4 kB\u001b[0m \u001b[31m8.6 MB/s\u001b[0m eta \u001b[36m0:00:00\u001b[0m\n",
            "\u001b[2K     \u001b[90m━━━━━━━━━━━━━━━━━━━━━━━━━━━━━━━━━━━━━━━━\u001b[0m \u001b[32m83.2/83.2 kB\u001b[0m \u001b[31m8.9 MB/s\u001b[0m eta \u001b[36m0:00:00\u001b[0m\n",
            "\u001b[2K     \u001b[90m━━━━━━━━━━━━━━━━━━━━━━━━━━━━━━━━━━━━━━━━\u001b[0m \u001b[32m82.5/82.5 kB\u001b[0m \u001b[31m9.8 MB/s\u001b[0m eta \u001b[36m0:00:00\u001b[0m\n",
            "\u001b[2K     \u001b[90m━━━━━━━━━━━━━━━━━━━━━━━━━━━━━━━━━━━━━━━━\u001b[0m \u001b[32m81.0/81.0 kB\u001b[0m \u001b[31m9.5 MB/s\u001b[0m eta \u001b[36m0:00:00\u001b[0m\n",
            "\u001b[2K     \u001b[90m━━━━━━━━━━━━━━━━━━━━━━━━━━━━━━━━━━━━━━━━\u001b[0m \u001b[32m81.0/81.0 kB\u001b[0m \u001b[31m9.0 MB/s\u001b[0m eta \u001b[36m0:00:00\u001b[0m\n",
            "\u001b[2K     \u001b[90m━━━━━━━━━━━━━━━━━━━━━━━━━━━━━━━━━━━━━━━━\u001b[0m \u001b[32m80.8/80.8 kB\u001b[0m \u001b[31m9.3 MB/s\u001b[0m eta \u001b[36m0:00:00\u001b[0m\n",
            "\u001b[2K     \u001b[90m━━━━━━━━━━━━━━━━━━━━━━━━━━━━━━━━━━━━━━━━\u001b[0m \u001b[32m80.7/80.7 kB\u001b[0m \u001b[31m9.3 MB/s\u001b[0m eta \u001b[36m0:00:00\u001b[0m\n",
            "\u001b[2K     \u001b[90m━━━━━━━━━━━━━━━━━━━━━━━━━━━━━━━━━━━━━━━━\u001b[0m \u001b[32m81.5/81.5 kB\u001b[0m \u001b[31m9.1 MB/s\u001b[0m eta \u001b[36m0:00:00\u001b[0m\n",
            "\u001b[2K     \u001b[90m━━━━━━━━━━━━━━━━━━━━━━━━━━━━━━━━━━━━━━━━\u001b[0m \u001b[32m90.4/90.4 kB\u001b[0m \u001b[31m12.1 MB/s\u001b[0m eta \u001b[36m0:00:00\u001b[0m\n",
            "\u001b[2K     \u001b[90m━━━━━━━━━━━━━━━━━━━━━━━━━━━━━━━━━━━━━━━━\u001b[0m \u001b[32m117.7/117.7 kB\u001b[0m \u001b[31m13.2 MB/s\u001b[0m eta \u001b[36m0:00:00\u001b[0m\n",
            "\u001b[2K     \u001b[90m━━━━━━━━━━━━━━━━━━━━━━━━━━━━━━━━━━━━━━━━\u001b[0m \u001b[32m60.6/60.6 kB\u001b[0m \u001b[31m6.8 MB/s\u001b[0m eta \u001b[36m0:00:00\u001b[0m\n",
            "\u001b[2K     \u001b[90m━━━━━━━━━━━━━━━━━━━━━━━━━━━━━━━━━━━━━━━━\u001b[0m \u001b[32m71.5/71.5 kB\u001b[0m \u001b[31m6.9 MB/s\u001b[0m eta \u001b[36m0:00:00\u001b[0m\n",
            "\u001b[2K     \u001b[90m━━━━━━━━━━━━━━━━━━━━━━━━━━━━━━━━━━━━━━━━\u001b[0m \u001b[32m3.1/3.1 MB\u001b[0m \u001b[31m97.2 MB/s\u001b[0m eta \u001b[36m0:00:00\u001b[0m\n",
            "\u001b[2K     \u001b[90m━━━━━━━━━━━━━━━━━━━━━━━━━━━━━━━━━━━━━━━━\u001b[0m \u001b[32m1.7/1.7 MB\u001b[0m \u001b[31m73.7 MB/s\u001b[0m eta \u001b[36m0:00:00\u001b[0m\n",
            "\u001b[2K     \u001b[90m━━━━━━━━━━━━━━━━━━━━━━━━━━━━━━━━━━━━━━━━\u001b[0m \u001b[32m117.8/117.8 kB\u001b[0m \u001b[31m13.9 MB/s\u001b[0m eta \u001b[36m0:00:00\u001b[0m\n",
            "\u001b[2K     \u001b[90m━━━━━━━━━━━━━━━━━━━━━━━━━━━━━━━━━━━━━━━━\u001b[0m \u001b[32m69.6/69.6 kB\u001b[0m \u001b[31m7.2 MB/s\u001b[0m eta \u001b[36m0:00:00\u001b[0m\n",
            "\u001b[2K     \u001b[90m━━━━━━━━━━━━━━━━━━━━━━━━━━━━━━━━━━━━━━━━\u001b[0m \u001b[32m526.7/526.7 kB\u001b[0m \u001b[31m39.4 MB/s\u001b[0m eta \u001b[36m0:00:00\u001b[0m\n",
            "\u001b[2K     \u001b[90m━━━━━━━━━━━━━━━━━━━━━━━━━━━━━━━━━━━━━━━━\u001b[0m \u001b[32m58.3/58.3 kB\u001b[0m \u001b[31m7.6 MB/s\u001b[0m eta \u001b[36m0:00:00\u001b[0m\n",
            "\u001b[?25h  Building wheel for lark (setup.py) ... \u001b[?25l\u001b[?25hdone\n",
            "  Building wheel for rpcq (setup.py) ... \u001b[?25l\u001b[?25hdone\n",
            "\u001b[31mERROR: pip's dependency resolver does not currently take into account all the packages that are installed. This behaviour is the source of the following dependency conflicts.\n",
            "referencing 0.34.0 requires attrs>=22.2.0, but you have attrs 21.4.0 which is incompatible.\u001b[0m\u001b[31m\n",
            "\u001b[0minstalled cirq.\n"
          ]
        }
      ]
    },
    {
      "cell_type": "markdown",
      "source": [
        "<a name=\"p1\"></a>\n",
        "\n",
        "---\n",
        "## **Part 1: Noisy Simulations**\n",
        "---\n",
        "\n",
        "In this section, we will explore two different ways to perform noisy simulations."
      ],
      "metadata": {
        "id": "idga37M2FsMR"
      }
    },
    {
      "cell_type": "markdown",
      "source": [
        "<a name=\"p1.1\"></a>\n",
        "\n",
        "---\n",
        "\n",
        "### **Part 1.1: Adding General Noise**\n",
        "\n",
        "---\n",
        "\n",
        "In this section, we will see how to simulate noise by adding it generally to the circuit using the `.with_noise(...)` method.\n",
        "\n",
        "<br>\n",
        "\n",
        "**Run the code below to create the circuit we will be using for the first few problems.**"
      ],
      "metadata": {
        "id": "1JpX47FYQLGK"
      }
    },
    {
      "cell_type": "code",
      "source": [
        "# Create qubits and circuit\n",
        "qubits = cirq.NamedQubit.range(2, prefix = 'q')\n",
        "circuit = cirq.Circuit()\n",
        "\n",
        "circuit.append(cirq.H(qubits[0]))\n",
        "circuit.append(cirq.CNOT(qubits[0], qubits[1]))\n",
        "circuit.append(cirq.measure(qubits))"
      ],
      "metadata": {
        "id": "IG6hAg7wRMXK"
      },
      "execution_count": 3,
      "outputs": []
    },
    {
      "cell_type": "markdown",
      "source": [
        "#### **Problem #1.1.1**\n",
        "\n",
        "**Together**, let's use simulate this circuit with a 5% chance of depolarizing noise."
      ],
      "metadata": {
        "id": "uoxLVJr_90UA"
      }
    },
    {
      "cell_type": "code",
      "source": [
        "# Define a noise model\n",
        "noise = cirq.depolarize(0.05)# COMPLETE THIS CODE\n",
        "\n",
        "# Create a simulator that uses the noise model\n",
        "simulator = cirq.Simulator()\n",
        "\n",
        "# Simulate the circuit\n",
        "result = simulator.run(circuit.with_noise(noise), repetitions=100)# COMPLETE THIS CODE\n",
        "\n",
        "# Get the results\n",
        "hist = cirq.plot_state_histogram(result, plt.subplot(), title = '5% Depolarization', xlabel = 'States', ylabel = 'Occurrences', tick_label=binary_labels(2))\n",
        "\n",
        "plt.show()"
      ],
      "metadata": {
        "id": "lpC-pJiL-azh",
        "colab": {
          "base_uri": "https://localhost:8080/",
          "height": 460
        },
        "outputId": "9268720d-54e6-4f3c-93d8-1e62f7f17dd7"
      },
      "execution_count": 5,
      "outputs": [
        {
          "output_type": "display_data",
          "data": {
            "text/plain": [
              "<Figure size 640x480 with 1 Axes>"
            ],
            "image/png": "[encoded data removed]"
          },
          "metadata": {}
        }
      ]
    },
    {
      "cell_type": "markdown",
      "source": [
        "#### **Problem #1.1.2**\n",
        "\n",
        "**Independently**, simulate this circuit with a 25% chance of depolarizing noise."
      ],
      "metadata": {
        "id": "ofCYaVDM-xcq"
      }
    },
    {
      "cell_type": "code",
      "source": [
        "# Define a noise model\n",
        "noise = cirq.depolarize(0.25)# COMPLETE THIS CODE\n",
        "\n",
        "# Create a simulator that uses the noise model\n",
        "simulator = cirq.Simulator()\n",
        "\n",
        "# Simulate the circuit\n",
        "result = simulator.run(circuit.with_noise(noise),repetitions =100)# COMPLETE THIS CODE\n",
        "\n",
        "# Get the results\n",
        "hist = cirq.plot_state_histogram(result, plt.subplot(), title = '25% Depolarization', xlabel = 'States', ylabel = 'Occurrences', tick_label=binary_labels(2))\n",
        "\n",
        "plt.show()"
      ],
      "metadata": {
        "id": "UfgAgcIX-xcq",
        "colab": {
          "base_uri": "https://localhost:8080/",
          "height": 460
        },
        "outputId": "47ddc558-de56-43f7-97b1-921503efb1f9"
      },
      "execution_count": 6,
      "outputs": [
        {
          "output_type": "display_data",
          "data": {
            "text/plain": [
              "<Figure size 640x480 with 1 Axes>"
            ],
            "image/png": "[encoded data removed]"
          },
          "metadata": {}
        }
      ]
    },
    {
      "cell_type": "markdown",
      "source": [
        "#### **Problem #1.1.3**\n",
        "\n",
        "**Independently**, simulate this circuit with a 100% chance of depolarizing noise."
      ],
      "metadata": {
        "id": "FqOCeyhT_ogB"
      }
    },
    {
      "cell_type": "code",
      "source": [
        "# Define a noise model\n",
        "noise = cirq.depolarize(1.0)\n",
        "\n",
        "# Create a simulator that uses the noise model\n",
        "simulator = cirq.Simulator()\n",
        "\n",
        "# Simulate the circuit\n",
        "result = simulator.run(circuit.with_noise(noise), repetitions=100)\n",
        "\n",
        "# Get the results\n",
        "hist = cirq.plot_state_histogram(result, plt.subplot(), title = '100% Depolarization', xlabel = 'States', ylabel = 'Occurrences', tick_label=binary_labels(2))\n",
        "\n",
        "plt.show()"
      ],
      "metadata": {
        "id": "GfDoYJbn_ogC",
        "colab": {
          "base_uri": "https://localhost:8080/",
          "height": 460
        },
        "outputId": "f37337c8-0d3f-43ca-d915-17c4f501e3e5"
      },
      "execution_count": 9,
      "outputs": [
        {
          "output_type": "display_data",
          "data": {
            "text/plain": [
              "<Figure size 640x480 with 1 Axes>"
            ],
            "image/png": "[encoded data removed]"
          },
          "metadata": {}
        }
      ]
    },
    {
      "cell_type": "markdown",
      "source": [
        "<a name=\"p1.2\"></a>\n",
        "\n",
        "---\n",
        "\n",
        "### **Part 1.2: Appending Noise to a Specific Moment**\n",
        "\n",
        "---\n",
        "\n",
        "In this section, we will see how to simulate noise by appending noise to a specific moment in a circuit. This leaves the rest of the circuit are completely noise free. This offers more granular, precise control over the noise, but tends to be less realistic."
      ],
      "metadata": {
        "id": "2D37msH5Qbnr"
      }
    },
    {
      "cell_type": "markdown",
      "source": [
        "#### **Problem #1.2.1**\n",
        "\n",
        "**Together**, let's simulate this circuit with a 100% chance of depolarizing noise on just $q_0$ before applying the H gate."
      ],
      "metadata": {
        "id": "5-F31zLd_4GW"
      }
    },
    {
      "cell_type": "code",
      "source": [
        "# Define a noise model\n",
        "noise = cirq.depolarize(1.0)\n",
        "\n",
        "\n",
        "# Create qubits and circuit\n",
        "qubits = cirq.NamedQubit.range(2, prefix = 'q')\n",
        "circuit = cirq.Circuit()\n",
        "\n",
        "circuit.append(noise.on_each(qubits[0]))\n",
        "circuit.append(cirq.H(qubits[0]))\n",
        "circuit.append(cirq.CNOT(qubits[0], qubits[1]))\n",
        "circuit.append(cirq.measure(qubits))\n",
        "\n",
        "print(circuit)"
      ],
      "metadata": {
        "id": "-H9FpP6A_4GX",
        "colab": {
          "base_uri": "https://localhost:8080/"
        },
        "outputId": "36a789cc-179f-429a-9255-a54ae55653d5"
      },
      "execution_count": 10,
      "outputs": [
        {
          "output_type": "stream",
          "name": "stdout",
          "text": [
            "q0: ───D(1)───H───@───M───\n",
            "                  │   │\n",
            "q1: ──────────────X───M───\n"
          ]
        }
      ]
    },
    {
      "cell_type": "code",
      "source": [
        "# Create a simulator that uses the noise model\n",
        "simulator = cirq.Simulator()\n",
        "result = simulator.run(circuit, repetitions=1000)\n",
        "\n",
        "# Get the results\n",
        "hist = cirq.plot_state_histogram(result, plt.subplot(), title = 'Qubit States', xlabel = 'States', ylabel = 'Occurrences', tick_label=binary_labels(2))\n",
        "\n",
        "plt.show()"
      ],
      "metadata": {
        "id": "_3vgdhCdICX2",
        "colab": {
          "base_uri": "https://localhost:8080/",
          "height": 460
        },
        "outputId": "8d8ff2dd-5499-4f2b-c388-8242099d1d05"
      },
      "execution_count": 11,
      "outputs": [
        {
          "output_type": "display_data",
          "data": {
            "text/plain": [
              "<Figure size 640x480 with 1 Axes>"
            ],
            "image/png": "[encoded data removed]"
          },
          "metadata": {}
        }
      ]
    },
    {
      "cell_type": "markdown",
      "source": [
        "#### **Problem #1.2.2**\n",
        "\n",
        "**Independently**, simulate this circuit with a 100% chance of depolarizing noise on just $q_0$ after applying the H gate and before applying the CNOT gate."
      ],
      "metadata": {
        "id": "gNsyRF1VHrtJ"
      }
    },
    {
      "cell_type": "code",
      "source": [
        "# COMPLETE THIS CODE\n",
        "# Define a noise model\n",
        "noise = cirq.depolarize(1.0)\n",
        "\n",
        "\n",
        "# Create qubits and circuit\n",
        "qubits = cirq.NamedQubit.range(2, prefix = 'q')\n",
        "circuit = cirq.Circuit()\n",
        "\n",
        "circuit.append(cirq.H(qubits[0]))\n",
        "circuit.append(noise.on_each(qubits[0]))\n",
        "circuit.append(cirq.CNOT(qubits[0], qubits[1]))\n",
        "circuit.append(cirq.measure(qubits))\n",
        "\n",
        "print(circuit)"
      ],
      "metadata": {
        "id": "VdVIMvlRH0lG",
        "colab": {
          "base_uri": "https://localhost:8080/"
        },
        "outputId": "31f95179-2dd8-4db1-8272-326dfefffc23"
      },
      "execution_count": 12,
      "outputs": [
        {
          "output_type": "stream",
          "name": "stdout",
          "text": [
            "q0: ───H───D(1)───@───M───\n",
            "                  │   │\n",
            "q1: ──────────────X───M───\n"
          ]
        }
      ]
    },
    {
      "cell_type": "code",
      "source": [
        "# Create a simulator that uses the noise model\n",
        "simulator = cirq.Simulator()\n",
        "result = simulator.run(circuit, repetitions=1000)\n",
        "\n",
        "# Get the results\n",
        "hist = cirq.plot_state_histogram(result, plt.subplot(), title = 'Qubit States', xlabel = 'States', ylabel = 'Occurrences', tick_label=binary_labels(2))\n",
        "\n",
        "plt.show()"
      ],
      "metadata": {
        "colab": {
          "base_uri": "https://localhost:8080/",
          "height": 460
        },
        "id": "VYMW2_7cRgZj",
        "outputId": "c24af602-a0ea-4377-b3ee-19c56e06c4af"
      },
      "execution_count": 13,
      "outputs": [
        {
          "output_type": "display_data",
          "data": {
            "text/plain": [
              "<Figure size 640x480 with 1 Axes>"
            ],
            "image/png": "[encoded data removed]"
          },
          "metadata": {}
        }
      ]
    },
    {
      "cell_type": "markdown",
      "source": [
        "#### **Problem #1.2.3**\n",
        "\n",
        "**Independently**, simulate this circuit with a 100% chance of depolarizing noise on just $q_0$ after the CNOT gate, but before the measurement."
      ],
      "metadata": {
        "id": "7jxk0nCoILBD"
      }
    },
    {
      "cell_type": "code",
      "source": [
        "# COMPLETE THIS CODE\n",
        "# Define a noise model\n",
        "noise = cirq.depolarize(1.0)\n",
        "\n",
        "\n",
        "# Create qubits and circuit\n",
        "qubits = cirq.NamedQubit.range(2, prefix = 'q')\n",
        "circuit = cirq.Circuit()\n",
        "\n",
        "circuit.append(cirq.H(qubits[0]))\n",
        "circuit.append(cirq.CNOT(qubits[0], qubits[1]))\n",
        "circuit.append(noise.on_each(qubits[0]))\n",
        "circuit.append(cirq.measure(qubits))\n",
        "\n",
        "print(circuit)"
      ],
      "metadata": {
        "id": "cHgymLoSILBF",
        "colab": {
          "base_uri": "https://localhost:8080/"
        },
        "outputId": "36b25538-a5d4-4efe-b999-7cdc669463a7"
      },
      "execution_count": 14,
      "outputs": [
        {
          "output_type": "stream",
          "name": "stdout",
          "text": [
            "q0: ───H───@───D(1)───M───\n",
            "           │          │\n",
            "q1: ───────X──────────M───\n"
          ]
        }
      ]
    },
    {
      "cell_type": "code",
      "source": [
        "# Create a simulator that uses the noise model\n",
        "simulator = cirq.Simulator()\n",
        "result = simulator.run(circuit, repetitions=1000)\n",
        "\n",
        "# Get the results\n",
        "hist = cirq.plot_state_histogram(result, plt.subplot(), title = 'Qubit States', xlabel = 'States', ylabel = 'Occurrences', tick_label=binary_labels(2))\n",
        "\n",
        "plt.show()"
      ],
      "metadata": {
        "colab": {
          "base_uri": "https://localhost:8080/",
          "height": 460
        },
        "id": "2f81_JXrR5Ea",
        "outputId": "34be448c-189d-412e-e393-3a951966562f"
      },
      "execution_count": 15,
      "outputs": [
        {
          "output_type": "display_data",
          "data": {
            "text/plain": [
              "<Figure size 640x480 with 1 Axes>"
            ],
            "image/png": "[encoded data removed]"
          },
          "metadata": {}
        }
      ]
    },
    {
      "cell_type": "markdown",
      "source": [
        "<a name=\"p2\"></a>\n",
        "\n",
        "---\n",
        "## **Part 2: Noise Characterization with the Swap Test**\n",
        "---\n",
        "\n",
        "In this section, we will see how to perform a swap test to calculate fidelity generally and use it specifically to characterize the noise present in a circuit."
      ],
      "metadata": {
        "id": "-y0p2cPs8Y08"
      }
    },
    {
      "cell_type": "markdown",
      "source": [
        "<a name=\"p2.1\"></a>\n",
        "\n",
        "---\n",
        "\n",
        "### **Part 2.1: Calculating Fidelity with the Swap Test**\n",
        "\n",
        "---"
      ],
      "metadata": {
        "id": "C0dLKb-1SgPv"
      }
    },
    {
      "cell_type": "markdown",
      "source": [
        "#### **Problem #2.1.1**\n",
        "\n",
        "**Together**, let's see how to implement a swap test for two states: $|0\\rangle$ and $|1\\rangle$. We will do this in four steps:\n",
        "\n",
        "1. Prepare 2 qubits in the given states and 1 ancilla qubit in the $|0\\rangle$ state.\n",
        "\n",
        "2. Append the swap test circuit.\n",
        "\n",
        "3. Run the circuit.\n",
        "\n",
        "4. Calculate the fidelity."
      ],
      "metadata": {
        "id": "HBnUXcCF8Y1J"
      }
    },
    {
      "cell_type": "markdown",
      "source": [
        "##### **1. Prepare 2 qubits in the given states and 1 ancilla qubit in the $|0\\rangle$ state.**\n",
        "\n",
        "Specifically,\n",
        "* Put $q_0$ into the $|0\\rangle$ state.\n",
        "* Put $q_1$ into the $|1\\rangle$ state.\n",
        "* Put $\\text{ancilla}$ into the $|0\\rangle$ state."
      ],
      "metadata": {
        "id": "Xlr2O9CcT94I"
      }
    },
    {
      "cell_type": "code",
      "source": [
        "# Create qubits\n",
        "q0 = cirq.NamedQubit('state 0')\n",
        "q1 = cirq.NamedQubit('state 1')\n",
        "ancilla = cirq.NamedQubit('anc')\n",
        "\n",
        "\n",
        "# Prepare the qubit states\n",
        "circuit_0 = cirq.Circuit()\n",
        "circuit_0.append(cirq.I(q0))\n",
        "\n",
        "circuit_1 = cirq.Circuit()\n",
        "circuit_1.append(cirq.X(q1))\n",
        "\n",
        "circuit = circuit_0 + circuit_1"
      ],
      "metadata": {
        "id": "ZKGH0L0KdTjo"
      },
      "execution_count": 22,
      "outputs": []
    },
    {
      "cell_type": "markdown",
      "source": [
        "##### **2. Append the swap test circuit.**\n",
        "\n",
        "This is always the same circuit with the following steps:\n",
        "\n",
        "1. Apply an H gate on the ancilla.\n",
        "2. Apply a *controlled* swap gate with the ancilla as the control and the two other qubits as the targets.\n",
        "3. Apply an H gate on the ancilla.\n",
        "4. Measure the ancilla qubit."
      ],
      "metadata": {
        "id": "ao1-SBISUCxn"
      }
    },
    {
      "cell_type": "code",
      "source": [
        "# Put ancilla in superposition\n",
        "circuit.append(cirq.H(ancilla))\n",
        "\n",
        "# Controlled-Swap controlled by ancilla and targeting q0 and q1\n",
        "circuit.append(cirq.CSWAP(ancilla, q0, q1))\n",
        "\n",
        "# Apply an H gate on the ancilla.\n",
        "circuit.append(cirq.H(ancilla))\n",
        "\n",
        "# Measure ancilla\n",
        "circuit.append(cirq.measure(ancilla))\n",
        "\n",
        "circuit"
      ],
      "metadata": {
        "id": "v_keCYq0UCxz",
        "colab": {
          "base_uri": "https://localhost:8080/",
          "height": 104
        },
        "outputId": "fb23ff4a-9041-4e82-fa55-26765c072aa2"
      },
      "execution_count": 23,
      "outputs": [
        {
          "output_type": "execute_result",
          "data": {
            "text/plain": [
              "anc: ───────H───────@───H───M───\n",
              "                    │\n",
              "state 0: ───I───────×───────────\n",
              "                    │\n",
              "state 1: ───────X───×───────────"
            ],
            "text/html": [
              "<pre style=\"overflow: auto; white-space: pre;\">anc: ───────H───────@───H───M───\n",
              "                    │\n",
              "state 0: ───I───────×───────────\n",
              "                    │\n",
              "state 1: ───────X───×───────────</pre>"
            ]
          },
          "metadata": {},
          "execution_count": 23
        }
      ]
    },
    {
      "cell_type": "markdown",
      "source": [
        "##### **3. Run the circuit.**\n",
        "\n",
        "Now, run the circuit 1000 times using a simulator."
      ],
      "metadata": {
        "id": "rGV0R-SVUFOL"
      }
    },
    {
      "cell_type": "code",
      "source": [
        "simulator = cirq.Simulator()\n",
        "result = simulator.run(circuit, repetitions=1000)\n",
        "\n",
        "hist = cirq.plot_state_histogram(result, plt.subplot(), title = 'Swap Test Outcome', xlabel = 'Ancilla State', ylabel = 'Occurrences', tick_label=binary_labels(1))\n",
        "plt.show()"
      ],
      "metadata": {
        "id": "VpiJiyybUFON",
        "colab": {
          "base_uri": "https://localhost:8080/",
          "height": 460
        },
        "outputId": "f5b280c0-2589-46a6-94dc-11505158031e"
      },
      "execution_count": 25,
      "outputs": [
        {
          "output_type": "display_data",
          "data": {
            "text/plain": [
              "<Figure size 640x480 with 1 Axes>"
            ],
            "image/png": "[encoded data removed]"
          },
          "metadata": {}
        }
      ]
    },
    {
      "cell_type": "markdown",
      "source": [
        "##### **4. Calculate the fidelity.**\n",
        "\n",
        "Typically, we use the swap test measurements to calculate fidelity by applying the following equation: $\\mathbf{\\text{fidelity} = 1 - 2*\\text{prob}(0)}$."
      ],
      "metadata": {
        "id": "0rVaw9cBUFUg"
      }
    },
    {
      "cell_type": "code",
      "source": [
        "prob_0 = np.sum(result.measurements['anc']) / len(result.measurements['anc'])\n",
        "\n",
        "fidelity = 1 - 2*prob_0\n",
        "\n",
        "fidelity"
      ],
      "metadata": {
        "id": "ADQ7zyLCUFUg",
        "colab": {
          "base_uri": "https://localhost:8080/"
        },
        "outputId": "0e680edc-49a2-4de7-b009-b8c631914e02"
      },
      "execution_count": 26,
      "outputs": [
        {
          "output_type": "execute_result",
          "data": {
            "text/plain": [
              "-0.0040000000000000036"
            ]
          },
          "metadata": {},
          "execution_count": 26
        }
      ]
    },
    {
      "cell_type": "markdown",
      "source": [
        "#### **Problem #2.1.2**\n",
        "\n",
        "**Independently**, implement a swap test for two states: $|1\\rangle$ and $|1\\rangle$, following our four steps:\n",
        "\n",
        "1. Prepare 2 qubits in the given states and 1 ancilla qubit in the $|0\\rangle$ state.\n",
        "\n",
        "2. Append the swap test circuit.\n",
        "\n",
        "3. Run the circuit.\n",
        "\n",
        "4. Calculate the fidelity."
      ],
      "metadata": {
        "id": "8v16IsdnYdh6"
      }
    },
    {
      "cell_type": "markdown",
      "source": [
        "##### **1. Prepare 2 qubits in the given states and 1 ancilla qubit in the $|0\\rangle$ state.**\n",
        "\n",
        "Specifically,\n",
        "* Put $q_0$ into the $|1\\rangle$ state.\n",
        "* Put $q_1$ into the $|1\\rangle$ state.\n",
        "* Put $\\text{ancilla}$ into the $|0\\rangle$ state."
      ],
      "metadata": {
        "id": "QT9y4lMqYdiH"
      }
    },
    {
      "cell_type": "code",
      "source": [
        "# Create qubits\n",
        "q0 = cirq.NamedQubit('state 0')\n",
        "q1 = cirq.NamedQubit('state 1')\n",
        "ancilla = cirq.NamedQubit('anc')\n",
        "\n",
        "\n",
        "# Prepare the qubit states\n",
        "circuit_0 = cirq.Circuit()\n",
        "circuit_0.append(cirq.X(q0))# COMPLETE THIS CODE\n",
        "\n",
        "circuit_1 = cirq.Circuit()\n",
        "circuit_1.append(cirq.X(q1))# COMPLETE THIS CODE\n",
        "\n",
        "circuit = circuit_0 + circuit_1# COMPLETE THIS CODE"
      ],
      "metadata": {
        "id": "gh1RplhcdKt3"
      },
      "execution_count": 29,
      "outputs": []
    },
    {
      "cell_type": "markdown",
      "source": [
        "##### **2. Append the swap test circuit.**\n",
        "\n",
        "This is always the same circuit with the following steps:\n",
        "\n",
        "1. Put the ancilla qubit into superposition.\n",
        "2. Apply a *controlled* swap gate with the ancilla as the control and the two other qubits as the targets.\n",
        "3. Take the ancilla qubit out of superposition.\n",
        "4. Measure the ancilla qubit."
      ],
      "metadata": {
        "id": "oC7GlIq4YdiH"
      }
    },
    {
      "cell_type": "code",
      "source": [
        "# Put ancilla in superposition\n",
        "circuit.append(cirq.H(ancilla))# COMPLETE THIS CODE\n",
        "\n",
        "# Controlled-Swap controlled by ancilla and targeting q0 and q1\n",
        "circuit.append(cirq.CSWAP(ancilla, q0, q1))# COMPLETE THIS CODE\n",
        "\n",
        "# Apply an H gate on the ancilla.\n",
        "circuit.append(cirq.H(ancilla))# COMPLETE THIS CODE\n",
        "\n",
        "# Measure ancilla\n",
        "circuit.append(cirq.measure(ancilla))# COMPLETE THIS CODE\n",
        "\n",
        "\n",
        "circuit"
      ],
      "metadata": {
        "id": "2_X56VSsYdiH",
        "colab": {
          "base_uri": "https://localhost:8080/",
          "height": 104
        },
        "outputId": "21626238-60e5-4580-f48d-7e73166bb2f8"
      },
      "execution_count": 30,
      "outputs": [
        {
          "output_type": "execute_result",
          "data": {
            "text/plain": [
              "anc: ───────H───────@───H───M───\n",
              "                    │\n",
              "state 0: ───X───────×───────────\n",
              "                    │\n",
              "state 1: ───────X───×───────────"
            ],
            "text/html": [
              "<pre style=\"overflow: auto; white-space: pre;\">anc: ───────H───────@───H───M───\n",
              "                    │\n",
              "state 0: ───X───────×───────────\n",
              "                    │\n",
              "state 1: ───────X───×───────────</pre>"
            ]
          },
          "metadata": {},
          "execution_count": 30
        }
      ]
    },
    {
      "cell_type": "markdown",
      "source": [
        "##### **3. Run the circuit.**\n",
        "\n",
        "Now, run the circuit 1000 times using a simulator."
      ],
      "metadata": {
        "id": "wmQVspDIYdiI"
      }
    },
    {
      "cell_type": "code",
      "source": [
        "simulator = cirq.Simulator()\n",
        "result = simulator.run(circuit, repetitions=100)# COMPLETE THIS CODE\n",
        "result\n",
        "\n",
        "hist = cirq.plot_state_histogram(result, plt.subplot(), title = 'Swap Test Outcome', xlabel = 'Ancilla State', ylabel = 'Occurrences', tick_label=binary_labels(1))\n",
        "plt.show()"
      ],
      "metadata": {
        "id": "YFlE2pyYYdiI",
        "colab": {
          "base_uri": "https://localhost:8080/",
          "height": 460
        },
        "outputId": "a1182f79-f13e-43ba-f5b1-2c6a89129b81"
      },
      "execution_count": 31,
      "outputs": [
        {
          "output_type": "display_data",
          "data": {
            "text/plain": [
              "<Figure size 640x480 with 1 Axes>"
            ],
            "image/png": "[encoded data removed]"
          },
          "metadata": {}
        }
      ]
    },
    {
      "cell_type": "markdown",
      "source": [
        "##### **4. Calculate the fidelity.**\n",
        "\n",
        "Typically, we use the swap test measurements to calculate fidelity by applying the following equation: $\\mathbf{\\text{fidelity} = 1 - 2*\\text{prob}(0)}$."
      ],
      "metadata": {
        "id": "FAbhgjuzYdiI"
      }
    },
    {
      "cell_type": "code",
      "source": [
        "prob_0 = np.sum(result.measurements['anc']) / len(result.measurements['anc'])\n",
        "\n",
        "fidelity = 1-2*prob_0# COMPLETE THIS CODE\n",
        "\n",
        "fidelity"
      ],
      "metadata": {
        "id": "4xuI6J_ZYdiI",
        "colab": {
          "base_uri": "https://localhost:8080/"
        },
        "outputId": "266c8eac-8cc0-4c47-c661-26496e5b5a17"
      },
      "execution_count": 32,
      "outputs": [
        {
          "output_type": "execute_result",
          "data": {
            "text/plain": [
              "1.0"
            ]
          },
          "metadata": {},
          "execution_count": 32
        }
      ]
    },
    {
      "cell_type": "markdown",
      "source": [
        "#### **Problem #2.1.3**\n",
        "\n",
        "**Independently**, implement a swap test for two states: $|1\\rangle$ and $|+\\rangle$, following our four steps:\n",
        "\n",
        "1. Prepare 2 qubits in the given states and 1 ancilla qubit in the $|0\\rangle$ state.\n",
        "\n",
        "2. Append the swap test circuit.\n",
        "\n",
        "3. Run the circuit.\n",
        "\n",
        "4. Calculate the fidelity."
      ],
      "metadata": {
        "id": "A81EUA2LX1-_"
      }
    },
    {
      "cell_type": "markdown",
      "source": [
        "##### **1. Prepare 2 qubits in the given states and 1 ancilla qubit in the $|0\\rangle$ state.**\n",
        "\n",
        "Specifically,\n",
        "* Put $q_0$ into the $|1\\rangle$ state.\n",
        "* Put $q_1$ into the $|+\\rangle$ state.\n",
        "* Put $\\text{ancilla}$ into the $|0\\rangle$ state."
      ],
      "metadata": {
        "id": "yTIGkCy9X1_M"
      }
    },
    {
      "cell_type": "code",
      "source": [
        "# COMPLETE THIS CODE\n",
        "# Create qubits\n",
        "q0 = cirq.NamedQubit('state 0')\n",
        "q1 = cirq.NamedQubit('state 1')\n",
        "ancilla = cirq.NamedQubit('anc')\n",
        "\n",
        "\n",
        "# Prepare the qubit states\n",
        "circuit_0 = cirq.Circuit()\n",
        "circuit_0.append(cirq.X(q0))\n",
        "\n",
        "circuit_1 = cirq.Circuit()\n",
        "circuit_1.append(cirq.H(q1))\n",
        "\n",
        "circuit = circuit_0 + circuit_1"
      ],
      "metadata": {
        "id": "Ves74hBzX1_N"
      },
      "execution_count": 33,
      "outputs": []
    },
    {
      "cell_type": "markdown",
      "source": [
        "##### **2. Append the swap test circuit.**\n",
        "\n",
        "This is always the same circuit with the following steps:\n",
        "\n",
        "1. Put the ancilla qubit into superposition.\n",
        "2. Apply a *controlled* swap gate with the ancilla as the control and the two other qubits as the targets.\n",
        "3. Take the ancilla qubit out of superposition.\n",
        "4. Measure the ancilla qubit."
      ],
      "metadata": {
        "id": "kdMUXmAlX1_N"
      }
    },
    {
      "cell_type": "code",
      "source": [
        "# COMPLETE THIS CODE\n",
        "# Put ancilla in superposition\n",
        "circuit.append(cirq.H(ancilla))\n",
        "\n",
        "# Controlled-Swap controlled by ancilla and targeting q0 and q1\n",
        "circuit.append(cirq.CSWAP(ancilla, q0, q1))\n",
        "\n",
        "# Apply an H gate on the ancilla.\n",
        "circuit.append(cirq.H(ancilla))\n",
        "\n",
        "# Measure ancilla\n",
        "circuit.append(cirq.measure(ancilla))\n",
        "\n",
        "circuit"
      ],
      "metadata": {
        "id": "OrZ6516mX1_N",
        "colab": {
          "base_uri": "https://localhost:8080/",
          "height": 104
        },
        "outputId": "f70556da-7618-4515-9f1d-2a43d0b46847"
      },
      "execution_count": 34,
      "outputs": [
        {
          "output_type": "execute_result",
          "data": {
            "text/plain": [
              "anc: ───────H───────@───H───M───\n",
              "                    │\n",
              "state 0: ───X───────×───────────\n",
              "                    │\n",
              "state 1: ───────H───×───────────"
            ],
            "text/html": [
              "<pre style=\"overflow: auto; white-space: pre;\">anc: ───────H───────@───H───M───\n",
              "                    │\n",
              "state 0: ───X───────×───────────\n",
              "                    │\n",
              "state 1: ───────H───×───────────</pre>"
            ]
          },
          "metadata": {},
          "execution_count": 34
        }
      ]
    },
    {
      "cell_type": "markdown",
      "source": [
        "##### **3. Run the circuit.**\n",
        "\n",
        "Now, run the circuit 1000 times using a simulator."
      ],
      "metadata": {
        "id": "bmGjeCbkX1_O"
      }
    },
    {
      "cell_type": "code",
      "source": [
        "simulator = cirq.Simulator()\n",
        "result = simulator.run(circuit, repetitions=100)# COMPLETE THIS CODE\n",
        "result\n",
        "\n",
        "hist = cirq.plot_state_histogram(result, plt.subplot(), title = 'Swap Test Outcome', xlabel = 'Ancilla State', ylabel = 'Occurrences', tick_label=binary_labels(1))\n",
        "plt.show()"
      ],
      "metadata": {
        "id": "cWDiVz1nX1_O",
        "colab": {
          "base_uri": "https://localhost:8080/",
          "height": 460
        },
        "outputId": "76d2a17e-6067-40e9-fbaa-0fba0a11df52"
      },
      "execution_count": 35,
      "outputs": [
        {
          "output_type": "display_data",
          "data": {
            "text/plain": [
              "<Figure size 640x480 with 1 Axes>"
            ],
            "image/png": "[encoded data removed]"
          },
          "metadata": {}
        }
      ]
    },
    {
      "cell_type": "markdown",
      "source": [
        "##### **4. Calculate the fidelity.**\n",
        "\n",
        "Typically, we use the swap test measurements to calculate fidelity by applying the following equation: $\\mathbf{\\text{fidelity} = 1 - 2*\\text{prob}(0)}$."
      ],
      "metadata": {
        "id": "EHlKkH6rX1_O"
      }
    },
    {
      "cell_type": "code",
      "source": [
        "prob_0 = np.sum(result.measurements['anc']) / len(result.measurements['anc'])\n",
        "\n",
        "fidelity = 1-2*prob_0# COMPLETE THIS CODE\n",
        "\n",
        "fidelity"
      ],
      "metadata": {
        "id": "5thaD64cX1_O",
        "colab": {
          "base_uri": "https://localhost:8080/"
        },
        "outputId": "fc92b8ec-eb63-476c-be79-4d25e1e095e0"
      },
      "execution_count": 36,
      "outputs": [
        {
          "output_type": "execute_result",
          "data": {
            "text/plain": [
              "0.54"
            ]
          },
          "metadata": {},
          "execution_count": 36
        }
      ]
    },
    {
      "cell_type": "markdown",
      "source": [
        "#### **Problem #2.1.4**\n",
        "\n",
        "**Independently**, combine these steps exactly as you have them from Problem #2.1.3 into one large cell below."
      ],
      "metadata": {
        "id": "B8CgyW8mb7gi"
      }
    },
    {
      "cell_type": "code",
      "source": [
        "# 1. PREPARE QUBITS\n",
        "#===================\n",
        "# COMPLETE THIS CODE\n",
        "# Create qubits\n",
        "q0 = cirq.NamedQubit('state 0')\n",
        "q1 = cirq.NamedQubit('state 1')\n",
        "ancilla = cirq.NamedQubit('anc')\n",
        "\n",
        "# Prepare the given states\n",
        "circuit_0 = cirq.Circuit()\n",
        "circuit_0.append(cirq.X(q0))\n",
        "\n",
        "circuit_1 = cirq.Circuit()\n",
        "circuit_1.append(cirq.H(q1))\n",
        "\n",
        "\n",
        "circuit = circuit_0 + circuit_1\n",
        "# 2. SWAP TEST CIRCUIT\n",
        "#======================\n",
        "# COMPLETE THIS CODE\n",
        "# Put ancilla in superposition\n",
        "circuit.append(cirq.H(ancilla))\n",
        "\n",
        "# Controlled-Swap controlled by ancilla and targeting q0 and q1\n",
        "circuit.append(cirq.CSWAP(ancilla, q0, q1))\n",
        "\n",
        "# Apply an H gate on the ancilla.\n",
        "circuit.append(cirq.H(ancilla))\n",
        "\n",
        "# Measure ancilla\n",
        "circuit.append(cirq.measure(ancilla))\n",
        "\n",
        "\n",
        "# 3. RUN CIRCUIT\n",
        "#================\n",
        "# COMPLETE THIS CODE\n",
        "simulator = cirq.Simulator()\n",
        "result = simulator.run(circuit, repetitions=1000)\n",
        "\n",
        "\n",
        "# 4. CALCULATE FIDELITY\n",
        "#=======================\n",
        "# COMPLETE THIS CODE\n",
        "prob_0 = np.sum(result.measurements['anc']) / len(result.measurements['anc'])\n",
        "fidelity = 1 - 2*prob_0\n",
        "\n",
        "fidelity"
      ],
      "metadata": {
        "id": "zdoEP3zMb7gu",
        "colab": {
          "base_uri": "https://localhost:8080/"
        },
        "outputId": "cdb5573c-b521-49c6-ffb4-5713932c9a65"
      },
      "execution_count": 37,
      "outputs": [
        {
          "output_type": "execute_result",
          "data": {
            "text/plain": [
              "0.49"
            ]
          },
          "metadata": {},
          "execution_count": 37
        }
      ]
    },
    {
      "cell_type": "markdown",
      "source": [
        "<a name=\"p2.2\"></a>\n",
        "\n",
        "---\n",
        "\n",
        "### **Part 2.2: Characterizing Noise with the Swap Test**\n",
        "\n",
        "---\n",
        "\n",
        "\n",
        "In this section, we will apply what we learned above to characterize the effects of noise using swap tests."
      ],
      "metadata": {
        "id": "8e6e5_3xSrpg"
      }
    },
    {
      "cell_type": "markdown",
      "source": [
        "#### **Problem #2.2.1**\n",
        "\n",
        "**Together**, let's calculate the fidelity of $q_0$ in our typical \"ideal\" $|0\\rangle$ state (meaning there's no noise) and $q_1$ in a $|0\\rangle$ state prepared with a 5% chance of depolarization."
      ],
      "metadata": {
        "id": "oHBNTNSdZO9r"
      }
    },
    {
      "cell_type": "code",
      "source": [
        "# 1. PREPARE QUBITS\n",
        "#===================\n",
        "# Create qubits\n",
        "q0 = cirq.NamedQubit('state 0')\n",
        "q1 = cirq.NamedQubit('state 1')\n",
        "ancilla = cirq.NamedQubit('anc')\n",
        "\n",
        "# Prepare the given states\n",
        "circuit_0 = cirq.Circuit()\n",
        "circuit_0.append(cirq.I(q0))\n",
        "\n",
        "circuit_1 = cirq.Circuit()\n",
        "circuit_1.append(cirq.I(q1))\n",
        "\n",
        "\n",
        "noise = cirq.depolarize(0.05)\n",
        "circuit = circuit_0 + circuit_1.with_noise(noise)\n",
        "\n",
        "\n",
        "\n",
        "# 2. SWAP TEST CIRCUIT\n",
        "#======================\n",
        "# Put ancilla in superposition\n",
        "circuit.append(cirq.H(ancilla))\n",
        "\n",
        "# Controlled-Swap controlled by ancilla and targeting q0 and q1\n",
        "circuit.append(cirq.CSWAP(ancilla, q0, q1))\n",
        "\n",
        "# Apply an H gate on the ancilla.\n",
        "circuit.append(cirq.H(ancilla))\n",
        "\n",
        "# Measure ancilla\n",
        "circuit.append(cirq.measure(ancilla))\n",
        "\n",
        "\n",
        "\n",
        "# 3. RUN CIRCUIT\n",
        "#================\n",
        "simulator = cirq.Simulator()\n",
        "result = simulator.run(circuit, repetitions=1000)\n",
        "\n",
        "\n",
        "\n",
        "# 4. CALCULATE FIDELITY\n",
        "#=======================\n",
        "prob_0 = np.sum(result.measurements['anc']) / len(result.measurements['anc'])\n",
        "fidelity = 1 - 2*prob_0\n",
        "fidelity"
      ],
      "metadata": {
        "id": "NTPWxxEpZbXd",
        "colab": {
          "base_uri": "https://localhost:8080/"
        },
        "outputId": "fcd9a149-547d-4d04-de3b-841ea3e3930c"
      },
      "execution_count": 38,
      "outputs": [
        {
          "output_type": "execute_result",
          "data": {
            "text/plain": [
              "0.964"
            ]
          },
          "metadata": {},
          "execution_count": 38
        }
      ]
    },
    {
      "cell_type": "markdown",
      "source": [
        "#### **Problem #2.2.2**\n",
        "\n",
        "**Together**, let's calculate the fidelity of $q_0$ in our typical \"ideal\" $|0\\rangle$ state (meaning there's no noise) and $q_1$ in a $|0\\rangle$ state prepared with a 50% chance of depolarization."
      ],
      "metadata": {
        "id": "Q-YVYV9th6C8"
      }
    },
    {
      "cell_type": "code",
      "source": [
        "# 1. PREPARE QUBITS\n",
        "#===================\n",
        "# Create qubits\n",
        "q0 = cirq.NamedQubit('state 0')\n",
        "q1 = cirq.NamedQubit('state 1')\n",
        "ancilla = cirq.NamedQubit('anc')\n",
        "\n",
        "# Prepare the given states\n",
        "circuit_0 = cirq.Circuit()\n",
        "circuit_0.append(cirq.I(q0))\n",
        "\n",
        "circuit_1 = cirq.Circuit()\n",
        "circuit_1.append(cirq.I(q1))\n",
        "\n",
        "\n",
        "noise = cirq.depolarize(0.5)\n",
        "circuit = circuit_0 + circuit_1.with_noise(noise)\n",
        "\n",
        "\n",
        "\n",
        "# 2. SWAP TEST CIRCUIT\n",
        "#======================\n",
        "# Put ancilla in superposition\n",
        "circuit.append(cirq.H(ancilla))\n",
        "\n",
        "# Controlled-Swap controlled by ancilla and targeting q0 and q1\n",
        "circuit.append(cirq.CSWAP(ancilla, q0, q1))\n",
        "\n",
        "# Apply an H gate on the ancilla.\n",
        "circuit.append(cirq.H(ancilla))\n",
        "\n",
        "# Measure ancilla\n",
        "circuit.append(cirq.measure(ancilla))\n",
        "\n",
        "\n",
        "\n",
        "# 3. RUN CIRCUIT\n",
        "#================\n",
        "simulator = cirq.Simulator()\n",
        "result = simulator.run(circuit, repetitions=1000)\n",
        "\n",
        "\n",
        "\n",
        "# 4. CALCULATE FIDELITY\n",
        "#=======================\n",
        "prob_0 = np.sum(result.measurements['anc']) / len(result.measurements['anc'])\n",
        "fidelity = 1 - 2*prob_0\n",
        "fidelity"
      ],
      "metadata": {
        "id": "UVRKysqsh8iT",
        "colab": {
          "base_uri": "https://localhost:8080/"
        },
        "outputId": "116e14e8-684a-4b8d-b241-cf5602eee60e"
      },
      "execution_count": 39,
      "outputs": [
        {
          "output_type": "execute_result",
          "data": {
            "text/plain": [
              "0.6659999999999999"
            ]
          },
          "metadata": {},
          "execution_count": 39
        }
      ]
    },
    {
      "cell_type": "markdown",
      "source": [
        "#### **Problem #2.2.3**\n",
        "\n",
        "**Together**, let's use a loop to run the experiments from above for the depolarization probabilities given by running the first below. **NOTE**: The only part we need to complete is specifying the exact noise model used in each iteration."
      ],
      "metadata": {
        "id": "byPBEl41Zdue"
      }
    },
    {
      "cell_type": "code",
      "source": [
        "depol_probabilities = np.linspace(0, 1, 20)\n",
        "depol_probabilities"
      ],
      "metadata": {
        "id": "lSO9JLe_iYzJ",
        "colab": {
          "base_uri": "https://localhost:8080/"
        },
        "outputId": "cfaa26e2-d6c1-4e40-9481-007c6ebee2f7"
      },
      "execution_count": 40,
      "outputs": [
        {
          "output_type": "execute_result",
          "data": {
            "text/plain": [
              "array([0.        , 0.05263158, 0.10526316, 0.15789474, 0.21052632,\n",
              "       0.26315789, 0.31578947, 0.36842105, 0.42105263, 0.47368421,\n",
              "       0.52631579, 0.57894737, 0.63157895, 0.68421053, 0.73684211,\n",
              "       0.78947368, 0.84210526, 0.89473684, 0.94736842, 1.        ])"
            ]
          },
          "metadata": {},
          "execution_count": 40
        }
      ]
    },
    {
      "cell_type": "code",
      "source": [
        "fidelities = []\n",
        "\n",
        "for prob in depol_probabilities:\n",
        "\n",
        "  # 1. PREPARE QUBITS\n",
        "  #===================\n",
        "  # Create qubits\n",
        "  q0 = cirq.NamedQubit('state 0')\n",
        "  q1 = cirq.NamedQubit('state 1')\n",
        "  ancilla = cirq.NamedQubit('anc')\n",
        "\n",
        "  # Prepare the given states\n",
        "  circuit_0 = cirq.Circuit()\n",
        "  circuit_0.append(cirq.I(q0))\n",
        "\n",
        "  circuit_1 = cirq.Circuit()\n",
        "  circuit_1.append(cirq.I(q1))\n",
        "\n",
        "\n",
        "  noise = cirq.depolarize(prob)\n",
        "  circuit = circuit_0 + circuit_1.with_noise(noise)\n",
        "\n",
        "\n",
        "\n",
        "  # 2. SWAP TEST CIRCUIT\n",
        "  #======================\n",
        "  # Put ancilla in superposition\n",
        "  circuit.append(cirq.H(ancilla))\n",
        "\n",
        "  # Controlled-Swap controlled by ancilla and targeting q0 and q1\n",
        "  circuit.append(cirq.CSWAP(ancilla, q0, q1))\n",
        "\n",
        "  # Apply an H gate on the ancilla.\n",
        "  circuit.append(cirq.H(ancilla))\n",
        "\n",
        "  # Measure ancilla\n",
        "  circuit.append(cirq.measure(ancilla))\n",
        "\n",
        "\n",
        "\n",
        "  # 3. RUN CIRCUIT\n",
        "  #================\n",
        "  simulator = cirq.Simulator()\n",
        "  result = simulator.run(circuit, repetitions=1000)\n",
        "\n",
        "\n",
        "\n",
        "  # 4. CALCULATE FIDELITY\n",
        "  #=======================\n",
        "  prob_0 = np.sum(result.measurements['anc']) / len(result.measurements['anc'])\n",
        "  fidelity = 1 - 2*prob_0\n",
        "\n",
        "  fidelities += [fidelity]\n",
        "\n",
        "\n",
        "\n",
        "fidelities"
      ],
      "metadata": {
        "id": "g6EhDGCsmyPi",
        "colab": {
          "base_uri": "https://localhost:8080/"
        },
        "outputId": "8a33e96d-5170-4069-ec4d-7d05b2a3dc5e"
      },
      "execution_count": 41,
      "outputs": [
        {
          "output_type": "execute_result",
          "data": {
            "text/plain": [
              "[1.0,\n",
              " 0.964,\n",
              " 0.944,\n",
              " 0.878,\n",
              " 0.88,\n",
              " 0.84,\n",
              " 0.772,\n",
              " 0.736,\n",
              " 0.69,\n",
              " 0.65,\n",
              " 0.692,\n",
              " 0.5860000000000001,\n",
              " 0.594,\n",
              " 0.5800000000000001,\n",
              " 0.504,\n",
              " 0.476,\n",
              " 0.41800000000000004,\n",
              " 0.358,\n",
              " 0.348,\n",
              " 0.372]"
            ]
          },
          "metadata": {},
          "execution_count": 41
        }
      ]
    },
    {
      "cell_type": "markdown",
      "source": [
        "#### **Problem #2.2.4**\n",
        "\n",
        "**Run the code below** to plot these results and compare them to theoretical predictions for the fidelity of a single qubit state with a given probability of depolarization ($\\mathbf{\\text{fidelity} = 1 - \\frac{\\text{prob}}{2}}$)."
      ],
      "metadata": {
        "id": "X0xFAMvbjanr"
      }
    },
    {
      "cell_type": "code",
      "source": [
        "plt.scatter(depol_probabilities, fidelities, label = 'Simulation')\n",
        "\n",
        "theoretical_fidelities = [1 - p/2 for p in depol_probabilities]\n",
        "plt.scatter(depol_probabilities, theoretical_fidelities, label = 'Theory')\n",
        "\n",
        "plt.xlabel('Depolarization Probability')\n",
        "plt.ylabel('Fidelity')\n",
        "\n",
        "plt.legend()\n",
        "plt.show()"
      ],
      "metadata": {
        "id": "pv1L7483xCP_",
        "colab": {
          "base_uri": "https://localhost:8080/",
          "height": 441
        },
        "outputId": "d517d8b3-dcd1-4929-f3f5-d7d7d3708a8d"
      },
      "execution_count": 42,
      "outputs": [
        {
          "output_type": "display_data",
          "data": {
            "text/plain": [
              "<Figure size 640x480 with 1 Axes>"
            ],
            "image/png": "[encoded data removed]"
          },
          "metadata": {}
        }
      ]
    },
    {
      "cell_type": "markdown",
      "source": [
        "#### **Problem #2.2.5**\n",
        "\n",
        "**Together**, let's now attempt this experiment in a *more realistic* way: with noise on the whole circuit.\n",
        "\n",
        "<br>\n",
        "\n",
        "**NOTE**: This simulation takes a noticeably longer time, so we have decreased the number of repetitions per simulation from 1000 to 100 making our simulation 10 times faster (but less precise). We are *just* starting to push the limits of how complex we can make our simulations before we need an actual quantum computer!"
      ],
      "metadata": {
        "id": "3Kmof1D0l6Sl"
      }
    },
    {
      "cell_type": "code",
      "source": [
        "noisy_fidelities = []\n",
        "\n",
        "for prob in depol_probabilities:\n",
        "\n",
        "  # 1. PREPARE QUBITS\n",
        "  #===================\n",
        "  # Create qubits\n",
        "  q0 = cirq.NamedQubit('state 0')\n",
        "  q1 = cirq.NamedQubit('state 1')\n",
        "  ancilla = cirq.NamedQubit('anc')\n",
        "\n",
        "  # Prepare the given states\n",
        "  circuit_0 = cirq.Circuit()\n",
        "  circuit_0.append(cirq.I(q0))\n",
        "\n",
        "  circuit_1 = cirq.Circuit()\n",
        "  circuit_1.append(cirq.I(q1))\n",
        "\n",
        "  circuit = circuit_0 + circuit_1\n",
        "\n",
        "\n",
        "  # 2. SWAP TEST CIRCUIT\n",
        "  #======================\n",
        "  # Put ancilla in superposition\n",
        "  circuit.append(cirq.H(ancilla))\n",
        "\n",
        "  # Controlled-Swap controlled by ancilla and targeting q0 and q1\n",
        "  circuit.append(cirq.CSWAP(ancilla, q0, q1))\n",
        "\n",
        "  # Apply an H gate on the ancilla.\n",
        "  circuit.append(cirq.H(ancilla))\n",
        "\n",
        "  # Measure ancilla\n",
        "  circuit.append(cirq.measure(ancilla))\n",
        "\n",
        "\n",
        "\n",
        "  # 3. RUN CIRCUIT\n",
        "  #================\n",
        "  noise = cirq.depolarize(prob)\n",
        "\n",
        "  simulator = cirq.Simulator()\n",
        "  result = simulator.run(circuit.with_noise(noise), repetitions=500)\n",
        "\n",
        "\n",
        "\n",
        "  # 4. CALCULATE FIDELITY\n",
        "  #=======================\n",
        "  prob_0 = np.sum(result.measurements['anc']) / len(result.measurements['anc'])\n",
        "  fidelity = 1 - 2*prob_0\n",
        "\n",
        "  noisy_fidelities += [fidelity]\n",
        "\n",
        "\n",
        "\n",
        "\n",
        "# PLOT THE RESULTS\n",
        "#==================\n",
        "plt.scatter(depol_probabilities, fidelities, label = 'Simulation')\n",
        "plt.scatter(depol_probabilities, noisy_fidelities, label = 'Full Noise Simulation')\n",
        "\n",
        "theoretical_fidelities = [1 - p/2 for p in depol_probabilities]\n",
        "plt.scatter(depol_probabilities, theoretical_fidelities, label = 'Theory')\n",
        "\n",
        "plt.xlabel('Depolarization Probability')\n",
        "plt.ylabel('Fidelity')\n",
        "\n",
        "plt.legend()\n",
        "plt.show()"
      ],
      "metadata": {
        "id": "id-iZadbl6Sx",
        "colab": {
          "base_uri": "https://localhost:8080/",
          "height": 441
        },
        "outputId": "b0e5e450-73fb-437f-d03d-92a94faf0ded"
      },
      "execution_count": 43,
      "outputs": [
        {
          "output_type": "display_data",
          "data": {
            "text/plain": [
              "<Figure size 640x480 with 1 Axes>"
            ],
            "image/png": "[encoded data removed]"
          },
          "metadata": {}
        }
      ]
    },
    {
      "cell_type": "markdown",
      "source": [
        "#End of notebook\n",
        "---\n",
        "© 2024 The Coding School, All rights reserved"
      ],
      "metadata": {
        "id": "7dzC09dLlEhm"
      }
    }
  ]
}