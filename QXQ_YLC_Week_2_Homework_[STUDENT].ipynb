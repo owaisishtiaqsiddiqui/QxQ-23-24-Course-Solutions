{
  "nbformat": 4,
  "nbformat_minor": 0,
  "metadata": {
    "colab": {
      "provenance": [],
      "include_colab_link": true
    },
    "kernelspec": {
      "name": "python3",
      "display_name": "Python 3"
    },
    "language_info": {
      "name": "python"
    }
  },
  "cells": [
    {
      "cell_type": "markdown",
      "metadata": {
        "id": "view-in-github",
        "colab_type": "text"
      },
      "source": [
        "<a href=\"https://colab.research.google.com/github/owaisishtiaqsiddiqui/QxQ-23-24-Course-Solutions/blob/main/QXQ_YLC_Week_2_Homework_%5BSTUDENT%5D.ipynb\" target=\"_parent\"><img src=\"https://colab.research.google.com/assets/colab-badge.svg\" alt=\"Open In Colab\"/></a>"
      ]
    },
    {
      "cell_type": "markdown",
      "source": [
        "# **Homework 2: Python Basics I**\n",
        "---\n",
        "\n",
        "### **Description**\n",
        "In this homework, you will continue to hone your understanding of python basics including objects, types, arithmetic operators, and variables. **NOTE: You will need to submit answers to several questions throughout the notebook on Canvas.**\n",
        "\n",
        "<br>\n",
        "\n",
        "### **Structure**\n",
        "**Part 1**: [Getting Familiar with Google Colab](#p1)\n",
        "\n",
        "**Part 2**: [Objects and Types](#p2)\n",
        "\n",
        "**Part 3**: [Arithmetic and Variables](#p3)\n",
        "\n",
        "\n",
        "<br>\n",
        "\n",
        "### **Learning Objectives**\n",
        "By the end of this homework, we will:\n",
        "* Recognize the definition/framework of objects, methods, attributes.\n",
        "* Recognize the main data types and how to modify them with basic arithmetic operators (+, -, /, *).\n",
        "* Recognize that variables are a way to store objects.\n",
        "\n",
        "\n",
        "<br>\n",
        "\n",
        "### **Resources**\n",
        "* [Python Basics Cheat Sheet](https://docs.google.com/document/d/1uLao-xKh3tYIiCYyiqf7oas4qTlr5XYKQ0QpzX_Xzag/edit?usp=sharing)"
      ],
      "metadata": {
        "id": "K3JVwUgVElwe"
      }
    },
    {
      "cell_type": "markdown",
      "source": [
        "<a name=\"p1\"></a>\n",
        "\n",
        "---\n",
        "## **Part 1: Reading and Modifying Code**\n",
        "---\n",
        "\n",
        "In this section, you will hone your ability to read and modify code given to you."
      ],
      "metadata": {
        "id": "MdB9l1eDB6mZ"
      }
    },
    {
      "cell_type": "markdown",
      "source": [
        "#### **Problem #1.1**\n",
        "\n",
        "Modify the code to calculate the area of a rectangle whose length is 10 and width is 5."
      ],
      "metadata": {
        "id": "xwi8nagW-1ad"
      }
    },
    {
      "cell_type": "code",
      "source": [
        "length = 5\n",
        "width = 4\n",
        "area = length*width\n",
        "area"
      ],
      "metadata": {
        "id": "ntGXhAFY9Yd-",
        "colab": {
          "base_uri": "https://localhost:8080/"
        },
        "outputId": "d80b25f1-1206-4c8f-9e29-05f107a79ba4"
      },
      "execution_count": null,
      "outputs": [
        {
          "output_type": "stream",
          "name": "stdout",
          "text": [
            "20\n"
          ]
        }
      ]
    },
    {
      "cell_type": "markdown",
      "source": [
        "#### **Problem #1.2**\n",
        "\n",
        "Modify the code to calculate the `cost_per_person` if the `total_cost` is 500."
      ],
      "metadata": {
        "id": "zLYs9izPCfMM"
      }
    },
    {
      "cell_type": "code",
      "source": [
        "total_cost = 100\n",
        "number_of_people = 5\n",
        "cost_per_person = total_cost/number_of_people\n",
        "cost_per_person"
      ],
      "metadata": {
        "id": "QfgQPydj9gIl"
      },
      "execution_count": null,
      "outputs": []
    },
    {
      "cell_type": "markdown",
      "source": [
        "#### **Problem #1.3**\n",
        "\n",
        "Modify the code shown below to calculate the final exam grade needed when:\n",
        "\n",
        "| Exam         \t| Grade \t| Weight \t|\n",
        "|--------------\t|-------\t|--------\t|\n",
        "| Exam 1:      \t| 75    \t| 0.2    \t|\n",
        "| Exam 2:      \t| 82    \t| 0.2    \t|\n",
        "| Final Exam:  \t| ?     \t| 0.6    \t|\n",
        "| Final Grade: \t| 85    \t|        \t|"
      ],
      "metadata": {
        "id": "9FS3rfX9CrNU"
      }
    },
    {
      "cell_type": "code",
      "source": [
        "exam_1_grade = 90\n",
        "exam_1_weight = 0.25\n",
        "\n",
        "exam_2_grade = 84\n",
        "exam_2_weight = 0.3\n",
        "\n",
        "final_exam_weight = 0.45\n",
        "wanted_final_grade = 90\n",
        "\n",
        "required_grade_on_final = (wanted_final_grade- exam_1_grade*exam_1_weight - exam_2_grade*exam_2_weight)/final_exam_weight\n",
        "required_grade_on_final"
      ],
      "metadata": {
        "colab": {
          "base_uri": "https://localhost:8080/"
        },
        "id": "_waPzkfG9sK4",
        "outputId": "0043a437-a0a4-4cf8-c5d5-5497e3caa97a"
      },
      "execution_count": null,
      "outputs": [
        {
          "output_type": "stream",
          "name": "stdout",
          "text": [
            "93.99999999999999\n"
          ]
        }
      ]
    },
    {
      "cell_type": "markdown",
      "source": [
        "<a name=\"p2\"></a>\n",
        "\n",
        "---\n",
        "## **Part 2: Objects and Types**\n",
        "---\n",
        "\n",
        "In this section, you will hone your understanding of the concepts of objects and types."
      ],
      "metadata": {
        "id": "DP9_oKpi6T9g"
      }
    },
    {
      "cell_type": "markdown",
      "source": [
        "#### **Problem #2.1**\n",
        "\n",
        "Which of the following objects are floats?\n",
        "\n",
        "a.\n",
        "```python\n",
        "5.2\n",
        "```\n",
        "\n",
        "b.\n",
        "```python\n",
        "\"this is an object\"\n",
        "```\n",
        "\n",
        "c.\n",
        "```python\n",
        "\"5.2\"\n",
        "```\n",
        "\n",
        "d.\n",
        "```python\n",
        "52\n",
        "```\n",
        "\n",
        "e.\n",
        "```python\n",
        "52 / 10\n",
        "```"
      ],
      "metadata": {
        "id": "wo7SOJPU7AXD"
      }
    },
    {
      "cell_type": "markdown",
      "source": [
        "#### **Problem #2.2**\n",
        "\n",
        "Label the following data types.\n",
        "\n",
        "a.\n",
        "```python\n",
        "2\n",
        "```\n",
        "\n",
        "b.\n",
        "```python\n",
        "8.9\n",
        "```\n",
        "\n",
        "c.\n",
        "```python\n",
        "\"Quantum Computing rocks!\"\n",
        "```\n",
        "\n",
        "d.\n",
        "```python\n",
        "[\"string\"]\n",
        "```\n",
        "\n",
        "e.\n",
        "```python\n",
        "5.0\n",
        "```\n",
        "\n",
        "\n"
      ],
      "metadata": {
        "id": "8E_hjAwnzJIJ"
      }
    },
    {
      "cell_type": "markdown",
      "source": [
        "#### **Problem #2.3**\n",
        "\n",
        "Which of the following are objects?\n",
        "\n",
        "a.\n",
        "```python\n",
        "\"28\"\n",
        "```\n",
        "\n",
        "b.\n",
        "```python\n",
        "28.5\n",
        "```\n",
        "\n",
        "c.\n",
        "```python\n",
        "num_eggs = 2 * 3\n",
        "```\n",
        "\n",
        "d.\n",
        "```python\n",
        "True\n",
        "```\n",
        "\n",
        "e.\n",
        "```python\n",
        "is_cheese = False\n",
        "```"
      ],
      "metadata": {
        "id": "TzwueTwDAT_e"
      }
    },
    {
      "cell_type": "markdown",
      "source": [
        "#### **Problem #2.4**\n",
        "\n",
        "As discussed in lab, objects consist of two parts: attributes (data) and methods (behaviors). Given that the syntax for both is different, which of the following are attributes?\n",
        "\n",
        "a.\n",
        "```python\n",
        "phone.call(\"Bob\")\n",
        "```\n",
        "\n",
        "b.\n",
        "```python\n",
        "phone.time\n",
        "```\n",
        "\n",
        "c.\n",
        "```python\n",
        "phone.change_volume(50)\n",
        "```\n",
        "\n",
        "d.\n",
        "```python\n",
        "students.names_list\n",
        "```\n",
        "\n",
        "e.\n",
        "```python\n",
        "students.sort_by_age()\n",
        "```"
      ],
      "metadata": {
        "id": "tmEby-pV9ctp"
      }
    },
    {
      "cell_type": "markdown",
      "source": [
        "<a name=\"p3\"></a>\n",
        "\n",
        "---\n",
        "## **Part 3: Arithmetic and Variables**\n",
        "---\n",
        "\n",
        "In this section, you will hone your ability to calculate operations with numerical types and store a range of types in variables."
      ],
      "metadata": {
        "id": "T47L6IBhCKsx"
      }
    },
    {
      "cell_type": "markdown",
      "source": [
        "#### **Problem #3.1**\n",
        "\n",
        "Calculate 50 multiplied by 4.5."
      ],
      "metadata": {
        "id": "XQ3zpD9G_rb3"
      }
    },
    {
      "cell_type": "code",
      "source": [],
      "metadata": {
        "id": "czESqJz_AKQP"
      },
      "execution_count": null,
      "outputs": []
    },
    {
      "cell_type": "markdown",
      "source": [
        "#### **Problem #3.2**\n",
        "\n",
        "Calculate 50 multiplied by 4.5 plus 10."
      ],
      "metadata": {
        "id": "Z-3vJncgC8OU"
      }
    },
    {
      "cell_type": "code",
      "source": [],
      "metadata": {
        "id": "YaJTKsdZC8OV"
      },
      "execution_count": null,
      "outputs": []
    },
    {
      "cell_type": "markdown",
      "source": [
        "#### **Problem #3.3**\n",
        "\n",
        "Calculate 4 to the 8th power plus 10."
      ],
      "metadata": {
        "id": "QinoVuPOAdBg"
      }
    },
    {
      "cell_type": "code",
      "source": [],
      "metadata": {
        "id": "arINPqrTAh5P"
      },
      "execution_count": null,
      "outputs": []
    },
    {
      "cell_type": "markdown",
      "source": [
        "#### **Problem #3.4**\n",
        "\n",
        "Create a variable that stores the name of the country you live in. Output that variable."
      ],
      "metadata": {
        "id": "oMCHyhfet4wi"
      }
    },
    {
      "cell_type": "code",
      "source": [],
      "metadata": {
        "id": "x-OTbMmiuMU1"
      },
      "execution_count": null,
      "outputs": []
    },
    {
      "cell_type": "markdown",
      "source": [
        "#### **Problem #3.5**\n",
        "\n",
        "Create a variable named `height_cm` and set it equal to your height in centimeters. Output `height_cm`.\n",
        "\n",
        "<br>\n",
        "\n",
        "**NOTE**: 1 inch = 2.54 cm."
      ],
      "metadata": {
        "id": "xXoYLnwgutEq"
      }
    },
    {
      "cell_type": "code",
      "source": [],
      "metadata": {
        "id": "GYEksLk4LmLC"
      },
      "execution_count": null,
      "outputs": []
    },
    {
      "cell_type": "markdown",
      "source": [
        "#### **Problem #3.6**\n",
        "\n",
        "Create a variable named `height_m` and set it equal to your height in m. Use the `height_cm` variable from the previous problem. Output `height_m`.\n",
        "\n",
        "<br>\n",
        "\n",
        "**NOTE**: 1 m = 100 cm."
      ],
      "metadata": {
        "id": "y-uOGaf0LTqK"
      }
    },
    {
      "cell_type": "code",
      "source": [],
      "metadata": {
        "id": "kORv2WhnMtIJ"
      },
      "execution_count": null,
      "outputs": []
    },
    {
      "cell_type": "markdown",
      "source": [
        "#### **Problem #3.7**\n",
        "\n",
        "Which of the following variables names would not run in python?"
      ],
      "metadata": {
        "id": "FeID_zqavKiq"
      }
    },
    {
      "cell_type": "markdown",
      "source": [
        "a.\n",
        "```python\n",
        "1var = 10\n",
        "```\n",
        "\n",
        "b.\n",
        "```python\n",
        "2var = 20\n",
        "```\n",
        "\n",
        "c.\n",
        "```python\n",
        "3_var = 30\n",
        "```\n",
        "\n",
        "d.\n",
        "```python\n",
        "Var4 = 40\n",
        "```\n",
        "\n",
        "e.\n",
        "```python\n",
        "VAR5 = 50\n",
        "```\n",
        "\n",
        "f.\n",
        "```python\n",
        "var_6 = 60\n",
        "```\n",
        "\n",
        "g.\n",
        "```python\n",
        "month&year = \"July 2022\"\n",
        "```\n",
        "\n",
        "h.\n",
        "```python\n",
        "hello = \"hello\"\n",
        "```\n",
        "\n",
        "i.\n",
        "```python\n",
        "for = \"for\"\n",
        "```"
      ],
      "metadata": {
        "id": "BLgXAY79xwqs"
      }
    },
    {
      "cell_type": "markdown",
      "source": [
        "#### **Problem #3.8**\n",
        "\n",
        "Create a variable `name` and assign it to your name. Output `name`. Then, reassign `name` to a friend's name. Output again."
      ],
      "metadata": {
        "id": "-bnV4zY2yMs8"
      }
    },
    {
      "cell_type": "code",
      "source": [],
      "metadata": {
        "id": "xLdAevEYyREb"
      },
      "execution_count": null,
      "outputs": []
    },
    {
      "cell_type": "code",
      "source": [],
      "metadata": {
        "id": "sZwWBkHhFCc0"
      },
      "execution_count": null,
      "outputs": []
    },
    {
      "cell_type": "markdown",
      "source": [
        "# End of notebook\n",
        "---\n",
        "© 2023 The Coding School, All rights reserved"
      ],
      "metadata": {
        "id": "LMrbwMSsoWtN"
      }
    }
  ]
}