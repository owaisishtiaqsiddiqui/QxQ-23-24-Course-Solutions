{
  "nbformat": 4,
  "nbformat_minor": 0,
  "metadata": {
    "colab": {
      "provenance": [],
      "include_colab_link": true
    },
    "kernelspec": {
      "name": "python3",
      "display_name": "Python 3"
    },
    "language_info": {
      "name": "python"
    }
  },
  "cells": [
    {
      "cell_type": "markdown",
      "metadata": {
        "id": "view-in-github",
        "colab_type": "text"
      },
      "source": [
        "<a href=\"https://colab.research.google.com/github/owaisishtiaqsiddiqui/QxQ-23-24-Course-Solutions/blob/main/QXQ_YLC_Week_3_Homework_%5BSOLUTIONS%5D.ipynb\" target=\"_parent\"><img src=\"https://colab.research.google.com/assets/colab-badge.svg\" alt=\"Open In Colab\"/></a>"
      ]
    },
    {
      "cell_type": "markdown",
      "source": [
        "# **Homework 3: Introduction to Objects and Debugging**\n",
        "---\n",
        "\n",
        "### **Description**\n",
        "In this homework assignment, you will learn how to work with objects in Python, how to interpret and correct coding errors, and how to search for and navigate documentation.\n",
        "\n",
        "<br>\n",
        "\n",
        "### **Homework Structure**\n",
        "**Part 1**: [Objects, Methods, and Attributes](#p1)\n",
        "\n",
        "**Part 2**: [Debugging](#p2)\n",
        "\n",
        "**Part 3**: [Coding Challenges [OPTIONAL]](#p3)\n",
        "\n",
        "<br>\n",
        "\n",
        "### **Resources**\n",
        "* [Python Basics Cheat Sheet](https://docs.google.com/document/d/1W8xeN-2wtyzM6sz33mGewNdBQ2sdE8dP8UJFhHG_4T4/)\n",
        "\n",
        "<br>\n",
        "\n",
        "### **Learning Objectives**\n",
        "By the end of this homework assignment, you will:\n",
        "* Understand how to interact with objects using methods and attributes.\n",
        "* Improve your debugging skills by correcting common coding errors.\n",
        "* Understand how to search for documentation in various libraries.\n",
        "\n",
        "<br>\n",
        "\n",
        "**Before starting, run the code below to import all necessary functions and libraries.**"
      ],
      "metadata": {
        "id": "F7i_-gofxiqE"
      }
    },
    {
      "cell_type": "code",
      "source": [
        "# @title\n",
        "!pip install qiskit --quiet\n",
        "import warnings\n",
        "import sympy\n",
        "import numpy\n",
        "import matplotlib\n",
        "import time\n",
        "import math\n",
        "from matplotlib import pyplot\n",
        "from qiskit import QuantumCircuit\n",
        "warnings.filterwarnings(\"ignore\")\n",
        "\n",
        "class baby():\n",
        "  def __init__(self,age=0, mood=\"crying\", hunger=\"hungry\"):\n",
        "    self.age = age\n",
        "    self.mood = mood\n",
        "    self.hunger = hunger\n",
        "  def feed(self):\n",
        "    self.hunger = \"full\"\n",
        "  def play(self):\n",
        "    self.mood = \"happy\"\n",
        "\n",
        "def calculate_area(length, width):\n",
        "  area = length * width\n",
        "  return area\n",
        "\n",
        "class plant():\n",
        "  def __init__(self):\n",
        "    self.planted = 0\n",
        "    self.day_of_last_growth = 0\n",
        "    self.day = 0\n",
        "    self.water = 0\n",
        "    self.light = 0\n",
        "    self.health = 10\n",
        "    self.stage = 0\n",
        "    self.perfect_light = numpy.random.choice([1,2,3,4,5,6,7,8,9,10])\n",
        "    self.perfect_water = numpy.random.choice([1,2,3,4,5,6,7,8,9,10])\n",
        "  def water_plant(self,amount):\n",
        "    if amount > 0:\n",
        "      print(\"You watered your plant.\")\n",
        "      self.water += round(amount)\n",
        "    elif amount < 0:\n",
        "      raise ValueError(\"You can't remove water from your plant! You will have to wait a bit for it to dry out.\")\n",
        "    else:\n",
        "      print(\"You decide to not water your plant.\")\n",
        "  def set_light(self,level):\n",
        "    if level <0:\n",
        "      raise ValueError(\"You can't set the light level to negative values.\")\n",
        "    elif level > 10:\n",
        "      raise ValueError(\"Your light is not that strong\")\n",
        "    else:\n",
        "      self.light = round(level)\n",
        "      print(\"You set the light to level \" + str(self.light))\n",
        "\n",
        "  def check_health(self):\n",
        "    print(\"Your plant's health is a \" + str(self.health)+ \"/\" + str(10+(5*self.stage))+\".\")\n",
        "    print(\"If you had to rate the wetness of the soil, it would be a \" + str(self.water)+ \"/10.\")\n",
        "    print(\"Your light is turned up to \" + str(self.light)+ \".\")\n",
        "    if self.stage == 10:\n",
        "      print(\"Your plant is full grown.\")\n",
        "  def wait(self,num_days):\n",
        "    for i in range(num_days):\n",
        "      self.day += 1\n",
        "      print('Day ' + str(self.day))\n",
        "      if self.perfect_light > self.light:\n",
        "        print(\"Your plant needs more light\")\n",
        "        self.health += -1*abs(self.perfect_light- self.light)/10\n",
        "      elif self.perfect_light < self.light:\n",
        "        print(\"Your plant needs less light\")\n",
        "        self.health += -1*abs(self.perfect_light- self.light)/10\n",
        "      else:\n",
        "        print(\"Your plant looks happy with the light it has.\")\n",
        "      if self.perfect_water > self.water:\n",
        "        print(\"Your plant needs more water\")\n",
        "        self.health += -1*abs(self.perfect_water- self.water)/10\n",
        "      elif self.perfect_water < self.water:\n",
        "        print(\"Your plant needs less water\")\n",
        "        self.health += -1*abs(self.perfect_water- self.water)/10\n",
        "      else:\n",
        "        print(\"Your plant looks happy with the water it had.\")\n",
        "      if self.perfect_light == self.light and self.perfect_water == self.water:\n",
        "        self.health = (self.health + 10+(5*self.stage))/2\n",
        "        if self.day- self.day_of_last_growth >= 5 and self.stage < 10:\n",
        "          print(\"Your plant grew a bit! Its preferances may have changed.\")\n",
        "          self.stage += 1\n",
        "          self.health += 5\n",
        "          self.day_of_last_growth = self.day\n",
        "          self.perfect_light = numpy.random.choice([1,2,3,4,5,6,7,8,9,10])\n",
        "          self.perfect_water = numpy.random.choice([1,2,3,4,5,6,7,8,9,10])\n",
        "          if self.stage == 10:\n",
        "            print(\"Congrats! Your plant is full grown.\")\n",
        "      self.water += -1*self.light\n",
        "      if self.water < 0:\n",
        "        self.water = 0\n",
        "      if self.health <= 0:\n",
        "        print(\"Your plant died! You decide to plant a new seed. Treat this one better!\")\n",
        "        self.planted = 0\n",
        "        self.day_of_last_growth = 0\n",
        "        self.day = 0\n",
        "        self.water = 0\n",
        "        self.light = 0\n",
        "        self.health = 10\n",
        "        self.stage = 0\n",
        "        self.perfect_light = numpy.random.choice([1,2,3,4,5,6,7,8,9,10])\n",
        "        self.perfect_water = numpy.random.choice([1,2,3,4,5,6,7,8,9,10])\n",
        "\n",
        "def dynamic_find_roots(a,b,c):\n",
        "  if b**2-4*a*c == 0:\n",
        "    return -b/(2*a)\n",
        "  elif b**2 - 4*a*c <0:\n",
        "    return (-b+1j*(4*a*c-b**2)**0.5)/(2*a),(-b-1j*(4*a*c-b**2)**0.5)/(2*a)\n",
        "  elif b**2 - 4*a*c >0:\n",
        "    return (-b+(b**2-4*a*c)**0.5)/(2*a),(-b-(b**2-4*a*c)**0.5)/(2*a)\n",
        "print(\"Libraries imported successfully!\")"
      ],
      "metadata": {
        "id": "YAvvLhRIoqYp",
        "colab": {
          "base_uri": "https://localhost:8080/"
        },
        "outputId": "abbfdc99-f242-4541-9a3d-3306361184a2",
        "cellView": "form"
      },
      "execution_count": null,
      "outputs": [
        {
          "output_type": "stream",
          "name": "stdout",
          "text": [
            "Libraries imported successfully!\n"
          ]
        }
      ]
    },
    {
      "cell_type": "markdown",
      "source": [
        "<a name=\"p1\"></a>\n",
        "\n",
        "---\n",
        "## **Part 1: Objects, Methods, and Attributes**\n",
        "---\n",
        "Python and any libraries we install give us tons of objects to work with. In this part, we will practice interacting with objects using methods and attributes."
      ],
      "metadata": {
        "id": "jhvwNalR6bYe"
      }
    },
    {
      "cell_type": "markdown",
      "source": [
        "#### **Problem #1.1**\n",
        "\n",
        "Create a `baby` object and set its age to 1. Then print out its \"age\" attribute."
      ],
      "metadata": {
        "id": "Fn-MmuBT6dzZ"
      }
    },
    {
      "cell_type": "code",
      "source": [
        "# COMPLETE THIS CODE"
      ],
      "metadata": {
        "id": "iszC3Nln2wkT"
      },
      "execution_count": null,
      "outputs": []
    },
    {
      "cell_type": "markdown",
      "source": [
        "##### **Solution**"
      ],
      "metadata": {
        "id": "nm-1DJzg7JGo"
      }
    },
    {
      "cell_type": "code",
      "source": [
        "ethan = baby()\n",
        "ethan.age = 1\n",
        "print(ethan.age)"
      ],
      "metadata": {
        "colab": {
          "base_uri": "https://localhost:8080/"
        },
        "id": "cSH_E-zU7MKM",
        "outputId": "cc0e741f-f722-47f7-ea11-6a2ddb80e517"
      },
      "execution_count": null,
      "outputs": [
        {
          "output_type": "stream",
          "name": "stdout",
          "text": [
            "1\n"
          ]
        }
      ]
    },
    {
      "cell_type": "markdown",
      "source": [
        "#### **Problem #1.2**\n",
        "\n",
        "Print out the baby's `hunger` and `mood` attributes."
      ],
      "metadata": {
        "id": "B51rkpDd9KdP"
      }
    },
    {
      "cell_type": "code",
      "source": [
        "# COMPLETE THIS CODE"
      ],
      "metadata": {
        "id": "ffXS2vaE7b7S"
      },
      "execution_count": null,
      "outputs": []
    },
    {
      "cell_type": "markdown",
      "source": [
        "##### **Solution**"
      ],
      "metadata": {
        "id": "PXCZ9Mqa9SFT"
      }
    },
    {
      "cell_type": "code",
      "source": [
        "print(ethan.hunger)\n",
        "print(ethan.mood)"
      ],
      "metadata": {
        "colab": {
          "base_uri": "https://localhost:8080/"
        },
        "id": "dS8KFc8L9T-m",
        "outputId": "08defbb9-2c62-4fc6-d8c0-30f963e8a80c"
      },
      "execution_count": null,
      "outputs": [
        {
          "output_type": "stream",
          "name": "stdout",
          "text": [
            "hungry\n",
            "crying\n"
          ]
        }
      ]
    },
    {
      "cell_type": "markdown",
      "source": [
        "#### **Problem #1.3**\n",
        "\n",
        "Now, use the baby's `feed` and `play` methods. Then print out its `hunger` and `mood` attributes once again."
      ],
      "metadata": {
        "id": "nCy0pue79_rA"
      }
    },
    {
      "cell_type": "code",
      "source": [
        "# COMPLETE THIS CODE"
      ],
      "metadata": {
        "id": "ewY0mWW391qb"
      },
      "execution_count": null,
      "outputs": []
    },
    {
      "cell_type": "markdown",
      "source": [
        "##### **Solution**"
      ],
      "metadata": {
        "id": "4f-ODeNB-ZyG"
      }
    },
    {
      "cell_type": "code",
      "source": [
        "ethan.feed()\n",
        "ethan.play()\n",
        "print(ethan.hunger)\n",
        "print(ethan.mood)"
      ],
      "metadata": {
        "colab": {
          "base_uri": "https://localhost:8080/"
        },
        "id": "tVaO9OOh-dOG",
        "outputId": "935d63e6-300b-4540-d189-3dae2f5815dd"
      },
      "execution_count": null,
      "outputs": [
        {
          "output_type": "stream",
          "name": "stdout",
          "text": [
            "full\n",
            "happy\n"
          ]
        }
      ]
    },
    {
      "cell_type": "markdown",
      "source": [
        "#### **Problem #1.4**\n",
        "\n",
        "Create a `plant` object using its corresponding function, and use the `check_health` method to measure the plant's health."
      ],
      "metadata": {
        "id": "9YYUG7us_YLw"
      }
    },
    {
      "cell_type": "code",
      "source": [
        "# COMPLETE CODE"
      ],
      "metadata": {
        "id": "R52FGssZAAEA"
      },
      "execution_count": null,
      "outputs": []
    },
    {
      "cell_type": "markdown",
      "source": [
        "##### **Solution**"
      ],
      "metadata": {
        "id": "VX7u33cu_9UE"
      }
    },
    {
      "cell_type": "code",
      "source": [
        "fern = plant()\n",
        "fern.check_health()"
      ],
      "metadata": {
        "colab": {
          "base_uri": "https://localhost:8080/"
        },
        "id": "NS1pS41_-u6R",
        "outputId": "79d1b1df-e70b-4199-e771-45c0979165a0"
      },
      "execution_count": null,
      "outputs": [
        {
          "output_type": "stream",
          "name": "stdout",
          "text": [
            "Your plant's health is a 10/10.\n",
            "If you had to rate the wetness of the soil, it would be a 0/10.\n",
            "Your light is turned up to 0.\n"
          ]
        }
      ]
    },
    {
      "cell_type": "markdown",
      "source": [
        "#### **Problem #1.5**\n",
        "\n",
        "Using the necessary methods and attributes, get your plant to grow a bit.\n",
        "\n",
        "**Hint:** Read through the `plant` class to see if there is a way to give it the perfect amount of water and light without guessing and checking."
      ],
      "metadata": {
        "id": "yuW5cDWgAj03"
      }
    },
    {
      "cell_type": "code",
      "source": [
        "# COMPLETE THIS CODE"
      ],
      "metadata": {
        "id": "Hm_lqzKjAPt-"
      },
      "execution_count": null,
      "outputs": []
    },
    {
      "cell_type": "markdown",
      "source": [
        "##### **Solution**"
      ],
      "metadata": {
        "id": "IFq5A9beBUNW"
      }
    },
    {
      "cell_type": "code",
      "source": [
        "fern.light = fern.perfect_light\n",
        "fern.water = fern.perfect_water\n",
        "fern.check_health()\n",
        "fern.wait(1)"
      ],
      "metadata": {
        "colab": {
          "base_uri": "https://localhost:8080/"
        },
        "id": "Rb3VmOt0BTiC",
        "outputId": "cb4e888d-7600-4fcb-cea9-0c9ccc388961"
      },
      "execution_count": null,
      "outputs": [
        {
          "output_type": "stream",
          "name": "stdout",
          "text": [
            "Your plant's health is a 10.0/10.\n",
            "If you had to rate the wetness of the soil, it would be a 10/10.\n",
            "Your light is turned up to 6.\n",
            "Day 5\n",
            "Your plant looks happy with the light it has.\n",
            "Your plant looks happy with the water it had.\n",
            "Your plant grew a bit! Its preferances may have changed.\n"
          ]
        }
      ]
    },
    {
      "cell_type": "markdown",
      "source": [
        "<a name=\"p2\"></a>\n",
        "\n",
        "---\n",
        "## **Part 2: Debugging**\n",
        "---\n",
        "\n",
        "In this part, we will explore how to identify and correct errors in Python."
      ],
      "metadata": {
        "id": "uAEv8DupGKp7"
      }
    },
    {
      "cell_type": "markdown",
      "source": [
        "#### **Problem #2.1**\n",
        "\n",
        "Debug the code shown below."
      ],
      "metadata": {
        "id": "DJYgxQ2hGN9U"
      }
    },
    {
      "cell_type": "code",
      "source": [
        "x = \"17\"\n",
        "y = \"3\"\n",
        "print(x*y)"
      ],
      "metadata": {
        "colab": {
          "base_uri": "https://localhost:8080/",
          "height": 211
        },
        "id": "RA-PHpSHGMOR",
        "outputId": "944337dc-2fc9-4f54-fe1e-7d424cb13a75"
      },
      "execution_count": null,
      "outputs": [
        {
          "output_type": "error",
          "ename": "TypeError",
          "evalue": "ignored",
          "traceback": [
            "\u001b[0;31m---------------------------------------------------------------------------\u001b[0m",
            "\u001b[0;31mTypeError\u001b[0m                                 Traceback (most recent call last)",
            "\u001b[0;32m<ipython-input-18-be25bab2e706>\u001b[0m in \u001b[0;36m<cell line: 3>\u001b[0;34m()\u001b[0m\n\u001b[1;32m      1\u001b[0m \u001b[0mx\u001b[0m \u001b[0;34m=\u001b[0m \u001b[0;34m\"17\"\u001b[0m\u001b[0;34m\u001b[0m\u001b[0;34m\u001b[0m\u001b[0m\n\u001b[1;32m      2\u001b[0m \u001b[0my\u001b[0m \u001b[0;34m=\u001b[0m \u001b[0;34m\"3\"\u001b[0m\u001b[0;34m\u001b[0m\u001b[0;34m\u001b[0m\u001b[0m\n\u001b[0;32m----> 3\u001b[0;31m \u001b[0mprint\u001b[0m\u001b[0;34m(\u001b[0m\u001b[0mx\u001b[0m\u001b[0;34m*\u001b[0m\u001b[0my\u001b[0m\u001b[0;34m)\u001b[0m\u001b[0;34m\u001b[0m\u001b[0;34m\u001b[0m\u001b[0m\n\u001b[0m",
            "\u001b[0;31mTypeError\u001b[0m: can't multiply sequence by non-int of type 'str'"
          ]
        }
      ]
    },
    {
      "cell_type": "markdown",
      "source": [
        "##### **Solution**"
      ],
      "metadata": {
        "id": "3Bub9cFtIi_M"
      }
    },
    {
      "cell_type": "code",
      "source": [
        "x = 17\n",
        "y = 3\n",
        "print(x*y)"
      ],
      "metadata": {
        "colab": {
          "base_uri": "https://localhost:8080/"
        },
        "id": "lYPhAf8ZIVyJ",
        "outputId": "70ccb07d-9b20-4ffd-d965-aa3afac839c7"
      },
      "execution_count": null,
      "outputs": [
        {
          "output_type": "stream",
          "name": "stdout",
          "text": [
            "51\n"
          ]
        }
      ]
    },
    {
      "cell_type": "markdown",
      "source": [
        "#### **Problem #2.2**\n",
        "\n",
        "Debug the code shown below."
      ],
      "metadata": {
        "id": "qBRQlNdAIoMM"
      }
    },
    {
      "cell_type": "code",
      "source": [
        "my_list = [3, 1, 4, 1]\n",
        "print(my_list[4])"
      ],
      "metadata": {
        "colab": {
          "base_uri": "https://localhost:8080/",
          "height": 193
        },
        "id": "Zw0EixWuIhyv",
        "outputId": "efe20d47-8d69-43bd-c8f8-ded74ec0e26a"
      },
      "execution_count": null,
      "outputs": [
        {
          "output_type": "error",
          "ename": "IndexError",
          "evalue": "ignored",
          "traceback": [
            "\u001b[0;31m---------------------------------------------------------------------------\u001b[0m",
            "\u001b[0;31mIndexError\u001b[0m                                Traceback (most recent call last)",
            "\u001b[0;32m<ipython-input-20-07aecfbafff4>\u001b[0m in \u001b[0;36m<cell line: 2>\u001b[0;34m()\u001b[0m\n\u001b[1;32m      1\u001b[0m \u001b[0mmy_list\u001b[0m \u001b[0;34m=\u001b[0m \u001b[0;34m[\u001b[0m\u001b[0;36m3\u001b[0m\u001b[0;34m,\u001b[0m \u001b[0;36m1\u001b[0m\u001b[0;34m,\u001b[0m \u001b[0;36m4\u001b[0m\u001b[0;34m,\u001b[0m \u001b[0;36m1\u001b[0m\u001b[0;34m]\u001b[0m\u001b[0;34m\u001b[0m\u001b[0;34m\u001b[0m\u001b[0m\n\u001b[0;32m----> 2\u001b[0;31m \u001b[0mprint\u001b[0m\u001b[0;34m(\u001b[0m\u001b[0mmy_list\u001b[0m\u001b[0;34m[\u001b[0m\u001b[0;36m4\u001b[0m\u001b[0;34m]\u001b[0m\u001b[0;34m)\u001b[0m\u001b[0;34m\u001b[0m\u001b[0;34m\u001b[0m\u001b[0m\n\u001b[0m",
            "\u001b[0;31mIndexError\u001b[0m: list index out of range"
          ]
        }
      ]
    },
    {
      "cell_type": "markdown",
      "source": [
        "##### **Solution**"
      ],
      "metadata": {
        "id": "DuNaTvYrJBwa"
      }
    },
    {
      "cell_type": "code",
      "source": [
        "my_list = [3, 1, 4, 1]\n",
        "print(my_list[3])"
      ],
      "metadata": {
        "colab": {
          "base_uri": "https://localhost:8080/"
        },
        "id": "HZgJU2fjJAfj",
        "outputId": "5286b21c-03d1-4904-e1fb-9142c86b2400"
      },
      "execution_count": null,
      "outputs": [
        {
          "output_type": "stream",
          "name": "stdout",
          "text": [
            "1\n"
          ]
        }
      ]
    },
    {
      "cell_type": "markdown",
      "source": [
        "#### **Problem #2.3**\n",
        "\n",
        "Debug the code shown below."
      ],
      "metadata": {
        "id": "LnemW_PyJSHN"
      }
    },
    {
      "cell_type": "code",
      "source": [
        "oak.check_health()\n",
        "oak.light(6)\n",
        "oak.water(8)\n",
        "oak.wait()\n",
        "oak.check_health()"
      ],
      "metadata": {
        "colab": {
          "base_uri": "https://localhost:8080/",
          "height": 245
        },
        "id": "f7o4YPXsKMmj",
        "outputId": "fdbebf55-8ebd-48e2-8a1e-e6b5c9901410"
      },
      "execution_count": null,
      "outputs": [
        {
          "output_type": "error",
          "ename": "NameError",
          "evalue": "ignored",
          "traceback": [
            "\u001b[0;31m---------------------------------------------------------------------------\u001b[0m",
            "\u001b[0;31mNameError\u001b[0m                                 Traceback (most recent call last)",
            "\u001b[0;32m<ipython-input-28-b0ce6f8f169f>\u001b[0m in \u001b[0;36m<cell line: 1>\u001b[0;34m()\u001b[0m\n\u001b[0;32m----> 1\u001b[0;31m \u001b[0moak\u001b[0m\u001b[0;34m.\u001b[0m\u001b[0mcheck_health\u001b[0m\u001b[0;34m(\u001b[0m\u001b[0;34m)\u001b[0m\u001b[0;34m\u001b[0m\u001b[0;34m\u001b[0m\u001b[0m\n\u001b[0m\u001b[1;32m      2\u001b[0m \u001b[0moak\u001b[0m\u001b[0;34m.\u001b[0m\u001b[0mlight\u001b[0m\u001b[0;34m(\u001b[0m\u001b[0;36m6\u001b[0m\u001b[0;34m)\u001b[0m\u001b[0;34m\u001b[0m\u001b[0;34m\u001b[0m\u001b[0m\n\u001b[1;32m      3\u001b[0m \u001b[0moak\u001b[0m\u001b[0;34m.\u001b[0m\u001b[0mwater\u001b[0m\u001b[0;34m(\u001b[0m\u001b[0;36m8\u001b[0m\u001b[0;34m)\u001b[0m\u001b[0;34m\u001b[0m\u001b[0;34m\u001b[0m\u001b[0m\n\u001b[1;32m      4\u001b[0m \u001b[0moak\u001b[0m\u001b[0;34m.\u001b[0m\u001b[0mwait\u001b[0m\u001b[0;34m(\u001b[0m\u001b[0;34m)\u001b[0m\u001b[0;34m\u001b[0m\u001b[0;34m\u001b[0m\u001b[0m\n\u001b[1;32m      5\u001b[0m \u001b[0moak\u001b[0m\u001b[0;34m.\u001b[0m\u001b[0mcheck_health\u001b[0m\u001b[0;34m(\u001b[0m\u001b[0;34m)\u001b[0m\u001b[0;34m\u001b[0m\u001b[0;34m\u001b[0m\u001b[0m\n",
            "\u001b[0;31mNameError\u001b[0m: name 'oak' is not defined"
          ]
        }
      ]
    },
    {
      "cell_type": "markdown",
      "source": [
        "##### **Solution**"
      ],
      "metadata": {
        "id": "BaZcS4BFJbGU"
      }
    },
    {
      "cell_type": "code",
      "source": [
        "oak = plant()\n",
        "oak.check_health()\n",
        "oak.set_light(6)\n",
        "oak.water_plant(8)\n",
        "oak.wait(2)\n",
        "oak.check_health()"
      ],
      "metadata": {
        "colab": {
          "base_uri": "https://localhost:8080/"
        },
        "id": "RdWockTnJF0e",
        "outputId": "b9cac74c-3f5a-4033-c502-89df1807901b"
      },
      "execution_count": null,
      "outputs": [
        {
          "output_type": "stream",
          "name": "stdout",
          "text": [
            "Your plant's health is a 10/10.\n",
            "If you had to rate the wetness of the soil, it would be a 0/10.\n",
            "Your light is turned up to 0.\n",
            "You set the light to level 6\n",
            "You watered your plant.\n",
            "Day 1\n",
            "Your plant needs less light\n",
            "Your plant needs more water\n",
            "Day 2\n",
            "Your plant needs less light\n",
            "Your plant needs more water\n",
            "Your plant's health is a 8.200000000000001/10.\n",
            "If you had to rate the wetness of the soil, it would be a 0/10.\n",
            "Your light is turned up to 6.\n"
          ]
        }
      ]
    },
    {
      "cell_type": "markdown",
      "source": [
        "#### **Problem #2.4**\n",
        "\n",
        "Debug the code shown below."
      ],
      "metadata": {
        "id": "pLqchySgLB5E"
      }
    },
    {
      "cell_type": "code",
      "source": [
        "#f(x) = ax^2 + bx + c\n",
        "A = 1\n",
        "B = 8\n",
        "C = 15\n",
        "x1 = (-b + (b**2 - 4*a*c)**0.5)/(2*a)\n",
        "x2 = (-b - (b**2 - 4*a*c)**0.5)/(2*a)\n",
        "print(x1)\n",
        "print(x2)"
      ],
      "metadata": {
        "colab": {
          "base_uri": "https://localhost:8080/",
          "height": 245
        },
        "id": "gafSvfZTJ8qO",
        "outputId": "5ce24256-f2c1-4355-d2bf-a684e2886f5b"
      },
      "execution_count": null,
      "outputs": [
        {
          "output_type": "error",
          "ename": "NameError",
          "evalue": "ignored",
          "traceback": [
            "\u001b[0;31m---------------------------------------------------------------------------\u001b[0m",
            "\u001b[0;31mNameError\u001b[0m                                 Traceback (most recent call last)",
            "\u001b[0;32m<ipython-input-30-10913edfffd5>\u001b[0m in \u001b[0;36m<cell line: 5>\u001b[0;34m()\u001b[0m\n\u001b[1;32m      3\u001b[0m \u001b[0mB\u001b[0m \u001b[0;34m=\u001b[0m \u001b[0;36m8\u001b[0m\u001b[0;34m\u001b[0m\u001b[0;34m\u001b[0m\u001b[0m\n\u001b[1;32m      4\u001b[0m \u001b[0mC\u001b[0m \u001b[0;34m=\u001b[0m \u001b[0;36m15\u001b[0m\u001b[0;34m\u001b[0m\u001b[0;34m\u001b[0m\u001b[0m\n\u001b[0;32m----> 5\u001b[0;31m \u001b[0mx1\u001b[0m \u001b[0;34m=\u001b[0m \u001b[0;34m(\u001b[0m\u001b[0;34m-\u001b[0m\u001b[0mb\u001b[0m \u001b[0;34m+\u001b[0m \u001b[0;34m(\u001b[0m\u001b[0mb\u001b[0m\u001b[0;34m**\u001b[0m\u001b[0;36m2\u001b[0m \u001b[0;34m-\u001b[0m \u001b[0;36m4\u001b[0m\u001b[0;34m*\u001b[0m\u001b[0ma\u001b[0m\u001b[0;34m*\u001b[0m\u001b[0mc\u001b[0m\u001b[0;34m)\u001b[0m\u001b[0;34m**\u001b[0m\u001b[0;36m0.5\u001b[0m\u001b[0;34m)\u001b[0m\u001b[0;34m/\u001b[0m\u001b[0;34m(\u001b[0m\u001b[0;36m2\u001b[0m\u001b[0;34m*\u001b[0m\u001b[0ma\u001b[0m\u001b[0;34m)\u001b[0m\u001b[0;34m\u001b[0m\u001b[0;34m\u001b[0m\u001b[0m\n\u001b[0m\u001b[1;32m      6\u001b[0m \u001b[0mx2\u001b[0m \u001b[0;34m=\u001b[0m \u001b[0;34m(\u001b[0m\u001b[0;34m-\u001b[0m\u001b[0mb\u001b[0m \u001b[0;34m+\u001b[0m \u001b[0;34m(\u001b[0m\u001b[0mb\u001b[0m\u001b[0;34m**\u001b[0m\u001b[0;36m2\u001b[0m \u001b[0;34m-\u001b[0m \u001b[0;36m4\u001b[0m\u001b[0;34m*\u001b[0m\u001b[0ma\u001b[0m\u001b[0;34m*\u001b[0m\u001b[0mc\u001b[0m\u001b[0;34m)\u001b[0m\u001b[0;34m**\u001b[0m\u001b[0;36m0.5\u001b[0m\u001b[0;34m)\u001b[0m\u001b[0;34m/\u001b[0m\u001b[0;34m(\u001b[0m\u001b[0;36m2\u001b[0m\u001b[0;34m*\u001b[0m\u001b[0ma\u001b[0m\u001b[0;34m)\u001b[0m\u001b[0;34m\u001b[0m\u001b[0;34m\u001b[0m\u001b[0m\n\u001b[1;32m      7\u001b[0m \u001b[0mprint\u001b[0m\u001b[0;34m(\u001b[0m\u001b[0mx1\u001b[0m\u001b[0;34m)\u001b[0m\u001b[0;34m\u001b[0m\u001b[0;34m\u001b[0m\u001b[0m\n",
            "\u001b[0;31mNameError\u001b[0m: name 'b' is not defined"
          ]
        }
      ]
    },
    {
      "cell_type": "markdown",
      "source": [
        "##### **Solution**"
      ],
      "metadata": {
        "id": "YNfjLlvvMJK7"
      }
    },
    {
      "cell_type": "code",
      "source": [
        "#f(x) = ax^2 + bx + c\n",
        "a = 1\n",
        "b = 8\n",
        "c = 15\n",
        "x1 = (-b + (b**2 - 4*a*c)**0.5)/(2*a)\n",
        "x2 = (-b - (b**2 - 4*a*c)**0.5)/(2*a)\n",
        "print(x1)\n",
        "print(x2)"
      ],
      "metadata": {
        "colab": {
          "base_uri": "https://localhost:8080/"
        },
        "id": "uzHAWctFMHQT",
        "outputId": "2b21009f-3e43-44e5-c183-5a6a00463529"
      },
      "execution_count": null,
      "outputs": [
        {
          "output_type": "stream",
          "name": "stdout",
          "text": [
            "-3.0\n",
            "-5.0\n"
          ]
        }
      ]
    },
    {
      "cell_type": "markdown",
      "source": [
        "#### **Problem #2.5**\n",
        "\n",
        "Debug the code shown below."
      ],
      "metadata": {
        "id": "uesbpA-INjWh"
      }
    },
    {
      "cell_type": "code",
      "source": [
        "alisha = baby()\n",
        "alisha.age(1)\n",
        "print(alisha.age)"
      ],
      "metadata": {
        "colab": {
          "base_uri": "https://localhost:8080/",
          "height": 211
        },
        "id": "J3OW1W6aMQu0",
        "outputId": "86489273-a365-4353-ed0c-de8ba77928ea"
      },
      "execution_count": null,
      "outputs": [
        {
          "output_type": "error",
          "ename": "TypeError",
          "evalue": "ignored",
          "traceback": [
            "\u001b[0;31m---------------------------------------------------------------------------\u001b[0m",
            "\u001b[0;31mTypeError\u001b[0m                                 Traceback (most recent call last)",
            "\u001b[0;32m<ipython-input-35-38d6a9d599df>\u001b[0m in \u001b[0;36m<cell line: 2>\u001b[0;34m()\u001b[0m\n\u001b[1;32m      1\u001b[0m \u001b[0malisha\u001b[0m \u001b[0;34m=\u001b[0m \u001b[0mbaby\u001b[0m\u001b[0;34m(\u001b[0m\u001b[0;34m)\u001b[0m\u001b[0;34m\u001b[0m\u001b[0;34m\u001b[0m\u001b[0m\n\u001b[0;32m----> 2\u001b[0;31m \u001b[0malisha\u001b[0m\u001b[0;34m.\u001b[0m\u001b[0mage\u001b[0m\u001b[0;34m(\u001b[0m\u001b[0;36m1\u001b[0m\u001b[0;34m)\u001b[0m\u001b[0;34m\u001b[0m\u001b[0;34m\u001b[0m\u001b[0m\n\u001b[0m\u001b[1;32m      3\u001b[0m \u001b[0mprint\u001b[0m\u001b[0;34m(\u001b[0m\u001b[0malisha\u001b[0m\u001b[0;34m.\u001b[0m\u001b[0mage\u001b[0m\u001b[0;34m)\u001b[0m\u001b[0;34m\u001b[0m\u001b[0;34m\u001b[0m\u001b[0m\n",
            "\u001b[0;31mTypeError\u001b[0m: 'int' object is not callable"
          ]
        }
      ]
    },
    {
      "cell_type": "markdown",
      "source": [
        "##### **Solution**"
      ],
      "metadata": {
        "id": "6QKZW6k-Q9oL"
      }
    },
    {
      "cell_type": "code",
      "source": [
        "alisha = baby()\n",
        "alisha.age = 1\n",
        "print(alisha.age)"
      ],
      "metadata": {
        "colab": {
          "base_uri": "https://localhost:8080/"
        },
        "id": "HFSczszuQyQ7",
        "outputId": "0c36ae33-8b60-4f22-e108-26a946da4a10"
      },
      "execution_count": null,
      "outputs": [
        {
          "output_type": "stream",
          "name": "stdout",
          "text": [
            "1\n"
          ]
        }
      ]
    },
    {
      "cell_type": "markdown",
      "source": [
        "<a name=\"p3\"></a>\n",
        "\n",
        "---\n",
        "## **Part 3: Coding Challenges [OPTIONAL]**\n",
        "---\n",
        "\n",
        "This part contains mini-projects that you can use to practice your Python skills! Remember, you can search for documentation that may help you."
      ],
      "metadata": {
        "id": "hJugshHqalUm"
      }
    },
    {
      "cell_type": "markdown",
      "source": [
        "#### **Problem #3.1**\n",
        "\n",
        "Research the `numpy` module to find a function that allows you simulate rolling a weighted die that is twice as likely to land on 6 than a typical die. Then, simulate this die being rolled six times."
      ],
      "metadata": {
        "id": "7MCBBIuFaqG0"
      }
    },
    {
      "cell_type": "code",
      "source": [
        "# COMPLETE THIS CODE"
      ],
      "metadata": {
        "id": "f6-MmfxWRfhJ"
      },
      "execution_count": null,
      "outputs": []
    },
    {
      "cell_type": "markdown",
      "source": [
        "##### **Solution**"
      ],
      "metadata": {
        "id": "ZPIva-Tpbc_0"
      }
    },
    {
      "cell_type": "markdown",
      "source": [
        "Useful documentation:\n",
        "*  [numpy.random.choice](https://numpy.org/doc/stable/reference/random/generated/numpy.random.choice.html)"
      ],
      "metadata": {
        "id": "NX3nlEc3exND"
      }
    },
    {
      "cell_type": "code",
      "source": [
        "die = [1,2,3,4,5,6]\n",
        "weighted_roll = numpy.random.choice(die, 6, p=[.14,.14,.14,.14,.14,.3])\n",
        "print(weighted_roll)\n",
        "\n",
        "# OR\n",
        "\n",
        "w_die = [1,2,3,4,5,6,6]\n",
        "weighted_roll = numpy.random.choice(w_die, 6)\n",
        "print(weighted_roll)"
      ],
      "metadata": {
        "colab": {
          "base_uri": "https://localhost:8080/"
        },
        "id": "-Qlc5mwRbe0i",
        "outputId": "fbb87fe8-9084-4123-ac4d-ad5a1a2c0e1c"
      },
      "execution_count": null,
      "outputs": [
        {
          "output_type": "stream",
          "name": "stdout",
          "text": [
            "[3 5 6 2 3 1]\n",
            "[4 1 6 6 2 5]\n"
          ]
        }
      ]
    },
    {
      "cell_type": "markdown",
      "source": [
        "#### **Problem #3.2**\n",
        "\n",
        "Use the `append` method to add \"six\" to the list below. Then, write code the prints out the reversed list."
      ],
      "metadata": {
        "id": "MAbKoxKzey5X"
      }
    },
    {
      "cell_type": "code",
      "source": [
        "my_list = [\"one\",\"two\",\"three\", \"four\",\"five\"]\n",
        "# COMPLETE THIS CODE"
      ],
      "metadata": {
        "id": "492gscAegBnq"
      },
      "execution_count": null,
      "outputs": []
    },
    {
      "cell_type": "markdown",
      "source": [
        "##### **Solution**"
      ],
      "metadata": {
        "id": "4lkNwfOTgNbk"
      }
    },
    {
      "cell_type": "markdown",
      "source": [
        "Useful Documentation:\n",
        "* [Data Structures](https://docs.python.org/3/tutorial/datastructures.html)\n",
        "*  [Reverse Method](https://www.programiz.com/python-programming/methods/list/reverse)\n",
        "*  [Reverse Function](https://www.geeksforgeeks.org/python-reversed-function/)"
      ],
      "metadata": {
        "id": "glIFw-k4gifb"
      }
    },
    {
      "cell_type": "code",
      "source": [
        "my_list = [\"one\",\"two\",\"three\", \"four\",\"five\"]\n",
        "my_list.append(\"six\")\n",
        "my_list.reverse()\n",
        "print(my_list)\n",
        "\n",
        "# OR\n",
        "\n",
        "my_list = [\"one\",\"two\",\"three\", \"four\",\"five\"]\n",
        "my_list.append(\"six\")\n",
        "my_list = list(reversed(my_list))\n",
        "print(my_list)"
      ],
      "metadata": {
        "colab": {
          "base_uri": "https://localhost:8080/"
        },
        "id": "aKZPoT5Pbtt0",
        "outputId": "b02c015a-705d-4147-ec1f-943c67a6cf20"
      },
      "execution_count": null,
      "outputs": [
        {
          "output_type": "stream",
          "name": "stdout",
          "text": [
            "['six', 'five', 'four', 'three', 'two', 'one']\n",
            "['six', 'five', 'four', 'three', 'two', 'one']\n"
          ]
        }
      ]
    },
    {
      "cell_type": "markdown",
      "source": [
        "#### **Problem #3.3**\n",
        "\n",
        "Research the `matplotlib` module to find a function that creates a line graph of the data provided below. For an extra challenge, label the x-axis \"Year\" and the y-axis \"Number of Transistors per Microprocessor in Millions\". This is a visual representation of Moore's Law!"
      ],
      "metadata": {
        "id": "dbLvQlEJgno8"
      }
    },
    {
      "cell_type": "code",
      "source": [
        "years = [1972, 1982, 1992, 2002, 2012]\n",
        "num_transistors = [.004, .14, 3.11, 220.67, 2600]\n",
        "# COMPLETE THIS CODE"
      ],
      "metadata": {
        "id": "UuekpDjKlkpU"
      },
      "execution_count": null,
      "outputs": []
    },
    {
      "cell_type": "markdown",
      "source": [
        "##### **Solution**"
      ],
      "metadata": {
        "id": "Q8aB5KwjoO-I"
      }
    },
    {
      "cell_type": "markdown",
      "source": [
        "Helpful documentation:\n",
        "\n",
        "*  [matplotlib.pyplot.plot](https://matplotlib.org/stable/api/_as_gen/matplotlib.pyplot.plot.html)\n",
        "*  [matplotlib.pyplot.xlabel](https://matplotlib.org/stable/api/_as_gen/matplotlib.pyplot.xlabel.html)\n",
        "*  [matplotlib.pyplot.ylabel](https://matplotlib.org/stable/api/_as_gen/matplotlib.pyplot.ylabel.html)"
      ],
      "metadata": {
        "id": "uGfahqp-oZ77"
      }
    },
    {
      "cell_type": "code",
      "source": [
        "years = [1972, 1982, 1992, 2002, 2012]\n",
        "num_transistors = [.004, .14, 3.11, 220.67, 2600]\n",
        "matplotlib.pyplot.plot(years, num_transistors)\n",
        "matplotlib.pyplot.xlabel(\"Year\")\n",
        "matplotlib.pyplot.ylabel(\"Number of of Transistors per Microprocessor in Millions\")"
      ],
      "metadata": {
        "colab": {
          "base_uri": "https://localhost:8080/",
          "height": 466
        },
        "id": "TzfeD3zomCEk",
        "outputId": "9aee9481-bf37-4dbc-dbad-ce3517ab3a08"
      },
      "execution_count": null,
      "outputs": [
        {
          "output_type": "execute_result",
          "data": {
            "text/plain": [
              "Text(0, 0.5, 'Number of of Transistors per Microprocessor in Millions')"
            ]
          },
          "metadata": {},
          "execution_count": 84
        },
        {
          "output_type": "display_data",
          "data": {
            "text/plain": [
              "<Figure size 640x480 with 1 Axes>"
            ],
            "image/png": "[encoded data removed]"
          },
          "metadata": {}
        }
      ]
    },
    {
      "cell_type": "markdown",
      "source": [
        "# End of notebook\n",
        "---\n",
        "© 2023 The Coding School, All rights reserved"
      ],
      "metadata": {
        "id": "88JBud6KoMjn"
      }
    }
  ]
}