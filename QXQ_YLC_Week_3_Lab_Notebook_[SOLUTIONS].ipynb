{
  "cells": [
    {
      "cell_type": "markdown",
      "metadata": {
        "id": "view-in-github",
        "colab_type": "text"
      },
      "source": [
        "<a href=\"https://colab.research.google.com/github/owaisishtiaqsiddiqui/QxQ-23-24-Course-Solutions/blob/main/QXQ_YLC_Week_3_Lab_Notebook_%5BSOLUTIONS%5D.ipynb\" target=\"_parent\"><img src=\"https://colab.research.google.com/assets/colab-badge.svg\" alt=\"Open In Colab\"/></a>"
      ]
    },
    {
      "cell_type": "markdown",
      "source": [
        "# **Lab 3: Using Objects and Good Programming Practices**\n",
        "---\n",
        "\n",
        "### **Description**\n",
        "In today's lab, you will learn how to work with Attributes and Methods in Python. You will also learn how to interpret and correct coding errors, and how to search for and navigate documentation.\n",
        "\n",
        "<br>\n",
        "\n",
        "### **Lab Structure**\n",
        "**Part 1**: [Review](#p1)\n",
        "\n",
        "**Part 2**: [Attributes and Methods](#p2)\n",
        "\n",
        "**Part 3**: [Debugging](#p3)\n",
        "\n",
        "**Part 4**: [Additional Practice [OPTIONAL]](#p4)\n",
        ">\n",
        "> **Part 4.1**: [The Fundamentals](#p4.1)\n",
        ">\n",
        "> **Part 4.2**: [Coding Challenges](#p4.2)\n",
        "\n",
        "**Part 5**: [The `print` Function [OPTIONAL]](#p5)\n",
        "\n",
        "<br>\n",
        "\n",
        "\n",
        "### **Learning Objectives**\n",
        "By the end of this lab, we will:\n",
        "* Understand how to interact with objects using methods and attributes.\n",
        "* Improve your debugging skills by correcting common coding errors.\n",
        "* Understand how to search for documentation in various libraries.\n",
        "\n",
        "<br>\n",
        "\n",
        "###**Resources**\n",
        "* [Python Basics Cheat Sheet](https://docs.google.com/document/d/1uLao-xKh3tYIiCYyiqf7oas4qTlr5XYKQ0QpzX_Xzag/edit?usp=sharing)\n",
        "\n",
        "\n",
        "<br>\n",
        "\n",
        "\n",
        "**Before starting, run the code below to import all necessary functions and libraries.**\n"
      ],
      "metadata": {
        "id": "mbZXQ3rA3NwL"
      },
      "id": "mbZXQ3rA3NwL"
    },
    {
      "cell_type": "code",
      "source": [
        "# @title\n",
        "\n",
        "import warnings\n",
        "import sympy\n",
        "import numpy\n",
        "import matplotlib\n",
        "import time\n",
        "import math\n",
        "from matplotlib import pyplot\n",
        "\n",
        "warnings.filterwarnings(\"ignore\")\n",
        "\n",
        "class baby():\n",
        "  def __init__(self,age=0, mood=\"crying\", hunger=\"hungry\"):\n",
        "    self.age = age\n",
        "    self.mood = mood\n",
        "    self.hunger = hunger\n",
        "  def feed(self):\n",
        "    self.hunger = \"full\"\n",
        "  def play(self):\n",
        "    self.mood = \"happy\"\n",
        "\n",
        "class second_lab():\n",
        "  def __init__(self,TA=\"NO TA SET\"):\n",
        "    self.topic = \"Introduction to Objects and Debugging\"\n",
        "    self.attendance_code = 1234\n",
        "    self.attendees = []\n",
        "    self.TA = TA\n",
        "  def check_in(self,name):\n",
        "    self.attendees.append(name)\n",
        "  def lab_summary(self):\n",
        "    print(\"Today in lab, we had an \" + self.topic + \" with our TA, \" + self.TA +\". We had some great people in attendance, such as:\" + \", \".join(self.attendees)+\". The attendance code is \" + str(self.attendance_code)+\".\")\n",
        "\n",
        "def calculate_area(length, width):\n",
        "  area = length * width\n",
        "  return area\n",
        "\n",
        "class plant():\n",
        "  def __init__(self):\n",
        "    self.planted = 0\n",
        "    self.day_of_last_growth = 0\n",
        "    self.day = 0\n",
        "    self.water = 0\n",
        "    self.light = 0\n",
        "    self.health = 10\n",
        "    self.stage = 0\n",
        "    self.perfect_light = numpy.random.choice([1,2,3,4,5,6,7,8,9,10])\n",
        "    self.perfect_water = numpy.random.choice([1,2,3,4,5,6,7,8,9,10])\n",
        "  def water_plant(self,amount):\n",
        "    if amount > 0:\n",
        "      print(\"You watered your plant.\")\n",
        "      self.water += round(amount)\n",
        "    elif amount < 0:\n",
        "      raise ValueError(\"You can't remove water from your plant! You will have to wait a bit for it to dry out.\")\n",
        "    else:\n",
        "      print(\"You decide to not water your plant.\")\n",
        "  def set_light(self,level):\n",
        "    if level <0:\n",
        "      raise ValueError(\"You can't set the light level to negative values.\")\n",
        "    elif level > 10:\n",
        "      raise ValueError(\"Your light is not that strong\")\n",
        "    else:\n",
        "      self.light = round(level)\n",
        "      print(\"You set the light to level \" + str(self.light))\n",
        "\n",
        "  def check_health(self):\n",
        "    print(\"Your plant's health is a \" + str(self.health)+ \"/\" + str(10+(5*self.stage))+\".\")\n",
        "    print(\"If you had to rate the wetness of the soil, it would be a \" + str(self.water)+ \"/10.\")\n",
        "    print(\"Your light is turned up to \" + str(self.light)+ \".\")\n",
        "    if self.stage == 10:\n",
        "      print(\"Your plant is full grown.\")\n",
        "  def wait(self,num_days):\n",
        "    for i in range(num_days):\n",
        "      self.day += 1\n",
        "      print('Day ' + str(self.day))\n",
        "      if self.perfect_light > self.light:\n",
        "        print(\"Your plant needs more light\")\n",
        "        self.health += -1*abs(self.perfect_light- self.light)/10\n",
        "      elif self.perfect_light < self.light:\n",
        "        print(\"Your plant needs less light\")\n",
        "        self.health += -1*abs(self.perfect_light- self.light)/10\n",
        "      else:\n",
        "        print(\"Your plant looks happy with the light it has.\")\n",
        "      if self.perfect_water > self.water:\n",
        "        print(\"Your plant needs more water\")\n",
        "        self.health += -1*abs(self.perfect_water- self.water)/10\n",
        "      elif self.perfect_water < self.water:\n",
        "        print(\"Your plant needs less water\")\n",
        "        self.health += -1*abs(self.perfect_water- self.water)/10\n",
        "      else:\n",
        "        print(\"Your plant looks happy with the water it had.\")\n",
        "      if self.perfect_light == self.light and self.perfect_water == self.water:\n",
        "        self.health = (self.health + 10+(5*self.stage))/2\n",
        "        if self.day- self.day_of_last_growth >= 5 and self.stage < 10:\n",
        "          print(\"Your plant grew a bit! Its preferances may have changed.\")\n",
        "          self.stage += 1\n",
        "          self.health += 5\n",
        "          self.day_of_last_growth = self.day\n",
        "          self.perfect_light = numpy.random.choice([1,2,3,4,5,6,7,8,9,10])\n",
        "          self.perfect_water = numpy.random.choice([1,2,3,4,5,6,7,8,9,10])\n",
        "          if self.stage == 10:\n",
        "            print(\"Congrats! Your plant is full grown.\")\n",
        "      self.water += -1*self.light\n",
        "      if self.water < 0:\n",
        "        self.water = 0\n",
        "      if self.health <= 0:\n",
        "        print(\"Your plant died! You decide to plant a new seed. Treat this one better!\")\n",
        "        self.planted = 0\n",
        "        self.day_of_last_growth = 0\n",
        "        self.day = 0\n",
        "        self.water = 0\n",
        "        self.light = 0\n",
        "        self.health = 10\n",
        "        self.stage = 0\n",
        "        self.perfect_light = numpy.random.choice([1,2,3,4,5,6,7,8,9,10])\n",
        "        self.perfect_water = numpy.random.choice([1,2,3,4,5,6,7,8,9,10])\n",
        "\n",
        "def dynamic_find_roots(a,b,c):\n",
        "  if b**2-4*a*c == 0:\n",
        "    return -b/(2*a)\n",
        "  elif b**2 - 4*a*c <0:\n",
        "    return (-b+1j*(4*a*c-b**2)**0.5)/(2*a),(-b-1j*(4*a*c-b**2)**0.5)/(2*a)\n",
        "  elif b**2 - 4*a*c >0:\n",
        "    return (-b+(b**2-4*a*c)**0.5)/(2*a),(-b-(b**2-4*a*c)**0.5)/(2*a)\n",
        "print(\"Libraries imported successfully!\")"
      ],
      "metadata": {
        "id": "YAvvLhRIoqYp",
        "colab": {
          "base_uri": "https://localhost:8080/"
        },
        "outputId": "608154a7-c78c-4528-8533-63f18c1c12f3",
        "cellView": "form"
      },
      "execution_count": 1,
      "outputs": [
        {
          "output_type": "stream",
          "name": "stdout",
          "text": [
            "Libraries imported successfully!\n"
          ]
        }
      ],
      "id": "YAvvLhRIoqYp"
    },
    {
      "cell_type": "markdown",
      "source": [
        "<a name=\"p1\"></a>\n",
        "\n",
        "---\n",
        "## **Part 1: Review**\n",
        "---"
      ],
      "metadata": {
        "id": "88bM7zNgm__2"
      },
      "id": "88bM7zNgm__2"
    },
    {
      "cell_type": "markdown",
      "metadata": {
        "id": "8E_hjAwnzJIJ"
      },
      "source": [
        "#### **Problem #1.1**\n",
        "\n",
        "**Together**, let's label the following data types.\n",
        "\n",
        "<br>\n",
        "\n",
        "**NOTE**: You can change the text below by double clicking on the cell."
      ],
      "id": "8E_hjAwnzJIJ"
    },
    {
      "cell_type": "markdown",
      "metadata": {
        "id": "UgjKT51TYqvW"
      },
      "source": [
        "```\n",
        "2\n",
        "8.9\n",
        "\"Quantum is Cool!\"\n",
        "5.0\n",
        "[\"string\"]\n",
        "```"
      ],
      "id": "UgjKT51TYqvW"
    },
    {
      "cell_type": "markdown",
      "source": [
        "##### **Solution**"
      ],
      "metadata": {
        "id": "owcuEO1A59NI"
      },
      "id": "owcuEO1A59NI"
    },
    {
      "cell_type": "markdown",
      "metadata": {
        "id": "VHxhYXcV6J9g"
      },
      "source": [
        "```\n",
        "2: int\n",
        "8.9: float\n",
        "\"Quantum is Cool!\": string\n",
        "5.0: float\n",
        "[\"string\"]: list of strings\n",
        "```"
      ],
      "id": "VHxhYXcV6J9g"
    },
    {
      "cell_type": "markdown",
      "metadata": {
        "id": "vbVHhpiin48S"
      },
      "source": [
        "#### **Problem #1.2**\n",
        "\n",
        "**Together**, let's write code below to calculate 6 times 30 minus 15.5."
      ],
      "id": "vbVHhpiin48S"
    },
    {
      "cell_type": "code",
      "source": [
        "# COMPLETE THIS CODE"
      ],
      "metadata": {
        "id": "aArc_XhAn7Wj"
      },
      "id": "aArc_XhAn7Wj",
      "execution_count": null,
      "outputs": []
    },
    {
      "cell_type": "markdown",
      "source": [
        "##### **Solution**"
      ],
      "metadata": {
        "id": "uUs2GZ9cn48g"
      },
      "id": "uUs2GZ9cn48g"
    },
    {
      "cell_type": "code",
      "source": [
        "6 * 30 - 15.5"
      ],
      "metadata": {
        "colab": {
          "base_uri": "https://localhost:8080/"
        },
        "id": "MPN4Y78jn8nk",
        "outputId": "53cb7ec0-dc53-45c4-c451-79babe3fb648"
      },
      "id": "MPN4Y78jn8nk",
      "execution_count": null,
      "outputs": [
        {
          "output_type": "execute_result",
          "data": {
            "text/plain": [
              "164.5"
            ]
          },
          "metadata": {},
          "execution_count": 1
        }
      ]
    },
    {
      "cell_type": "markdown",
      "metadata": {
        "id": "huF5E-rfpsk6"
      },
      "source": [
        "#### **Problem #1.3**\n",
        "\n",
        "**Together**, let's write code below to create a variables called `num_qubits` that equals 100. Then output the value of the variable."
      ],
      "id": "huF5E-rfpsk6"
    },
    {
      "cell_type": "code",
      "source": [
        "# COMPLETE THIS CODE"
      ],
      "metadata": {
        "id": "IQeZmqMspsk7"
      },
      "execution_count": null,
      "outputs": [],
      "id": "IQeZmqMspsk7"
    },
    {
      "cell_type": "markdown",
      "source": [
        "##### **Solution**"
      ],
      "metadata": {
        "id": "LJy1oTtEpsk8"
      },
      "id": "LJy1oTtEpsk8"
    },
    {
      "cell_type": "code",
      "source": [
        "num_qubits = 100\n",
        "num_qubits"
      ],
      "metadata": {
        "colab": {
          "base_uri": "https://localhost:8080/"
        },
        "outputId": "eeac3be8-2c6b-44e3-82e6-07026cc62c5a",
        "id": "V7oab3lVpsk8"
      },
      "execution_count": null,
      "outputs": [
        {
          "output_type": "execute_result",
          "data": {
            "text/plain": [
              "100"
            ]
          },
          "metadata": {},
          "execution_count": 2
        }
      ],
      "id": "V7oab3lVpsk8"
    },
    {
      "cell_type": "markdown",
      "metadata": {
        "id": "viydnMGPp9Vn"
      },
      "source": [
        "#### **Problem #1.4**\n",
        "\n",
        "**Independently**, write code below to create a variables called `num_gates` that equals 12. Then output the value of the variable."
      ],
      "id": "viydnMGPp9Vn"
    },
    {
      "cell_type": "code",
      "source": [
        "# COMPLETE THIS CODE"
      ],
      "metadata": {
        "id": "RobdNtdJp9V0"
      },
      "execution_count": null,
      "outputs": [],
      "id": "RobdNtdJp9V0"
    },
    {
      "cell_type": "markdown",
      "source": [
        "##### **Solution**"
      ],
      "metadata": {
        "id": "OM_a5AxNp9V1"
      },
      "id": "OM_a5AxNp9V1"
    },
    {
      "cell_type": "code",
      "source": [
        "num_gates = 12\n",
        "num_gates"
      ],
      "metadata": {
        "colab": {
          "base_uri": "https://localhost:8080/"
        },
        "outputId": "dc7e6085-1423-4748-ff73-8e653ebd446c",
        "id": "A1Cest2Yp9V1"
      },
      "execution_count": null,
      "outputs": [
        {
          "output_type": "execute_result",
          "data": {
            "text/plain": [
              "12"
            ]
          },
          "metadata": {},
          "execution_count": 6
        }
      ],
      "id": "A1Cest2Yp9V1"
    },
    {
      "cell_type": "markdown",
      "metadata": {
        "id": "0hMTn7KLqMIw"
      },
      "source": [
        "#### **Problem #1.5**\n",
        "\n",
        "Write code below to create a variables called `circuit_size` that equals `num_qubits` times `num_gates`. Then output the value of the variable."
      ],
      "id": "0hMTn7KLqMIw"
    },
    {
      "cell_type": "code",
      "source": [
        "# COMPLETE THIS CODE"
      ],
      "metadata": {
        "id": "yHVTW11RqMI-"
      },
      "execution_count": null,
      "outputs": [],
      "id": "yHVTW11RqMI-"
    },
    {
      "cell_type": "markdown",
      "source": [
        "##### **Solution**"
      ],
      "metadata": {
        "id": "LbPJFPaHqMI-"
      },
      "id": "LbPJFPaHqMI-"
    },
    {
      "cell_type": "code",
      "source": [
        "circuit_size = num_qubits * num_gates\n",
        "circuit_size"
      ],
      "metadata": {
        "colab": {
          "base_uri": "https://localhost:8080/"
        },
        "outputId": "4e65aeb8-2bd0-493d-f5ed-f20569ce96ef",
        "id": "ob7Bh6b4qMI_"
      },
      "execution_count": null,
      "outputs": [
        {
          "output_type": "execute_result",
          "data": {
            "text/plain": [
              "1200"
            ]
          },
          "metadata": {},
          "execution_count": 7
        }
      ],
      "id": "ob7Bh6b4qMI_"
    },
    {
      "cell_type": "markdown",
      "source": [
        "<a name=\"p2\"></a>\n",
        "\n",
        "---\n",
        "## **Part 2: Attributes and Methods**\n",
        "---\n",
        "Python and any libraries we install give us tons of objects to work with. In this part, we will practice interacting with objects using methods and attributes."
      ],
      "metadata": {
        "id": "idga37M2FsMR"
      },
      "id": "idga37M2FsMR"
    },
    {
      "cell_type": "markdown",
      "source": [
        "### **Problem #2.1**\n",
        "\n",
        "**Together**, let's create a \"baby\" object and output its \"age\" attribute.\n"
      ],
      "metadata": {
        "id": "E90o2LJcwsMI"
      },
      "id": "E90o2LJcwsMI"
    },
    {
      "cell_type": "code",
      "source": [
        "jeremy = baby()\n",
        "# COMPLETE THIS CODE"
      ],
      "metadata": {
        "id": "ef77ha0_x9a_"
      },
      "execution_count": null,
      "outputs": [],
      "id": "ef77ha0_x9a_"
    },
    {
      "cell_type": "markdown",
      "source": [
        "##### **Solution**\n"
      ],
      "metadata": {
        "id": "qYYvoDbRx9bA"
      },
      "id": "qYYvoDbRx9bA"
    },
    {
      "cell_type": "code",
      "source": [
        "jeremy = baby()\n",
        "jeremy.age"
      ],
      "metadata": {
        "id": "see1xuAMx9bA",
        "colab": {
          "base_uri": "https://localhost:8080/"
        },
        "outputId": "7344370f-2fb0-4b4e-c840-b051efd33a19"
      },
      "execution_count": null,
      "outputs": [
        {
          "output_type": "stream",
          "name": "stdout",
          "text": [
            "0\n"
          ]
        }
      ],
      "id": "see1xuAMx9bA"
    },
    {
      "cell_type": "markdown",
      "source": [
        "### **Problem #2.2**\n",
        "\n",
        "**Together**, let's write code to set the baby's age to 2.\n"
      ],
      "metadata": {
        "id": "2UHcbxTY0R7t"
      },
      "id": "2UHcbxTY0R7t"
    },
    {
      "cell_type": "code",
      "source": [
        "# COMPLETE THIS CODE"
      ],
      "metadata": {
        "id": "cIs8URcj0R8K"
      },
      "execution_count": null,
      "outputs": [],
      "id": "cIs8URcj0R8K"
    },
    {
      "cell_type": "markdown",
      "source": [
        "##### **Solution**\n"
      ],
      "metadata": {
        "id": "goDk-o0A0R8K"
      },
      "id": "goDk-o0A0R8K"
    },
    {
      "cell_type": "code",
      "source": [
        "jeremy.age = 2"
      ],
      "metadata": {
        "id": "wAHVjTYO0R8L"
      },
      "execution_count": null,
      "outputs": [],
      "id": "wAHVjTYO0R8L"
    },
    {
      "cell_type": "markdown",
      "source": [
        "### **Problem #2.3**\n",
        "\n",
        "**Together**, output the baby's `hunger` attribute, then use its `feed` method (this method does not require any arguments). Finally, print out the new `hunger` attribute.\n"
      ],
      "metadata": {
        "id": "1NLuZ2HS0ib4"
      },
      "id": "1NLuZ2HS0ib4"
    },
    {
      "cell_type": "code",
      "source": [
        "# COMPLETE THIS CODE"
      ],
      "metadata": {
        "id": "urA0ZLTi0icL"
      },
      "execution_count": null,
      "outputs": [],
      "id": "urA0ZLTi0icL"
    },
    {
      "cell_type": "code",
      "source": [
        "# COMPLETE THIS CODE"
      ],
      "metadata": {
        "id": "n7gbGtKkW9S_"
      },
      "id": "n7gbGtKkW9S_",
      "execution_count": null,
      "outputs": []
    },
    {
      "cell_type": "markdown",
      "source": [
        "##### **Solution**\n"
      ],
      "metadata": {
        "id": "MOVUrjQm0icM"
      },
      "id": "MOVUrjQm0icM"
    },
    {
      "cell_type": "code",
      "source": [
        "jeremy.hunger"
      ],
      "metadata": {
        "id": "k34obIM-XAMp"
      },
      "id": "k34obIM-XAMp",
      "execution_count": null,
      "outputs": []
    },
    {
      "cell_type": "code",
      "source": [
        "jeremy.feed()\n",
        "jeremy.hunger"
      ],
      "metadata": {
        "id": "NKoeRhbO0icM"
      },
      "execution_count": null,
      "outputs": [],
      "id": "NKoeRhbO0icM"
    },
    {
      "cell_type": "markdown",
      "source": [
        "###**Problem #2.4**\n",
        "\n",
        "**Independently**, create a new `baby` object, and output the `mood` attribute. Then, use its `play` method and output the `mood` attribute once again."
      ],
      "metadata": {
        "id": "PpyG4J8jyB_u"
      },
      "id": "PpyG4J8jyB_u"
    },
    {
      "cell_type": "code",
      "source": [
        "# COMPLETE THIS CODE"
      ],
      "metadata": {
        "id": "za3WWQC6zl_y"
      },
      "id": "za3WWQC6zl_y",
      "execution_count": null,
      "outputs": []
    },
    {
      "cell_type": "markdown",
      "source": [
        "####**Solution**"
      ],
      "metadata": {
        "id": "4Ehjo0prztcu"
      },
      "id": "4Ehjo0prztcu"
    },
    {
      "cell_type": "code",
      "source": [
        "liam = baby()\n",
        "liam.mood"
      ],
      "metadata": {
        "id": "s2Zf_Q2kz1QW"
      },
      "id": "s2Zf_Q2kz1QW",
      "execution_count": null,
      "outputs": []
    },
    {
      "cell_type": "code",
      "source": [
        "liam.play()\n",
        "liam.mood"
      ],
      "metadata": {
        "id": "sibPaMvrXF--"
      },
      "id": "sibPaMvrXF--",
      "execution_count": null,
      "outputs": []
    },
    {
      "cell_type": "markdown",
      "source": [
        "###**Problem #2.5**\n",
        "\n",
        "**Independently**, create a new `baby` object. Output its age attribute. Next, use its `feed` method, use its `play` method, and set its age attribute to 1. Then, output its `mood`, `hunger`, and new `age` attributes."
      ],
      "metadata": {
        "id": "y06lT5ANLLjA"
      },
      "id": "y06lT5ANLLjA"
    },
    {
      "cell_type": "code",
      "source": [
        "# COMPLETE THIS CODE"
      ],
      "metadata": {
        "id": "ECzPUucnM9wF"
      },
      "id": "ECzPUucnM9wF",
      "execution_count": null,
      "outputs": []
    },
    {
      "cell_type": "code",
      "source": [
        "# COMPLETE THIS CODE"
      ],
      "metadata": {
        "id": "ovWX1bpNM9e5"
      },
      "id": "ovWX1bpNM9e5",
      "execution_count": null,
      "outputs": []
    },
    {
      "cell_type": "code",
      "source": [
        "# COMPLETE THIS CODE"
      ],
      "metadata": {
        "id": "QwNeCFwMXSQ5"
      },
      "id": "QwNeCFwMXSQ5",
      "execution_count": null,
      "outputs": []
    },
    {
      "cell_type": "code",
      "source": [
        "# COMPLETE THIS CODE"
      ],
      "metadata": {
        "id": "9pfI3fSHXR1T"
      },
      "id": "9pfI3fSHXR1T",
      "execution_count": null,
      "outputs": []
    },
    {
      "cell_type": "markdown",
      "source": [
        "####**Solution**"
      ],
      "metadata": {
        "id": "-sg3GBUQNDEv"
      },
      "id": "-sg3GBUQNDEv"
    },
    {
      "cell_type": "code",
      "source": [
        "john = baby()\n",
        "john.age"
      ],
      "metadata": {
        "colab": {
          "base_uri": "https://localhost:8080/"
        },
        "id": "HTKTNJCbLWfX",
        "outputId": "4e3d6e7c-2c14-4e3c-da29-244d1159eb0e"
      },
      "id": "HTKTNJCbLWfX",
      "execution_count": null,
      "outputs": [
        {
          "output_type": "stream",
          "name": "stdout",
          "text": [
            "0\n"
          ]
        }
      ]
    },
    {
      "cell_type": "code",
      "source": [
        "john.feed()\n",
        "john.play()\n",
        "john.age = 1\n",
        "john.mood"
      ],
      "metadata": {
        "id": "jvVJU3lUNH0p"
      },
      "id": "jvVJU3lUNH0p",
      "execution_count": null,
      "outputs": []
    },
    {
      "cell_type": "code",
      "source": [
        "john.hunger"
      ],
      "metadata": {
        "id": "mLjy0ZzgXVK3"
      },
      "id": "mLjy0ZzgXVK3",
      "execution_count": null,
      "outputs": []
    },
    {
      "cell_type": "code",
      "source": [
        "john.age"
      ],
      "metadata": {
        "id": "P3fGihjKXXbe"
      },
      "id": "P3fGihjKXXbe",
      "execution_count": null,
      "outputs": []
    },
    {
      "cell_type": "markdown",
      "source": [
        "### **Problem #2.6**\n",
        "\n",
        "**Together**, create a `second_lab` object, and set the `TA` attribute to the name of your TA. Then, output the `TA` attribute."
      ],
      "metadata": {
        "id": "9cPRASJ84IOA"
      },
      "id": "9cPRASJ84IOA"
    },
    {
      "cell_type": "code",
      "source": [
        "my_lab = # COMPLETE THIS CODE"
      ],
      "metadata": {
        "id": "waLbv5zf4IOZ"
      },
      "execution_count": null,
      "outputs": [],
      "id": "waLbv5zf4IOZ"
    },
    {
      "cell_type": "markdown",
      "source": [
        "##### **Solution**\n"
      ],
      "metadata": {
        "id": "29XhHhvj4IOZ"
      },
      "id": "29XhHhvj4IOZ"
    },
    {
      "cell_type": "code",
      "source": [
        "my_lab = second_lab()\n",
        "my_lab.TA = \"Tristin\"\n",
        "my_lab.TA"
      ],
      "metadata": {
        "id": "1dr6vwJw4IOa",
        "colab": {
          "base_uri": "https://localhost:8080/"
        },
        "outputId": "a13c36a5-7a58-48d6-ee56-6b962692bbc6"
      },
      "execution_count": null,
      "outputs": [
        {
          "output_type": "stream",
          "name": "stdout",
          "text": [
            "Tristin\n"
          ]
        }
      ],
      "id": "1dr6vwJw4IOa"
    },
    {
      "cell_type": "markdown",
      "source": [
        "### **Problem #2.7**\n",
        "\n",
        "**Independently**, use the `attendance_code` attribute of the `second_lab` object to find today's attendance poll code.\n"
      ],
      "metadata": {
        "id": "lVSDMw5H3eXk"
      },
      "id": "lVSDMw5H3eXk"
    },
    {
      "cell_type": "code",
      "source": [
        "# COMPLETE THIS CODE"
      ],
      "metadata": {
        "id": "p2BGGITW3eYE"
      },
      "execution_count": null,
      "outputs": [],
      "id": "p2BGGITW3eYE"
    },
    {
      "cell_type": "markdown",
      "source": [
        "##### **Solution**\n"
      ],
      "metadata": {
        "id": "MsFJ594r3eYE"
      },
      "id": "MsFJ594r3eYE"
    },
    {
      "cell_type": "code",
      "source": [
        "my_lab.attendance_code"
      ],
      "metadata": {
        "id": "-26dxzXL3eYE",
        "colab": {
          "base_uri": "https://localhost:8080/"
        },
        "outputId": "dc7ce41c-73a4-472b-917d-a046ddccf5e4"
      },
      "execution_count": null,
      "outputs": [
        {
          "output_type": "stream",
          "name": "stdout",
          "text": [
            "1234\n"
          ]
        }
      ],
      "id": "-26dxzXL3eYE"
    },
    {
      "cell_type": "markdown",
      "source": [
        "### **Problem #2.8**\n",
        "\n",
        "**Independently**, use the `check_in` method of the `second_lab` object to add your name to the list of attendees. This method requires one argument: the name of the person checking in. Check that your name was added to the list of attendees by checking the `attendees` attribute.\n"
      ],
      "metadata": {
        "id": "6tjrl7kx2-Sz"
      },
      "id": "6tjrl7kx2-Sz"
    },
    {
      "cell_type": "code",
      "source": [
        "# COMPLETE THIS CODE"
      ],
      "metadata": {
        "id": "nYpfSXby2-S9"
      },
      "execution_count": null,
      "outputs": [],
      "id": "nYpfSXby2-S9"
    },
    {
      "cell_type": "markdown",
      "source": [
        "##### **Solution**\n"
      ],
      "metadata": {
        "id": "IIOFrrpD2-S9"
      },
      "id": "IIOFrrpD2-S9"
    },
    {
      "cell_type": "code",
      "source": [
        "my_lab.check_in(\"Tristin\")\n",
        "my_lab.attendees"
      ],
      "metadata": {
        "colab": {
          "base_uri": "https://localhost:8080/"
        },
        "id": "Px61pY0H2-S9",
        "outputId": "0c1eec83-1066-40e8-ae13-d972f864280a"
      },
      "execution_count": null,
      "outputs": [
        {
          "output_type": "stream",
          "name": "stdout",
          "text": [
            "['Tristin']\n"
          ]
        }
      ],
      "id": "Px61pY0H2-S9"
    },
    {
      "cell_type": "markdown",
      "source": [
        "###**Problem #2.9**\n",
        "\n",
        "**Independently**, create a `plant` object using its corresponding function. Then, using the following methods, check its health, water it, set it's light level, wait three days, and check its health again.\n",
        "\n",
        "* `check_health()`\n",
        "* `water_plant(amount)`\n",
        "* `set_light(level)`\n",
        "* `wait(num_days)`"
      ],
      "metadata": {
        "id": "uW7IdP0C9WJp"
      },
      "id": "uW7IdP0C9WJp"
    },
    {
      "cell_type": "code",
      "source": [
        "# COMPLETE THIS CODE"
      ],
      "metadata": {
        "id": "1jqDWpnSFjTX"
      },
      "id": "1jqDWpnSFjTX",
      "execution_count": null,
      "outputs": []
    },
    {
      "cell_type": "code",
      "source": [
        "# COMPLETE THIS CODE"
      ],
      "metadata": {
        "id": "Uu6nEPLLFjJs"
      },
      "id": "Uu6nEPLLFjJs",
      "execution_count": null,
      "outputs": []
    },
    {
      "cell_type": "code",
      "source": [
        "# COMPLETE THIS CODE"
      ],
      "metadata": {
        "id": "NpVj77wV9VwJ"
      },
      "id": "NpVj77wV9VwJ",
      "execution_count": null,
      "outputs": []
    },
    {
      "cell_type": "code",
      "source": [
        "# COMPLETE THIS CODE"
      ],
      "metadata": {
        "id": "6y0i_BSEHQs1"
      },
      "execution_count": null,
      "outputs": [],
      "id": "6y0i_BSEHQs1"
    },
    {
      "cell_type": "markdown",
      "source": [
        "####**Solution**"
      ],
      "metadata": {
        "id": "yALD21QcFqkF"
      },
      "id": "yALD21QcFqkF"
    },
    {
      "cell_type": "code",
      "source": [
        "rose = plant()"
      ],
      "metadata": {
        "id": "NuvxVgoGFu_6"
      },
      "id": "NuvxVgoGFu_6",
      "execution_count": null,
      "outputs": []
    },
    {
      "cell_type": "code",
      "source": [
        "rose.check_health()"
      ],
      "metadata": {
        "colab": {
          "base_uri": "https://localhost:8080/"
        },
        "id": "d3NtNj_iG7UV",
        "outputId": "4700902e-b402-405d-8e0e-d2de65861caa"
      },
      "id": "d3NtNj_iG7UV",
      "execution_count": null,
      "outputs": [
        {
          "output_type": "stream",
          "name": "stdout",
          "text": [
            "Your plant's health is a 10/10.\n",
            "If you had to rate the wetness of the soil, it would be a 0/10.\n",
            "Your light is turned up to 0.\n"
          ]
        }
      ]
    },
    {
      "cell_type": "code",
      "source": [
        "rose.water_plant(1)\n",
        "rose.set_light(5)"
      ],
      "metadata": {
        "colab": {
          "base_uri": "https://localhost:8080/"
        },
        "id": "sj0BXtByHVCo",
        "outputId": "3777d9ab-69b8-4acd-92f8-19100815a925"
      },
      "id": "sj0BXtByHVCo",
      "execution_count": null,
      "outputs": [
        {
          "output_type": "stream",
          "name": "stdout",
          "text": [
            "You watered your plant.\n",
            "You set the light to level 5\n"
          ]
        }
      ]
    },
    {
      "cell_type": "code",
      "source": [
        "rose.wait(3)\n",
        "rose.check_health()"
      ],
      "metadata": {
        "colab": {
          "base_uri": "https://localhost:8080/"
        },
        "id": "EQ2WscbIG7JM",
        "outputId": "14f7d6cb-d9f6-4f24-8718-7f01212cd87c"
      },
      "id": "EQ2WscbIG7JM",
      "execution_count": null,
      "outputs": [
        {
          "output_type": "stream",
          "name": "stdout",
          "text": [
            "Day 1\n",
            "Your plant needs more light\n",
            "Your plant needs more water\n",
            "Day 2\n",
            "Your plant needs more light\n",
            "Your plant needs more water\n",
            "Day 3\n",
            "Your plant needs more light\n",
            "Your plant needs more water\n",
            "Your plant's health is a 8.299999999999997/10.\n",
            "If you had to rate the wetness of the soil, it would be a 0/10.\n",
            "Your light is turned up to 5.\n"
          ]
        }
      ]
    },
    {
      "cell_type": "markdown",
      "source": [
        "### **Problem #2.10 [CHALLENGE]**\n",
        "---\n",
        "**Independently**, add the names of two of your classmates to the list of attendees. Then, check the [methods of the list object](https://www.w3schools.com/python/python_ref_list.asp) to find a method that will sort the list of attendees alphabetically. Finally, call the `lab_summary` method of the `second_lab` object to print out a lab summary (this method does not require any arguments)\n",
        "\n",
        "**Note:** Whenever you get stuck on a piece of code, you can always look up the object or the function you are working with, and there will be documentation describing all methods, attriutes, and required arguments."
      ],
      "metadata": {
        "id": "Os9kMW424iWf"
      },
      "id": "Os9kMW424iWf"
    },
    {
      "cell_type": "code",
      "source": [
        "# COMPLETE THIS CODE"
      ],
      "metadata": {
        "id": "Fb6kvtGQ4iWn"
      },
      "execution_count": null,
      "outputs": [],
      "id": "Fb6kvtGQ4iWn"
    },
    {
      "cell_type": "markdown",
      "source": [
        "##### **Solution**\n"
      ],
      "metadata": {
        "id": "0O7mREab4iWn"
      },
      "id": "0O7mREab4iWn"
    },
    {
      "cell_type": "code",
      "source": [
        "my_lab.check_in(\"Yelissa\")\n",
        "my_lab.check_in(\"Gideon\")\n",
        "my_lab.attendees.sort()\n",
        "my_lab.lab_summary()"
      ],
      "metadata": {
        "id": "pUAJ02_f4iWn",
        "colab": {
          "base_uri": "https://localhost:8080/"
        },
        "outputId": "3a8e1b49-646a-49e3-9179-b1ee57da91db"
      },
      "execution_count": null,
      "outputs": [
        {
          "output_type": "stream",
          "name": "stdout",
          "text": [
            "Today in lab, we had an Introduction to Objects and Debugging with our TA, Tristin. We had some great people in attendance, such as:Gideon, Tristin, Yelissa. The attendance code is 1234.\n"
          ]
        }
      ],
      "id": "pUAJ02_f4iWn"
    },
    {
      "cell_type": "markdown",
      "source": [
        "---\n",
        "\n",
        "<center>\n",
        "\n",
        "### **Wait for Your Instructor to Continue**\n",
        "\n",
        "---"
      ],
      "metadata": {
        "id": "_uX885yrIh5T"
      },
      "id": "_uX885yrIh5T"
    },
    {
      "cell_type": "markdown",
      "metadata": {
        "id": "XvDIuw6vlsKN"
      },
      "source": [
        "<a name=\"p3\"></a>\n",
        "\n",
        "---\n",
        "## **Part 3: Debugging**\n",
        "---\n",
        "\n",
        "In this part, we will explore how to identify and correct errors in Python.\n",
        "\n",
        "<br>\n",
        "\n",
        "**NOTE**: Here and in general, you may not be familiar with the syntax presented in every line of code. However, you can use what you *do know* to solve the problems here and, often, in general."
      ],
      "id": "XvDIuw6vlsKN"
    },
    {
      "cell_type": "markdown",
      "source": [
        "#### **Problem #3.1**\n",
        "\n",
        "**Together,** remove the line of code that causes the error."
      ],
      "metadata": {
        "id": "ApCmfZIh-ecP"
      },
      "id": "ApCmfZIh-ecP"
    },
    {
      "cell_type": "code",
      "source": [
        "my_list = [1,2,3,4]\n",
        "print(my_list[1])\n",
        "print(my_list[2])\n",
        "print(my_list[3])\n",
        "print(my_list[4])"
      ],
      "metadata": {
        "id": "_TvLwwZv-ecQ"
      },
      "execution_count": null,
      "outputs": [],
      "id": "_TvLwwZv-ecQ"
    },
    {
      "cell_type": "markdown",
      "source": [
        "##### **Solution**\n"
      ],
      "metadata": {
        "id": "LW4voVux-ecQ"
      },
      "id": "LW4voVux-ecQ"
    },
    {
      "cell_type": "code",
      "source": [
        "my_list = [1,2,3,4]\n",
        "print(my_list[1])\n",
        "print(my_list[2])\n",
        "print(my_list[3])"
      ],
      "metadata": {
        "id": "7NkOXg5g-ecQ",
        "colab": {
          "base_uri": "https://localhost:8080/"
        },
        "outputId": "61335fde-0bcb-416b-c919-24c98af8797a"
      },
      "execution_count": null,
      "outputs": [
        {
          "output_type": "stream",
          "name": "stdout",
          "text": [
            "2\n",
            "3\n",
            "4\n"
          ]
        }
      ],
      "id": "7NkOXg5g-ecQ"
    },
    {
      "cell_type": "markdown",
      "source": [
        "#### **Problem #3.2**\n",
        "\n",
        "**Together**, correctly print each entry from my_list."
      ],
      "metadata": {
        "id": "rHWtdxaXPOrK"
      },
      "id": "rHWtdxaXPOrK"
    },
    {
      "cell_type": "code",
      "source": [
        "print(my_list[# COMPLETE THIS CODE"
      ],
      "metadata": {
        "id": "sRqUoXp-PjJG"
      },
      "id": "sRqUoXp-PjJG",
      "execution_count": null,
      "outputs": []
    },
    {
      "cell_type": "markdown",
      "source": [
        "##### **Solution**"
      ],
      "metadata": {
        "id": "XVlX6sUmPrhE"
      },
      "id": "XVlX6sUmPrhE"
    },
    {
      "cell_type": "code",
      "source": [
        "print(my_list[0])\n",
        "print(my_list[1])\n",
        "print(my_list[2])\n",
        "print(my_list[3])"
      ],
      "metadata": {
        "colab": {
          "base_uri": "https://localhost:8080/"
        },
        "id": "FUxMT_C5PwI0",
        "outputId": "4db97386-8977-488f-cb51-8ff4e9fe5cd2"
      },
      "id": "FUxMT_C5PwI0",
      "execution_count": null,
      "outputs": [
        {
          "output_type": "stream",
          "name": "stdout",
          "text": [
            "1\n",
            "2\n",
            "3\n",
            "4\n"
          ]
        }
      ]
    },
    {
      "cell_type": "markdown",
      "source": [
        "#### **Problem #3.3**\n",
        "\n",
        "**Together,** debug the code shown below."
      ],
      "metadata": {
        "id": "nU_fifgR7jM5"
      },
      "id": "nU_fifgR7jM5"
    },
    {
      "cell_type": "code",
      "source": [
        "#f(x) = ax^2 + bx + c\n",
        "a = 1\n",
        "b = 0\n",
        "c = -9\n",
        "x1 = (-b + (b**2 - 4*a*c)**0.5)/(2*a)\n",
        "x1 = (-b - (b**2 - 4*a*c)**0.5)/(2*a)\n",
        "print(x1)\n",
        "print(X2)"
      ],
      "metadata": {
        "id": "gciUmz8i7jNN",
        "colab": {
          "base_uri": "https://localhost:8080/",
          "height": 217
        },
        "outputId": "a7ed1591-afe0-4594-caf4-143b0d166fb1"
      },
      "execution_count": null,
      "outputs": [
        {
          "output_type": "stream",
          "name": "stdout",
          "text": [
            "3.0\n"
          ]
        },
        {
          "output_type": "error",
          "ename": "NameError",
          "evalue": "ignored",
          "traceback": [
            "\u001b[0;31m---------------------------------------------------------------------------\u001b[0m",
            "\u001b[0;31mNameError\u001b[0m                                 Traceback (most recent call last)",
            "\u001b[0;32m<ipython-input-28-612118a43081>\u001b[0m in \u001b[0;36m<cell line: 8>\u001b[0;34m()\u001b[0m\n\u001b[1;32m      6\u001b[0m \u001b[0mx1\u001b[0m \u001b[0;34m=\u001b[0m \u001b[0;34m(\u001b[0m\u001b[0;34m-\u001b[0m\u001b[0mb\u001b[0m\u001b[0;34m+\u001b[0m\u001b[0;34m(\u001b[0m\u001b[0mb\u001b[0m\u001b[0;34m**\u001b[0m\u001b[0;36m2\u001b[0m\u001b[0;34m-\u001b[0m\u001b[0;36m4\u001b[0m\u001b[0;34m*\u001b[0m\u001b[0ma\u001b[0m\u001b[0;34m*\u001b[0m\u001b[0mc\u001b[0m\u001b[0;34m)\u001b[0m\u001b[0;34m**\u001b[0m\u001b[0;36m0.5\u001b[0m\u001b[0;34m)\u001b[0m\u001b[0;34m/\u001b[0m\u001b[0;34m(\u001b[0m\u001b[0;36m2\u001b[0m\u001b[0;34m*\u001b[0m\u001b[0ma\u001b[0m\u001b[0;34m)\u001b[0m\u001b[0;34m\u001b[0m\u001b[0;34m\u001b[0m\u001b[0m\n\u001b[1;32m      7\u001b[0m \u001b[0mprint\u001b[0m\u001b[0;34m(\u001b[0m\u001b[0mx1\u001b[0m\u001b[0;34m)\u001b[0m\u001b[0;34m\u001b[0m\u001b[0;34m\u001b[0m\u001b[0m\n\u001b[0;32m----> 8\u001b[0;31m \u001b[0mprint\u001b[0m\u001b[0;34m(\u001b[0m\u001b[0mX2\u001b[0m\u001b[0;34m)\u001b[0m\u001b[0;34m\u001b[0m\u001b[0;34m\u001b[0m\u001b[0m\n\u001b[0m",
            "\u001b[0;31mNameError\u001b[0m: name 'X2' is not defined"
          ]
        }
      ],
      "id": "gciUmz8i7jNN"
    },
    {
      "cell_type": "markdown",
      "source": [
        "##### **Solution**\n"
      ],
      "metadata": {
        "id": "A5LpbxoP7jNN"
      },
      "id": "A5LpbxoP7jNN"
    },
    {
      "cell_type": "code",
      "source": [
        "#f(x) = ax^2 + bx + c\n",
        "a = 1\n",
        "b = 0\n",
        "c = -9\n",
        "x1 = (-b + (b**2 - 4*a*c)**0.5)/(2*a)\n",
        "x2 = (-b - (b**2 - 4*a*c)**0.5)/(2*a)\n",
        "print(x1)\n",
        "print(x2)"
      ],
      "metadata": {
        "id": "-omDOAdK7jNN",
        "colab": {
          "base_uri": "https://localhost:8080/"
        },
        "outputId": "5efbf625-7c55-437d-f77b-d7e7e7dabf88"
      },
      "execution_count": null,
      "outputs": [
        {
          "output_type": "stream",
          "name": "stdout",
          "text": [
            "3.0\n",
            "-3.0\n"
          ]
        }
      ],
      "id": "-omDOAdK7jNN"
    },
    {
      "cell_type": "markdown",
      "source": [
        "#### **Problem #3.4**\n",
        "\n",
        "**Independently,** debug the code shown below."
      ],
      "metadata": {
        "id": "eU1RYFlx8cJ6"
      },
      "id": "eU1RYFlx8cJ6"
    },
    {
      "cell_type": "code",
      "source": [
        "length = \"30 meters\"\n",
        "width = \"10 meters\"\n",
        "area = calculate_area(length, width)\n",
        "print(\"The area is \" + area)"
      ],
      "metadata": {
        "id": "7T_0BfxG8cKE",
        "colab": {
          "base_uri": "https://localhost:8080/",
          "height": 321
        },
        "outputId": "e5b73a08-b0c0-4c39-9f0e-0701efa5f204"
      },
      "execution_count": null,
      "outputs": [
        {
          "output_type": "error",
          "ename": "TypeError",
          "evalue": "ignored",
          "traceback": [
            "\u001b[0;31m---------------------------------------------------------------------------\u001b[0m",
            "\u001b[0;31mTypeError\u001b[0m                                 Traceback (most recent call last)",
            "\u001b[0;32m<ipython-input-33-76fa2c3f69c8>\u001b[0m in \u001b[0;36m<cell line: 3>\u001b[0;34m()\u001b[0m\n\u001b[1;32m      1\u001b[0m \u001b[0mlength\u001b[0m \u001b[0;34m=\u001b[0m \u001b[0;34m\"30 meters\"\u001b[0m\u001b[0;34m\u001b[0m\u001b[0;34m\u001b[0m\u001b[0m\n\u001b[1;32m      2\u001b[0m \u001b[0mwidth\u001b[0m \u001b[0;34m=\u001b[0m \u001b[0;34m\"10 meters\"\u001b[0m\u001b[0;34m\u001b[0m\u001b[0;34m\u001b[0m\u001b[0m\n\u001b[0;32m----> 3\u001b[0;31m \u001b[0marea\u001b[0m \u001b[0;34m=\u001b[0m \u001b[0mcalculate_area\u001b[0m\u001b[0;34m(\u001b[0m\u001b[0mlength\u001b[0m\u001b[0;34m,\u001b[0m \u001b[0mwidth\u001b[0m\u001b[0;34m)\u001b[0m\u001b[0;34m\u001b[0m\u001b[0;34m\u001b[0m\u001b[0m\n\u001b[0m\u001b[1;32m      4\u001b[0m \u001b[0mprint\u001b[0m\u001b[0;34m(\u001b[0m\u001b[0;34m\"The area is \"\u001b[0m \u001b[0;34m+\u001b[0m \u001b[0marea\u001b[0m\u001b[0;34m)\u001b[0m\u001b[0;34m\u001b[0m\u001b[0;34m\u001b[0m\u001b[0m\n",
            "\u001b[0;32m<ipython-input-30-d9169600f47a>\u001b[0m in \u001b[0;36mcalculate_area\u001b[0;34m(length, width)\u001b[0m\n\u001b[1;32m     24\u001b[0m \u001b[0;34m\u001b[0m\u001b[0m\n\u001b[1;32m     25\u001b[0m \u001b[0;32mdef\u001b[0m \u001b[0mcalculate_area\u001b[0m\u001b[0;34m(\u001b[0m\u001b[0mlength\u001b[0m\u001b[0;34m:\u001b[0m\u001b[0mint\u001b[0m\u001b[0;34m,\u001b[0m \u001b[0mwidth\u001b[0m\u001b[0;34m:\u001b[0m\u001b[0mint\u001b[0m\u001b[0;34m)\u001b[0m\u001b[0;34m:\u001b[0m\u001b[0;34m\u001b[0m\u001b[0;34m\u001b[0m\u001b[0m\n\u001b[0;32m---> 26\u001b[0;31m   \u001b[0marea\u001b[0m \u001b[0;34m=\u001b[0m \u001b[0mlength\u001b[0m \u001b[0;34m*\u001b[0m \u001b[0mwidth\u001b[0m\u001b[0;34m\u001b[0m\u001b[0;34m\u001b[0m\u001b[0m\n\u001b[0m\u001b[1;32m     27\u001b[0m   \u001b[0;32mreturn\u001b[0m \u001b[0marea\u001b[0m\u001b[0;34m\u001b[0m\u001b[0;34m\u001b[0m\u001b[0m\n",
            "\u001b[0;31mTypeError\u001b[0m: can't multiply sequence by non-int of type 'str'"
          ]
        }
      ],
      "id": "7T_0BfxG8cKE"
    },
    {
      "cell_type": "markdown",
      "source": [
        "##### **Solution**\n"
      ],
      "metadata": {
        "id": "aPY3SIX_8cKE"
      },
      "id": "aPY3SIX_8cKE"
    },
    {
      "cell_type": "code",
      "source": [
        "length = 30\n",
        "width = 10\n",
        "area = calculate_area(length, width)\n",
        "print(\"The area is \" + str(area) + \" m^2\")"
      ],
      "metadata": {
        "id": "zVCnLTIT8cKE",
        "colab": {
          "base_uri": "https://localhost:8080/"
        },
        "outputId": "d513ea59-ef78-47a5-a503-f397fabf30d2"
      },
      "execution_count": null,
      "outputs": [
        {
          "output_type": "stream",
          "name": "stdout",
          "text": [
            "The area is 300 m^2\n"
          ]
        }
      ],
      "id": "zVCnLTIT8cKE"
    },
    {
      "cell_type": "markdown",
      "source": [
        "#### **Problem #3.5**\n",
        "\n",
        "**Independently,** debug the code shown below."
      ],
      "metadata": {
        "id": "u0vQg1AM8qDU"
      },
      "id": "u0vQg1AM8qDU"
    },
    {
      "cell_type": "code",
      "source": [
        "my_name = \"ricky\"\n",
        "my_name.Capitalize()\n",
        "Print(my_name)"
      ],
      "metadata": {
        "id": "8mauoKut8qDt",
        "colab": {
          "base_uri": "https://localhost:8080/",
          "height": 211
        },
        "outputId": "0e4024c6-1b94-492a-8c60-e4144913cc61"
      },
      "execution_count": null,
      "outputs": [
        {
          "output_type": "error",
          "ename": "AttributeError",
          "evalue": "ignored",
          "traceback": [
            "\u001b[0;31m---------------------------------------------------------------------------\u001b[0m",
            "\u001b[0;31mAttributeError\u001b[0m                            Traceback (most recent call last)",
            "\u001b[0;32m<ipython-input-107-21c6be7c8c73>\u001b[0m in \u001b[0;36m<cell line: 2>\u001b[0;34m()\u001b[0m\n\u001b[1;32m      1\u001b[0m \u001b[0mmy_name\u001b[0m \u001b[0;34m=\u001b[0m \u001b[0;34m\"ricky\"\u001b[0m\u001b[0;34m\u001b[0m\u001b[0;34m\u001b[0m\u001b[0m\n\u001b[0;32m----> 2\u001b[0;31m \u001b[0mmy_name\u001b[0m\u001b[0;34m.\u001b[0m\u001b[0mCapitalize\u001b[0m\u001b[0;34m(\u001b[0m\u001b[0;34m)\u001b[0m\u001b[0;34m\u001b[0m\u001b[0;34m\u001b[0m\u001b[0m\n\u001b[0m\u001b[1;32m      3\u001b[0m \u001b[0mPrint\u001b[0m\u001b[0;34m(\u001b[0m\u001b[0mmy_name\u001b[0m\u001b[0;34m)\u001b[0m\u001b[0;34m\u001b[0m\u001b[0;34m\u001b[0m\u001b[0m\n",
            "\u001b[0;31mAttributeError\u001b[0m: 'str' object has no attribute 'Capitalize'"
          ]
        }
      ],
      "id": "8mauoKut8qDt"
    },
    {
      "cell_type": "markdown",
      "source": [
        "##### **Solution**\n"
      ],
      "metadata": {
        "id": "D3eDMlY98qDu"
      },
      "id": "D3eDMlY98qDu"
    },
    {
      "cell_type": "code",
      "source": [
        "my_name = \"ricky\"\n",
        "my_name = my_name.capitalize()\n",
        "print(my_name)"
      ],
      "metadata": {
        "id": "CoHoOy7e8qDu",
        "colab": {
          "base_uri": "https://localhost:8080/"
        },
        "outputId": "1c64cbeb-c0bd-43cc-a2ba-0968eacdc4e1"
      },
      "execution_count": null,
      "outputs": [
        {
          "output_type": "stream",
          "name": "stdout",
          "text": [
            "Ricky\n"
          ]
        }
      ],
      "id": "CoHoOy7e8qDu"
    },
    {
      "cell_type": "markdown",
      "source": [
        "#### **Problem #3.6**\n",
        "\n",
        "**Independently**, debug the code shown below."
      ],
      "metadata": {
        "id": "RE9FToJzAqOc"
      },
      "id": "RE9FToJzAqOc"
    },
    {
      "cell_type": "code",
      "source": [
        "x = \"47\"\n",
        "y = 3\n",
        "z = x**y\n",
        "print(z)"
      ],
      "metadata": {
        "colab": {
          "base_uri": "https://localhost:8080/",
          "height": 228
        },
        "id": "7kfw5iyWA2a3",
        "outputId": "b60eaca1-a71b-4317-82d3-7a355c7b0999"
      },
      "execution_count": null,
      "outputs": [
        {
          "output_type": "error",
          "ename": "TypeError",
          "evalue": "ignored",
          "traceback": [
            "\u001b[0;31m---------------------------------------------------------------------------\u001b[0m",
            "\u001b[0;31mTypeError\u001b[0m                                 Traceback (most recent call last)",
            "\u001b[0;32m<ipython-input-8-58c451a1db5f>\u001b[0m in \u001b[0;36m<cell line: 3>\u001b[0;34m()\u001b[0m\n\u001b[1;32m      1\u001b[0m \u001b[0mx\u001b[0m \u001b[0;34m=\u001b[0m \u001b[0;34m\"47\"\u001b[0m\u001b[0;34m\u001b[0m\u001b[0;34m\u001b[0m\u001b[0m\n\u001b[1;32m      2\u001b[0m \u001b[0my\u001b[0m \u001b[0;34m=\u001b[0m \u001b[0;36m3\u001b[0m\u001b[0;34m\u001b[0m\u001b[0;34m\u001b[0m\u001b[0m\n\u001b[0;32m----> 3\u001b[0;31m \u001b[0mz\u001b[0m \u001b[0;34m=\u001b[0m \u001b[0mx\u001b[0m\u001b[0;34m**\u001b[0m\u001b[0my\u001b[0m\u001b[0;34m\u001b[0m\u001b[0;34m\u001b[0m\u001b[0m\n\u001b[0m\u001b[1;32m      4\u001b[0m \u001b[0mprint\u001b[0m\u001b[0;34m(\u001b[0m\u001b[0mz\u001b[0m\u001b[0;34m)\u001b[0m\u001b[0;34m\u001b[0m\u001b[0;34m\u001b[0m\u001b[0m\n",
            "\u001b[0;31mTypeError\u001b[0m: unsupported operand type(s) for ** or pow(): 'str' and 'int'"
          ]
        }
      ],
      "id": "7kfw5iyWA2a3"
    },
    {
      "cell_type": "markdown",
      "source": [
        "##### **Solution**"
      ],
      "metadata": {
        "id": "aeprGUqUAzra"
      },
      "id": "aeprGUqUAzra"
    },
    {
      "cell_type": "code",
      "source": [
        "x = 47\n",
        "y = 3\n",
        "z = x**y\n",
        "print(z)"
      ],
      "metadata": {
        "colab": {
          "base_uri": "https://localhost:8080/"
        },
        "id": "mLVKUb-xCB4g",
        "outputId": "1a212afc-65f2-4de2-c6ba-4e33a06ae8f0"
      },
      "execution_count": null,
      "outputs": [
        {
          "output_type": "stream",
          "name": "stdout",
          "text": [
            "103823\n"
          ]
        }
      ],
      "id": "mLVKUb-xCB4g"
    },
    {
      "cell_type": "markdown",
      "source": [
        "#### **Problem #3.7**\n",
        "\n",
        "**Independently**, debug the code shown below."
      ],
      "metadata": {
        "id": "AQ_Z2Ct9_QG9"
      },
      "id": "AQ_Z2Ct9_QG9"
    },
    {
      "cell_type": "code",
      "source": [
        "print(willoughby.mood)\n",
        "willoughby.play()\n",
        "print(willoughby.mood)"
      ],
      "metadata": {
        "colab": {
          "base_uri": "https://localhost:8080/",
          "height": 211
        },
        "id": "LJdSVbcc_eeF",
        "outputId": "87597637-4fbf-4204-a13c-a4d77ef92734"
      },
      "execution_count": null,
      "outputs": [
        {
          "output_type": "error",
          "ename": "NameError",
          "evalue": "ignored",
          "traceback": [
            "\u001b[0;31m---------------------------------------------------------------------------\u001b[0m",
            "\u001b[0;31mNameError\u001b[0m                                 Traceback (most recent call last)",
            "\u001b[0;32m<ipython-input-1-ca86ae7b67b8>\u001b[0m in \u001b[0;36m<cell line: 1>\u001b[0;34m()\u001b[0m\n\u001b[0;32m----> 1\u001b[0;31m \u001b[0mprint\u001b[0m\u001b[0;34m(\u001b[0m\u001b[0mwilloughby\u001b[0m\u001b[0;34m.\u001b[0m\u001b[0mmood\u001b[0m\u001b[0;34m)\u001b[0m\u001b[0;34m\u001b[0m\u001b[0;34m\u001b[0m\u001b[0m\n\u001b[0m\u001b[1;32m      2\u001b[0m \u001b[0mwilloughby\u001b[0m\u001b[0;34m.\u001b[0m\u001b[0mplay\u001b[0m\u001b[0;34m(\u001b[0m\u001b[0;34m)\u001b[0m\u001b[0;34m\u001b[0m\u001b[0;34m\u001b[0m\u001b[0m\n\u001b[1;32m      3\u001b[0m \u001b[0mprint\u001b[0m\u001b[0;34m(\u001b[0m\u001b[0mwilloughby\u001b[0m\u001b[0;34m.\u001b[0m\u001b[0mmood\u001b[0m\u001b[0;34m)\u001b[0m\u001b[0;34m\u001b[0m\u001b[0;34m\u001b[0m\u001b[0m\n",
            "\u001b[0;31mNameError\u001b[0m: name 'willoughby' is not defined"
          ]
        }
      ],
      "id": "LJdSVbcc_eeF"
    },
    {
      "cell_type": "markdown",
      "source": [
        "##### **Solution**"
      ],
      "metadata": {
        "id": "YxLWAiXC_pHh"
      },
      "id": "YxLWAiXC_pHh"
    },
    {
      "cell_type": "code",
      "source": [
        "willoughby = baby()\n",
        "print(willoughby.mood)\n",
        "willoughby.play()\n",
        "print(willoughby.mood)"
      ],
      "metadata": {
        "colab": {
          "base_uri": "https://localhost:8080/"
        },
        "id": "cO0joIdI_xFj",
        "outputId": "d969a57f-40b5-46a8-a44c-0bf53faf0678"
      },
      "execution_count": null,
      "outputs": [
        {
          "output_type": "stream",
          "name": "stdout",
          "text": [
            "crying\n",
            "happy\n"
          ]
        }
      ],
      "id": "cO0joIdI_xFj"
    },
    {
      "cell_type": "markdown",
      "source": [
        "#### **Problem #3.8**\n",
        "\n",
        "**Independently**, debug the code shown below."
      ],
      "metadata": {
        "id": "NfApuJeDC6Ht"
      },
      "id": "NfApuJeDC6Ht"
    },
    {
      "cell_type": "code",
      "source": [
        "cactus = plant\n",
        "cactus.check_health"
      ],
      "metadata": {
        "colab": {
          "base_uri": "https://localhost:8080/"
        },
        "id": "NF2e5jYVDSh3",
        "outputId": "793eac0c-2a43-4931-f864-bfc81334af46"
      },
      "execution_count": null,
      "outputs": [
        {
          "output_type": "execute_result",
          "data": {
            "text/plain": [
              "<function __main__.plant.check_health(self)>"
            ]
          },
          "metadata": {},
          "execution_count": 28
        }
      ],
      "id": "NF2e5jYVDSh3"
    },
    {
      "cell_type": "code",
      "source": [
        "cactus.water_plant(\"1\")\n",
        "cactus.set_light(\"8\")\n",
        "cactus.check_health()"
      ],
      "metadata": {
        "colab": {
          "base_uri": "https://localhost:8080/",
          "height": 211
        },
        "id": "7xvp4wRJEavz",
        "outputId": "f9a5cafa-b25a-4594-d4b2-690fd498c3dd"
      },
      "execution_count": null,
      "outputs": [
        {
          "output_type": "error",
          "ename": "TypeError",
          "evalue": "ignored",
          "traceback": [
            "\u001b[0;31m---------------------------------------------------------------------------\u001b[0m",
            "\u001b[0;31mTypeError\u001b[0m                                 Traceback (most recent call last)",
            "\u001b[0;32m<ipython-input-29-20c35b332150>\u001b[0m in \u001b[0;36m<cell line: 1>\u001b[0;34m()\u001b[0m\n\u001b[0;32m----> 1\u001b[0;31m \u001b[0mcactus\u001b[0m\u001b[0;34m.\u001b[0m\u001b[0mwater_plant\u001b[0m\u001b[0;34m(\u001b[0m\u001b[0;34m\"1\"\u001b[0m\u001b[0;34m)\u001b[0m\u001b[0;34m\u001b[0m\u001b[0;34m\u001b[0m\u001b[0m\n\u001b[0m\u001b[1;32m      2\u001b[0m \u001b[0mcactus\u001b[0m\u001b[0;34m.\u001b[0m\u001b[0mset_light\u001b[0m\u001b[0;34m(\u001b[0m\u001b[0;34m\"8\"\u001b[0m\u001b[0;34m)\u001b[0m\u001b[0;34m\u001b[0m\u001b[0;34m\u001b[0m\u001b[0m\n\u001b[1;32m      3\u001b[0m \u001b[0mcactus\u001b[0m\u001b[0;34m.\u001b[0m\u001b[0mcheck_health\u001b[0m\u001b[0;34m(\u001b[0m\u001b[0;34m)\u001b[0m\u001b[0;34m\u001b[0m\u001b[0;34m\u001b[0m\u001b[0m\n",
            "\u001b[0;31mTypeError\u001b[0m: plant.water_plant() missing 1 required positional argument: 'amount'"
          ]
        }
      ],
      "id": "7xvp4wRJEavz"
    },
    {
      "cell_type": "code",
      "source": [
        "cactus.wait(3)\n",
        "print(cactus.check_health)"
      ],
      "metadata": {
        "colab": {
          "base_uri": "https://localhost:8080/",
          "height": 193
        },
        "id": "ik32NRnZEbFV",
        "outputId": "61148b2b-04ab-441b-fe99-dd34054fbd66"
      },
      "execution_count": null,
      "outputs": [
        {
          "output_type": "error",
          "ename": "TypeError",
          "evalue": "ignored",
          "traceback": [
            "\u001b[0;31m---------------------------------------------------------------------------\u001b[0m",
            "\u001b[0;31mTypeError\u001b[0m                                 Traceback (most recent call last)",
            "\u001b[0;32m<ipython-input-30-6497d31c1bbe>\u001b[0m in \u001b[0;36m<cell line: 1>\u001b[0;34m()\u001b[0m\n\u001b[0;32m----> 1\u001b[0;31m \u001b[0mcactus\u001b[0m\u001b[0;34m.\u001b[0m\u001b[0mwait\u001b[0m\u001b[0;34m(\u001b[0m\u001b[0;36m3\u001b[0m\u001b[0;34m)\u001b[0m\u001b[0;34m\u001b[0m\u001b[0;34m\u001b[0m\u001b[0m\n\u001b[0m\u001b[1;32m      2\u001b[0m \u001b[0mprint\u001b[0m\u001b[0;34m(\u001b[0m\u001b[0mcactus\u001b[0m\u001b[0;34m.\u001b[0m\u001b[0mcheck_health\u001b[0m\u001b[0;34m)\u001b[0m\u001b[0;34m\u001b[0m\u001b[0;34m\u001b[0m\u001b[0m\n",
            "\u001b[0;31mTypeError\u001b[0m: plant.wait() missing 1 required positional argument: 'num_days'"
          ]
        }
      ],
      "id": "ik32NRnZEbFV"
    },
    {
      "cell_type": "markdown",
      "source": [
        "##### **Solution**"
      ],
      "metadata": {
        "id": "4bq7VHEVDEpj"
      },
      "id": "4bq7VHEVDEpj"
    },
    {
      "cell_type": "code",
      "source": [
        "cactus = plant()\n",
        "cactus.check_health()"
      ],
      "metadata": {
        "colab": {
          "base_uri": "https://localhost:8080/"
        },
        "id": "tsUdogz3Dw-e",
        "outputId": "bfb98103-3cd4-4d0e-9a9c-9772d63053ad"
      },
      "execution_count": null,
      "outputs": [
        {
          "output_type": "stream",
          "name": "stdout",
          "text": [
            "Your plant's health is a 10/10.\n",
            "If you had to rate the wetness of the soil, it would be a 0/10.\n",
            "Your light is turned up to 0.\n"
          ]
        }
      ],
      "id": "tsUdogz3Dw-e"
    },
    {
      "cell_type": "code",
      "source": [
        "cactus.water_plant(1)\n",
        "cactus.set_light(8)\n",
        "cactus.check_health()"
      ],
      "metadata": {
        "colab": {
          "base_uri": "https://localhost:8080/"
        },
        "id": "RKci628nD3ZB",
        "outputId": "a9b7a083-0be0-4f56-aec8-b584e629bc86"
      },
      "execution_count": null,
      "outputs": [
        {
          "output_type": "stream",
          "name": "stdout",
          "text": [
            "You watered your plant.\n",
            "You set the light to level 8\n",
            "Your plant's health is a 10/10.\n",
            "If you had to rate the wetness of the soil, it would be a 1/10.\n",
            "Your light is turned up to 8.\n"
          ]
        }
      ],
      "id": "RKci628nD3ZB"
    },
    {
      "cell_type": "code",
      "source": [
        "cactus.wait(3)\n",
        "cactus.check_health()"
      ],
      "metadata": {
        "colab": {
          "base_uri": "https://localhost:8080/"
        },
        "id": "H6fzD4WiETnh",
        "outputId": "d17b2cf4-71fc-400e-a3b5-2b7eeecb8e5f"
      },
      "execution_count": null,
      "outputs": [
        {
          "output_type": "stream",
          "name": "stdout",
          "text": [
            "Day 1\n",
            "Your plant looks happy with the light it has.\n",
            "Your plant looks happy with the water it had.\n",
            "Day 2\n",
            "Your plant looks happy with the light it has.\n",
            "Your plant needs more water\n",
            "Day 3\n",
            "Your plant looks happy with the light it has.\n",
            "Your plant needs more water\n",
            "Your plant's health is a 9.8/10.\n",
            "If you had to rate the wetness of the soil, it would be a 0/10.\n",
            "Your light is turned up to 8.\n"
          ]
        }
      ],
      "id": "H6fzD4WiETnh"
    },
    {
      "cell_type": "markdown",
      "metadata": {
        "id": "VnBfb8HlRC3c"
      },
      "source": [
        "<a name=\"p4\"></a>\n",
        "\n",
        "---\n",
        "## **Part 4: Additional Practice [OPTIONAL]**\n",
        "---"
      ],
      "id": "VnBfb8HlRC3c"
    },
    {
      "cell_type": "markdown",
      "metadata": {
        "id": "cQ8l5K3qRQAa"
      },
      "source": [
        "<a name=\"p4.1\"></a>\n",
        "\n",
        "---\n",
        "### **Part 4.1: The Fundamentals**\n",
        "---\n",
        "\n",
        "This part contains questions on the basic syntax that we have learned. Use this section to practice and check your understanding."
      ],
      "id": "cQ8l5K3qRQAa"
    },
    {
      "cell_type": "markdown",
      "metadata": {
        "id": "oMCHyhfet4wi"
      },
      "source": [
        "#### **Problem #4.1.1**\n",
        "\n",
        "Write code that outputs the names of three different countries. **HINT**: You will need a new code cell for every output."
      ],
      "id": "oMCHyhfet4wi"
    },
    {
      "cell_type": "code",
      "execution_count": null,
      "metadata": {
        "id": "_WGe1OS14lY4"
      },
      "outputs": [],
      "source": [
        "# COMPLETE THIS CODE"
      ],
      "id": "_WGe1OS14lY4"
    },
    {
      "cell_type": "code",
      "source": [
        "# COMPLETE THIS CODE"
      ],
      "metadata": {
        "id": "oEnG4TGIsRFV"
      },
      "id": "oEnG4TGIsRFV",
      "execution_count": null,
      "outputs": []
    },
    {
      "cell_type": "code",
      "source": [
        "# COMPLETE THIS CODE"
      ],
      "metadata": {
        "id": "fp5qPW6HsRk-"
      },
      "id": "fp5qPW6HsRk-",
      "execution_count": null,
      "outputs": []
    },
    {
      "cell_type": "markdown",
      "source": [
        "##### **Solution**"
      ],
      "metadata": {
        "id": "CRWPVBk54lY5"
      },
      "id": "CRWPVBk54lY5"
    },
    {
      "cell_type": "code",
      "source": [
        "\"Greece\""
      ],
      "metadata": {
        "id": "kwzObg5POhPY",
        "colab": {
          "base_uri": "https://localhost:8080/",
          "height": 35
        },
        "outputId": "ee2485c5-7ff3-4384-c83c-bb782a4b7916"
      },
      "execution_count": null,
      "outputs": [
        {
          "output_type": "execute_result",
          "data": {
            "text/plain": [
              "'Greece'"
            ],
            "application/vnd.google.colaboratory.intrinsic+json": {
              "type": "string"
            }
          },
          "metadata": {},
          "execution_count": 9
        }
      ],
      "id": "kwzObg5POhPY"
    },
    {
      "cell_type": "code",
      "source": [
        "\"Thailand\""
      ],
      "metadata": {
        "colab": {
          "base_uri": "https://localhost:8080/",
          "height": 35
        },
        "id": "w4p31v8DrQ1t",
        "outputId": "263a8451-c9df-4cd2-f66a-57e85231e572"
      },
      "execution_count": null,
      "outputs": [
        {
          "output_type": "execute_result",
          "data": {
            "text/plain": [
              "'Thailand'"
            ],
            "application/vnd.google.colaboratory.intrinsic+json": {
              "type": "string"
            }
          },
          "metadata": {},
          "execution_count": 10
        }
      ],
      "id": "w4p31v8DrQ1t"
    },
    {
      "cell_type": "code",
      "source": [
        "\"Mexico\""
      ],
      "metadata": {
        "colab": {
          "base_uri": "https://localhost:8080/",
          "height": 35
        },
        "id": "YjkSz-FIrQpo",
        "outputId": "ffc37ebc-923b-4c8d-e382-6b6c67c63e91"
      },
      "execution_count": null,
      "outputs": [
        {
          "output_type": "execute_result",
          "data": {
            "text/plain": [
              "'Mexico'"
            ],
            "application/vnd.google.colaboratory.intrinsic+json": {
              "type": "string"
            }
          },
          "metadata": {},
          "execution_count": 11
        }
      ],
      "id": "YjkSz-FIrQpo"
    },
    {
      "cell_type": "markdown",
      "metadata": {
        "id": "QinoVuPOAdBg"
      },
      "source": [
        "#### **Problem #4.1.2**\n",
        "\n",
        "Write code that outputs the result of multiplying 5 by 23."
      ],
      "id": "QinoVuPOAdBg"
    },
    {
      "cell_type": "code",
      "execution_count": null,
      "metadata": {
        "id": "z4kNYrt2Nj0W"
      },
      "outputs": [],
      "source": [
        "# COMPLETE THIS CODE"
      ],
      "id": "z4kNYrt2Nj0W"
    },
    {
      "cell_type": "markdown",
      "source": [
        "##### **Solution**"
      ],
      "metadata": {
        "id": "ZBTkOfvi4Wy3"
      },
      "id": "ZBTkOfvi4Wy3"
    },
    {
      "cell_type": "code",
      "source": [
        "5 * 23"
      ],
      "metadata": {
        "colab": {
          "base_uri": "https://localhost:8080/"
        },
        "outputId": "9559bc52-c32d-418e-b008-658a5ad30de2",
        "id": "8UICRnDJ4WzC"
      },
      "execution_count": null,
      "outputs": [
        {
          "output_type": "execute_result",
          "data": {
            "text/plain": [
              "115"
            ]
          },
          "metadata": {},
          "execution_count": 12
        }
      ],
      "id": "8UICRnDJ4WzC"
    },
    {
      "cell_type": "markdown",
      "metadata": {
        "id": "brKDsi2BuT75"
      },
      "source": [
        "#### **Problem #4.1.3**\n",
        "\n",
        "Write code that outputs the result of raising 2 to the 100th power."
      ],
      "id": "brKDsi2BuT75"
    },
    {
      "cell_type": "code",
      "execution_count": null,
      "metadata": {
        "id": "_XU69Lrc4mJ-"
      },
      "outputs": [],
      "source": [
        "# COMPLETE THIS CODE"
      ],
      "id": "_XU69Lrc4mJ-"
    },
    {
      "cell_type": "markdown",
      "source": [
        "##### **Solution**"
      ],
      "metadata": {
        "id": "fCQG3Vwp4mJ_"
      },
      "id": "fCQG3Vwp4mJ_"
    },
    {
      "cell_type": "code",
      "execution_count": null,
      "metadata": {
        "id": "9liBz_fUus6T",
        "colab": {
          "base_uri": "https://localhost:8080/"
        },
        "outputId": "6d798f70-29a8-4f37-d8bf-aeb84f1f3dea"
      },
      "outputs": [
        {
          "output_type": "execute_result",
          "data": {
            "text/plain": [
              "1267650600228229401496703205376"
            ]
          },
          "metadata": {},
          "execution_count": 14
        }
      ],
      "source": [
        "2**100"
      ],
      "id": "9liBz_fUus6T"
    },
    {
      "cell_type": "markdown",
      "metadata": {
        "id": "DrNIKf1TAo1z"
      },
      "source": [
        "#### **Problem #4.1.4**\n",
        "Write code that creates and outputs a variable called `popular_name` and assign to it the `string` `'Olivia'`."
      ],
      "id": "DrNIKf1TAo1z"
    },
    {
      "cell_type": "code",
      "execution_count": null,
      "metadata": {
        "id": "cD69JsmO47iH"
      },
      "outputs": [],
      "source": [
        "# COMPLETE THIS CODE"
      ],
      "id": "cD69JsmO47iH"
    },
    {
      "cell_type": "markdown",
      "source": [
        "##### **Solution**"
      ],
      "metadata": {
        "id": "ETZzRLR747iI"
      },
      "id": "ETZzRLR747iI"
    },
    {
      "cell_type": "code",
      "execution_count": null,
      "metadata": {
        "id": "sVICWNIOAx2V",
        "colab": {
          "base_uri": "https://localhost:8080/",
          "height": 35
        },
        "outputId": "7ad1339f-9b5d-481d-c422-d2b9e54d3673"
      },
      "outputs": [
        {
          "output_type": "execute_result",
          "data": {
            "text/plain": [
              "'Olivia'"
            ],
            "application/vnd.google.colaboratory.intrinsic+json": {
              "type": "string"
            }
          },
          "metadata": {},
          "execution_count": 15
        }
      ],
      "source": [
        "popular_name = 'Olivia'\n",
        "popular_name"
      ],
      "id": "sVICWNIOAx2V"
    },
    {
      "cell_type": "markdown",
      "metadata": {
        "id": "oLDz58wguUFM"
      },
      "source": [
        "#### **Problem #4.1.5**\n",
        "\n",
        "Create a variable `birth_year` and set it equal to the year your were born. Then print, `\"I was born in <birth_year>\"`."
      ],
      "id": "oLDz58wguUFM"
    },
    {
      "cell_type": "code",
      "execution_count": null,
      "metadata": {
        "id": "xt9fHgKF5Az3"
      },
      "outputs": [],
      "source": [
        "# COMPLETE THIS CODE"
      ],
      "id": "xt9fHgKF5Az3"
    },
    {
      "cell_type": "code",
      "source": [
        "# COMPLETE THIS CODE"
      ],
      "metadata": {
        "id": "S2qI4u-dr3Kz"
      },
      "id": "S2qI4u-dr3Kz",
      "execution_count": null,
      "outputs": []
    },
    {
      "cell_type": "markdown",
      "source": [
        "##### **Solution**"
      ],
      "metadata": {
        "id": "CYIBkYlP5Az3"
      },
      "id": "CYIBkYlP5Az3"
    },
    {
      "cell_type": "code",
      "execution_count": null,
      "metadata": {
        "id": "aSIo7OJHvEAu",
        "colab": {
          "base_uri": "https://localhost:8080/",
          "height": 35
        },
        "outputId": "8a3f05f7-20ad-4a62-a2f7-26a4650dfbf4"
      },
      "outputs": [
        {
          "output_type": "execute_result",
          "data": {
            "text/plain": [
              "'I was born in '"
            ],
            "application/vnd.google.colaboratory.intrinsic+json": {
              "type": "string"
            }
          },
          "metadata": {},
          "execution_count": 17
        }
      ],
      "source": [
        "birth_year = 1995\n",
        "\"I was born in \""
      ],
      "id": "aSIo7OJHvEAu"
    },
    {
      "cell_type": "code",
      "source": [
        "birth_year"
      ],
      "metadata": {
        "colab": {
          "base_uri": "https://localhost:8080/"
        },
        "id": "nkwT0d93r005",
        "outputId": "86754d88-5006-4717-a73a-213d37798f2c"
      },
      "id": "nkwT0d93r005",
      "execution_count": null,
      "outputs": [
        {
          "output_type": "execute_result",
          "data": {
            "text/plain": [
              "1995"
            ]
          },
          "metadata": {},
          "execution_count": 18
        }
      ]
    },
    {
      "cell_type": "markdown",
      "metadata": {
        "id": "-bnV4zY2yMs8"
      },
      "source": [
        "#### **Problem #4.1.6**\n",
        "\n",
        "Create a variable `favorite_food` and assign to it a `string` with your favorite food. Print `'I love to eat <favorite_food>'`."
      ],
      "id": "-bnV4zY2yMs8"
    },
    {
      "cell_type": "code",
      "execution_count": null,
      "metadata": {
        "id": "DqES7-rS5jcm"
      },
      "outputs": [],
      "source": [
        "# COMPLETE THIS CODE"
      ],
      "id": "DqES7-rS5jcm"
    },
    {
      "cell_type": "code",
      "source": [
        "# COMPLETE THIS CODE"
      ],
      "metadata": {
        "id": "jLNR6hi0sFEQ"
      },
      "id": "jLNR6hi0sFEQ",
      "execution_count": null,
      "outputs": []
    },
    {
      "cell_type": "markdown",
      "source": [
        "##### **Solution**"
      ],
      "metadata": {
        "id": "-AcFOIUV5jcx"
      },
      "id": "-AcFOIUV5jcx"
    },
    {
      "cell_type": "code",
      "execution_count": null,
      "metadata": {
        "id": "xLdAevEYyREb",
        "colab": {
          "base_uri": "https://localhost:8080/",
          "height": 35
        },
        "outputId": "319ce39a-2e1c-48aa-9b15-28e499643e3b"
      },
      "outputs": [
        {
          "output_type": "execute_result",
          "data": {
            "text/plain": [
              "'I love to eat '"
            ],
            "application/vnd.google.colaboratory.intrinsic+json": {
              "type": "string"
            }
          },
          "metadata": {},
          "execution_count": 19
        }
      ],
      "source": [
        "favorite_food = 'risotto'\n",
        "\"I love to eat \""
      ],
      "id": "xLdAevEYyREb"
    },
    {
      "cell_type": "code",
      "source": [
        "favorite_food"
      ],
      "metadata": {
        "colab": {
          "base_uri": "https://localhost:8080/",
          "height": 35
        },
        "id": "c5O3yKAxsIWw",
        "outputId": "62820ffa-311f-4036-cb5d-564d7c213328"
      },
      "id": "c5O3yKAxsIWw",
      "execution_count": null,
      "outputs": [
        {
          "output_type": "execute_result",
          "data": {
            "text/plain": [
              "'risotto'"
            ],
            "application/vnd.google.colaboratory.intrinsic+json": {
              "type": "string"
            }
          },
          "metadata": {},
          "execution_count": 20
        }
      ]
    },
    {
      "cell_type": "markdown",
      "source": [
        "#### **Problem #4.1.7**\n",
        "\n",
        "Debug the code shown below."
      ],
      "metadata": {
        "id": "WwhkO1SgAuov"
      },
      "id": "WwhkO1SgAuov"
    },
    {
      "cell_type": "code",
      "source": [
        "my_list = [10].append(20).append(30)\n",
        "my_list"
      ],
      "metadata": {
        "id": "Rhg2s6BIAupN",
        "colab": {
          "base_uri": "https://localhost:8080/",
          "height": 197
        },
        "outputId": "9935b00b-1bb1-4600-c18a-ee5db80c6dc2"
      },
      "execution_count": null,
      "outputs": [
        {
          "output_type": "error",
          "ename": "AttributeError",
          "evalue": "ignored",
          "traceback": [
            "\u001b[0;31m---------------------------------------------------------------------------\u001b[0m",
            "\u001b[0;31mAttributeError\u001b[0m                            Traceback (most recent call last)",
            "\u001b[0;32m<ipython-input-21-8abf47e2217f>\u001b[0m in \u001b[0;36m<cell line: 1>\u001b[0;34m()\u001b[0m\n\u001b[0;32m----> 1\u001b[0;31m \u001b[0mmy_list\u001b[0m \u001b[0;34m=\u001b[0m \u001b[0;34m[\u001b[0m\u001b[0;36m10\u001b[0m\u001b[0;34m]\u001b[0m\u001b[0;34m.\u001b[0m\u001b[0mappend\u001b[0m\u001b[0;34m(\u001b[0m\u001b[0;36m20\u001b[0m\u001b[0;34m)\u001b[0m\u001b[0;34m.\u001b[0m\u001b[0mappend\u001b[0m\u001b[0;34m(\u001b[0m\u001b[0;36m30\u001b[0m\u001b[0;34m)\u001b[0m\u001b[0;34m\u001b[0m\u001b[0;34m\u001b[0m\u001b[0m\n\u001b[0m\u001b[1;32m      2\u001b[0m \u001b[0mmy_list\u001b[0m\u001b[0;34m\u001b[0m\u001b[0;34m\u001b[0m\u001b[0m\n",
            "\u001b[0;31mAttributeError\u001b[0m: 'NoneType' object has no attribute 'append'"
          ]
        }
      ],
      "id": "Rhg2s6BIAupN"
    },
    {
      "cell_type": "markdown",
      "source": [
        "##### **Solution**\n"
      ],
      "metadata": {
        "id": "ZEx8rdxnAupO"
      },
      "id": "ZEx8rdxnAupO"
    },
    {
      "cell_type": "code",
      "source": [
        "my_list = [10]\n",
        "my_list.append(20)\n",
        "my_list.append(30)\n",
        "my_list"
      ],
      "metadata": {
        "id": "9vKKhev0AupO",
        "colab": {
          "base_uri": "https://localhost:8080/"
        },
        "outputId": "71f6fd2e-edfc-4adf-fab8-a06a98459750"
      },
      "execution_count": null,
      "outputs": [
        {
          "output_type": "execute_result",
          "data": {
            "text/plain": [
              "[10, 20, 30]"
            ]
          },
          "metadata": {},
          "execution_count": 22
        }
      ],
      "id": "9vKKhev0AupO"
    },
    {
      "cell_type": "markdown",
      "source": [
        "#### **Problem #4.1.8**\n",
        "\n",
        "Debug the following code.\n",
        "\n",
        "**HINT**: How many roots should this polynomial have? Even if you're not sure about the math, you could use some of the code below to find out!"
      ],
      "metadata": {
        "id": "eyRaXBoqAfLp"
      },
      "id": "eyRaXBoqAfLp"
    },
    {
      "cell_type": "code",
      "source": [
        "#f(x) = x^2 + 2x + 1\n",
        "root1, root2 = dynamic_find_roots(1,2,1)\n",
        "root1"
      ],
      "metadata": {
        "id": "kIDe-AnOAfME",
        "colab": {
          "base_uri": "https://localhost:8080/",
          "height": 214
        },
        "outputId": "4b47c576-c715-4b6b-dd68-667404fa65a6"
      },
      "execution_count": null,
      "outputs": [
        {
          "output_type": "error",
          "ename": "NameError",
          "evalue": "ignored",
          "traceback": [
            "\u001b[0;31m---------------------------------------------------------------------------\u001b[0m",
            "\u001b[0;31mNameError\u001b[0m                                 Traceback (most recent call last)",
            "\u001b[0;32m<ipython-input-23-ec7a8fb03e41>\u001b[0m in \u001b[0;36m<cell line: 2>\u001b[0;34m()\u001b[0m\n\u001b[1;32m      1\u001b[0m \u001b[0;31m#f(x) = x^2 + 2x + 1\u001b[0m\u001b[0;34m\u001b[0m\u001b[0;34m\u001b[0m\u001b[0m\n\u001b[0;32m----> 2\u001b[0;31m \u001b[0mroot1\u001b[0m\u001b[0;34m,\u001b[0m \u001b[0mroot2\u001b[0m \u001b[0;34m=\u001b[0m \u001b[0mdynamic_find_roots\u001b[0m\u001b[0;34m(\u001b[0m\u001b[0;36m1\u001b[0m\u001b[0;34m,\u001b[0m\u001b[0;36m2\u001b[0m\u001b[0;34m,\u001b[0m\u001b[0;36m1\u001b[0m\u001b[0;34m)\u001b[0m\u001b[0;34m\u001b[0m\u001b[0;34m\u001b[0m\u001b[0m\n\u001b[0m\u001b[1;32m      3\u001b[0m \u001b[0mroot1\u001b[0m\u001b[0;34m\u001b[0m\u001b[0;34m\u001b[0m\u001b[0m\n",
            "\u001b[0;31mNameError\u001b[0m: name 'dynamic_find_roots' is not defined"
          ]
        }
      ],
      "id": "kIDe-AnOAfME"
    },
    {
      "cell_type": "code",
      "source": [
        "root2"
      ],
      "metadata": {
        "id": "MViu8rh4si1i"
      },
      "id": "MViu8rh4si1i",
      "execution_count": null,
      "outputs": []
    },
    {
      "cell_type": "markdown",
      "source": [
        "##### **Solution**\n"
      ],
      "metadata": {
        "id": "hSOdPWFmAfME"
      },
      "id": "hSOdPWFmAfME"
    },
    {
      "cell_type": "code",
      "source": [
        "#f(x) = x^2 + 2x + 1\n",
        "root1 = dynamic_find_roots(1,2,1)\n",
        "root1"
      ],
      "metadata": {
        "id": "VpA6bQCuAfMF",
        "colab": {
          "base_uri": "https://localhost:8080/"
        },
        "outputId": "cfd5f34d-d910-42d4-b681-e45d90de35fd"
      },
      "execution_count": null,
      "outputs": [
        {
          "output_type": "stream",
          "name": "stdout",
          "text": [
            "-1.0\n"
          ]
        }
      ],
      "id": "VpA6bQCuAfMF"
    },
    {
      "cell_type": "markdown",
      "metadata": {
        "id": "cyjIYqnXCenC"
      },
      "source": [
        "<a name=\"p4.2\"></a>\n",
        "\n",
        "---\n",
        "### **Part 4.2: Coding Challenges**\n",
        "---\n",
        "\n",
        "This part contains more challenging problems that you can use to push your Python skills to the next level! **Remember what we have learned about the core programming skills of debugging and reading documentation to tackle these problems.**"
      ],
      "id": "cyjIYqnXCenC"
    },
    {
      "cell_type": "markdown",
      "source": [
        "#### **Problem #4.2.1**\n",
        "\n",
        "**Independently,** write code that prints out a reversed list."
      ],
      "metadata": {
        "id": "gAnsBVX0Gpwl"
      },
      "id": "gAnsBVX0Gpwl"
    },
    {
      "cell_type": "code",
      "source": [
        "my_list = [\"one\",\"two\",\"three\", \"four\",\"five\"]\n",
        "# COMPLETE THIS CODE"
      ],
      "metadata": {
        "id": "YCOSc8uGGpw6"
      },
      "execution_count": null,
      "outputs": [],
      "id": "YCOSc8uGGpw6"
    },
    {
      "cell_type": "markdown",
      "source": [
        "##### **Solution**\n"
      ],
      "metadata": {
        "id": "t05vlNTDGpw6"
      },
      "id": "t05vlNTDGpw6"
    },
    {
      "cell_type": "markdown",
      "source": [
        "Useful Documentation:\n",
        "* [data structures](https://docs.python.org/3/tutorial/datastructures.html)\n",
        "*  [reverse method](https://www.programiz.com/python-programming/methods/list/reverse)\n",
        "*  [reversed function](https://www.geeksforgeeks.org/python-reversed-function/)"
      ],
      "metadata": {
        "id": "JKsr4gWELNrV"
      },
      "id": "JKsr4gWELNrV"
    },
    {
      "cell_type": "code",
      "source": [
        "my_list = [\"one\",\"two\",\"three\", \"four\",\"five\"]\n",
        "my_list.reverse()\n",
        "print(my_list)\n",
        "\n",
        "# OR\n",
        "\n",
        "my_list = [\"one\",\"two\",\"three\", \"four\",\"five\"]\n",
        "my_list = list(reversed(my_list))\n",
        "print(my_list)"
      ],
      "metadata": {
        "id": "NVGahcZ-Gpw7",
        "colab": {
          "base_uri": "https://localhost:8080/"
        },
        "outputId": "5fe28630-e725-4315-9a67-d1f38039fcfa"
      },
      "execution_count": null,
      "outputs": [
        {
          "output_type": "stream",
          "name": "stdout",
          "text": [
            "['five', 'four', 'three', 'two', 'one']\n",
            "['five', 'four', 'three', 'two', 'one']\n"
          ]
        }
      ],
      "id": "NVGahcZ-Gpw7"
    },
    {
      "cell_type": "markdown",
      "source": [
        "#### **Problem #4.2.2**\n",
        "\n",
        "**Independently,** write code that counts how many times [this article](https://www.ted.com/read/ted-studies/physics/introductory-essay) uses the word \"physics\".\n",
        "\n",
        "**Hint:** The string \"physics\" is different from the string \"Physics\". You will need to check for both!"
      ],
      "metadata": {
        "id": "so8qhJ7dHtLn"
      },
      "id": "so8qhJ7dHtLn"
    },
    {
      "cell_type": "code",
      "source": [
        "speech = \"\"\"To the outside observer, it may seem that physics is in some ways the opposite of art and that physicists must sacrifice their artistic intelligence to make way for cold rationality and logic. But nothing could be farther from the truth: Each step forward in our understanding of the universe could not have been conceived without an enormous dose of intuition and creativity. Physicists are on a quest to figure out how nature works at the most fundamental level. This is a romantic story, penned in what may seem the least emotive of languages: mathematics. What's surprising is that the immeasurable beauty of the world is far from lost once its inner workings are expressed in this abstract language. Moreover, there remains something deeply intriguing about the fact that the universe is governed by the rules of mathematics in the first place. As we'll hear from Murray Gell-Mann in the first of the TEDTalks in The Edge of Knowledge, these beautiful mathematical laws are \"not merely a conceit of the human mind\" — instead, they're an intrinsic part of nature. Many successful ideas in science can be described as beautiful and very often this is a reference to the simplicity and conciseness of nature's laws. Einstein's special and general theories of relativity, which describe how space, time and gravity behave, are based on only three brief postulates. The laws of electromagnetism, which govern every aspect of how we experience the worldthrough sight, sound, smell, taste or touch, are so concise thatthey can be written on the front of a T-shirt. The Standard Model of Particle Physics, which describes all of the known particles and three of the four forces that act between them, fits on the side of a coffee mug. As we will hear from Garrett Lisi, looking for beauty in the patterns that emerge in the laws of physics can tell us about how the universe works at the most fundamental level. Science is a collaborative discipline and a global one too. It is the extent to which scientists cooperate that allows science to move at an incredible pace. The majority of the ideas presented in these TEDTalks have been around no longer than 50 years; some less than a decade. Since these speakers featured in The Edge of Knowledge delivered their TEDTalks, scientists working in global collaborations have developed and implemented several new experimental measurements. Most recently, the European Space Agency's Planck satellite has made precise measurements of the Cosmic Microwave Background (CMB): the results are in agreement with the predictions of the Standard Cosmological Model, which describes how the universe evolved from the Big Bang to what we see today. In Brian Cox's TEDTalk, we'll hear about the search for new elementary particles at CERN's Large Hadron Collider, encompassing the work of over 10,000 physicists from over 100 countries. This search is underway, and appears already to have yielded one of the most important scientific results of the 21st century: the discovery of the Higgs boson, the final ingredient predicted by the Standard Model of Particle Physics. Notwithstanding the significance of these recent discoveries and their agreement with predictions, our picture of the fundamental structure of the universe is far from complete: a number of big mysteries remain in both particle physics and cosmology. As we'll hear from Patricia Burchat, many of these mysteries link together the physics of the smallest elementary particles and the largest distances of the cosmos. One of the most enduring mysteries is how to reconcile a complete theory of gravity with our understanding of the fundamental particles. From Brian Greene, we'll hear about the potential of string theory to solve this problem and the possible existence of tiny, curled up, extra spatial dimensions. However, fundamental laws are not enough on their own. Aristotle said that \"all human actions have one or more of these seven causes: chance, nature, compulsion, habit, reason, passion, and desire.\" It's the first of these — chance — that is not decided by the laws of physics; in fact, chance is not decided at all. The fundamental laws of physics cannot predict what will happen; they can only tell us what might happen. This uncertainty is built into the laws of quantum mechanics. As we'll hear from Aaron O'Connell, the most striking feature of quantum mechanics is that it's weird. For example, we're challenged to contemplate the possibility that a thing can be in more than one place at the same time. It's quantum mechanics, more than any other idea in fundamental physics, which forces us to question our intuition about how everyday objects behave. For the microscopic constituents of the universe, our everyday observations simply do not hold. In spite of its counter-intuitiveness, quantum mechanics has come to define our modern world through the technologies that it underpins. From the tiny switches crammed by the billions onto microchips to medical scanners and laser therapies, all rely upon the weirdness of quantum mechanics. Ultimately, science remains an empirical discipline. Thinking up beautiful theories is not enough on its own: every theory must stand up to the experimental observations of how nature actually works. If it doesn't, then the theory can't be correct and we must try again. If, on the other hand, our observations and predictions agree, then we're encouraged and — if the evidence is sufficient — we might even dare to claim some measure of understanding. Through our human creativity, expressed in a process of trial and improvement, incremental advances in our understanding accumulate and scientific progress is made. As the chess grandmaster Gary Kasparov puts it, our success is \"the ability to combine creativity and calculation...into a whole that is much greater than the sum of its parts.\" With each of these steps forward, science closes one more door and moves on to try one of the many, many doors that remain open. This series of TEDTalks discusses some of the toughest questions and the most profound ideas in fundamental physics. The concepts not only challenge us to think objectively and rationally, but also require us to put aside many of our everyday preconceptions and intuitions about how nature works. Be prepared to re-watch the talks and re-read the supporting material; trying to get your head around 13.8 billion years of the universe's history isn't something you can do in an afternoon! Let's begin with CalTech physicist Murray Gell-Mann for an introduction to the Standard Model of particle physics and the quest for a unified theory.\"\"\"\n",
        "# COMPLETE THIS CODE"
      ],
      "metadata": {
        "id": "ODL4nTpIHtLo"
      },
      "execution_count": null,
      "outputs": [],
      "id": "ODL4nTpIHtLo"
    },
    {
      "cell_type": "markdown",
      "source": [
        "##### **Solution**\n"
      ],
      "metadata": {
        "id": "EmdW_TZYHtLp"
      },
      "id": "EmdW_TZYHtLp"
    },
    {
      "cell_type": "markdown",
      "source": [
        "Useful Documentation:\n",
        "*  [count method](https://www.w3schools.com/python/ref_string_count.asp)"
      ],
      "metadata": {
        "id": "MFCz6stJK4v_"
      },
      "id": "MFCz6stJK4v_"
    },
    {
      "cell_type": "code",
      "source": [
        "speech = \"\"\"To the outside observer, it may seem that physics is in some ways the opposite of art and that physicists must sacrifice their artistic intelligence to make way for cold rationality and logic. But nothing could be farther from the truth: Each step forward in our understanding of the universe could not have been conceived without an enormous dose of intuition and creativity. Physicists are on a quest to figure out how nature works at the most fundamental level. This is a romantic story, penned in what may seem the least emotive of languages: mathematics. What's surprising is that the immeasurable beauty of the world is far from lost once its inner workings are expressed in this abstract language. Moreover, there remains something deeply intriguing about the fact that the universe is governed by the rules of mathematics in the first place. As we'll hear from Murray Gell-Mann in the first of the TEDTalks in The Edge of Knowledge, these beautiful mathematical laws are \"not merely a conceit of the human mind\" — instead, they're an intrinsic part of nature. Many successful ideas in science can be described as beautiful and very often this is a reference to the simplicity and conciseness of nature's laws. Einstein's special and general theories of relativity, which describe how space, time and gravity behave, are based on only three brief postulates. The laws of electromagnetism, which govern every aspect of how we experience the worldthrough sight, sound, smell, taste or touch, are so concise thatthey can be written on the front of a T-shirt. The Standard Model of Particle Physics, which describes all of the known particles and three of the four forces that act between them, fits on the side of a coffee mug. As we will hear from Garrett Lisi, looking for beauty in the patterns that emerge in the laws of physics can tell us about how the universe works at the most fundamental level. Science is a collaborative discipline and a global one too. It is the extent to which scientists cooperate that allows science to move at an incredible pace. The majority of the ideas presented in these TEDTalks have been around no longer than 50 years; some less than a decade. Since these speakers featured in The Edge of Knowledge delivered their TEDTalks, scientists working in global collaborations have developed and implemented several new experimental measurements. Most recently, the European Space Agency's Planck satellite has made precise measurements of the Cosmic Microwave Background (CMB): the results are in agreement with the predictions of the Standard Cosmological Model, which describes how the universe evolved from the Big Bang to what we see today. In Brian Cox's TEDTalk, we'll hear about the search for new elementary particles at CERN's Large Hadron Collider, encompassing the work of over 10,000 physicists from over 100 countries. This search is underway, and appears already to have yielded one of the most important scientific results of the 21st century: the discovery of the Higgs boson, the final ingredient predicted by the Standard Model of Particle Physics. Notwithstanding the significance of these recent discoveries and their agreement with predictions, our picture of the fundamental structure of the universe is far from complete: a number of big mysteries remain in both particle physics and cosmology. As we'll hear from Patricia Burchat, many of these mysteries link together the physics of the smallest elementary particles and the largest distances of the cosmos. One of the most enduring mysteries is how to reconcile a complete theory of gravity with our understanding of the fundamental particles. From Brian Greene, we'll hear about the potential of string theory to solve this problem and the possible existence of tiny, curled up, extra spatial dimensions. However, fundamental laws are not enough on their own. Aristotle said that \"all human actions have one or more of these seven causes: chance, nature, compulsion, habit, reason, passion, and desire.\" It's the first of these — chance — that is not decided by the laws of physics; in fact, chance is not decided at all. The fundamental laws of physics cannot predict what will happen; they can only tell us what might happen. This uncertainty is built into the laws of quantum mechanics. As we'll hear from Aaron O'Connell, the most striking feature of quantum mechanics is that it's weird. For example, we're challenged to contemplate the possibility that a thing can be in more than one place at the same time. It's quantum mechanics, more than any other idea in fundamental physics, which forces us to question our intuition about how everyday objects behave. For the microscopic constituents of the universe, our everyday observations simply do not hold. In spite of its counter-intuitiveness, quantum mechanics has come to define our modern world through the technologies that it underpins. From the tiny switches crammed by the billions onto microchips to medical scanners and laser therapies, all rely upon the weirdness of quantum mechanics. Ultimately, science remains an empirical discipline. Thinking up beautiful theories is not enough on its own: every theory must stand up to the experimental observations of how nature actually works. If it doesn't, then the theory can't be correct and we must try again. If, on the other hand, our observations and predictions agree, then we're encouraged and — if the evidence is sufficient — we might even dare to claim some measure of understanding. Through our human creativity, expressed in a process of trial and improvement, incremental advances in our understanding accumulate and scientific progress is made. As the chess grandmaster Gary Kasparov puts it, our success is \"the ability to combine creativity and calculation...into a whole that is much greater than the sum of its parts.\" With each of these steps forward, science closes one more door and moves on to try one of the many, many doors that remain open. This series of TEDTalks discusses some of the toughest questions and the most profound ideas in fundamental physics. The concepts not only challenge us to think objectively and rationally, but also require us to put aside many of our everyday preconceptions and intuitions about how nature works. Be prepared to re-watch the talks and re-read the supporting material; trying to get your head around 13.8 billion years of the universe's history isn't something you can do in an afternoon! Let's begin with CalTech physicist Murray Gell-Mann for an introduction to the Standard Model of particle physics and the quest for a unified theory.\"\"\"\n",
        "physics_count = speech.count(\"physics\") + speech.count(\"Physics\")\n",
        "\n",
        "print(\"The word physics was used \" + str(physics_count) + \" times.\")"
      ],
      "metadata": {
        "id": "DyG2HIkKHtLp",
        "colab": {
          "base_uri": "https://localhost:8080/"
        },
        "outputId": "d6b60379-be46-4385-880e-118746284102"
      },
      "execution_count": null,
      "outputs": [
        {
          "output_type": "stream",
          "name": "stdout",
          "text": [
            "The word physics was used 11 times.\n"
          ]
        }
      ],
      "id": "DyG2HIkKHtLp"
    },
    {
      "cell_type": "markdown",
      "source": [
        "#### **Problem #4.2.3**\n",
        "\n",
        "**Independently**, research the `dir()` function and what it does to different objects. Use this function to win the plant game from Part 2!"
      ],
      "metadata": {
        "id": "iJKitlSANW32"
      },
      "id": "iJKitlSANW32"
    },
    {
      "cell_type": "code",
      "source": [
        "# COMPLETE THIS CODE"
      ],
      "metadata": {
        "id": "Q33-zYXfNW4O"
      },
      "execution_count": null,
      "outputs": [],
      "id": "Q33-zYXfNW4O"
    },
    {
      "cell_type": "markdown",
      "source": [
        "##### **Solution**\n"
      ],
      "metadata": {
        "id": "97Goa2cpNW4P"
      },
      "id": "97Goa2cpNW4P"
    },
    {
      "cell_type": "markdown",
      "source": [
        "Useful Documentation:\n",
        "*  [dir() function](https://www.w3schools.com/python/ref_func_dir.asp)"
      ],
      "metadata": {
        "id": "_bR0erXtLsKo"
      },
      "id": "_bR0erXtLsKo"
    },
    {
      "cell_type": "code",
      "source": [
        "rose = plant()\n",
        "print(dir(rose))"
      ],
      "metadata": {
        "id": "v7f0RkDbNW4Q",
        "colab": {
          "base_uri": "https://localhost:8080/"
        },
        "outputId": "54f50bc0-b27f-4331-8081-42aa926f070f"
      },
      "execution_count": null,
      "outputs": [
        {
          "output_type": "stream",
          "name": "stdout",
          "text": [
            "['__class__', '__delattr__', '__dict__', '__dir__', '__doc__', '__eq__', '__format__', '__ge__', '__getattribute__', '__gt__', '__hash__', '__init__', '__init_subclass__', '__le__', '__lt__', '__module__', '__ne__', '__new__', '__reduce__', '__reduce_ex__', '__repr__', '__setattr__', '__sizeof__', '__str__', '__subclasshook__', '__weakref__', 'check_health', 'day', 'day_of_last_growth', 'health', 'light', 'perfect_light', 'perfect_water', 'planted', 'set_light', 'stage', 'wait', 'water', 'water_plant']\n"
          ]
        }
      ],
      "id": "v7f0RkDbNW4Q"
    },
    {
      "cell_type": "code",
      "source": [
        "rose.water = rose.perfect_water\n",
        "rose.light = rose.perfect_light\n",
        "rose.check_health()\n",
        "rose.wait(1)"
      ],
      "metadata": {
        "id": "sVkO9rZwNwa3"
      },
      "execution_count": null,
      "outputs": [],
      "id": "sVkO9rZwNwa3"
    },
    {
      "cell_type": "markdown",
      "source": [
        "#### **Problem #4.2.4**\n",
        "\n",
        "**Independently,** research the `numpy` module to find a function that allows you simulate rolling a dice (picking a random number between 1 and 6)."
      ],
      "metadata": {
        "id": "NxqrfDkkJmxT"
      },
      "id": "NxqrfDkkJmxT"
    },
    {
      "cell_type": "code",
      "source": [
        "# COMPLETE THIS CODE"
      ],
      "metadata": {
        "id": "OMyupr31Jmxw"
      },
      "execution_count": null,
      "outputs": [],
      "id": "OMyupr31Jmxw"
    },
    {
      "cell_type": "markdown",
      "source": [
        "##### **Solution**\n"
      ],
      "metadata": {
        "id": "om5bZpjOJmxw"
      },
      "id": "om5bZpjOJmxw"
    },
    {
      "cell_type": "markdown",
      "source": [
        "Useful documentation:\n",
        "*  [numpy.random.choice](https://numpy.org/doc/stable/reference/random/generated/numpy.random.choice.html)"
      ],
      "metadata": {
        "id": "J9iw763V6SKs"
      },
      "id": "J9iw763V6SKs"
    },
    {
      "cell_type": "code",
      "source": [
        "random_roll = numpy.random.choice([1,2,3,4,5,6])\n",
        "print(random_roll)"
      ],
      "metadata": {
        "id": "EOMqex3TJmxx",
        "colab": {
          "base_uri": "https://localhost:8080/"
        },
        "outputId": "7dd8e36e-5af6-42d8-99c8-08cdffd409ca"
      },
      "execution_count": null,
      "outputs": [
        {
          "output_type": "stream",
          "name": "stdout",
          "text": [
            "2\n"
          ]
        }
      ],
      "id": "EOMqex3TJmxx"
    },
    {
      "cell_type": "markdown",
      "source": [
        "#### **Problem #4.2.5**\n",
        "\n",
        "**Independently,** research the `matplotlib` module to find a function that creates a line graph of the data provided below. For an extra challenge, label the x-axis \"Year\" and the y-axis \"Number of Qubits in IBM's Computers\". Note that the numbers for 2024 and 2025 are goals set by IBM."
      ],
      "metadata": {
        "id": "40UaWGj7I6Ui"
      },
      "id": "40UaWGj7I6Ui"
    },
    {
      "cell_type": "code",
      "source": [
        "years = [2019,2020,2021,2022,2023,2024,2025]\n",
        "num_qubits = [27,65,127,433,1121,1386,4158]\n",
        "# COMPLETE THIS CODE"
      ],
      "metadata": {
        "id": "8e5UZk0EI6U9"
      },
      "execution_count": null,
      "outputs": [],
      "id": "8e5UZk0EI6U9"
    },
    {
      "cell_type": "markdown",
      "source": [
        "##### **Solution**\n"
      ],
      "metadata": {
        "id": "cO4RJk-xI6U-"
      },
      "id": "cO4RJk-xI6U-"
    },
    {
      "cell_type": "markdown",
      "source": [
        "Helpful documentation:\n",
        "\n",
        "*  [matplotlib.pyplot.plot](https://matplotlib.org/stable/api/_as_gen/matplotlib.pyplot.plot.html)\n",
        "*  [matplotlib.pyplot.xlabel](https://matplotlib.org/stable/api/_as_gen/matplotlib.pyplot.xlabel.html)\n",
        "*  [matplotlib.pyplot.ylabel](https://matplotlib.org/stable/api/_as_gen/matplotlib.pyplot.ylabel.html)"
      ],
      "metadata": {
        "id": "Ri1n9IZO63NQ"
      },
      "id": "Ri1n9IZO63NQ"
    },
    {
      "cell_type": "code",
      "source": [
        "years = [2019,2020,2021,2022,2023,2024,2025]\n",
        "num_qubits = [27,65,127,433,1121,1386,4158]\n",
        "matplotlib.pyplot.plot(years, num_qubits)\n",
        "matplotlib.pyplot.xlabel(\"Year\")\n",
        "matplotlib.pyplot.ylabel(\"Number of Qubits in IBM's Quantum Computers\")"
      ],
      "metadata": {
        "id": "fbPQdfesI6U-",
        "colab": {
          "base_uri": "https://localhost:8080/",
          "height": 466
        },
        "outputId": "9230ef0e-74ba-45a1-e028-e4b5e1f657d4"
      },
      "execution_count": null,
      "outputs": [
        {
          "output_type": "execute_result",
          "data": {
            "text/plain": [
              "Text(0, 0.5, \"Number of Qubits in IBM's Quantum Computers\")"
            ]
          },
          "metadata": {},
          "execution_count": 14
        },
        {
          "output_type": "display_data",
          "data": {
            "text/plain": [
              "<Figure size 640x480 with 1 Axes>"
            ],
            "image/png": "[encoded data removed]"
          },
          "metadata": {}
        }
      ],
      "id": "fbPQdfesI6U-"
    },
    {
      "cell_type": "markdown",
      "source": [
        "#### **Problem #4.2.6**\n",
        "\n",
        "**Independently,** research the `numpy` library and `pyplot` sub-module of the `matplotlib` library and use its objects, methods, and functions to plot the equation below on a graph whose x-axis ranges from 0 to 42 and whose y-axis ranges from -6 to 6. $$y=5cos(3x)$$"
      ],
      "metadata": {
        "id": "5nImg2rAJ_xe"
      },
      "id": "5nImg2rAJ_xe"
    },
    {
      "cell_type": "code",
      "source": [
        "# COMPLETE THIS CODE"
      ],
      "metadata": {
        "id": "Tpq46xX2J_xw"
      },
      "execution_count": null,
      "outputs": [],
      "id": "Tpq46xX2J_xw"
    },
    {
      "cell_type": "markdown",
      "source": [
        "##### **Solution**\n"
      ],
      "metadata": {
        "id": "LHw3gg7fJ_xx"
      },
      "id": "LHw3gg7fJ_xx"
    },
    {
      "cell_type": "markdown",
      "source": [
        "Helpful documentation:\n",
        "\n",
        "*  [matplotlib.pyplot.xlim](https://matplotlib.org/stable/api/_as_gen/matplotlib.pyplot.xlim.html)\n",
        "*  [matplotlib.pyplot.ylim](https://matplotlib.org/stable/api/_as_gen/matplotlib.pyplot.ylim.html)"
      ],
      "metadata": {
        "id": "b5WoXBvXtZh-"
      },
      "id": "b5WoXBvXtZh-"
    },
    {
      "cell_type": "code",
      "source": [
        "y = 5*numpy.cos(3*x)\n",
        "pyplot.plot(y)\n",
        "pyplot.xlim(0, 42)\n",
        "pyplot.ylim(-6, 6)\n",
        "pyplot.show()"
      ],
      "metadata": {
        "id": "g_Vy3IRykdjg"
      },
      "id": "g_Vy3IRykdjg",
      "execution_count": null,
      "outputs": []
    },
    {
      "cell_type": "markdown",
      "metadata": {
        "id": "upPIf6_Drv8S"
      },
      "source": [
        "<a name=\"p5\"></a>\n",
        "\n",
        "---\n",
        "## **Part 5: The `print` Function [OPTIONAL]**\n",
        "---\n",
        "\n",
        "In this part, we will explore how to use functions with the very useful built-in `print` function."
      ],
      "id": "upPIf6_Drv8S"
    },
    {
      "cell_type": "markdown",
      "source": [
        "#### **Problem #5.1**\n",
        "\n",
        "**Together**, let's run the code below to print the text `\"Hello Quantum World!\"`."
      ],
      "metadata": {
        "id": "NRqziKbrPR8P"
      },
      "id": "NRqziKbrPR8P"
    },
    {
      "cell_type": "code",
      "source": [
        "print(\"Hello Quantum World!\")"
      ],
      "metadata": {
        "colab": {
          "base_uri": "https://localhost:8080/"
        },
        "id": "Ffht71IHPaXm",
        "outputId": "6ccff93f-fc46-42da-b263-68a2073f074a"
      },
      "execution_count": null,
      "outputs": [
        {
          "output_type": "stream",
          "name": "stdout",
          "text": [
            "Hello Quantum World!\n"
          ]
        }
      ],
      "id": "Ffht71IHPaXm"
    },
    {
      "cell_type": "markdown",
      "source": [
        "#### **Problem #5.2**\n",
        "\n",
        "**Together**, let's print the text `\"Hello Quantum World!\"` and `\"Nice to meet you and not meet you\"` using two separate print statements."
      ],
      "metadata": {
        "id": "ic87Mb_BPjnd"
      },
      "id": "ic87Mb_BPjnd"
    },
    {
      "cell_type": "code",
      "source": [
        "print(\"# COMPLETE THIS CODE )\n",
        "print(\"# COMPLETE THIS CODE )"
      ],
      "metadata": {
        "id": "lmZncfl_PpwE"
      },
      "execution_count": null,
      "outputs": [],
      "id": "lmZncfl_PpwE"
    },
    {
      "cell_type": "markdown",
      "source": [
        "##### **Solution**"
      ],
      "metadata": {
        "id": "0PEt7GdDPqMc"
      },
      "id": "0PEt7GdDPqMc"
    },
    {
      "cell_type": "code",
      "source": [
        "print(\"Hello Quantum World!\")\n",
        "print(\"Nice to meet you and not meet you\")"
      ],
      "metadata": {
        "colab": {
          "base_uri": "https://localhost:8080/"
        },
        "id": "KpGQkLJMPtAj",
        "outputId": "5939a99b-c46c-4009-a187-9ea8b09d6583"
      },
      "execution_count": null,
      "outputs": [
        {
          "output_type": "stream",
          "name": "stdout",
          "text": [
            "Hello Quantum World!\n",
            "Nice to meet you and not meet you\n"
          ]
        }
      ],
      "id": "KpGQkLJMPtAj"
    },
    {
      "cell_type": "markdown",
      "source": [
        "#### **Problem #5.3**\n",
        "\n",
        "**Independently**, complete the code by printing your age."
      ],
      "metadata": {
        "id": "5iVci0CvP761"
      },
      "id": "5iVci0CvP761"
    },
    {
      "cell_type": "code",
      "source": [
        "print(\"My age is: # COMPLETE THIS CODE"
      ],
      "metadata": {
        "id": "RgSCfnZGP762"
      },
      "execution_count": null,
      "outputs": [],
      "id": "RgSCfnZGP762"
    },
    {
      "cell_type": "markdown",
      "source": [
        "##### **Solution**"
      ],
      "metadata": {
        "id": "H7Mwq80yP762"
      },
      "id": "H7Mwq80yP762"
    },
    {
      "cell_type": "code",
      "source": [
        "print(\"My age is: 27\")"
      ],
      "metadata": {
        "colab": {
          "base_uri": "https://localhost:8080/"
        },
        "outputId": "17b1611d-80a8-4719-bdee-ea0dd4c9f194",
        "id": "MSitfB7tP762"
      },
      "execution_count": null,
      "outputs": [
        {
          "output_type": "stream",
          "name": "stdout",
          "text": [
            "My age is: 27\n"
          ]
        }
      ],
      "id": "MSitfB7tP762"
    },
    {
      "cell_type": "markdown",
      "source": [
        "#### **Problem #5.4**\n",
        "\n",
        "**Independently**, Complete the code by printing your age on the next line."
      ],
      "metadata": {
        "id": "YtxEjg3VQYu3"
      },
      "id": "YtxEjg3VQYu3"
    },
    {
      "cell_type": "code",
      "source": [
        "print(\"My age is:\")\n",
        "# COMPLETE THIS CODE"
      ],
      "metadata": {
        "id": "3G6zysWQQYvD"
      },
      "execution_count": null,
      "outputs": [],
      "id": "3G6zysWQQYvD"
    },
    {
      "cell_type": "markdown",
      "source": [
        "##### **Solution**"
      ],
      "metadata": {
        "id": "4Cibf6qTQYvD"
      },
      "id": "4Cibf6qTQYvD"
    },
    {
      "cell_type": "code",
      "source": [
        "print(\"My age is:\")\n",
        "print(27)"
      ],
      "metadata": {
        "colab": {
          "base_uri": "https://localhost:8080/"
        },
        "outputId": "ee6b37e3-2981-4538-a24d-702ae42c6e1d",
        "id": "uXaByLTXQYvD"
      },
      "execution_count": null,
      "outputs": [
        {
          "output_type": "stream",
          "name": "stdout",
          "text": [
            "My age is\n",
            "27\n"
          ]
        }
      ],
      "id": "uXaByLTXQYvD"
    },
    {
      "cell_type": "markdown",
      "source": [
        "#### **Problem #5.5**\n",
        "\n",
        "Write code to print your favorite animal."
      ],
      "metadata": {
        "id": "y2y-I1FlQtyG"
      },
      "id": "y2y-I1FlQtyG"
    },
    {
      "cell_type": "code",
      "source": [],
      "metadata": {
        "id": "6Mnuov5fQtyg"
      },
      "execution_count": null,
      "outputs": [],
      "id": "6Mnuov5fQtyg"
    },
    {
      "cell_type": "markdown",
      "source": [
        "##### **Solution**"
      ],
      "metadata": {
        "id": "cz7piDzzQtyh"
      },
      "id": "cz7piDzzQtyh"
    },
    {
      "cell_type": "code",
      "source": [
        "print(\"octopus\")"
      ],
      "metadata": {
        "colab": {
          "base_uri": "https://localhost:8080/"
        },
        "outputId": "d5de1eb0-e7e9-4849-de8b-a4e1b67222f6",
        "id": "MP2hWksoQtyh"
      },
      "execution_count": null,
      "outputs": [
        {
          "output_type": "stream",
          "name": "stdout",
          "text": [
            "octopus\n"
          ]
        }
      ],
      "id": "MP2hWksoQtyh"
    },
    {
      "cell_type": "markdown",
      "source": [
        "#End of notebook\n",
        "---\n",
        "© 2023 The Coding School, All rights reserved"
      ],
      "metadata": {
        "id": "7dzC09dLlEhm"
      },
      "id": "7dzC09dLlEhm"
    }
  ],
  "metadata": {
    "kernelspec": {
      "display_name": "Python 3 (ipykernel)",
      "language": "python",
      "name": "python3"
    },
    "language_info": {
      "codemirror_mode": {
        "name": "ipython",
        "version": 3
      },
      "file_extension": ".py",
      "mimetype": "text/x-python",
      "name": "python",
      "nbconvert_exporter": "python",
      "pygments_lexer": "ipython3",
      "version": "3.8.13"
    },
    "colab": {
      "provenance": [],
      "collapsed_sections": [
        "88bM7zNgm__2",
        "8E_hjAwnzJIJ",
        "vbVHhpiin48S",
        "huF5E-rfpsk6",
        "viydnMGPp9Vn",
        "0hMTn7KLqMIw",
        "idga37M2FsMR",
        "XvDIuw6vlsKN",
        "oMCHyhfet4wi",
        "QinoVuPOAdBg",
        "brKDsi2BuT75",
        "DrNIKf1TAo1z",
        "oLDz58wguUFM",
        "-bnV4zY2yMs8",
        "WwhkO1SgAuov",
        "eyRaXBoqAfLp",
        "gAnsBVX0Gpwl",
        "NxqrfDkkJmxT",
        "40UaWGj7I6Ui",
        "5nImg2rAJ_xe",
        "upPIf6_Drv8S",
        "NRqziKbrPR8P",
        "ic87Mb_BPjnd",
        "0PEt7GdDPqMc",
        "5iVci0CvP761",
        "H7Mwq80yP762",
        "YtxEjg3VQYu3",
        "4Cibf6qTQYvD"
      ],
      "include_colab_link": true
    }
  },
  "nbformat": 4,
  "nbformat_minor": 5
}