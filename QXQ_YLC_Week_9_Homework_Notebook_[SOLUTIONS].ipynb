{
  "nbformat": 4,
  "nbformat_minor": 0,
  "metadata": {
    "colab": {
      "provenance": [],
      "collapsed_sections": [
        "rNi7Xem-m6Zu",
        "ndB4P9xM5CmV",
        "BR-RGGV55bkX",
        "rwfQm6rM6RQQ",
        "NrDdHLTL6nM0",
        "jSyNDQOFLYxO"
      ],
      "include_colab_link": true
    },
    "kernelspec": {
      "name": "python3",
      "display_name": "Python 3"
    },
    "language_info": {
      "name": "python"
    }
  },
  "cells": [
    {
      "cell_type": "markdown",
      "metadata": {
        "id": "view-in-github",
        "colab_type": "text"
      },
      "source": [
        "<a href=\"https://colab.research.google.com/github/owaisishtiaqsiddiqui/QxQ-23-24-Course-Solutions/blob/main/QXQ_YLC_Week_9_Homework_Notebook_%5BSOLUTIONS%5D.ipynb\" target=\"_parent\"><img src=\"https://colab.research.google.com/assets/colab-badge.svg\" alt=\"Open In Colab\"/></a>"
      ]
    },
    {
      "cell_type": "markdown",
      "metadata": {
        "id": "EN-xuGnTAFTS"
      },
      "source": [
        "# **Homework 9: Ιmplementing BB84 - Part I**\n",
        "---\n",
        "\n",
        "### **Description**\n",
        "In this notebook, you will practice the python tools from this week's lab and work with the BB84 protocol.\n",
        "\n",
        "<br>\n",
        "\n",
        "### **Structure**\n",
        "**Part 1**: [Learning the Tools](#p1)\n",
        "\n",
        "**Part 2**: [Implementing BB84 in Python](#p2)\n",
        ">\n",
        "> **Part 2.1**: [The Protocol](#p2.1)\n",
        ">\n",
        "> **Part 2.2**: [Modifying the Protocol](#p2.2)\n",
        "\n",
        "<br>\n",
        "\n",
        "### **Learning Objectives**\n",
        "By the end of this homework, you will:\n",
        "* Recognize how to use three useful python tools: the choices function, dictionaries, and loops.\n",
        "\n",
        "* Recognize how to implement the steps of BB84 between Alice and Bob using cirq.\n",
        "\n",
        "<br>\n",
        "\n",
        "### **Resources**\n",
        "* [BB84 Cheat Sheet](https://docs.google.com/document/d/1FTBVWQsRVPvuP5e4lo3D62F0NOyfA1qIIPrDnocV6nc/edit)\n",
        "\n",
        "<br>\n",
        "\n",
        "**Before starting, run the code below to import all necessary functions and libraries.**"
      ]
    },
    {
      "cell_type": "code",
      "execution_count": null,
      "metadata": {
        "id": "K96jXNozAFTW"
      },
      "outputs": [],
      "source": [
        "!pip install cirq --quiet\n",
        "import cirq\n",
        "\n",
        "from random import choices"
      ]
    },
    {
      "cell_type": "markdown",
      "source": [
        "<a name=\"p1\"></a>\n",
        "\n",
        "---\n",
        "## **Part 1: Learning the Tools**\n",
        "---"
      ],
      "metadata": {
        "id": "rNi7Xem-m6Zu"
      }
    },
    {
      "cell_type": "markdown",
      "source": [
        "#### **Problem #1.1**\n",
        "\n",
        "Use the `choices(...)` function to create a list of 5 elements that are `'Alice'`, `'Bob'`, or `'Eve'`."
      ],
      "metadata": {
        "id": "-gcKN3urnNzM"
      }
    },
    {
      "cell_type": "code",
      "source": [
        "choices(['Alice', 'Bob', 'Eve'], k = # COMPLETE THIS CODE"
      ],
      "metadata": {
        "id": "sklmUPYHndTr"
      },
      "execution_count": null,
      "outputs": []
    },
    {
      "cell_type": "markdown",
      "source": [
        "##### **Solution**"
      ],
      "metadata": {
        "id": "tfo4OTH0ndrc"
      }
    },
    {
      "cell_type": "code",
      "source": [
        "choices(['Alice', 'Bob', 'Eve'], k = 5)"
      ],
      "metadata": {
        "colab": {
          "base_uri": "https://localhost:8080/"
        },
        "id": "6FTg7rRNmgT4",
        "outputId": "85829e2a-594b-40cd-a750-049037a7f47a"
      },
      "execution_count": null,
      "outputs": [
        {
          "output_type": "execute_result",
          "data": {
            "text/plain": [
              "['Alice', 'Alice', 'Alice', 'Eve', 'Bob']"
            ]
          },
          "metadata": {},
          "execution_count": 2
        }
      ]
    },
    {
      "cell_type": "markdown",
      "source": [
        "#### **Problem #1.2**\n",
        "\n",
        "Use the `choices(...)` function to create a list of 15 elements that are `'Alice'`, `'Bob'`, or `'Eve'`."
      ],
      "metadata": {
        "id": "1Hf37ZkV4Erz"
      }
    },
    {
      "cell_type": "code",
      "source": [
        "# COMPLETE THIS CODE"
      ],
      "metadata": {
        "id": "hfljDscv4Er0"
      },
      "execution_count": null,
      "outputs": []
    },
    {
      "cell_type": "markdown",
      "source": [
        "##### **Solution**"
      ],
      "metadata": {
        "id": "5M6iVZX54Er0"
      }
    },
    {
      "cell_type": "code",
      "source": [
        "choices(['Alice', 'Bob', 'Eve'], k = 15)"
      ],
      "metadata": {
        "colab": {
          "base_uri": "https://localhost:8080/"
        },
        "outputId": "735f5027-1a8c-4706-a6e4-e042993598d5",
        "id": "GHEeJLgr4Er0"
      },
      "execution_count": null,
      "outputs": [
        {
          "output_type": "execute_result",
          "data": {
            "text/plain": [
              "['Alice',\n",
              " 'Bob',\n",
              " 'Eve',\n",
              " 'Eve',\n",
              " 'Eve',\n",
              " 'Bob',\n",
              " 'Eve',\n",
              " 'Bob',\n",
              " 'Bob',\n",
              " 'Alice',\n",
              " 'Bob',\n",
              " 'Bob',\n",
              " 'Bob',\n",
              " 'Bob',\n",
              " 'Eve']"
            ]
          },
          "metadata": {},
          "execution_count": 3
        }
      ]
    },
    {
      "cell_type": "markdown",
      "source": [
        "#### **Problem #1.3**\n",
        "\n",
        "Use the `choices(...)` function to create a list of 15 elements that are the ints `0`, `1`, or `2`."
      ],
      "metadata": {
        "id": "piZx1V_a4MMP"
      }
    },
    {
      "cell_type": "code",
      "source": [
        "# COMPLETE THIS CODE"
      ],
      "metadata": {
        "id": "rbIQBaDd4MMT"
      },
      "execution_count": null,
      "outputs": []
    },
    {
      "cell_type": "markdown",
      "source": [
        "##### **Solution**"
      ],
      "metadata": {
        "id": "q_xTTxnR4MMT"
      }
    },
    {
      "cell_type": "code",
      "source": [
        "choices([0, 1, 2], k = 15)"
      ],
      "metadata": {
        "colab": {
          "base_uri": "https://localhost:8080/"
        },
        "outputId": "d7f48780-c0e9-456d-b7ec-dcc693806778",
        "id": "R2q-4hPc4MMT"
      },
      "execution_count": null,
      "outputs": [
        {
          "output_type": "execute_result",
          "data": {
            "text/plain": [
              "[0, 1, 2, 0, 2, 0, 1, 0, 2, 1, 1, 1, 0, 2, 2]"
            ]
          },
          "metadata": {},
          "execution_count": 4
        }
      ]
    },
    {
      "cell_type": "markdown",
      "source": [
        "#### **Problem #1.4**\n",
        "\n",
        "Create a dictionary called `my_favorites` with key, value pairs as follows:\n",
        "* `'animal'`: the value is your favorite animal.\n",
        "* `'food'`: the value is your favorite food.\n",
        "* `'movie'`: the value is your favorite movie.\n",
        "\n",
        "<br>\n",
        "\n",
        "At the end, print your favorite food from this dictionary."
      ],
      "metadata": {
        "id": "A-fqwv-R4XtL"
      }
    },
    {
      "cell_type": "code",
      "source": [
        "my_favorites = {# COMPLETE THIS CODE\n",
        "\n",
        "print(my_favorites['food'])"
      ],
      "metadata": {
        "id": "tY2OiOAP4XtN"
      },
      "execution_count": null,
      "outputs": []
    },
    {
      "cell_type": "markdown",
      "source": [
        "##### **Solution**"
      ],
      "metadata": {
        "id": "Da7zFveu4XtO"
      }
    },
    {
      "cell_type": "code",
      "source": [
        "my_favorites = {'animal': 'octopus', 'food': 'pho', 'movie': 'arrival'}\n",
        "\n",
        "print(my_favorites['food'])"
      ],
      "metadata": {
        "colab": {
          "base_uri": "https://localhost:8080/"
        },
        "outputId": "1070cc4c-dd0d-492f-b28e-4a46bb3bad62",
        "id": "DkSQ65WF4XtO"
      },
      "execution_count": null,
      "outputs": [
        {
          "output_type": "stream",
          "name": "stdout",
          "text": [
            "pho\n"
          ]
        }
      ]
    },
    {
      "cell_type": "markdown",
      "source": [
        "#### **Problem #1.5**\n",
        "\n",
        "Create a dictionary called `my_gates` with key, value pairs as follows:\n",
        "* `'do nothing'`: `cirq.I`.\n",
        "* `'flip bit'`: `cirq.X`.\n",
        "* `'flip phase'`: `cirq.Z`.\n",
        "* `'superposition'`: `cirq.H`.\n",
        "\n",
        "\n",
        "<br>\n",
        "\n",
        "At the end, print the `superposition` gate."
      ],
      "metadata": {
        "id": "ndB4P9xM5CmV"
      }
    },
    {
      "cell_type": "code",
      "source": [
        "my_gates = # COMPLETE THIS CODE\n",
        "\n",
        "my_gates['superposition']"
      ],
      "metadata": {
        "id": "lhfrVqEO5CmW"
      },
      "execution_count": null,
      "outputs": []
    },
    {
      "cell_type": "markdown",
      "source": [
        "##### **Solution**"
      ],
      "metadata": {
        "id": "xCV4z3me5CmX"
      }
    },
    {
      "cell_type": "code",
      "source": [
        "my_gates = {'do nothing': cirq.I, 'flip bit': cirq.X, 'flip phase': cirq.Z, 'superposition': cirq.H}\n",
        "\n",
        "my_gates['superposition']"
      ],
      "metadata": {
        "colab": {
          "base_uri": "https://localhost:8080/"
        },
        "outputId": "5697c665-41ec-43a5-db82-ea064801248a",
        "id": "2N8phTZp5CmX"
      },
      "execution_count": null,
      "outputs": [
        {
          "output_type": "execute_result",
          "data": {
            "text/plain": [
              "cirq.H"
            ]
          },
          "metadata": {},
          "execution_count": 6
        }
      ]
    },
    {
      "cell_type": "markdown",
      "source": [
        "#### **Problem #1.6**\n",
        "\n",
        "Complete the code below to print every item in the provided list."
      ],
      "metadata": {
        "id": "BR-RGGV55bkX"
      }
    },
    {
      "cell_type": "code",
      "source": [
        "my_list = ['alice', 'bob', 'eve', 'mallory', 'judy']\n",
        "\n",
        "for i in range(# COMPLETE THIS CODE\n",
        "  print(my_list[# COMPLETE THIS CODE"
      ],
      "metadata": {
        "id": "RcRouqnd5bka"
      },
      "execution_count": null,
      "outputs": []
    },
    {
      "cell_type": "markdown",
      "source": [
        "##### **Solution**"
      ],
      "metadata": {
        "id": "GL2dZXgz5bkb"
      }
    },
    {
      "cell_type": "code",
      "source": [
        "my_list = ['alice', 'bob', 'eve', 'mallory', 'judy']\n",
        "\n",
        "for i in range(5):\n",
        "  print(my_list[i])"
      ],
      "metadata": {
        "colab": {
          "base_uri": "https://localhost:8080/"
        },
        "outputId": "f681f10c-3ea8-450b-cc33-d480e05961cc",
        "id": "3LNkKiBI5bkb"
      },
      "execution_count": null,
      "outputs": [
        {
          "output_type": "stream",
          "name": "stdout",
          "text": [
            "alice\n",
            "bob\n",
            "eve\n",
            "mallory\n",
            "judy\n"
          ]
        }
      ]
    },
    {
      "cell_type": "markdown",
      "source": [
        "#### **Problem #1.7**\n",
        "\n",
        "Complete the code below to add every int in the list to the variable `total`."
      ],
      "metadata": {
        "id": "r8c6jmOE58A5"
      }
    },
    {
      "cell_type": "code",
      "source": [
        "nums = [1, 2, 3, 4, 5, 6, 7, 8, 9, 10, 11, 12, 13, 14, 15, 16, 17, 18, 19, 20]\n",
        "\n",
        "total = 0\n",
        "for # COMPLETE THIS CODE\n",
        "  total = total + # COMPLETE THIS CODE\n",
        "\n",
        "print(total)"
      ],
      "metadata": {
        "id": "V6lQIPDz58A8"
      },
      "execution_count": null,
      "outputs": []
    },
    {
      "cell_type": "markdown",
      "source": [
        "##### **Solution**"
      ],
      "metadata": {
        "id": "PMYEWplE58A8"
      }
    },
    {
      "cell_type": "code",
      "source": [
        "nums = [1, 2, 3, 4, 5, 6, 7, 8, 9, 10, 11, 12, 13, 14, 15, 16, 17, 18, 19, 20]\n",
        "\n",
        "total = 0\n",
        "for i in range(20):\n",
        "  total = total + nums[i]\n",
        "\n",
        "print(total)"
      ],
      "metadata": {
        "colab": {
          "base_uri": "https://localhost:8080/"
        },
        "outputId": "6e332b54-d6f6-4129-9b74-b025893680c1",
        "id": "r7y9V5hO58A8"
      },
      "execution_count": null,
      "outputs": [
        {
          "output_type": "stream",
          "name": "stdout",
          "text": [
            "210\n"
          ]
        }
      ]
    },
    {
      "cell_type": "markdown",
      "source": [
        "#### **Problem #1.8**\n",
        "\n",
        "Complete the code below to apply each gate in `gates_list` to `qubit`."
      ],
      "metadata": {
        "id": "rwfQm6rM6RQQ"
      }
    },
    {
      "cell_type": "code",
      "source": [
        "qubit = cirq.NamedQubit('q0')\n",
        "circuit = cirq.Circuit()\n",
        "\n",
        "gates_list = [cirq.X, cirq.I, cirq.Z, cirq.H]\n",
        "\n",
        "for # COMPLETE THIS CODE\n",
        "  circuit.append(gates_list[# COMPLETE THIS CODE\n",
        "\n",
        "print(circuit)"
      ],
      "metadata": {
        "id": "cd2fpsVl6RQS"
      },
      "execution_count": null,
      "outputs": []
    },
    {
      "cell_type": "markdown",
      "source": [
        "##### **Solution**"
      ],
      "metadata": {
        "id": "ne1YvQbp6RQT"
      }
    },
    {
      "cell_type": "code",
      "source": [
        "qubit = cirq.NamedQubit('q0')\n",
        "circuit = cirq.Circuit()\n",
        "\n",
        "gates_list = [cirq.X, cirq.I, cirq.Z, cirq.H]\n",
        "\n",
        "for i in range(4):\n",
        "  circuit.append(gates_list[i](qubit))\n",
        "\n",
        "print(circuit)"
      ],
      "metadata": {
        "colab": {
          "base_uri": "https://localhost:8080/"
        },
        "outputId": "94190051-ee3d-40fe-8ee1-1c720442abeb",
        "id": "9LiYdtkk6RQT"
      },
      "execution_count": null,
      "outputs": [
        {
          "output_type": "stream",
          "name": "stdout",
          "text": [
            "q0: ───X───I───Z───H───\n"
          ]
        }
      ]
    },
    {
      "cell_type": "markdown",
      "source": [
        "#### **Problem #1.9**\n",
        "\n",
        "Complete the code below to:\n",
        "* Store 20 randomly chosen gates in `gates_list`.\n",
        "* Apply each of the gates in `gates_list` to `qubit`."
      ],
      "metadata": {
        "id": "NrDdHLTL6nM0"
      }
    },
    {
      "cell_type": "code",
      "source": [
        "qubit = cirq.NamedQubit('q0')\n",
        "circuit = cirq.Circuit()\n",
        "\n",
        "gates_list = choices([cirq.X, cirq.I, cirq.Z, cirq.H], # COMPLETE THIS CODE\n",
        "\n",
        "for # COMPLETE THIS CODE\n",
        "  circuit.append(gates_list[# COMPLETE THIS CODE\n",
        "\n",
        "print(circuit)"
      ],
      "metadata": {
        "id": "OVDdDs9q6nM4"
      },
      "execution_count": null,
      "outputs": []
    },
    {
      "cell_type": "markdown",
      "source": [
        "##### **Solution**"
      ],
      "metadata": {
        "id": "zo7yT-9J6nM5"
      }
    },
    {
      "cell_type": "code",
      "source": [
        "qubit = cirq.NamedQubit('q0')\n",
        "circuit = cirq.Circuit()\n",
        "\n",
        "gates_list = choices([cirq.X, cirq.I, cirq.Z, cirq.H], k = 20)\n",
        "\n",
        "for i in range(20):\n",
        "  circuit.append(gates_list[i](qubit))\n",
        "\n",
        "print(circuit)"
      ],
      "metadata": {
        "colab": {
          "base_uri": "https://localhost:8080/"
        },
        "outputId": "0a6c7184-39c5-4221-e84e-b966363d552c",
        "id": "WteVFrZF6nM5"
      },
      "execution_count": null,
      "outputs": [
        {
          "output_type": "stream",
          "name": "stdout",
          "text": [
            "q0: ───I───Z───X───Z───H───Z───Z───X───X───H───Z───H───Z───X───H───Z───Z───I───H───H───\n"
          ]
        }
      ]
    },
    {
      "cell_type": "markdown",
      "source": [
        "#### **Problem #1.10**\n",
        "\n",
        "Complete the code below to:\n",
        "* Store 50 (`num_bits`) randomly chosen numbers from `[0, 1, 2]` in `gates_list`.\n",
        "* Apply the `i`th gate in `gates_list` to the `i`th qubit using `gates_dict` to determine which gate to use from numbers `[0, 1, 2]`."
      ],
      "metadata": {
        "id": "2ucyvymF6-qQ"
      }
    },
    {
      "cell_type": "code",
      "source": [
        "num_bits = 50\n",
        "qubits = cirq.NamedQubit.range(num_bits, prefix = 'q')\n",
        "circuit = cirq.Circuit()\n",
        "\n",
        "gates_list = choices([0, 1, 2], # COMPLETE THIS CODE\n",
        "gates_dict = {0: cirq.I, 1: cirq.X, 2: cirq.H}\n",
        "\n",
        "for i in range(num_bits):\n",
        "\n",
        "  gate_num = gates_list[# COMPLETE THIS CODE\n",
        "  gate = gates_dict[# COMPLETE THIS CODE\n",
        "  qubit = qubits[# COMPLETE THIS CODE\n",
        "  circuit.append(gate(qubit))\n",
        "\n",
        "print(circuit)"
      ],
      "metadata": {
        "id": "fdg9Owbl6-qT"
      },
      "execution_count": null,
      "outputs": []
    },
    {
      "cell_type": "markdown",
      "source": [
        "##### **Solution**"
      ],
      "metadata": {
        "id": "3tEtc-Gt6-qU"
      }
    },
    {
      "cell_type": "code",
      "source": [
        "num_bits = 50\n",
        "qubits = cirq.NamedQubit.range(num_bits, prefix = 'q')\n",
        "circuit = cirq.Circuit()\n",
        "\n",
        "gates_list = choices([0, 1, 2], k = num_bits)\n",
        "gates_dict = {0: cirq.I, 1: cirq.X, 2: cirq.H}\n",
        "\n",
        "for i in range(num_bits):\n",
        "\n",
        "  gate_num = gates_list[i]\n",
        "  gate = gates_dict[gate_num]\n",
        "  qubit = qubits[i]\n",
        "  circuit.append(gate(qubit))\n",
        "\n",
        "print(circuit)"
      ],
      "metadata": {
        "colab": {
          "base_uri": "https://localhost:8080/"
        },
        "outputId": "51db88fa-53eb-48bd-e9de-2e0cd09e4d47",
        "id": "0HpsG-Ij6-qU"
      },
      "execution_count": null,
      "outputs": [
        {
          "output_type": "stream",
          "name": "stdout",
          "text": [
            "q0: ────I───\n",
            "\n",
            "q1: ────I───\n",
            "\n",
            "q2: ────H───\n",
            "\n",
            "q3: ────H───\n",
            "\n",
            "q4: ────I───\n",
            "\n",
            "q5: ────H───\n",
            "\n",
            "q6: ────X───\n",
            "\n",
            "q7: ────X───\n",
            "\n",
            "q8: ────H───\n",
            "\n",
            "q9: ────H───\n",
            "\n",
            "q10: ───I───\n",
            "\n",
            "q11: ───X───\n",
            "\n",
            "q12: ───H───\n",
            "\n",
            "q13: ───X───\n",
            "\n",
            "q14: ───X───\n",
            "\n",
            "q15: ───I───\n",
            "\n",
            "q16: ───I───\n",
            "\n",
            "q17: ───I───\n",
            "\n",
            "q18: ───X───\n",
            "\n",
            "q19: ───H───\n",
            "\n",
            "q20: ───H───\n",
            "\n",
            "q21: ───H───\n",
            "\n",
            "q22: ───I───\n",
            "\n",
            "q23: ───X───\n",
            "\n",
            "q24: ───H───\n",
            "\n",
            "q25: ───H───\n",
            "\n",
            "q26: ───X───\n",
            "\n",
            "q27: ───X───\n",
            "\n",
            "q28: ───X───\n",
            "\n",
            "q29: ───H───\n",
            "\n",
            "q30: ───X───\n",
            "\n",
            "q31: ───I───\n",
            "\n",
            "q32: ───H───\n",
            "\n",
            "q33: ───I───\n",
            "\n",
            "q34: ───X───\n",
            "\n",
            "q35: ───H───\n",
            "\n",
            "q36: ───H───\n",
            "\n",
            "q37: ───X───\n",
            "\n",
            "q38: ───I───\n",
            "\n",
            "q39: ───I───\n",
            "\n",
            "q40: ───X───\n",
            "\n",
            "q41: ───H───\n",
            "\n",
            "q42: ───I───\n",
            "\n",
            "q43: ───H───\n",
            "\n",
            "q44: ───H───\n",
            "\n",
            "q45: ───I───\n",
            "\n",
            "q46: ───I───\n",
            "\n",
            "q47: ───I───\n",
            "\n",
            "q48: ───X───\n",
            "\n",
            "q49: ───I───\n"
          ]
        }
      ]
    },
    {
      "cell_type": "markdown",
      "source": [
        "<a name=\"p2\"></a>\n",
        "\n",
        "---\n",
        "## **Part 2: Implementing BB84 in Python**\n",
        "---\n",
        "\n",
        "The entire BB84 protocol between Alice and Bob is implemented below. In this part, you will interpret and adjust the code in order to understand it more deeply."
      ],
      "metadata": {
        "id": "yh-igDInH7bA"
      }
    },
    {
      "cell_type": "markdown",
      "source": [
        "<a name=\"p2.1\"></a>\n",
        "\n",
        "---\n",
        "### **Part 2.1: The Protocol**\n",
        "---\n",
        "\n",
        "The entire BB84 protocol between Alice and Bob is implemented below."
      ],
      "metadata": {
        "id": "MiiuFV_ZRkY-"
      }
    },
    {
      "cell_type": "markdown",
      "source": [
        "#### **The Setup**"
      ],
      "metadata": {
        "id": "GNovMdq2Ka2U"
      }
    },
    {
      "cell_type": "code",
      "source": [
        "encode_gates = {0: cirq.I, 1: cirq.X}\n",
        "basis_gates = {'Z': cirq.I, 'X': cirq.H}\n",
        "\n",
        "num_bits = 5\n",
        "qubits = cirq.NamedQubit.range(num_bits, prefix = 'q')"
      ],
      "metadata": {
        "id": "Z-as_utDINfN"
      },
      "execution_count": null,
      "outputs": []
    },
    {
      "cell_type": "markdown",
      "source": [
        "#### **Phase #1: Alice Sends**"
      ],
      "metadata": {
        "id": "RGNVXnRsVJPw"
      }
    },
    {
      "cell_type": "code",
      "source": [
        "# Step #1\n",
        "alice_key = choices([0, 1], k = num_bits)\n",
        "\n",
        "print('Alice\\'s initial key: ', alice_key)\n",
        "\n",
        "# Step #2\n",
        "alice_bases = choices(['Z', 'X'], k = num_bits)\n",
        "\n",
        "print('\\nAlice\\'s randomly chosen bases: ', alice_bases)\n",
        "\n",
        "# Step #3\n",
        "alice_circuit = cirq.Circuit()\n",
        "\n",
        "for bit in range(num_bits):\n",
        "\n",
        "  encode_value = alice_key[bit]\n",
        "  encode_gate = encode_gates[encode_value]\n",
        "\n",
        "  basis_value = alice_bases[bit]\n",
        "  basis_gate = basis_gates[basis_value]\n",
        "\n",
        "  qubit = qubits[bit]\n",
        "  alice_circuit.append(encode_gate(qubit))\n",
        "  alice_circuit.append(basis_gate(qubit))\n",
        "\n",
        "print('\\nAlice\\'s Phase 1 circuit:\\n', alice_circuit)"
      ],
      "metadata": {
        "colab": {
          "base_uri": "https://localhost:8080/"
        },
        "id": "7P4Sdmj9IKwl",
        "outputId": "de0ca305-c9b4-418b-b16a-2a7f549e9921"
      },
      "execution_count": null,
      "outputs": [
        {
          "output_type": "stream",
          "name": "stdout",
          "text": [
            "Alice's initial key:  [0, 0, 1, 0, 0]\n",
            "\n",
            "Alice's randomly chosen bases:  ['Z', 'X', 'Z', 'Z', 'Z']\n",
            "\n",
            "Alice's Phase 1 circuit:\n",
            " q0: ───I───I───\n",
            "\n",
            "q1: ───I───H───\n",
            "\n",
            "q2: ───X───I───\n",
            "\n",
            "q3: ───I───I───\n",
            "\n",
            "q4: ───I───I───\n"
          ]
        }
      ]
    },
    {
      "cell_type": "markdown",
      "source": [
        "#### **Phase #2: Bob Receives**"
      ],
      "metadata": {
        "id": "xgI3jrfAIEv5"
      }
    },
    {
      "cell_type": "code",
      "source": [
        "# Step #4\n",
        "# No code required for this Step\n",
        "\n",
        "\n",
        "# Step #5\n",
        "bob_bases = choices(['Z', 'X'], k = num_bits)\n",
        "print('Bob\\'s randomly chosen bases: ', bob_bases)\n",
        "\n",
        "bob_circuit = cirq.Circuit()\n",
        "\n",
        "for bit in range(num_bits):\n",
        "\n",
        "  basis_value = bob_bases[bit]\n",
        "  basis_gate = basis_gates[basis_value]\n",
        "\n",
        "  qubit = qubits[bit]\n",
        "  bob_circuit.append(basis_gate(qubit))\n",
        "\n",
        "\n",
        "# Step #6\n",
        "bob_circuit.append(cirq.measure(qubits, key = 'bob key'))\n",
        "\n",
        "print('\\nBob\\'s Phase 2 circuit:\\n', bob_circuit)\n",
        "\n",
        "\n",
        "# Step #7\n",
        "bb84_circuit = alice_circuit + bob_circuit\n",
        "\n",
        "sim = cirq.Simulator()\n",
        "results = sim.run(bb84_circuit)\n",
        "bob_key = results.measurements['bob key'][0]\n",
        "\n",
        "print('\\nBob\\'s initial key: ', bob_key)"
      ],
      "metadata": {
        "colab": {
          "base_uri": "https://localhost:8080/"
        },
        "id": "dDAMtTtEI0bq",
        "outputId": "1da04547-e52e-4270-f148-ab63d4797a9c"
      },
      "execution_count": null,
      "outputs": [
        {
          "output_type": "stream",
          "name": "stdout",
          "text": [
            "Bob's randomly chosen bases:  ['Z', 'X', 'Z', 'X', 'Z']\n",
            "\n",
            "Bob's Phase 2 circuit:\n",
            " q0: ───I───M('bob key')───\n",
            "           │\n",
            "q1: ───H───M──────────────\n",
            "           │\n",
            "q2: ───I───M──────────────\n",
            "           │\n",
            "q3: ───H───M──────────────\n",
            "           │\n",
            "q4: ───I───M──────────────\n",
            "\n",
            "Bob's initial key:  [0 0 1 0 0]\n"
          ]
        }
      ]
    },
    {
      "cell_type": "markdown",
      "source": [
        "#### **Phase #3: Alice and Bob Compare**"
      ],
      "metadata": {
        "id": "zRSajhVHIE1E"
      }
    },
    {
      "cell_type": "code",
      "source": [
        "# Step #8\n",
        "final_alice_key = []\n",
        "final_bob_key = []\n",
        "\n",
        "for bit in range(num_bits):\n",
        "\n",
        "  if alice_bases[bit] == bob_bases[bit]:\n",
        "    final_alice_key.append(alice_key[bit])\n",
        "    final_bob_key.append(bob_key[bit])\n",
        "\n",
        "print('\\nAlice\\'s key: ', final_alice_key)\n",
        "print('Bob\\'s key: ', final_bob_key)\n",
        "\n",
        "\n",
        "# Step #9\n",
        "if final_alice_key[0] == final_bob_key[0]:\n",
        "  final_alice_key = final_alice_key[1:]\n",
        "  final_bob_key = final_bob_key[1:]\n",
        "\n",
        "  print('\\n\\nWe can use our keys!')\n",
        "  print('Alice Key: ', final_alice_key)\n",
        "  print('Bob Key: ', final_bob_key)\n",
        "\n",
        "else:\n",
        "  print('\\n\\nEve was listening, we need to use a different channel!')"
      ],
      "metadata": {
        "colab": {
          "base_uri": "https://localhost:8080/"
        },
        "id": "n_Ud7Z0WI1Sn",
        "outputId": "5e9d61d8-e398-4d01-bd30-ece45f574ffe"
      },
      "execution_count": null,
      "outputs": [
        {
          "output_type": "stream",
          "name": "stdout",
          "text": [
            "\n",
            "Alice's key:  [0, 0, 1, 0]\n",
            "Bob's key:  [0, 0, 1, 0]\n",
            "\n",
            "\n",
            "We can use our keys!\n",
            "Alice Key:  [0, 1, 0]\n",
            "Bob Key:  [0, 1, 0]\n"
          ]
        }
      ]
    },
    {
      "cell_type": "markdown",
      "source": [
        "<a name=\"p2.2\"></a>\n",
        "\n",
        "---\n",
        "### **Part 2.2: Modifying the Protocol**\n",
        "---\n",
        "\n",
        "This part, you will run and modify the code in Part 2.1 in order to understand the protocol more deeply."
      ],
      "metadata": {
        "id": "EKCRjD4PRpX1"
      }
    },
    {
      "cell_type": "markdown",
      "source": [
        "#### **Problem #2.1**\n",
        "\n",
        "Run all the code above to perform the BB84 protocol as given. Answer the following questions in the multiple choice questions for this week's homework quiz:\n",
        "\n",
        "* What is the smallest possible key this code can produce after performing all 9 steps?\n",
        "\n",
        "* What is the largest possible key this code can produce after performing all 9 steps?"
      ],
      "metadata": {
        "id": "7eh-YvvqKp2P"
      }
    },
    {
      "cell_type": "markdown",
      "source": [
        "##### **Solution**\n",
        "\n",
        "* The smallest possible key would be 0 bits if they got really unlucky and guessed completely different bases.\n",
        "\n",
        "* The largest possible key would be 4 bits if they got really lucky and guessed completely identical bases. Importantly they would still need to compare (at least) 1 bit to ensure Eve hasn't intercepted so they could never have 5 bits starting with a 5 bit key."
      ],
      "metadata": {
        "id": "jv1wXvT8R4Xg"
      }
    },
    {
      "cell_type": "markdown",
      "source": [
        "#### **Problem #2.2**\n",
        "\n",
        "Now, modify the code above so that Alice creates an initial key that is 100 instead of 5 bits long. Then run the entire protocol again.\n",
        "\n",
        "<br>\n",
        "\n",
        "**Hint**: There is only one line of code that actually needs to change."
      ],
      "metadata": {
        "id": "E3zA192MLHxl"
      }
    },
    {
      "cell_type": "markdown",
      "source": [
        "##### **Solution**\n",
        "\n",
        "This is just a matter of adjusting the `num_bits` parameter in The Setup."
      ],
      "metadata": {
        "id": "wK6JElBBSbOm"
      }
    },
    {
      "cell_type": "markdown",
      "source": [
        "#### **Problem #2.3**\n",
        "\n",
        "The BB84 protocol instructs Alice to encode the bits of her key into qubits as 0s and 1s first and then encode them into the Z or X bases.\n",
        "\n",
        "<br>\n",
        "\n",
        "**Modify the code in Phase #1 so that Alice encodes her qubits in the opposite order, in other words into the Z or X bases *before* encoding the bits of her key as 0s or 1s.** Then answer the associated multiple choice question in this week's homework quiz.\n",
        "\n",
        "<br>\n",
        "\n",
        "**NOTE**: Make sure you undo any changes from this Problem before moving on."
      ],
      "metadata": {
        "id": "jSyNDQOFLYxO"
      }
    },
    {
      "cell_type": "markdown",
      "source": [
        "##### **Solution**\n",
        "\n",
        "This is the resulting code. It just requires the last two lines in the loop to be swapped."
      ],
      "metadata": {
        "id": "KOxIIJydSisu"
      }
    },
    {
      "cell_type": "code",
      "source": [
        "# Step #1\n",
        "alice_key = choices([0, 1], k = num_bits)\n",
        "\n",
        "print('Alice\\'s initial key: ', alice_key)\n",
        "\n",
        "# Step #2\n",
        "alice_bases = choices(['Z', 'X'], k = num_bits)\n",
        "\n",
        "print('\\nAlice\\'s randomly chosen bases: ', alice_bases)\n",
        "\n",
        "# Step #3\n",
        "alice_circuit = cirq.Circuit()\n",
        "\n",
        "for bit in range(num_bits):\n",
        "\n",
        "  encode_value = alice_key[bit]\n",
        "  encode_gate = encode_gates[encode_value]\n",
        "\n",
        "  basis_value = alice_bases[bit]\n",
        "  basis_gate = basis_gates[basis_value]\n",
        "\n",
        "  qubit = qubits[bit]\n",
        "  alice_circuit.append(basis_gate(qubit))\n",
        "  alice_circuit.append(encode_gate(qubit))\n",
        "\n",
        "print('\\nAlice\\'s Phase 1 circuit:\\n', alice_circuit)"
      ],
      "metadata": {
        "id": "B-CyDbXPSpKv"
      },
      "execution_count": null,
      "outputs": []
    },
    {
      "cell_type": "markdown",
      "source": [
        "#### **Problem #2.4**\n",
        "\n",
        "In Phases #1 - 2, we create two separate circuits: one for Alice's Steps and one for Bob's Steps.\n",
        "\n",
        "<br>\n",
        "\n",
        "This is not *strictly* necessary, so now **modify the code in Phase #2 so that Bob's steps are appended to `alice_circuit` instead of creating a new circuit.** Then answer the associated multiple choice question in this week's homework quiz.\n",
        "\n",
        "\n",
        "<br>\n",
        "\n",
        "**NOTE**: Make sure you undo any changes from this Problem before moving on. It may be easier to write your solution in a separate code cell rather than modify the code provided."
      ],
      "metadata": {
        "id": "0qB2_cXtNqH4"
      }
    },
    {
      "cell_type": "markdown",
      "source": [
        "##### **Solution**\n",
        "\n",
        "This is the resulting code. The parts that need to be removed have been commented out so that you can more easily compare these two versions."
      ],
      "metadata": {
        "id": "jj2j4SBPSw46"
      }
    },
    {
      "cell_type": "code",
      "source": [
        "# Step #4\n",
        "# No code required for this Step\n",
        "\n",
        "\n",
        "# Step #5\n",
        "bob_bases = choices(['Z', 'X'], k = num_bits)\n",
        "print('Bob\\'s randomly chosen bases: ', bob_bases)\n",
        "\n",
        "# bob_circuit = cirq.Circuit()\n",
        "\n",
        "for bit in range(num_bits):\n",
        "\n",
        "  basis_value = bob_bases[bit]\n",
        "  basis_gate = basis_gates[basis_value]\n",
        "\n",
        "  qubit = qubits[bit]\n",
        "  #bob_circuit.append(basis_gate(qubit))\n",
        "  alice_circuit.append(basis_gate(qubit))\n",
        "\n",
        "\n",
        "# Step #6\n",
        "#bob_circuit.append(cirq.measure(qubits, key = 'bob key'))\n",
        "alice_circuit.append(cirq.measure(qubits, key = 'bob key'))\n",
        "\n",
        "#print('\\nBob\\'s Phase 2 circuit:\\n', bob_circuit)\n",
        "\n",
        "\n",
        "# Step #7\n",
        "bb84_circuit = alice_circuit# + bob_circuit\n",
        "\n",
        "sim = cirq.Simulator()\n",
        "results = sim.run(bb84_circuit)\n",
        "bob_key = results.measurements['bob key'][0]\n",
        "\n",
        "print('\\nBob\\'s initial key: ', bob_key)"
      ],
      "metadata": {
        "id": "Jl0YDtmlSw5E"
      },
      "execution_count": null,
      "outputs": []
    },
    {
      "cell_type": "markdown",
      "source": [
        "#### **Problem #2.5**\n",
        "\n",
        "In Phase #3, Alice and Bob compare some of their key bits to ensure they actually agree. Currently, they just compare the very first bit of their keys.\n",
        "\n",
        "<br>\n",
        "\n",
        "**Modify the code in Phase #3 so that Alice and Bob compare the first two bits instead of just one.** Then answer the associated multiple choice question in this week's homework quiz."
      ],
      "metadata": {
        "id": "xjyQkr5rN0QA"
      }
    },
    {
      "cell_type": "markdown",
      "source": [
        "##### **Solution**"
      ],
      "metadata": {
        "id": "gPohLh04TELi"
      }
    },
    {
      "cell_type": "code",
      "source": [
        "# Step #8\n",
        "final_alice_key = []\n",
        "final_bob_key = []\n",
        "\n",
        "for bit in range(num_bits):\n",
        "\n",
        "  if alice_bases[bit] == bob_bases[bit]:\n",
        "    final_alice_key.append(alice_key[bit])\n",
        "    final_bob_key.append(bob_key[bit])\n",
        "\n",
        "print('\\nAlice\\'s key: ', final_alice_key)\n",
        "print('Bob\\'s key: ', final_bob_key)\n",
        "\n",
        "\n",
        "# Step #9\n",
        "if final_alice_key[0:2] == final_bob_key[0:2]:\n",
        "  final_alice_key = final_alice_key[2:]\n",
        "  final_bob_key = final_bob_key[2:]\n",
        "\n",
        "  print('\\n\\nWe can use our keys!')\n",
        "  print('Alice Key: ', final_alice_key)\n",
        "  print('Bob Key: ', final_bob_key)\n",
        "\n",
        "else:\n",
        "  print('\\n\\nEve was listening, we need to use a different channel!')"
      ],
      "metadata": {
        "colab": {
          "base_uri": "https://localhost:8080/"
        },
        "id": "0B46NXcqTEpT",
        "outputId": "f5119ded-35a4-482e-a60b-be1ea1d42504"
      },
      "execution_count": null,
      "outputs": [
        {
          "output_type": "stream",
          "name": "stdout",
          "text": [
            "\n",
            "Alice's key:  [0, 0, 1, 0]\n",
            "Bob's key:  [0, 0, 1, 0]\n",
            "\n",
            "\n",
            "We can use our keys!\n",
            "Alice Key:  [1, 0]\n",
            "Bob Key:  [1, 0]\n"
          ]
        }
      ]
    },
    {
      "cell_type": "markdown",
      "metadata": {
        "id": "7dzC09dLlEhm"
      },
      "source": [
        "# End of Notebook\n",
        "\n",
        "---\n",
        "© 2023 The Coding School, All rights reserved"
      ]
    }
  ]
}