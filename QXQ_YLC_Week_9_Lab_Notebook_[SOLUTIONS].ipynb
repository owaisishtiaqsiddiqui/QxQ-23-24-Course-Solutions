{
  "nbformat": 4,
  "nbformat_minor": 0,
  "metadata": {
    "colab": {
      "provenance": [],
      "collapsed_sections": [
        "-gcKN3urnNzM",
        "WhN3YDLcoRZ-",
        "fSyERSlio2Ck",
        "OhOWk0a3pgPH",
        "MGFjmrLXpNBT",
        "j_oQUCEurFWJ",
        "VpodXuLRrZJb",
        "66g5NwNwtkNG",
        "P1wXiVuosSYJ",
        "_WTXYVEosSYU",
        "--rBdSK4s70n"
      ],
      "include_colab_link": true
    },
    "kernelspec": {
      "name": "python3",
      "display_name": "Python 3"
    },
    "language_info": {
      "name": "python"
    }
  },
  "cells": [
    {
      "cell_type": "markdown",
      "metadata": {
        "id": "view-in-github",
        "colab_type": "text"
      },
      "source": [
        "<a href=\"https://colab.research.google.com/github/owaisishtiaqsiddiqui/QxQ-23-24-Course-Solutions/blob/main/QXQ_YLC_Week_9_Lab_Notebook_%5BSOLUTIONS%5D.ipynb\" target=\"_parent\"><img src=\"https://colab.research.google.com/assets/colab-badge.svg\" alt=\"Open In Colab\"/></a>"
      ]
    },
    {
      "cell_type": "markdown",
      "metadata": {
        "id": "EN-xuGnTAFTS"
      },
      "source": [
        "# **Lab 9: Ιmplementing BB84 - Part I**\n",
        "---\n",
        "\n",
        "### **Description**\n",
        "In today's lab, you will learn how to implement the BB84 protocol between Alice and Bob using cirq.\n",
        "\n",
        "<br>\n",
        "\n",
        "### **Lab Structure**\n",
        "**Part 1**: [Learning the Tools](#p1)\n",
        ">\n",
        "> **Part 1.1**: [Python's `choices(...)`](#p1.1)\n",
        ">\n",
        "> **Part 1.2**: [Python Dictionaries](#p1.2)\n",
        ">\n",
        "> **Part 1.3**: [Python Loops](#p1.3)\n",
        "\n",
        "**Part 2**: [Implementing BB84 in Python](#p2)\n",
        ">\n",
        "> **Part 2.1**: [The Set Up](#p2.1)\n",
        ">\n",
        "> **Part 2.2**: [Implementing the Steps](#p2.2)\n",
        "\n",
        "\n",
        "<br>\n",
        "\n",
        "### **Learning Objectives**\n",
        "By the end of this lab, you will:\n",
        "* Recognize how to use three useful python tools: the choices function, dictionaries, and loops.\n",
        "\n",
        "* Recognize how to implement the steps of BB84 between Alice and Bob using cirq.\n",
        "\n",
        "<br>\n",
        "\n",
        "### **Resources**\n",
        "* [BB84 Cheat Sheet](https://docs.google.com/document/d/1FTBVWQsRVPvuP5e4lo3D62F0NOyfA1qIIPrDnocV6nc/edit)\n",
        "\n",
        "<br>\n",
        "\n",
        "**Before starting, run the code below to import all necessary functions and libraries.**"
      ]
    },
    {
      "cell_type": "code",
      "execution_count": null,
      "metadata": {
        "id": "K96jXNozAFTW"
      },
      "outputs": [],
      "source": [
        "!pip install cirq --quiet\n",
        "import cirq\n",
        "\n",
        "from random import choices"
      ]
    },
    {
      "cell_type": "markdown",
      "source": [
        "<a name=\"p1\"></a>\n",
        "\n",
        "---\n",
        "## **Part 1: Learning the Tools**\n",
        "---"
      ],
      "metadata": {
        "id": "rNi7Xem-m6Zu"
      }
    },
    {
      "cell_type": "markdown",
      "source": [
        "<a name=\"p1.1\"></a>\n",
        "\n",
        "---\n",
        "### **Part 1.1: Python's `choices(...)`**\n",
        "---"
      ],
      "metadata": {
        "id": "iXnPe2LYm-93"
      }
    },
    {
      "cell_type": "markdown",
      "source": [
        "#### **Problem #1.1.1**\n",
        "\n",
        "**Together**, let's practice with the `choices(...)` function to create a list of 5 elements that are `'apple'`, `'orange'`, or `'banana'`."
      ],
      "metadata": {
        "id": "-gcKN3urnNzM"
      }
    },
    {
      "cell_type": "code",
      "source": [
        "choices(['apple', 'orange', 'banana'], k = # COMPLETE THIS LINE"
      ],
      "metadata": {
        "id": "sklmUPYHndTr"
      },
      "execution_count": null,
      "outputs": []
    },
    {
      "cell_type": "markdown",
      "source": [
        "##### **Solution**"
      ],
      "metadata": {
        "id": "tfo4OTH0ndrc"
      }
    },
    {
      "cell_type": "code",
      "source": [
        "choices(['apple', 'orange', 'banana'], k = 5)"
      ],
      "metadata": {
        "colab": {
          "base_uri": "https://localhost:8080/"
        },
        "id": "6FTg7rRNmgT4",
        "outputId": "ca74d08a-9e1f-4ff1-86b7-b56a77392161"
      },
      "execution_count": null,
      "outputs": [
        {
          "output_type": "execute_result",
          "data": {
            "text/plain": [
              "['banana', 'orange', 'banana', 'banana', 'banana']"
            ]
          },
          "metadata": {},
          "execution_count": 139
        }
      ]
    },
    {
      "cell_type": "markdown",
      "source": [
        "#### **Problem #1.1.2**\n",
        "\n",
        "**Together**, let's practice with the `choices(...)` function to create a list of 15 elements that are either `0` or `1`."
      ],
      "metadata": {
        "id": "zxCsyeptnhHn"
      }
    },
    {
      "cell_type": "code",
      "source": [
        "choices([# COMPLETE THIS LINE"
      ],
      "metadata": {
        "id": "RYzXXB3vnhHo"
      },
      "execution_count": null,
      "outputs": []
    },
    {
      "cell_type": "markdown",
      "source": [
        "##### **Solution**"
      ],
      "metadata": {
        "id": "B5tx3w-HnhHo"
      }
    },
    {
      "cell_type": "code",
      "source": [
        "choices([0, 1], k = 15)"
      ],
      "metadata": {
        "colab": {
          "base_uri": "https://localhost:8080/"
        },
        "outputId": "8a9a6543-d59c-4fb8-8b5b-09c151c7c743",
        "id": "oCRUek-NnhHo"
      },
      "execution_count": null,
      "outputs": [
        {
          "output_type": "execute_result",
          "data": {
            "text/plain": [
              "[0, 1, 1, 0, 1, 1, 0, 0, 0, 0, 0, 1, 1, 1, 1]"
            ]
          },
          "metadata": {},
          "execution_count": 140
        }
      ]
    },
    {
      "cell_type": "markdown",
      "source": [
        "#### **Problem #1.1.3**\n",
        "\n",
        "**Independently**, practice with the `choices(...)` function to create a list of 3 elements that are either `0` or `1`."
      ],
      "metadata": {
        "id": "BRLg81j8nsDT"
      }
    },
    {
      "cell_type": "code",
      "source": [
        "choices([# COMPLETE THIS LINE"
      ],
      "metadata": {
        "id": "7wB_gbL1nsDg"
      },
      "execution_count": null,
      "outputs": []
    },
    {
      "cell_type": "markdown",
      "source": [
        "##### **Solution**"
      ],
      "metadata": {
        "id": "eKpDUOz9nsDg"
      }
    },
    {
      "cell_type": "code",
      "source": [
        "choices([0, 1], k = 3)"
      ],
      "metadata": {
        "colab": {
          "base_uri": "https://localhost:8080/"
        },
        "outputId": "1e5d1957-278b-4cbd-abd8-b1be3dd0b4df",
        "id": "FKGsY_mKnsDh"
      },
      "execution_count": null,
      "outputs": [
        {
          "output_type": "execute_result",
          "data": {
            "text/plain": [
              "[0, 1, 1]"
            ]
          },
          "metadata": {},
          "execution_count": 141
        }
      ]
    },
    {
      "cell_type": "markdown",
      "source": [
        "#### **Problem #1.1.4**\n",
        "\n",
        "**Independently**, practice with the `choices(...)` function to create a list of 10 elements that are either `'Z'` or `'H'`."
      ],
      "metadata": {
        "id": "pdbdG7Dnn7jr"
      }
    },
    {
      "cell_type": "code",
      "source": [
        "# COMPLETE THIS LINE"
      ],
      "metadata": {
        "id": "BzD8JJoMn7j3"
      },
      "execution_count": null,
      "outputs": []
    },
    {
      "cell_type": "markdown",
      "source": [
        "##### **Solution**"
      ],
      "metadata": {
        "id": "P5a_dyo2n7j3"
      }
    },
    {
      "cell_type": "code",
      "source": [
        "choices(['Z', 'X'], k = 3)"
      ],
      "metadata": {
        "colab": {
          "base_uri": "https://localhost:8080/"
        },
        "outputId": "260b2e6e-6d80-416b-84ef-a62438edb824",
        "id": "ToNeWPUrn7j3"
      },
      "execution_count": null,
      "outputs": [
        {
          "output_type": "execute_result",
          "data": {
            "text/plain": [
              "['X', 'Z', 'Z']"
            ]
          },
          "metadata": {},
          "execution_count": 142
        }
      ]
    },
    {
      "cell_type": "markdown",
      "source": [
        "#### **Problem #1.1.5**\n",
        "\n",
        "**Independently**, practice with the `choices(...)` function to create a list of 5 elements that are either `cirq.X` or `cirq.H`."
      ],
      "metadata": {
        "id": "sbI0JHnYoEMx"
      }
    },
    {
      "cell_type": "code",
      "source": [
        "# COMPLETE THIS LINE"
      ],
      "metadata": {
        "id": "vixbjn3ioEM-"
      },
      "execution_count": null,
      "outputs": []
    },
    {
      "cell_type": "markdown",
      "source": [
        "##### **Solution**"
      ],
      "metadata": {
        "id": "KPE0WxhHoEM-"
      }
    },
    {
      "cell_type": "code",
      "source": [
        "choices([cirq.X, cirq.H], k = 5)"
      ],
      "metadata": {
        "colab": {
          "base_uri": "https://localhost:8080/"
        },
        "outputId": "61ed4152-1644-41b0-bc64-0711a24ea26d",
        "id": "dzGKX52UoEM-"
      },
      "execution_count": null,
      "outputs": [
        {
          "output_type": "execute_result",
          "data": {
            "text/plain": [
              "[cirq.X, cirq.X, cirq.X, cirq.X, cirq.X]"
            ]
          },
          "metadata": {},
          "execution_count": 145
        }
      ]
    },
    {
      "cell_type": "markdown",
      "source": [
        "<a name=\"p1.2\"></a>\n",
        "\n",
        "---\n",
        "### **Part 1.2: Python Dictionaries**\n",
        "---"
      ],
      "metadata": {
        "id": "cDo1kBZSnEYc"
      }
    },
    {
      "cell_type": "markdown",
      "source": [
        "#### **Problem #1.2.1**\n",
        "\n",
        "**Together**, let's create a dictionary called `fruit_shapes` with the following key, value pairs:\n",
        "\n",
        "* `'apple'`: `'round'`\n",
        "* `'orange'`: `'round'`\n",
        "* `'banana'`: `'not round'`\n",
        "\n",
        "<br>\n",
        "\n",
        "Print the value of the `'bananas'` element."
      ],
      "metadata": {
        "id": "WhN3YDLcoRZ-"
      }
    },
    {
      "cell_type": "code",
      "source": [
        "fruit_shapes = {'apple': 'round', 'orange': 'round', 'banana': 'not round'}\n",
        "fruit_shapes[# COMPLETE THIS CODEE"
      ],
      "metadata": {
        "id": "EZT3MCACoRZ_"
      },
      "execution_count": null,
      "outputs": []
    },
    {
      "cell_type": "markdown",
      "source": [
        "##### **Solution**"
      ],
      "metadata": {
        "id": "jhWBYjEeoRZ_"
      }
    },
    {
      "cell_type": "code",
      "source": [
        "fruit_shapes = {'apple': 'round', 'orange': 'round', 'banana': 'not round'}\n",
        "fruit_shapes['banana']"
      ],
      "metadata": {
        "colab": {
          "base_uri": "https://localhost:8080/",
          "height": 35
        },
        "outputId": "08639a17-85a2-4b71-f764-2d7df82b58ef",
        "id": "PKd59YBCoRZ_"
      },
      "execution_count": null,
      "outputs": [
        {
          "output_type": "execute_result",
          "data": {
            "text/plain": [
              "'not round'"
            ],
            "application/vnd.google.colaboratory.intrinsic+json": {
              "type": "string"
            }
          },
          "metadata": {},
          "execution_count": 147
        }
      ]
    },
    {
      "cell_type": "markdown",
      "source": [
        "#### **Problem #1.2.2**\n",
        "\n",
        "**Together**, let's create a dictionary called `encode_gates` with the following key, value pairs:\n",
        "\n",
        "* `0`: `cirq.I` (**NOTE**: this is the \"identity\" gate, which is equivalent to doing nothing)\n",
        "* `1`: `cirq.X`\n",
        "\n",
        "<br>\n",
        "\n",
        "Print the value of the `1` element."
      ],
      "metadata": {
        "id": "fSyERSlio2Ck"
      }
    },
    {
      "cell_type": "code",
      "source": [
        "encode_gates = {0: cirq.I, # COMPLETE THIS CODE\n",
        "encode_gates[# COMPLETE THIS CODE"
      ],
      "metadata": {
        "id": "ECkMz_Lno2Cl"
      },
      "execution_count": null,
      "outputs": []
    },
    {
      "cell_type": "markdown",
      "source": [
        "##### **Solution**"
      ],
      "metadata": {
        "id": "k-lbePVRo2Cl"
      }
    },
    {
      "cell_type": "code",
      "source": [
        "encode_gates = {0: cirq.I, 1: cirq.X}\n",
        "encode_gates[1]"
      ],
      "metadata": {
        "colab": {
          "base_uri": "https://localhost:8080/"
        },
        "outputId": "6f58ec32-e822-4331-9102-7309e87a1be8",
        "id": "oY1Jvt3vo2Cl"
      },
      "execution_count": null,
      "outputs": [
        {
          "output_type": "execute_result",
          "data": {
            "text/plain": [
              "cirq.X"
            ]
          },
          "metadata": {},
          "execution_count": 148
        }
      ]
    },
    {
      "cell_type": "markdown",
      "source": [
        "#### **Problem #1.2.3**\n",
        "\n",
        "**Independently**, create a dictionary called `planet_sizes` with the following key, value pairs:\n",
        "\n",
        "* `'mercury'`: `2440`\n",
        "* `'venus'`: `6052`\n",
        "* `'earth'`: `6371`\n",
        "* `'mars'`: `3390`\n",
        "* `'jupiter'`: `69911`\n",
        "* `'saturn'`: `58232`\n",
        "* `'uranus'`: `25362`\n",
        "* `'neptune'`: `24622`\n",
        "\n",
        "\n",
        "<br>\n",
        "\n",
        "Print the values of the `'earth'` element and the `'neptune'` element."
      ],
      "metadata": {
        "id": "OhOWk0a3pgPH"
      }
    },
    {
      "cell_type": "code",
      "source": [
        "planet_sizes = {\n",
        "    'mercury': 2440,\n",
        "    'venus': 6052,\n",
        "    'earth': 6371,\n",
        "    'mars': 3390,\n",
        "# COMPLETE THIS CODE\n",
        "\n",
        "print(planet_size['earth'])\n",
        "print(planet_size['neptune'])"
      ],
      "metadata": {
        "id": "TmGGl3Z4pgPT"
      },
      "execution_count": null,
      "outputs": []
    },
    {
      "cell_type": "markdown",
      "source": [
        "##### **Solution**"
      ],
      "metadata": {
        "id": "w1XF91cVpgPT"
      }
    },
    {
      "cell_type": "code",
      "source": [
        "planet_sizes = {\n",
        "    'mercury': 2440,\n",
        "    'venus': 6052,\n",
        "    'earth': 6371,\n",
        "    'mars': 3390,\n",
        "    'jupiter': 69911,\n",
        "    'saturn': 58232,\n",
        "    'uranus': 25362,\n",
        "    'neptune': 24622}\n",
        "\n",
        "print(planet_size['earth'])\n",
        "print(planet_size['neptune'])"
      ],
      "metadata": {
        "colab": {
          "base_uri": "https://localhost:8080/"
        },
        "outputId": "d86d3efa-eb2d-420b-f9d2-09523da61bd1",
        "id": "qsHh1qshpgPT"
      },
      "execution_count": null,
      "outputs": [
        {
          "output_type": "stream",
          "name": "stdout",
          "text": [
            "6371\n",
            "24622\n"
          ]
        }
      ]
    },
    {
      "cell_type": "markdown",
      "source": [
        "#### **Problem #1.2.4**\n",
        "\n",
        "**Independently**, create a dictionary called `basis_gates` with the following key, value pairs:\n",
        "\n",
        "* `'Z'`: `cirq.I`\n",
        "* `'X'`: `cirq.H`\n",
        "\n",
        "<br>\n",
        "\n",
        "Print the value of the `'X'` element."
      ],
      "metadata": {
        "id": "MGFjmrLXpNBT"
      }
    },
    {
      "cell_type": "code",
      "source": [
        "# COMPLETE THIS CODE"
      ],
      "metadata": {
        "id": "9gz5vLx8pNBg"
      },
      "execution_count": null,
      "outputs": []
    },
    {
      "cell_type": "markdown",
      "source": [
        "##### **Solution**"
      ],
      "metadata": {
        "id": "DYLw58M9pNBg"
      }
    },
    {
      "cell_type": "code",
      "source": [
        "basis_gates = {'Z': cirq.I, 'X': cirq.H}\n",
        "basis_gates['X']"
      ],
      "metadata": {
        "colab": {
          "base_uri": "https://localhost:8080/"
        },
        "outputId": "8ae13da9-afde-44a0-be14-91f9d36a57ea",
        "id": "um63QhXipNBg"
      },
      "execution_count": null,
      "outputs": [
        {
          "output_type": "execute_result",
          "data": {
            "text/plain": [
              "cirq.H"
            ]
          },
          "metadata": {},
          "execution_count": 149
        }
      ]
    },
    {
      "cell_type": "markdown",
      "source": [
        "<a name=\"p1.3\"></a>\n",
        "\n",
        "---\n",
        "### **Part 1.3: Python Loops**\n",
        "---"
      ],
      "metadata": {
        "id": "duc2YGgGnIQQ"
      }
    },
    {
      "cell_type": "markdown",
      "source": [
        "#### **Problem #1.3.1**\n",
        "\n",
        "**Together**, let's add one to each element of the provided list using a loop.\n",
        "\n",
        "<br>\n",
        "\n",
        "Print the list in the end."
      ],
      "metadata": {
        "id": "j_oQUCEurFWJ"
      }
    },
    {
      "cell_type": "code",
      "source": [
        "my_list = [0, 2, 4, 6]\n",
        "\n",
        "for i in range(4):\n",
        "  my_list[i] = # COMPLETE THIS LINE\n",
        "\n",
        "print(my_list)"
      ],
      "metadata": {
        "id": "naQwfwJorFWT"
      },
      "execution_count": null,
      "outputs": []
    },
    {
      "cell_type": "markdown",
      "source": [
        "##### **Solution**"
      ],
      "metadata": {
        "id": "Z36If3eJrFWT"
      }
    },
    {
      "cell_type": "code",
      "source": [
        "my_list = [0, 2, 4, 6]\n",
        "\n",
        "for i in range(4):\n",
        "  my_list[i] = my_list[i] + 1\n",
        "\n",
        "print(my_list)"
      ],
      "metadata": {
        "colab": {
          "base_uri": "https://localhost:8080/"
        },
        "outputId": "651359cf-c9d1-4ff0-9c58-90fcba7b1251",
        "id": "QbYq-omdrFWT"
      },
      "execution_count": null,
      "outputs": [
        {
          "output_type": "stream",
          "name": "stdout",
          "text": [
            "[1, 3, 5, 7]\n"
          ]
        }
      ]
    },
    {
      "cell_type": "markdown",
      "source": [
        "#### **Problem #1.3.2**\n",
        "\n",
        "**Together**, let's append apply each gate from the list `my_gates` to `qubit` and append this to `circuit`.\n",
        "\n",
        "<br>\n",
        "\n",
        "Print the circuit in the end."
      ],
      "metadata": {
        "id": "VpodXuLRrZJb"
      }
    },
    {
      "cell_type": "code",
      "source": [
        "qubit = cirq.NamedQubit('q0')\n",
        "circuit = cirq.Circuit()\n",
        "\n",
        "\n",
        "my_gates = [cirq.I, cirq.X, cirq.H]\n",
        "\n",
        "for i in # COMPLETE THIS CODE\n",
        "  gate = # COMPLETE THIS CODE\n",
        "  circuit.append(gate(qubit))\n",
        "\n",
        "print(circuit)"
      ],
      "metadata": {
        "id": "KluuKqL4rZJo"
      },
      "execution_count": null,
      "outputs": []
    },
    {
      "cell_type": "markdown",
      "source": [
        "##### **Solution**"
      ],
      "metadata": {
        "id": "R4y_zivCrZJo"
      }
    },
    {
      "cell_type": "code",
      "source": [
        "qubit = cirq.NamedQubit('q0')\n",
        "circuit = cirq.Circuit()\n",
        "\n",
        "\n",
        "my_gates = [cirq.I, cirq.X, cirq.H]\n",
        "\n",
        "for i in range(3):\n",
        "  gate = my_gates[i]\n",
        "  circuit.append(gate(qubit))\n",
        "\n",
        "print(circuit)"
      ],
      "metadata": {
        "colab": {
          "base_uri": "https://localhost:8080/"
        },
        "outputId": "4b53e52b-1b44-4c51-a3ef-8e77f41eb379",
        "id": "WqYdpRSerZJo"
      },
      "execution_count": null,
      "outputs": [
        {
          "output_type": "stream",
          "name": "stdout",
          "text": [
            "q0: ───I───X───H───\n"
          ]
        }
      ]
    },
    {
      "cell_type": "markdown",
      "source": [
        "#### **Problem #1.3.3**\n",
        "\n",
        "**Independently**, multiply each element in the list by 2 using the loop provided.\n",
        "\n",
        "<br>\n",
        "\n",
        "Print the list in the end."
      ],
      "metadata": {
        "id": "66g5NwNwtkNG"
      }
    },
    {
      "cell_type": "code",
      "source": [
        "my_evens = [0, 1, 2, 3, 4, 5, 6, 7, 8, 9]\n",
        "\n",
        "for i in range(# COMPLETE THIS LINE\n",
        "  my_evens[i] = my_evens[i] # COMPLETE THIS LINE\n",
        "\n",
        "print(my_evens)"
      ],
      "metadata": {
        "id": "-eC3wlvstkNP"
      },
      "execution_count": null,
      "outputs": []
    },
    {
      "cell_type": "markdown",
      "source": [
        "##### **Solution**"
      ],
      "metadata": {
        "id": "q6en0rkftkNP"
      }
    },
    {
      "cell_type": "code",
      "source": [
        "my_evens = [0, 1, 2, 3, 4, 5, 6, 7, 8, 9]\n",
        "\n",
        "for i in range(10):\n",
        "  my_evens[i] = my_evens[i] * 2\n",
        "\n",
        "print(my_evens)"
      ],
      "metadata": {
        "colab": {
          "base_uri": "https://localhost:8080/"
        },
        "outputId": "fb8a99e9-207a-459e-bc90-e3fc81e4c611",
        "id": "ujVDHt54tkNQ"
      },
      "execution_count": null,
      "outputs": [
        {
          "output_type": "stream",
          "name": "stdout",
          "text": [
            "[0, 2, 4, 6, 8, 10, 12, 14, 16, 18]\n"
          ]
        }
      ]
    },
    {
      "cell_type": "markdown",
      "source": [
        "#### **Problem #1.3.4**\n",
        "\n",
        "**Independently**, create a list of single qubit gates long enough that the rest of the code runs. You may use any single qubit gates you want.\n",
        "\n",
        "<br>\n",
        "\n",
        "Print the circuit in the end."
      ],
      "metadata": {
        "id": "P1wXiVuosSYJ"
      }
    },
    {
      "cell_type": "code",
      "source": [
        "qubit = cirq.NamedQubit('q0')\n",
        "circuit = cirq.Circuit()\n",
        "\n",
        "\n",
        "my_gates = # COMPLETE THIS LINE\n",
        "\n",
        "for i in range(5):\n",
        "  gate = my_gates[i]\n",
        "  circuit.append(gate(qubit))\n",
        "\n",
        "print(circuit)"
      ],
      "metadata": {
        "id": "NGwW8mhLsSYT"
      },
      "execution_count": null,
      "outputs": []
    },
    {
      "cell_type": "markdown",
      "source": [
        "##### **Solution**"
      ],
      "metadata": {
        "id": "_WTXYVEosSYU"
      }
    },
    {
      "cell_type": "code",
      "source": [
        "qubit = cirq.NamedQubit('q0')\n",
        "circuit = cirq.Circuit()\n",
        "\n",
        "\n",
        "my_gates = [cirq.X, cirq.H, cirq.Z, cirq.I, cirq.X]\n",
        "\n",
        "for i in range(5):\n",
        "  gate = my_gates[i]\n",
        "  circuit.append(gate(qubit))\n",
        "\n",
        "print(circuit)"
      ],
      "metadata": {
        "colab": {
          "base_uri": "https://localhost:8080/"
        },
        "outputId": "4b53e52b-1b44-4c51-a3ef-8e77f41eb379",
        "id": "nep2Bv0gsSYU"
      },
      "execution_count": null,
      "outputs": [
        {
          "output_type": "stream",
          "name": "stdout",
          "text": [
            "q0: ───I───X───H───\n"
          ]
        }
      ]
    },
    {
      "cell_type": "markdown",
      "source": [
        "#### **Problem #1.3.5**\n",
        "\n",
        "**Independently**, complete the code below so that each gate in the `my_gates` gets applied to a different qubit in the list `qubits`.\n",
        "\n",
        "<br>\n",
        "\n",
        "Print the circuit in the end."
      ],
      "metadata": {
        "id": "--rBdSK4s70n"
      }
    },
    {
      "cell_type": "code",
      "source": [
        "num_qubits = 5\n",
        "qubits = cirq.NamedQubit.range(num_qubits, prefix = 'q')\n",
        "circuit = cirq.Circuit()\n",
        "\n",
        "\n",
        "my_gates = [cirq.X, cirq.H, cirq.Z, cirq.I, cirq.X]\n",
        "\n",
        "for i in range(# COMPLETE THIS CODE\n",
        "  gate = my_gates[i]\n",
        "  circuit.append(gate(# COMPLETE THIS CODE\n",
        "\n",
        "print(circuit)"
      ],
      "metadata": {
        "id": "AVisKKhJs70w"
      },
      "execution_count": null,
      "outputs": []
    },
    {
      "cell_type": "markdown",
      "source": [
        "##### **Solution**"
      ],
      "metadata": {
        "id": "GE0spQ-Fs70w"
      }
    },
    {
      "cell_type": "code",
      "source": [
        "num_qubits = 5\n",
        "qubits = cirq.NamedQubit.range(num_qubits, prefix = 'q')\n",
        "circuit = cirq.Circuit()\n",
        "\n",
        "\n",
        "my_gates = [cirq.X, cirq.H, cirq.Z, cirq.I, cirq.X]\n",
        "\n",
        "for i in range(num_qubits):\n",
        "  gate = my_gates[i]\n",
        "  circuit.append(gate(qubits[i]))\n",
        "\n",
        "print(circuit)"
      ],
      "metadata": {
        "colab": {
          "base_uri": "https://localhost:8080/"
        },
        "outputId": "7260661e-70c9-4ce0-af10-3ce658ef1a6b",
        "id": "5QLajvyss70w"
      },
      "execution_count": null,
      "outputs": [
        {
          "output_type": "stream",
          "name": "stdout",
          "text": [
            "q0: ───X───\n",
            "\n",
            "q1: ───H───\n",
            "\n",
            "q2: ───Z───\n",
            "\n",
            "q3: ───I───\n",
            "\n",
            "q4: ───X───\n"
          ]
        }
      ]
    },
    {
      "cell_type": "markdown",
      "source": [
        "<a name=\"p2\"></a>\n",
        "\n",
        "---\n",
        "## **Part 2: Implementing BB84 in Python**\n",
        "---"
      ],
      "metadata": {
        "id": "ab55dvbqUUiM"
      }
    },
    {
      "cell_type": "markdown",
      "source": [
        "<a name=\"p2.1\"></a>\n",
        "\n",
        "---\n",
        "### **Part 2.1: The Set Up**\n",
        "---"
      ],
      "metadata": {
        "id": "OlnXiY5fuo4Y"
      }
    },
    {
      "cell_type": "markdown",
      "source": [
        "#### **Problem #2.1.1**\n",
        "\n",
        "**Together**, let's define a dictionary called `encode_gates` that specify which gates to apply based on the bit value. In other words, create the following key, value pairs:\n",
        "\n",
        "* `0`: `cirq.I`\n",
        "* `1`: `cirq.X`"
      ],
      "metadata": {
        "id": "BXL34RPyuKGa"
      }
    },
    {
      "cell_type": "code",
      "source": [
        "encode_gates = # COMPLETE THIS CODE"
      ],
      "metadata": {
        "id": "YleRMoZLuKGn"
      },
      "execution_count": null,
      "outputs": []
    },
    {
      "cell_type": "markdown",
      "source": [
        "##### **Solution**"
      ],
      "metadata": {
        "id": "gH3p066yuKGo"
      }
    },
    {
      "cell_type": "code",
      "source": [
        "encode_gates = {0: cirq.I, 1: cirq.X}"
      ],
      "metadata": {
        "id": "QX3s_9WvuhpM"
      },
      "execution_count": null,
      "outputs": []
    },
    {
      "cell_type": "markdown",
      "source": [
        "#### **Problem #2.1.2**\n",
        "\n",
        "**Together**, let's define a dictionary called `basis_gates` that specify which gates to apply based on the basis. In other words, create the following key, value pairs:\n",
        "\n",
        "* `'Z'`: `cirq.I`\n",
        "* `'X'`: `cirq.H`"
      ],
      "metadata": {
        "id": "794rMsvGugyZ"
      }
    },
    {
      "cell_type": "code",
      "source": [
        "basis_gates = # COMPLETE THIS CODE"
      ],
      "metadata": {
        "id": "YWYmajMeugym"
      },
      "execution_count": null,
      "outputs": []
    },
    {
      "cell_type": "markdown",
      "source": [
        "##### **Solution**"
      ],
      "metadata": {
        "id": "BldrfVyVugym"
      }
    },
    {
      "cell_type": "code",
      "source": [
        "basis_gates = {'Z': cirq.I, 'X': cirq.H}"
      ],
      "metadata": {
        "id": "x22tI51RfeGo"
      },
      "execution_count": null,
      "outputs": []
    },
    {
      "cell_type": "markdown",
      "source": [
        "#### **Problem #2.1.3**\n",
        "\n",
        "**Together**, let's create a list of `NamedQubit`s that is `num_bits` long and has the prefix `q`."
      ],
      "metadata": {
        "id": "obSivlGdu7SL"
      }
    },
    {
      "cell_type": "code",
      "source": [
        "num_bits = 5\n",
        "qubits = # COMPLETE THIS CODE"
      ],
      "metadata": {
        "id": "PqoEzmjgu7Sl"
      },
      "execution_count": null,
      "outputs": []
    },
    {
      "cell_type": "markdown",
      "source": [
        "##### **Solution**"
      ],
      "metadata": {
        "id": "1JD61cQxu7Sl"
      }
    },
    {
      "cell_type": "code",
      "source": [
        "num_bits = 5\n",
        "qubits = cirq.NamedQubit.range(num_bits, prefix = 'q')"
      ],
      "metadata": {
        "id": "e-6041UxlmDZ"
      },
      "execution_count": null,
      "outputs": []
    },
    {
      "cell_type": "markdown",
      "source": [
        "<a name=\"p2.2\"></a>\n",
        "\n",
        "---\n",
        "### **Part 2.2: Implementing the Steps**\n",
        "---"
      ],
      "metadata": {
        "id": "R4SKqBrDvIpu"
      }
    },
    {
      "cell_type": "markdown",
      "source": [
        "<a name=\"s1\"></a>\n",
        "\n",
        "#### **Step #1: Alice Randomly Chooses Bits**\n",
        "\n",
        "Let's start by using python's `choices(...)` function to create Alice's key of random bits that is `num_bits` long."
      ],
      "metadata": {
        "id": "RGNVXnRsVJPw"
      }
    },
    {
      "cell_type": "code",
      "execution_count": null,
      "metadata": {
        "id": "HIvctDslAFTY"
      },
      "outputs": [],
      "source": [
        "alice_key = choices(# COMPLETE THIS CODE\n",
        "\n",
        "print(alice_key)"
      ]
    },
    {
      "cell_type": "markdown",
      "source": [
        "##### **Solution**\n"
      ],
      "metadata": {
        "id": "MK0cg4_SX1yf"
      }
    },
    {
      "cell_type": "code",
      "source": [
        "alice_key = choices([0, 1], k = num_bits)\n",
        "\n",
        "print(alice_key)"
      ],
      "metadata": {
        "colab": {
          "base_uri": "https://localhost:8080/"
        },
        "id": "aWBWU0zVlrYS",
        "outputId": "2901eabb-92c9-4bd9-c4b7-23e6f1ab42de"
      },
      "execution_count": null,
      "outputs": [
        {
          "output_type": "stream",
          "name": "stdout",
          "text": [
            "[1, 1, 0, 1, 0]\n"
          ]
        }
      ]
    },
    {
      "cell_type": "markdown",
      "source": [
        "<a name=\"s2\"></a>\n",
        "\n",
        "#### **Step #2: Alice Randomly Chooses Bases**\n",
        "\n",
        "Next, let's use python's `choices(...)` function to create Alice's `num_bits` basis choices."
      ],
      "metadata": {
        "id": "pE8itZjgYTZK"
      }
    },
    {
      "cell_type": "code",
      "execution_count": null,
      "metadata": {
        "id": "jSi9wTiSYTZU"
      },
      "outputs": [],
      "source": [
        "alice_bases = choices(['Z', 'X'], # COMPLETE THIS CODE\n",
        "\n",
        "print(alice_bases)"
      ]
    },
    {
      "cell_type": "markdown",
      "source": [
        "##### **Solution**\n"
      ],
      "metadata": {
        "id": "MgfpxyFQYTZU"
      }
    },
    {
      "cell_type": "code",
      "source": [
        "alice_bases = choices(['Z', 'X'], k = num_bits)\n",
        "\n",
        "print(alice_bases)"
      ],
      "metadata": {
        "id": "85GUCFkglsH-",
        "colab": {
          "base_uri": "https://localhost:8080/"
        },
        "outputId": "65f944d2-7f74-4bea-d718-dd28fcc3d279"
      },
      "execution_count": null,
      "outputs": [
        {
          "output_type": "stream",
          "name": "stdout",
          "text": [
            "['X', 'Z', 'X', 'Z', 'Z']\n"
          ]
        }
      ]
    },
    {
      "cell_type": "markdown",
      "source": [
        "<a name=\"s3\"></a>\n",
        "\n",
        "#### **Step #3: Alice Creates Qubits**\n",
        "\n",
        "In this step, Alice creates her qubits based on her choice of bit and basis. Complete the code below so that the appropriate gates are appended to `alice_circuit` within the loop."
      ],
      "metadata": {
        "id": "4H1IFYzZZLwc"
      }
    },
    {
      "cell_type": "code",
      "execution_count": null,
      "metadata": {
        "id": "WT-1YzpcZLw5"
      },
      "outputs": [],
      "source": [
        "alice_circuit = cirq.Circuit()\n",
        "\n",
        "for bit in range(# COMPLETE THIS CODE\n",
        "\n",
        "  encode_value = alice_key[bit]\n",
        "  encode_gate = encode_gates[# COMPLETE THIS CODE\n",
        "\n",
        "  basis_value = alice_bases[bit]\n",
        "  basis_gate = basis_gates[# COMPLETE THIS CODE\n",
        "\n",
        "  qubit = qubits[# COMPLETE THIS CODE\n",
        "  alice_circuit.append(encode_gate(# COMPLETE THIS CODE\n",
        "  alice_circuit.append(basis_gate(# COMPLETE THIS CODE\n",
        "\n",
        "print(alice_circuit)"
      ]
    },
    {
      "cell_type": "markdown",
      "source": [
        "##### **Solution**\n"
      ],
      "metadata": {
        "id": "lzwhnFWVZLw5"
      }
    },
    {
      "cell_type": "code",
      "source": [
        "alice_circuit = cirq.Circuit()\n",
        "\n",
        "for bit in range(num_bits):\n",
        "\n",
        "  encode_value = alice_key[bit]\n",
        "  encode_gate = encode_gates[encode_value]\n",
        "\n",
        "  basis_value = alice_bases[bit]\n",
        "  basis_gate = basis_gates[basis_value]\n",
        "\n",
        "  qubit = qubits[bit]\n",
        "  alice_circuit.append(encode_gate(qubit))\n",
        "  alice_circuit.append(basis_gate(qubit))\n",
        "\n",
        "print(alice_circuit)"
      ],
      "metadata": {
        "colab": {
          "base_uri": "https://localhost:8080/"
        },
        "id": "3F5ORqGNF3nc",
        "outputId": "1eabd184-ec65-4def-838d-b2d47c19881f"
      },
      "execution_count": null,
      "outputs": [
        {
          "output_type": "stream",
          "name": "stdout",
          "text": [
            "q0: ───X───H───\n",
            "\n",
            "q1: ───X───I───\n",
            "\n",
            "q2: ───I───H───\n",
            "\n",
            "q3: ───X───I───\n",
            "\n",
            "q4: ───I───I───\n"
          ]
        }
      ]
    },
    {
      "cell_type": "markdown",
      "source": [
        "<a name=\"s4\"></a>\n",
        "\n",
        "#### **Step #4: Alice Sends the Qubits to Bob**\n",
        "\n",
        "This step doesn't require us to do anything in Python. However, in real life, this would be where Alice sends Bob the qubits through a public quantum channel."
      ],
      "metadata": {
        "id": "HJ_zutURbpVZ"
      }
    },
    {
      "cell_type": "markdown",
      "source": [
        "<a name=\"s5\"></a>\n",
        "\n",
        "#### **Step #5: Bob Randomly Chooses Bases**\n",
        "\n",
        "Now, Bob will randomly pick `num_bits` bases and apply the appropriate gates to the qubits he received, `qubits`. Complete the code below to accomplish this for each qubit."
      ],
      "metadata": {
        "id": "ipUeaRgNb-Pc"
      }
    },
    {
      "cell_type": "code",
      "source": [
        "bob_bases = choices(# COMPLETE THIS CODE\n",
        "\n",
        "\n",
        "bob_circuit = cirq.Circuit()\n",
        "\n",
        "for # COMPLETE THIS CODE\n",
        "\n",
        "  basis_value = # COMPLETE THIS CODE\n",
        "  basis_gate = # COMPLETE THIS CODE\n",
        "\n",
        "  qubit = # COMPLETE THIS CODE\n",
        "  bob_circuit.append(# COMPLETE THIS CODE\n",
        "\n",
        "print(bob_circuit)"
      ],
      "metadata": {
        "id": "76L0KI3icfuZ"
      },
      "execution_count": null,
      "outputs": []
    },
    {
      "cell_type": "markdown",
      "source": [
        "##### **Solution**\n"
      ],
      "metadata": {
        "id": "YHrltr26eRei"
      }
    },
    {
      "cell_type": "code",
      "source": [
        "bob_bases = choices(['Z', 'X'], k = num_bits)\n",
        "\n",
        "\n",
        "bob_circuit = cirq.Circuit()\n",
        "\n",
        "for bit in range(num_bits):\n",
        "\n",
        "  basis_value = bob_bases[bit]\n",
        "  basis_gate = basis_gates[basis_value]\n",
        "\n",
        "  qubit = qubits[bit]\n",
        "  bob_circuit.append(basis_gate(qubit))\n",
        "\n",
        "print(bob_circuit)"
      ],
      "metadata": {
        "colab": {
          "base_uri": "https://localhost:8080/"
        },
        "id": "pS0oc4INIjox",
        "outputId": "b35a84c2-faad-49f6-c7d5-d6516f0dce63"
      },
      "execution_count": null,
      "outputs": [
        {
          "output_type": "stream",
          "name": "stdout",
          "text": [
            "q0: ───I───\n",
            "\n",
            "q1: ───H───\n",
            "\n",
            "q2: ───H───\n",
            "\n",
            "q3: ───H───\n",
            "\n",
            "q4: ───I───\n"
          ]
        }
      ]
    },
    {
      "cell_type": "markdown",
      "source": [
        "<a name=\"s6\"></a>\n",
        "\n",
        "#### **Step #6: Bob Measures the Qubits**\n",
        "\n",
        "Now, Bob will make a measurement of all of the qubits. Complete the code below to append this action to `bob_circuit`. Ensure the measure method is given the parameter `key = 'bob key'` so that we can easily retrieve this result later."
      ],
      "metadata": {
        "id": "SYDAI3GLeijE"
      }
    },
    {
      "cell_type": "code",
      "source": [
        "bob_circuit.append(cirq.measure(# COMPLETE THIS CODE, key = '# COMPLETE THIS CODE\n",
        "\n",
        "print(bob_circuit)"
      ],
      "metadata": {
        "id": "x-4a5ubueijO"
      },
      "execution_count": null,
      "outputs": []
    },
    {
      "cell_type": "markdown",
      "source": [
        "##### **Solution**\n"
      ],
      "metadata": {
        "id": "mFFGteigeijP"
      }
    },
    {
      "cell_type": "code",
      "source": [
        "bob_circuit.append(cirq.measure(qubits, key = 'bob key'))\n",
        "\n",
        "print(bob_circuit)"
      ],
      "metadata": {
        "colab": {
          "base_uri": "https://localhost:8080/"
        },
        "id": "_2C4Ctx6h5Wr",
        "outputId": "e997e871-5d8d-4c4d-a5c5-d9e32ac316e2"
      },
      "execution_count": null,
      "outputs": [
        {
          "output_type": "stream",
          "name": "stdout",
          "text": [
            "q0: ───I───M('bob key')───\n",
            "           │\n",
            "q1: ───H───M──────────────\n",
            "           │\n",
            "q2: ───H───M──────────────\n",
            "           │\n",
            "q3: ───H───M──────────────\n",
            "           │\n",
            "q4: ───I───M──────────────\n"
          ]
        }
      ]
    },
    {
      "cell_type": "markdown",
      "source": [
        "<a name=\"s7\"></a>\n",
        "\n",
        "#### **Step #7: Bob Creates a Key**\n",
        "\n",
        "Now, Bob will create his key from the mesurement result of each qubit.\n",
        "\n",
        "<br>\n",
        "\n",
        "**Run the code below to accomplish this step.**"
      ],
      "metadata": {
        "id": "MPLUATPCxK7N"
      }
    },
    {
      "cell_type": "code",
      "source": [
        "bb84_circuit = alice_circuit + bob_circuit\n",
        "\n",
        "sim = cirq.Simulator()\n",
        "results = sim.run(bb84_circuit)\n",
        "bob_key = results.measurements['bob key'][0]\n",
        "\n",
        "print(bob_key)"
      ],
      "metadata": {
        "colab": {
          "base_uri": "https://localhost:8080/"
        },
        "id": "FSryZjg2xK7O",
        "outputId": "62d80245-0ff8-4a93-fc01-b2c612034bed"
      },
      "execution_count": null,
      "outputs": [
        {
          "output_type": "stream",
          "name": "stdout",
          "text": [
            "[0 1 0 1 0]\n"
          ]
        }
      ]
    },
    {
      "cell_type": "markdown",
      "source": [
        "<a name=\"s8\"></a>\n",
        "\n",
        "#### **Step #8: Alice and Bob Compare Bases**\n",
        "\n",
        "In this step, Alice and Bob will compare their randomly selected bases. Complete the code below to accomplish this."
      ],
      "metadata": {
        "id": "IC8j0TYnf6H9"
      }
    },
    {
      "cell_type": "code",
      "source": [
        "final_alice_key = []\n",
        "final_bob_key = []\n",
        "\n",
        "for bit in range(# COMPLETE THIS CODE\n",
        "\n",
        "  if alice_bases[bit] == bob_bases[bit]:\n",
        "    final_alice_key.append(alice_key[bit])\n",
        "    # COMPLETE THIS CODE\n",
        "\n",
        "print(final_alice_key)\n",
        "print(final_bob_key)"
      ],
      "metadata": {
        "id": "iJUk3lI7f6H-"
      },
      "execution_count": null,
      "outputs": []
    },
    {
      "cell_type": "markdown",
      "source": [
        "##### **Solution**\n"
      ],
      "metadata": {
        "id": "Zeaqim9uf6H_"
      }
    },
    {
      "cell_type": "code",
      "source": [
        "final_alice_key = []\n",
        "final_bob_key = []\n",
        "\n",
        "for bit in range(num_bits):\n",
        "\n",
        "  if alice_bases[bit] == bob_bases[bit]:\n",
        "    final_alice_key.append(alice_key[bit])\n",
        "    final_bob_key.append(bob_key[bit])\n",
        "\n",
        "print(final_alice_key)\n",
        "print(final_bob_key)"
      ],
      "metadata": {
        "colab": {
          "base_uri": "https://localhost:8080/"
        },
        "id": "Ff1FH_P6J8SE",
        "outputId": "b0591448-7902-4d8b-a319-54fdca5fa5fd"
      },
      "execution_count": null,
      "outputs": [
        {
          "output_type": "stream",
          "name": "stdout",
          "text": [
            "[0, 0]\n",
            "[0, 0]\n"
          ]
        }
      ]
    },
    {
      "cell_type": "markdown",
      "source": [
        "<a name=\"s9\"></a>\n",
        "\n",
        "#### **Step #9: Alice and Bob Compare the First Bits in Their Key**\n",
        "\n",
        "In this step, Alice and Bob will compare the first few bits in their key to ensure the protocol was successful.\n",
        "\n",
        "<br>\n",
        "\n",
        "**Run the code below to accomplish this.**"
      ],
      "metadata": {
        "id": "YoqZgLAUg28G"
      }
    },
    {
      "cell_type": "code",
      "source": [
        "if final_alice_key[0] == final_bob_key[0]:\n",
        "  final_alice_key = final_alice_key[1:]\n",
        "  final_bob_key = final_bob_key[1:]\n",
        "\n",
        "  print('We can use our keys!')\n",
        "  print('Alice Key: ', final_alice_key)\n",
        "  print('Bob Key: ', final_bob_key)\n",
        "\n",
        "else:\n",
        "  print('Eve was listening, we need to use a different channel!')"
      ],
      "metadata": {
        "id": "cRXIdCIng28H",
        "colab": {
          "base_uri": "https://localhost:8080/"
        },
        "outputId": "b215a8fa-03ec-47c0-c94d-c5444b2f5c83"
      },
      "execution_count": null,
      "outputs": [
        {
          "output_type": "stream",
          "name": "stdout",
          "text": [
            "We can use our keys!\n",
            "Alice Key:  [0]\n",
            "Bob Key:  [0]\n"
          ]
        }
      ]
    },
    {
      "cell_type": "markdown",
      "metadata": {
        "id": "7dzC09dLlEhm"
      },
      "source": [
        "# End of Notebook\n",
        "\n",
        "---\n",
        "© 2023 The Coding School, All rights reserved"
      ]
    }
  ]
}