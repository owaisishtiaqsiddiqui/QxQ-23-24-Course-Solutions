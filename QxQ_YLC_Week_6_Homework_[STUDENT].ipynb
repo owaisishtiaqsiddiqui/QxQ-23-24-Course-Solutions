{
  "nbformat": 4,
  "nbformat_minor": 0,
  "metadata": {
    "colab": {
      "provenance": [],
      "include_colab_link": true
    },
    "kernelspec": {
      "name": "python3",
      "display_name": "Python 3"
    },
    "language_info": {
      "name": "python"
    }
  },
  "cells": [
    {
      "cell_type": "markdown",
      "metadata": {
        "id": "view-in-github",
        "colab_type": "text"
      },
      "source": [
        "<a href=\"https://colab.research.google.com/github/owaisishtiaqsiddiqui/QxQ-23-24-Course-Solutions/blob/main/QxQ_YLC_Week_6_Homework_%5BSTUDENT%5D.ipynb\" target=\"_parent\"><img src=\"https://colab.research.google.com/assets/colab-badge.svg\" alt=\"Open In Colab\"/></a>"
      ]
    },
    {
      "cell_type": "markdown",
      "source": [
        "# **Homework 6: Cirq I**\n",
        "---\n",
        "\n",
        "### **Description**\n",
        "In this homework assignment, you will recognize the basics of Cirq and how to work with Quantum Circuit Objects.\n",
        "\n",
        "<br>\n",
        "\n",
        "### **Homework Structure**\n",
        "**Part 1**: [Introduction to Lists](#p1)\n",
        "\n",
        "**Part 2**: [Introduction to Cirq](#p2)\n",
        "\n",
        "**Part 3**: [Working with Qubit Representations](#p3)\n",
        "\n",
        "<br>\n",
        "\n",
        "### **Learning Objectives**\n",
        "By the end of this assignment, you will:\n",
        "* Recognize the landscape of quantum programming options.\n",
        "* Recognize the basics of lists in python.\n",
        "* Recognize the basics of Cirq.\n",
        "* Recognize how to represent qubits and their states in Cirq.\n",
        "\n",
        "\n",
        "<br>\n",
        "\n",
        "### **Resources**\n",
        "\n",
        "<br>\n",
        "\n",
        "**Before starting, run the code below to import all necessary functions and libraries.**\n"
      ],
      "metadata": {
        "id": "kSq2SPQQ0MVu"
      }
    },
    {
      "cell_type": "code",
      "execution_count": null,
      "metadata": {
        "colab": {
          "base_uri": "https://localhost:8080/"
        },
        "id": "aXjGQMs90Knc",
        "outputId": "25b4c205-ce0e-4d96-fc36-4373dc6740fc",
        "cellView": "form"
      },
      "outputs": [
        {
          "output_type": "stream",
          "name": "stdout",
          "text": [
            "Libraries imported successfully!\n"
          ]
        }
      ],
      "source": [
        "# @title\n",
        "!pip install cirq --quiet\n",
        "!pip install qutip --quiet\n",
        "import cirq\n",
        "import numpy as np\n",
        "import cirq_web.bloch_sphere as bloch_sphere\n",
        "print(\"Libraries imported successfully!\")"
      ]
    },
    {
      "cell_type": "markdown",
      "source": [
        "<a name=\"p1\"></a>\n",
        "\n",
        "---\n",
        "## **Part 1: Introduction to Lists**\n",
        "---\n",
        "In this part, you will practice using lists in python."
      ],
      "metadata": {
        "id": "JiDPYYS3bhDz"
      }
    },
    {
      "cell_type": "markdown",
      "source": [
        "### **Problem #1.1**\n",
        "Create a list with the entries 1, 1, 2, and 3. Output the list."
      ],
      "metadata": {
        "id": "0Xz0w3hJ1fOH"
      }
    },
    {
      "cell_type": "code",
      "source": [
        "my_list = # COMPLETE THIS CODE"
      ],
      "metadata": {
        "id": "3vqxhi0x3KfA"
      },
      "execution_count": null,
      "outputs": []
    },
    {
      "cell_type": "markdown",
      "source": [
        "###**Problem #1.2**\n",
        "Output the second element of `my_list`."
      ],
      "metadata": {
        "id": "nHL0jlsN2C-A"
      }
    },
    {
      "cell_type": "code",
      "source": [
        "# COMPLETE THIS CODE"
      ],
      "metadata": {
        "id": "G4ybhRvE3TGc"
      },
      "execution_count": null,
      "outputs": []
    },
    {
      "cell_type": "markdown",
      "source": [
        "###**Problem #1.3**\n",
        "Add `my_other_list` to `my_list`. Output the length of this new list."
      ],
      "metadata": {
        "id": "tUXLdLZ32YY4"
      }
    },
    {
      "cell_type": "code",
      "source": [
        "my_other_list = [5, 8, 13, 21, 34]\n",
        "# COMPLETE THIS CODE"
      ],
      "metadata": {
        "id": "vjDscjnP3Yuw"
      },
      "execution_count": null,
      "outputs": []
    },
    {
      "cell_type": "markdown",
      "source": [
        "###**Problem #1.4**\n",
        "Add the elements 55 and 89 to `my_list`."
      ],
      "metadata": {
        "id": "ddNKSot528nx"
      }
    },
    {
      "cell_type": "code",
      "source": [
        "# COMPLETE THIS CODE"
      ],
      "metadata": {
        "id": "Jcjguvvl3gQK"
      },
      "execution_count": null,
      "outputs": []
    },
    {
      "cell_type": "markdown",
      "source": [
        "###**Problem #1.5**\n",
        "Output the fourth to last element of `my_list`."
      ],
      "metadata": {
        "id": "0KzDd1GL32rR"
      }
    },
    {
      "cell_type": "code",
      "source": [
        "# COMPLETE THIS CODE"
      ],
      "metadata": {
        "id": "LtLJnL6g3kKo"
      },
      "execution_count": null,
      "outputs": []
    },
    {
      "cell_type": "markdown",
      "source": [
        "<a name=\"p2\"></a>\n",
        "\n",
        "---\n",
        "## **Part 2: Introduction to Cirq**\n",
        "---\n",
        "In this part, you will practice the basics of Cirq, including creating single qubits, creating multiple qubits, creating circuits, editing circuits, and simulating circuits."
      ],
      "metadata": {
        "id": "OLXreBRDb80D"
      }
    },
    {
      "cell_type": "markdown",
      "source": [
        "###**Problem #2.1**\n",
        "Create and output a qubit."
      ],
      "metadata": {
        "id": "sch7sAqycDOT"
      }
    },
    {
      "cell_type": "code",
      "source": [
        "my_qubit = #COMPLETE THIS CODE"
      ],
      "metadata": {
        "id": "6_51wR9p3odu"
      },
      "execution_count": null,
      "outputs": []
    },
    {
      "cell_type": "markdown",
      "source": [
        "###**Problem #2.2**\n",
        "Create a circuit."
      ],
      "metadata": {
        "id": "WJ0R_C8Wca0a"
      }
    },
    {
      "cell_type": "code",
      "source": [
        "my_circuit = # COMPLETE THIS CODE"
      ],
      "metadata": {
        "id": "wWA-62np3ufO"
      },
      "execution_count": null,
      "outputs": []
    },
    {
      "cell_type": "markdown",
      "source": [
        "###**Problem #2.3**\n",
        "Append your circuit so that we can measure `my_qubit`. Output your circuit."
      ],
      "metadata": {
        "id": "feE8wOXKcxAF"
      }
    },
    {
      "cell_type": "code",
      "source": [
        "# COMPLETE THIS CODE"
      ],
      "metadata": {
        "id": "zfMPF5Lf3102"
      },
      "execution_count": null,
      "outputs": []
    },
    {
      "cell_type": "markdown",
      "source": [
        "###**Problem #2.4**\n",
        "Create a list of five qubits. Create a circuit and append a measurement for each of your qubits. Simulate the results of your circuit."
      ],
      "metadata": {
        "id": "-6GOJ_68pwfq"
      }
    },
    {
      "cell_type": "code",
      "source": [
        "my_qubits = # COMPLETE THIS CODE\n",
        "my_circuit = # COMPLETE THIS CODE"
      ],
      "metadata": {
        "id": "Vw6Vf0Tr36pH"
      },
      "execution_count": null,
      "outputs": []
    },
    {
      "cell_type": "markdown",
      "source": [
        "<a name=\"p3\"></a>\n",
        "\n",
        "---\n",
        "## **Part 3: Working with Qubit Representations**\n",
        "---\n",
        "In this part, you will represent qubit states using vectors, ket notation, and the Bloch Sphere."
      ],
      "metadata": {
        "id": "MFfYpSg-qgrG"
      }
    },
    {
      "cell_type": "markdown",
      "source": [
        "###**Problem #3.1**\n",
        "Produce a ket representation and a Bloch Sphere representation for the below vector."
      ],
      "metadata": {
        "id": "uGlEsGwBqtf_"
      }
    },
    {
      "cell_type": "code",
      "source": [
        "vec = [1/np.sqrt(2), -1/np.sqrt(2)]\n",
        "# COMPLETE THIS CODE"
      ],
      "metadata": {
        "id": "ztXcDtWu45zK"
      },
      "execution_count": null,
      "outputs": []
    },
    {
      "cell_type": "markdown",
      "source": [
        "###**Problem #3.2**\n",
        "Simulate the circuit below. Then represent the result of the circuit using all three qubit representations."
      ],
      "metadata": {
        "id": "GbY8TbdTr7xS"
      }
    },
    {
      "cell_type": "code",
      "source": [
        "my_qubit = cirq.NamedQubit(\"q0\")\n",
        "my_circuit = cirq.Circuit()\n",
        "my_circuit.append(cirq.measure(my_qubit))\n",
        "# COMPLETE THIS CODE"
      ],
      "metadata": {
        "id": "mD1qjaaG5Cn-"
      },
      "execution_count": null,
      "outputs": []
    },
    {
      "cell_type": "code",
      "source": [
        "vec = # COMPLETE THIS CODE"
      ],
      "metadata": {
        "id": "MBNB7J8n5G7X"
      },
      "execution_count": null,
      "outputs": []
    },
    {
      "cell_type": "code",
      "source": [
        "# COMPLETE THIS CODE"
      ],
      "metadata": {
        "id": "tfMwmaLg5MeM"
      },
      "execution_count": null,
      "outputs": []
    },
    {
      "cell_type": "code",
      "source": [
        "# COMPLETE THIS CODE"
      ],
      "metadata": {
        "id": "9tDLbVIU5M1z"
      },
      "execution_count": null,
      "outputs": []
    },
    {
      "cell_type": "markdown",
      "source": [
        "###**Problem #3.3**\n",
        "Create a vector that has a 1/3 chance of being measured in the 0 state and a 2/3 chance of being measured in the 1 state. Represent that state using ket notation and the Bloch Sphere."
      ],
      "metadata": {
        "id": "Z6ALv6Qj1Qxl"
      }
    },
    {
      "cell_type": "code",
      "source": [
        "vec = # COMPLETE THIS CODE"
      ],
      "metadata": {
        "id": "ri0ZteMm5WXd"
      },
      "execution_count": null,
      "outputs": []
    },
    {
      "cell_type": "code",
      "source": [
        "# COMPLETE THIS CODE"
      ],
      "metadata": {
        "id": "5XDRKAQo5cOs"
      },
      "execution_count": null,
      "outputs": []
    },
    {
      "cell_type": "code",
      "source": [
        "# COMPLETE THIS CODE"
      ],
      "metadata": {
        "id": "vSnF6wDO5cAi"
      },
      "execution_count": null,
      "outputs": []
    },
    {
      "cell_type": "markdown",
      "source": [
        "#End of notebook\n",
        "---\n",
        "© 2023 The Coding School, All rights reserved"
      ],
      "metadata": {
        "id": "B2pgoLDxdW8M"
      }
    }
  ]
}